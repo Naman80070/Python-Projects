{
 "cells": [
  {
   "cell_type": "markdown",
   "id": "8a5fc89e",
   "metadata": {},
   "source": [
    "# Importing the libraries"
   ]
  },
  {
   "cell_type": "code",
   "execution_count": 1,
   "id": "0021b411",
   "metadata": {},
   "outputs": [],
   "source": [
    "import numpy as np\n",
    "import pandas as pd\n",
    "import seaborn as sns\n",
    "\n",
    "%matplotlib inline\n",
    "import matplotlib.pyplot as plt\n",
    "\n",
    "import warnings\n",
    "def ignore_warn(*args, **kwargs):\n",
    "    pass\n",
    "warnings.warn = ignore_warn\n",
    "\n",
    "from scipy import stats\n",
    "from scipy.stats import norm, skew\n",
    "from subprocess import check_output\n",
    "\n",
    "import datetime"
   ]
  },
  {
   "cell_type": "code",
   "execution_count": 2,
   "id": "1fd31ae5",
   "metadata": {},
   "outputs": [],
   "source": [
    "# loading our data file\n",
    "\n",
    "df = pd.read_csv(r'C:\\Users\\Lenovo\\Desktop\\python\\BI BPO project\\february_data.csv')"
   ]
  },
  {
   "cell_type": "markdown",
   "id": "faa37e9e",
   "metadata": {},
   "source": [
    "# Loading our dataframe"
   ]
  },
  {
   "cell_type": "code",
   "execution_count": 3,
   "id": "4f054065",
   "metadata": {},
   "outputs": [
    {
     "data": {
      "text/html": [
       "<div>\n",
       "<style scoped>\n",
       "    .dataframe tbody tr th:only-of-type {\n",
       "        vertical-align: middle;\n",
       "    }\n",
       "\n",
       "    .dataframe tbody tr th {\n",
       "        vertical-align: top;\n",
       "    }\n",
       "\n",
       "    .dataframe thead th {\n",
       "        text-align: right;\n",
       "    }\n",
       "</style>\n",
       "<table border=\"1\" class=\"dataframe\">\n",
       "  <thead>\n",
       "    <tr style=\"text-align: right;\">\n",
       "      <th></th>\n",
       "      <th>vru+line</th>\n",
       "      <th>call_id</th>\n",
       "      <th>customer_id</th>\n",
       "      <th>priority</th>\n",
       "      <th>type</th>\n",
       "      <th>date</th>\n",
       "      <th>vru_entry</th>\n",
       "      <th>vru_exit</th>\n",
       "      <th>q_start</th>\n",
       "      <th>q_exit</th>\n",
       "      <th>outcome</th>\n",
       "      <th>ser_start</th>\n",
       "      <th>ser_exit</th>\n",
       "      <th>server</th>\n",
       "    </tr>\n",
       "  </thead>\n",
       "  <tbody>\n",
       "    <tr>\n",
       "      <th>0</th>\n",
       "      <td>AA0101</td>\n",
       "      <td>34536</td>\n",
       "      <td>0.0</td>\n",
       "      <td>0</td>\n",
       "      <td>PS</td>\n",
       "      <td>990201</td>\n",
       "      <td>07:02:47</td>\n",
       "      <td>07:02:56</td>\n",
       "      <td>00:00:00</td>\n",
       "      <td>00:00:00</td>\n",
       "      <td>AGENT</td>\n",
       "      <td>07:02:55</td>\n",
       "      <td>07:05:41</td>\n",
       "      <td>DORIT</td>\n",
       "    </tr>\n",
       "    <tr>\n",
       "      <th>1</th>\n",
       "      <td>AA0101</td>\n",
       "      <td>34537</td>\n",
       "      <td>0.0</td>\n",
       "      <td>0</td>\n",
       "      <td>PS</td>\n",
       "      <td>990201</td>\n",
       "      <td>07:31:45</td>\n",
       "      <td>07:31:55</td>\n",
       "      <td>00:00:00</td>\n",
       "      <td>00:00:00</td>\n",
       "      <td>AGENT</td>\n",
       "      <td>07:31:54</td>\n",
       "      <td>07:31:59</td>\n",
       "      <td>NO_SERVER</td>\n",
       "    </tr>\n",
       "    <tr>\n",
       "      <th>2</th>\n",
       "      <td>AA0101</td>\n",
       "      <td>34538</td>\n",
       "      <td>0.0</td>\n",
       "      <td>0</td>\n",
       "      <td>NW</td>\n",
       "      <td>990201</td>\n",
       "      <td>07:54:38</td>\n",
       "      <td>07:54:51</td>\n",
       "      <td>00:00:00</td>\n",
       "      <td>00:00:00</td>\n",
       "      <td>AGENT</td>\n",
       "      <td>07:54:49</td>\n",
       "      <td>07:56:21</td>\n",
       "      <td>TOVA</td>\n",
       "    </tr>\n",
       "    <tr>\n",
       "      <th>3</th>\n",
       "      <td>AA0101</td>\n",
       "      <td>34539</td>\n",
       "      <td>23317894.0</td>\n",
       "      <td>2</td>\n",
       "      <td>PS</td>\n",
       "      <td>990201</td>\n",
       "      <td>08:09:16</td>\n",
       "      <td>08:09:22</td>\n",
       "      <td>08:09:22</td>\n",
       "      <td>08:09:27</td>\n",
       "      <td>HANG</td>\n",
       "      <td>00:00:00</td>\n",
       "      <td>00:00:00</td>\n",
       "      <td>NO_SERVER</td>\n",
       "    </tr>\n",
       "    <tr>\n",
       "      <th>4</th>\n",
       "      <td>AA0101</td>\n",
       "      <td>34540</td>\n",
       "      <td>48178511.0</td>\n",
       "      <td>2</td>\n",
       "      <td>PS</td>\n",
       "      <td>990201</td>\n",
       "      <td>08:19:42</td>\n",
       "      <td>08:19:47</td>\n",
       "      <td>08:19:47</td>\n",
       "      <td>08:20:21</td>\n",
       "      <td>AGENT</td>\n",
       "      <td>08:20:20</td>\n",
       "      <td>08:22:04</td>\n",
       "      <td>MICHAL</td>\n",
       "    </tr>\n",
       "    <tr>\n",
       "      <th>...</th>\n",
       "      <td>...</td>\n",
       "      <td>...</td>\n",
       "      <td>...</td>\n",
       "      <td>...</td>\n",
       "      <td>...</td>\n",
       "      <td>...</td>\n",
       "      <td>...</td>\n",
       "      <td>...</td>\n",
       "      <td>...</td>\n",
       "      <td>...</td>\n",
       "      <td>...</td>\n",
       "      <td>...</td>\n",
       "      <td>...</td>\n",
       "      <td>...</td>\n",
       "    </tr>\n",
       "    <tr>\n",
       "      <th>33339</th>\n",
       "      <td>AA0216</td>\n",
       "      <td>5607</td>\n",
       "      <td>0.0</td>\n",
       "      <td>0</td>\n",
       "      <td>IN</td>\n",
       "      <td>990226</td>\n",
       "      <td>14:14:43</td>\n",
       "      <td>14:15:05</td>\n",
       "      <td>00:00:00</td>\n",
       "      <td>00:00:00</td>\n",
       "      <td>HANG</td>\n",
       "      <td>00:00:00</td>\n",
       "      <td>00:00:00</td>\n",
       "      <td>NO_SERVER</td>\n",
       "    </tr>\n",
       "    <tr>\n",
       "      <th>33340</th>\n",
       "      <td>AA0216</td>\n",
       "      <td>5608</td>\n",
       "      <td>0.0</td>\n",
       "      <td>0</td>\n",
       "      <td>IN</td>\n",
       "      <td>990226</td>\n",
       "      <td>14:33:45</td>\n",
       "      <td>14:33:50</td>\n",
       "      <td>00:00:00</td>\n",
       "      <td>00:00:00</td>\n",
       "      <td>HANG</td>\n",
       "      <td>00:00:00</td>\n",
       "      <td>00:00:00</td>\n",
       "      <td>NO_SERVER</td>\n",
       "    </tr>\n",
       "    <tr>\n",
       "      <th>33341</th>\n",
       "      <td>AA0216</td>\n",
       "      <td>5609</td>\n",
       "      <td>0.0</td>\n",
       "      <td>0</td>\n",
       "      <td>IN</td>\n",
       "      <td>990228</td>\n",
       "      <td>11:29:39</td>\n",
       "      <td>11:29:48</td>\n",
       "      <td>11:29:48</td>\n",
       "      <td>11:33:39</td>\n",
       "      <td>HANG</td>\n",
       "      <td>00:00:00</td>\n",
       "      <td>00:00:00</td>\n",
       "      <td>NO_SERVER</td>\n",
       "    </tr>\n",
       "    <tr>\n",
       "      <th>33342</th>\n",
       "      <td>AA0216</td>\n",
       "      <td>5610</td>\n",
       "      <td>0.0</td>\n",
       "      <td>0</td>\n",
       "      <td>IN</td>\n",
       "      <td>990228</td>\n",
       "      <td>12:18:20</td>\n",
       "      <td>12:18:30</td>\n",
       "      <td>12:18:30</td>\n",
       "      <td>12:18:49</td>\n",
       "      <td>AGENT</td>\n",
       "      <td>12:18:48</td>\n",
       "      <td>12:22:54</td>\n",
       "      <td>YITZ</td>\n",
       "    </tr>\n",
       "    <tr>\n",
       "      <th>33343</th>\n",
       "      <td>AA0216</td>\n",
       "      <td>5611</td>\n",
       "      <td>0.0</td>\n",
       "      <td>0</td>\n",
       "      <td>IN</td>\n",
       "      <td>990228</td>\n",
       "      <td>16:01:22</td>\n",
       "      <td>16:01:32</td>\n",
       "      <td>16:01:32</td>\n",
       "      <td>16:09:25</td>\n",
       "      <td>HANG</td>\n",
       "      <td>00:00:00</td>\n",
       "      <td>00:00:00</td>\n",
       "      <td>NO_SERVER</td>\n",
       "    </tr>\n",
       "  </tbody>\n",
       "</table>\n",
       "<p>33344 rows × 14 columns</p>\n",
       "</div>"
      ],
      "text/plain": [
       "      vru+line  call_id  customer_id  priority type    date vru_entry  \\\n",
       "0       AA0101    34536          0.0         0   PS  990201  07:02:47   \n",
       "1       AA0101    34537          0.0         0   PS  990201  07:31:45   \n",
       "2       AA0101    34538          0.0         0   NW  990201  07:54:38   \n",
       "3       AA0101    34539   23317894.0         2   PS  990201  08:09:16   \n",
       "4       AA0101    34540   48178511.0         2   PS  990201  08:19:42   \n",
       "...        ...      ...          ...       ...  ...     ...       ...   \n",
       "33339   AA0216     5607          0.0         0   IN  990226  14:14:43   \n",
       "33340   AA0216     5608          0.0         0   IN  990226  14:33:45   \n",
       "33341   AA0216     5609          0.0         0   IN  990228  11:29:39   \n",
       "33342   AA0216     5610          0.0         0   IN  990228  12:18:20   \n",
       "33343   AA0216     5611          0.0         0   IN  990228  16:01:22   \n",
       "\n",
       "       vru_exit   q_start    q_exit outcome ser_start  ser_exit     server  \n",
       "0      07:02:56  00:00:00  00:00:00   AGENT  07:02:55  07:05:41      DORIT  \n",
       "1      07:31:55  00:00:00  00:00:00   AGENT  07:31:54  07:31:59  NO_SERVER  \n",
       "2      07:54:51  00:00:00  00:00:00   AGENT  07:54:49  07:56:21       TOVA  \n",
       "3      08:09:22  08:09:22  08:09:27    HANG  00:00:00  00:00:00  NO_SERVER  \n",
       "4      08:19:47  08:19:47  08:20:21   AGENT  08:20:20  08:22:04     MICHAL  \n",
       "...         ...       ...       ...     ...       ...       ...        ...  \n",
       "33339  14:15:05  00:00:00  00:00:00    HANG  00:00:00  00:00:00  NO_SERVER  \n",
       "33340  14:33:50  00:00:00  00:00:00    HANG  00:00:00  00:00:00  NO_SERVER  \n",
       "33341  11:29:48  11:29:48  11:33:39    HANG  00:00:00  00:00:00  NO_SERVER  \n",
       "33342  12:18:30  12:18:30  12:18:49   AGENT  12:18:48  12:22:54       YITZ  \n",
       "33343  16:01:32  16:01:32  16:09:25    HANG  00:00:00  00:00:00  NO_SERVER  \n",
       "\n",
       "[33344 rows x 14 columns]"
      ]
     },
     "execution_count": 3,
     "metadata": {},
     "output_type": "execute_result"
    }
   ],
   "source": [
    "df"
   ]
  },
  {
   "cell_type": "code",
   "execution_count": 4,
   "id": "9e778a63",
   "metadata": {},
   "outputs": [
    {
     "data": {
      "text/plain": [
       "(33344, 14)"
      ]
     },
     "execution_count": 4,
     "metadata": {},
     "output_type": "execute_result"
    }
   ],
   "source": [
    "df.shape"
   ]
  },
  {
   "cell_type": "code",
   "execution_count": 5,
   "id": "051f0b30",
   "metadata": {},
   "outputs": [
    {
     "data": {
      "text/plain": [
       "Index(['vru+line', 'call_id', 'customer_id', 'priority', 'type', 'date',\n",
       "       'vru_entry', 'vru_exit', 'q_start', 'q_exit', 'outcome', 'ser_start',\n",
       "       'ser_exit', 'server'],\n",
       "      dtype='object')"
      ]
     },
     "execution_count": 5,
     "metadata": {},
     "output_type": "execute_result"
    }
   ],
   "source": [
    "df.columns"
   ]
  },
  {
   "cell_type": "code",
   "execution_count": 6,
   "id": "82d43d32",
   "metadata": {},
   "outputs": [
    {
     "name": "stdout",
     "output_type": "stream",
     "text": [
      "<class 'pandas.core.frame.DataFrame'>\n",
      "RangeIndex: 33344 entries, 0 to 33343\n",
      "Data columns (total 14 columns):\n",
      " #   Column       Non-Null Count  Dtype  \n",
      "---  ------       --------------  -----  \n",
      " 0   vru+line     33344 non-null  object \n",
      " 1   call_id      33344 non-null  int64  \n",
      " 2   customer_id  33344 non-null  float64\n",
      " 3   priority     33344 non-null  int64  \n",
      " 4   type         33344 non-null  object \n",
      " 5   date         33344 non-null  int64  \n",
      " 6   vru_entry    33344 non-null  object \n",
      " 7   vru_exit     33344 non-null  object \n",
      " 8   q_start      33344 non-null  object \n",
      " 9   q_exit       33344 non-null  object \n",
      " 10  outcome      33344 non-null  object \n",
      " 11  ser_start    33344 non-null  object \n",
      " 12  ser_exit     33344 non-null  object \n",
      " 13  server       33344 non-null  object \n",
      "dtypes: float64(1), int64(3), object(10)\n",
      "memory usage: 3.6+ MB\n"
     ]
    }
   ],
   "source": [
    "df.info()"
   ]
  },
  {
   "cell_type": "code",
   "execution_count": 7,
   "id": "37f0db62",
   "metadata": {},
   "outputs": [],
   "source": [
    "# Date has an integer datatype which must be changed\n",
    "\n",
    "df['date'] = pd.to_datetime(df['date'], format='%y%m%d')"
   ]
  },
  {
   "cell_type": "markdown",
   "id": "f3875096",
   "metadata": {},
   "source": [
    "There are a few columns which need to be changed to Timestamp datatype such as:\n",
    "- vru_entry\n",
    "- vru_exit\n",
    "- q_start\n",
    "- q_exit\n",
    "- ser_start\n",
    "- ser_exit"
   ]
  },
  {
   "cell_type": "code",
   "execution_count": 8,
   "id": "77f2c9a4",
   "metadata": {},
   "outputs": [],
   "source": [
    "df['vru_entry'] = pd.to_datetime(df.vru_entry)"
   ]
  },
  {
   "cell_type": "code",
   "execution_count": 9,
   "id": "d554e56c",
   "metadata": {},
   "outputs": [],
   "source": [
    "df['vru_exit'] = pd.to_datetime(df.vru_exit)"
   ]
  },
  {
   "cell_type": "code",
   "execution_count": 10,
   "id": "35dc28c1",
   "metadata": {},
   "outputs": [],
   "source": [
    "df['q_start'] = pd.to_datetime(df.q_start)\n",
    "df['q_exit'] = pd.to_datetime(df.q_exit)\n",
    "df['ser_start'] = pd.to_datetime(df.ser_start)\n",
    "df['ser_exit'] = pd.to_datetime(df.ser_exit)"
   ]
  },
  {
   "cell_type": "code",
   "execution_count": 11,
   "id": "01a05607",
   "metadata": {},
   "outputs": [
    {
     "data": {
      "text/html": [
       "<div>\n",
       "<style scoped>\n",
       "    .dataframe tbody tr th:only-of-type {\n",
       "        vertical-align: middle;\n",
       "    }\n",
       "\n",
       "    .dataframe tbody tr th {\n",
       "        vertical-align: top;\n",
       "    }\n",
       "\n",
       "    .dataframe thead th {\n",
       "        text-align: right;\n",
       "    }\n",
       "</style>\n",
       "<table border=\"1\" class=\"dataframe\">\n",
       "  <thead>\n",
       "    <tr style=\"text-align: right;\">\n",
       "      <th></th>\n",
       "      <th>vru+line</th>\n",
       "      <th>call_id</th>\n",
       "      <th>customer_id</th>\n",
       "      <th>priority</th>\n",
       "      <th>type</th>\n",
       "      <th>date</th>\n",
       "      <th>vru_entry</th>\n",
       "      <th>vru_exit</th>\n",
       "      <th>q_start</th>\n",
       "      <th>q_exit</th>\n",
       "      <th>outcome</th>\n",
       "      <th>ser_start</th>\n",
       "      <th>ser_exit</th>\n",
       "      <th>server</th>\n",
       "    </tr>\n",
       "  </thead>\n",
       "  <tbody>\n",
       "    <tr>\n",
       "      <th>0</th>\n",
       "      <td>AA0101</td>\n",
       "      <td>34536</td>\n",
       "      <td>0.0</td>\n",
       "      <td>0</td>\n",
       "      <td>PS</td>\n",
       "      <td>1999-02-01</td>\n",
       "      <td>2023-02-26 07:02:47</td>\n",
       "      <td>2023-02-26 07:02:56</td>\n",
       "      <td>2023-02-26 00:00:00</td>\n",
       "      <td>2023-02-26 00:00:00</td>\n",
       "      <td>AGENT</td>\n",
       "      <td>2023-02-26 07:02:55</td>\n",
       "      <td>2023-02-26 07:05:41</td>\n",
       "      <td>DORIT</td>\n",
       "    </tr>\n",
       "    <tr>\n",
       "      <th>1</th>\n",
       "      <td>AA0101</td>\n",
       "      <td>34537</td>\n",
       "      <td>0.0</td>\n",
       "      <td>0</td>\n",
       "      <td>PS</td>\n",
       "      <td>1999-02-01</td>\n",
       "      <td>2023-02-26 07:31:45</td>\n",
       "      <td>2023-02-26 07:31:55</td>\n",
       "      <td>2023-02-26 00:00:00</td>\n",
       "      <td>2023-02-26 00:00:00</td>\n",
       "      <td>AGENT</td>\n",
       "      <td>2023-02-26 07:31:54</td>\n",
       "      <td>2023-02-26 07:31:59</td>\n",
       "      <td>NO_SERVER</td>\n",
       "    </tr>\n",
       "    <tr>\n",
       "      <th>2</th>\n",
       "      <td>AA0101</td>\n",
       "      <td>34538</td>\n",
       "      <td>0.0</td>\n",
       "      <td>0</td>\n",
       "      <td>NW</td>\n",
       "      <td>1999-02-01</td>\n",
       "      <td>2023-02-26 07:54:38</td>\n",
       "      <td>2023-02-26 07:54:51</td>\n",
       "      <td>2023-02-26 00:00:00</td>\n",
       "      <td>2023-02-26 00:00:00</td>\n",
       "      <td>AGENT</td>\n",
       "      <td>2023-02-26 07:54:49</td>\n",
       "      <td>2023-02-26 07:56:21</td>\n",
       "      <td>TOVA</td>\n",
       "    </tr>\n",
       "    <tr>\n",
       "      <th>3</th>\n",
       "      <td>AA0101</td>\n",
       "      <td>34539</td>\n",
       "      <td>23317894.0</td>\n",
       "      <td>2</td>\n",
       "      <td>PS</td>\n",
       "      <td>1999-02-01</td>\n",
       "      <td>2023-02-26 08:09:16</td>\n",
       "      <td>2023-02-26 08:09:22</td>\n",
       "      <td>2023-02-26 08:09:22</td>\n",
       "      <td>2023-02-26 08:09:27</td>\n",
       "      <td>HANG</td>\n",
       "      <td>2023-02-26 00:00:00</td>\n",
       "      <td>2023-02-26 00:00:00</td>\n",
       "      <td>NO_SERVER</td>\n",
       "    </tr>\n",
       "    <tr>\n",
       "      <th>4</th>\n",
       "      <td>AA0101</td>\n",
       "      <td>34540</td>\n",
       "      <td>48178511.0</td>\n",
       "      <td>2</td>\n",
       "      <td>PS</td>\n",
       "      <td>1999-02-01</td>\n",
       "      <td>2023-02-26 08:19:42</td>\n",
       "      <td>2023-02-26 08:19:47</td>\n",
       "      <td>2023-02-26 08:19:47</td>\n",
       "      <td>2023-02-26 08:20:21</td>\n",
       "      <td>AGENT</td>\n",
       "      <td>2023-02-26 08:20:20</td>\n",
       "      <td>2023-02-26 08:22:04</td>\n",
       "      <td>MICHAL</td>\n",
       "    </tr>\n",
       "  </tbody>\n",
       "</table>\n",
       "</div>"
      ],
      "text/plain": [
       "  vru+line  call_id  customer_id  priority type       date  \\\n",
       "0   AA0101    34536          0.0         0   PS 1999-02-01   \n",
       "1   AA0101    34537          0.0         0   PS 1999-02-01   \n",
       "2   AA0101    34538          0.0         0   NW 1999-02-01   \n",
       "3   AA0101    34539   23317894.0         2   PS 1999-02-01   \n",
       "4   AA0101    34540   48178511.0         2   PS 1999-02-01   \n",
       "\n",
       "            vru_entry            vru_exit             q_start  \\\n",
       "0 2023-02-26 07:02:47 2023-02-26 07:02:56 2023-02-26 00:00:00   \n",
       "1 2023-02-26 07:31:45 2023-02-26 07:31:55 2023-02-26 00:00:00   \n",
       "2 2023-02-26 07:54:38 2023-02-26 07:54:51 2023-02-26 00:00:00   \n",
       "3 2023-02-26 08:09:16 2023-02-26 08:09:22 2023-02-26 08:09:22   \n",
       "4 2023-02-26 08:19:42 2023-02-26 08:19:47 2023-02-26 08:19:47   \n",
       "\n",
       "               q_exit outcome           ser_start            ser_exit  \\\n",
       "0 2023-02-26 00:00:00   AGENT 2023-02-26 07:02:55 2023-02-26 07:05:41   \n",
       "1 2023-02-26 00:00:00   AGENT 2023-02-26 07:31:54 2023-02-26 07:31:59   \n",
       "2 2023-02-26 00:00:00   AGENT 2023-02-26 07:54:49 2023-02-26 07:56:21   \n",
       "3 2023-02-26 08:09:27    HANG 2023-02-26 00:00:00 2023-02-26 00:00:00   \n",
       "4 2023-02-26 08:20:21   AGENT 2023-02-26 08:20:20 2023-02-26 08:22:04   \n",
       "\n",
       "      server  \n",
       "0      DORIT  \n",
       "1  NO_SERVER  \n",
       "2       TOVA  \n",
       "3  NO_SERVER  \n",
       "4     MICHAL  "
      ]
     },
     "execution_count": 11,
     "metadata": {},
     "output_type": "execute_result"
    }
   ],
   "source": [
    "df.head()"
   ]
  },
  {
   "cell_type": "markdown",
   "id": "0f527417",
   "metadata": {},
   "source": [
    "# Creating a new column 'vru_time'"
   ]
  },
  {
   "cell_type": "code",
   "execution_count": 12,
   "id": "fb49563f",
   "metadata": {},
   "outputs": [],
   "source": [
    "df['vru_time'] = df['vru_exit'] - df['vru_entry']"
   ]
  },
  {
   "cell_type": "markdown",
   "id": "2b53d322",
   "metadata": {},
   "source": [
    "# Creating a new column 'q_time'"
   ]
  },
  {
   "cell_type": "code",
   "execution_count": 13,
   "id": "a4eeca5c",
   "metadata": {},
   "outputs": [],
   "source": [
    "df['q_time'] = df['q_exit'] - df['q_start']"
   ]
  },
  {
   "cell_type": "markdown",
   "id": "c520e73f",
   "metadata": {},
   "source": [
    "# Creating a new column 'ser_time'"
   ]
  },
  {
   "cell_type": "code",
   "execution_count": 14,
   "id": "064cd5aa",
   "metadata": {},
   "outputs": [],
   "source": [
    "df['ser_time'] = df['ser_exit'] - df['ser_start']"
   ]
  },
  {
   "cell_type": "code",
   "execution_count": 15,
   "id": "6bf86360",
   "metadata": {},
   "outputs": [
    {
     "data": {
      "text/plain": [
       "vru+line                object\n",
       "call_id                  int64\n",
       "customer_id            float64\n",
       "priority                 int64\n",
       "type                    object\n",
       "date            datetime64[ns]\n",
       "vru_entry       datetime64[ns]\n",
       "vru_exit        datetime64[ns]\n",
       "q_start         datetime64[ns]\n",
       "q_exit          datetime64[ns]\n",
       "outcome                 object\n",
       "ser_start       datetime64[ns]\n",
       "ser_exit        datetime64[ns]\n",
       "server                  object\n",
       "vru_time       timedelta64[ns]\n",
       "q_time         timedelta64[ns]\n",
       "ser_time       timedelta64[ns]\n",
       "dtype: object"
      ]
     },
     "execution_count": 15,
     "metadata": {},
     "output_type": "execute_result"
    }
   ],
   "source": [
    "df.dtypes"
   ]
  },
  {
   "cell_type": "markdown",
   "id": "f881af04",
   "metadata": {},
   "source": [
    "# Let's check our dataframe with all newly calculated columns"
   ]
  },
  {
   "cell_type": "code",
   "execution_count": 16,
   "id": "6c783edb",
   "metadata": {},
   "outputs": [
    {
     "data": {
      "text/html": [
       "<div>\n",
       "<style scoped>\n",
       "    .dataframe tbody tr th:only-of-type {\n",
       "        vertical-align: middle;\n",
       "    }\n",
       "\n",
       "    .dataframe tbody tr th {\n",
       "        vertical-align: top;\n",
       "    }\n",
       "\n",
       "    .dataframe thead th {\n",
       "        text-align: right;\n",
       "    }\n",
       "</style>\n",
       "<table border=\"1\" class=\"dataframe\">\n",
       "  <thead>\n",
       "    <tr style=\"text-align: right;\">\n",
       "      <th></th>\n",
       "      <th>vru+line</th>\n",
       "      <th>call_id</th>\n",
       "      <th>customer_id</th>\n",
       "      <th>priority</th>\n",
       "      <th>type</th>\n",
       "      <th>date</th>\n",
       "      <th>vru_entry</th>\n",
       "      <th>vru_exit</th>\n",
       "      <th>q_start</th>\n",
       "      <th>q_exit</th>\n",
       "      <th>outcome</th>\n",
       "      <th>ser_start</th>\n",
       "      <th>ser_exit</th>\n",
       "      <th>server</th>\n",
       "      <th>vru_time</th>\n",
       "      <th>q_time</th>\n",
       "      <th>ser_time</th>\n",
       "    </tr>\n",
       "  </thead>\n",
       "  <tbody>\n",
       "    <tr>\n",
       "      <th>0</th>\n",
       "      <td>AA0101</td>\n",
       "      <td>34536</td>\n",
       "      <td>0.0</td>\n",
       "      <td>0</td>\n",
       "      <td>PS</td>\n",
       "      <td>1999-02-01</td>\n",
       "      <td>2023-02-26 07:02:47</td>\n",
       "      <td>2023-02-26 07:02:56</td>\n",
       "      <td>2023-02-26 00:00:00</td>\n",
       "      <td>2023-02-26 00:00:00</td>\n",
       "      <td>AGENT</td>\n",
       "      <td>2023-02-26 07:02:55</td>\n",
       "      <td>2023-02-26 07:05:41</td>\n",
       "      <td>DORIT</td>\n",
       "      <td>0 days 00:00:09</td>\n",
       "      <td>0 days 00:00:00</td>\n",
       "      <td>0 days 00:02:46</td>\n",
       "    </tr>\n",
       "    <tr>\n",
       "      <th>1</th>\n",
       "      <td>AA0101</td>\n",
       "      <td>34537</td>\n",
       "      <td>0.0</td>\n",
       "      <td>0</td>\n",
       "      <td>PS</td>\n",
       "      <td>1999-02-01</td>\n",
       "      <td>2023-02-26 07:31:45</td>\n",
       "      <td>2023-02-26 07:31:55</td>\n",
       "      <td>2023-02-26 00:00:00</td>\n",
       "      <td>2023-02-26 00:00:00</td>\n",
       "      <td>AGENT</td>\n",
       "      <td>2023-02-26 07:31:54</td>\n",
       "      <td>2023-02-26 07:31:59</td>\n",
       "      <td>NO_SERVER</td>\n",
       "      <td>0 days 00:00:10</td>\n",
       "      <td>0 days 00:00:00</td>\n",
       "      <td>0 days 00:00:05</td>\n",
       "    </tr>\n",
       "    <tr>\n",
       "      <th>2</th>\n",
       "      <td>AA0101</td>\n",
       "      <td>34538</td>\n",
       "      <td>0.0</td>\n",
       "      <td>0</td>\n",
       "      <td>NW</td>\n",
       "      <td>1999-02-01</td>\n",
       "      <td>2023-02-26 07:54:38</td>\n",
       "      <td>2023-02-26 07:54:51</td>\n",
       "      <td>2023-02-26 00:00:00</td>\n",
       "      <td>2023-02-26 00:00:00</td>\n",
       "      <td>AGENT</td>\n",
       "      <td>2023-02-26 07:54:49</td>\n",
       "      <td>2023-02-26 07:56:21</td>\n",
       "      <td>TOVA</td>\n",
       "      <td>0 days 00:00:13</td>\n",
       "      <td>0 days 00:00:00</td>\n",
       "      <td>0 days 00:01:32</td>\n",
       "    </tr>\n",
       "    <tr>\n",
       "      <th>3</th>\n",
       "      <td>AA0101</td>\n",
       "      <td>34539</td>\n",
       "      <td>23317894.0</td>\n",
       "      <td>2</td>\n",
       "      <td>PS</td>\n",
       "      <td>1999-02-01</td>\n",
       "      <td>2023-02-26 08:09:16</td>\n",
       "      <td>2023-02-26 08:09:22</td>\n",
       "      <td>2023-02-26 08:09:22</td>\n",
       "      <td>2023-02-26 08:09:27</td>\n",
       "      <td>HANG</td>\n",
       "      <td>2023-02-26 00:00:00</td>\n",
       "      <td>2023-02-26 00:00:00</td>\n",
       "      <td>NO_SERVER</td>\n",
       "      <td>0 days 00:00:06</td>\n",
       "      <td>0 days 00:00:05</td>\n",
       "      <td>0 days 00:00:00</td>\n",
       "    </tr>\n",
       "    <tr>\n",
       "      <th>4</th>\n",
       "      <td>AA0101</td>\n",
       "      <td>34540</td>\n",
       "      <td>48178511.0</td>\n",
       "      <td>2</td>\n",
       "      <td>PS</td>\n",
       "      <td>1999-02-01</td>\n",
       "      <td>2023-02-26 08:19:42</td>\n",
       "      <td>2023-02-26 08:19:47</td>\n",
       "      <td>2023-02-26 08:19:47</td>\n",
       "      <td>2023-02-26 08:20:21</td>\n",
       "      <td>AGENT</td>\n",
       "      <td>2023-02-26 08:20:20</td>\n",
       "      <td>2023-02-26 08:22:04</td>\n",
       "      <td>MICHAL</td>\n",
       "      <td>0 days 00:00:05</td>\n",
       "      <td>0 days 00:00:34</td>\n",
       "      <td>0 days 00:01:44</td>\n",
       "    </tr>\n",
       "  </tbody>\n",
       "</table>\n",
       "</div>"
      ],
      "text/plain": [
       "  vru+line  call_id  customer_id  priority type       date  \\\n",
       "0   AA0101    34536          0.0         0   PS 1999-02-01   \n",
       "1   AA0101    34537          0.0         0   PS 1999-02-01   \n",
       "2   AA0101    34538          0.0         0   NW 1999-02-01   \n",
       "3   AA0101    34539   23317894.0         2   PS 1999-02-01   \n",
       "4   AA0101    34540   48178511.0         2   PS 1999-02-01   \n",
       "\n",
       "            vru_entry            vru_exit             q_start  \\\n",
       "0 2023-02-26 07:02:47 2023-02-26 07:02:56 2023-02-26 00:00:00   \n",
       "1 2023-02-26 07:31:45 2023-02-26 07:31:55 2023-02-26 00:00:00   \n",
       "2 2023-02-26 07:54:38 2023-02-26 07:54:51 2023-02-26 00:00:00   \n",
       "3 2023-02-26 08:09:16 2023-02-26 08:09:22 2023-02-26 08:09:22   \n",
       "4 2023-02-26 08:19:42 2023-02-26 08:19:47 2023-02-26 08:19:47   \n",
       "\n",
       "               q_exit outcome           ser_start            ser_exit  \\\n",
       "0 2023-02-26 00:00:00   AGENT 2023-02-26 07:02:55 2023-02-26 07:05:41   \n",
       "1 2023-02-26 00:00:00   AGENT 2023-02-26 07:31:54 2023-02-26 07:31:59   \n",
       "2 2023-02-26 00:00:00   AGENT 2023-02-26 07:54:49 2023-02-26 07:56:21   \n",
       "3 2023-02-26 08:09:27    HANG 2023-02-26 00:00:00 2023-02-26 00:00:00   \n",
       "4 2023-02-26 08:20:21   AGENT 2023-02-26 08:20:20 2023-02-26 08:22:04   \n",
       "\n",
       "      server        vru_time          q_time        ser_time  \n",
       "0      DORIT 0 days 00:00:09 0 days 00:00:00 0 days 00:02:46  \n",
       "1  NO_SERVER 0 days 00:00:10 0 days 00:00:00 0 days 00:00:05  \n",
       "2       TOVA 0 days 00:00:13 0 days 00:00:00 0 days 00:01:32  \n",
       "3  NO_SERVER 0 days 00:00:06 0 days 00:00:05 0 days 00:00:00  \n",
       "4     MICHAL 0 days 00:00:05 0 days 00:00:34 0 days 00:01:44  "
      ]
     },
     "execution_count": 16,
     "metadata": {},
     "output_type": "execute_result"
    }
   ],
   "source": [
    "df.head()"
   ]
  },
  {
   "cell_type": "markdown",
   "id": "6c7ba08c",
   "metadata": {},
   "source": [
    "# Checking for null values "
   ]
  },
  {
   "cell_type": "code",
   "execution_count": 17,
   "id": "8622641b",
   "metadata": {},
   "outputs": [
    {
     "data": {
      "text/plain": [
       "vru+line       0\n",
       "call_id        0\n",
       "customer_id    0\n",
       "priority       0\n",
       "type           0\n",
       "date           0\n",
       "vru_entry      0\n",
       "vru_exit       0\n",
       "q_start        0\n",
       "q_exit         0\n",
       "outcome        0\n",
       "ser_start      0\n",
       "ser_exit       0\n",
       "server         0\n",
       "vru_time       0\n",
       "q_time         0\n",
       "ser_time       0\n",
       "dtype: int64"
      ]
     },
     "execution_count": 17,
     "metadata": {},
     "output_type": "execute_result"
    }
   ],
   "source": [
    "df.isnull().sum()"
   ]
  },
  {
   "cell_type": "markdown",
   "id": "e0706778",
   "metadata": {},
   "source": [
    "# Creating a new column as \"customer_type\""
   ]
  },
  {
   "cell_type": "code",
   "execution_count": 18,
   "id": "bf5393f9",
   "metadata": {},
   "outputs": [],
   "source": [
    "ls = [] #empty list\n",
    "\n",
    "for i in df.priority:\n",
    "    if i == 0:\n",
    "        ls.append('Unidentified')\n",
    "    elif i == 1:\n",
    "        ls.append('Regular')\n",
    "    else:\n",
    "        ls.append('Priority')\n",
    "        \n",
    "\n",
    "# We are creating a new column in our dataframe where we could easily check the user type\n",
    "df['customer_type'] = ls    "
   ]
  },
  {
   "cell_type": "code",
   "execution_count": 19,
   "id": "3d43f6b5",
   "metadata": {
    "scrolled": true
   },
   "outputs": [
    {
     "data": {
      "text/html": [
       "<div>\n",
       "<style scoped>\n",
       "    .dataframe tbody tr th:only-of-type {\n",
       "        vertical-align: middle;\n",
       "    }\n",
       "\n",
       "    .dataframe tbody tr th {\n",
       "        vertical-align: top;\n",
       "    }\n",
       "\n",
       "    .dataframe thead th {\n",
       "        text-align: right;\n",
       "    }\n",
       "</style>\n",
       "<table border=\"1\" class=\"dataframe\">\n",
       "  <thead>\n",
       "    <tr style=\"text-align: right;\">\n",
       "      <th></th>\n",
       "      <th>vru+line</th>\n",
       "      <th>call_id</th>\n",
       "      <th>customer_id</th>\n",
       "      <th>priority</th>\n",
       "      <th>type</th>\n",
       "      <th>date</th>\n",
       "      <th>vru_entry</th>\n",
       "      <th>vru_exit</th>\n",
       "      <th>q_start</th>\n",
       "      <th>q_exit</th>\n",
       "      <th>outcome</th>\n",
       "      <th>ser_start</th>\n",
       "      <th>ser_exit</th>\n",
       "      <th>server</th>\n",
       "      <th>vru_time</th>\n",
       "      <th>q_time</th>\n",
       "      <th>ser_time</th>\n",
       "      <th>customer_type</th>\n",
       "    </tr>\n",
       "  </thead>\n",
       "  <tbody>\n",
       "    <tr>\n",
       "      <th>0</th>\n",
       "      <td>AA0101</td>\n",
       "      <td>34536</td>\n",
       "      <td>0.0</td>\n",
       "      <td>0</td>\n",
       "      <td>PS</td>\n",
       "      <td>1999-02-01</td>\n",
       "      <td>2023-02-26 07:02:47</td>\n",
       "      <td>2023-02-26 07:02:56</td>\n",
       "      <td>2023-02-26 00:00:00</td>\n",
       "      <td>2023-02-26 00:00:00</td>\n",
       "      <td>AGENT</td>\n",
       "      <td>2023-02-26 07:02:55</td>\n",
       "      <td>2023-02-26 07:05:41</td>\n",
       "      <td>DORIT</td>\n",
       "      <td>0 days 00:00:09</td>\n",
       "      <td>0 days 00:00:00</td>\n",
       "      <td>0 days 00:02:46</td>\n",
       "      <td>Unidentified</td>\n",
       "    </tr>\n",
       "    <tr>\n",
       "      <th>1</th>\n",
       "      <td>AA0101</td>\n",
       "      <td>34537</td>\n",
       "      <td>0.0</td>\n",
       "      <td>0</td>\n",
       "      <td>PS</td>\n",
       "      <td>1999-02-01</td>\n",
       "      <td>2023-02-26 07:31:45</td>\n",
       "      <td>2023-02-26 07:31:55</td>\n",
       "      <td>2023-02-26 00:00:00</td>\n",
       "      <td>2023-02-26 00:00:00</td>\n",
       "      <td>AGENT</td>\n",
       "      <td>2023-02-26 07:31:54</td>\n",
       "      <td>2023-02-26 07:31:59</td>\n",
       "      <td>NO_SERVER</td>\n",
       "      <td>0 days 00:00:10</td>\n",
       "      <td>0 days 00:00:00</td>\n",
       "      <td>0 days 00:00:05</td>\n",
       "      <td>Unidentified</td>\n",
       "    </tr>\n",
       "    <tr>\n",
       "      <th>2</th>\n",
       "      <td>AA0101</td>\n",
       "      <td>34538</td>\n",
       "      <td>0.0</td>\n",
       "      <td>0</td>\n",
       "      <td>NW</td>\n",
       "      <td>1999-02-01</td>\n",
       "      <td>2023-02-26 07:54:38</td>\n",
       "      <td>2023-02-26 07:54:51</td>\n",
       "      <td>2023-02-26 00:00:00</td>\n",
       "      <td>2023-02-26 00:00:00</td>\n",
       "      <td>AGENT</td>\n",
       "      <td>2023-02-26 07:54:49</td>\n",
       "      <td>2023-02-26 07:56:21</td>\n",
       "      <td>TOVA</td>\n",
       "      <td>0 days 00:00:13</td>\n",
       "      <td>0 days 00:00:00</td>\n",
       "      <td>0 days 00:01:32</td>\n",
       "      <td>Unidentified</td>\n",
       "    </tr>\n",
       "    <tr>\n",
       "      <th>3</th>\n",
       "      <td>AA0101</td>\n",
       "      <td>34539</td>\n",
       "      <td>23317894.0</td>\n",
       "      <td>2</td>\n",
       "      <td>PS</td>\n",
       "      <td>1999-02-01</td>\n",
       "      <td>2023-02-26 08:09:16</td>\n",
       "      <td>2023-02-26 08:09:22</td>\n",
       "      <td>2023-02-26 08:09:22</td>\n",
       "      <td>2023-02-26 08:09:27</td>\n",
       "      <td>HANG</td>\n",
       "      <td>2023-02-26 00:00:00</td>\n",
       "      <td>2023-02-26 00:00:00</td>\n",
       "      <td>NO_SERVER</td>\n",
       "      <td>0 days 00:00:06</td>\n",
       "      <td>0 days 00:00:05</td>\n",
       "      <td>0 days 00:00:00</td>\n",
       "      <td>Priority</td>\n",
       "    </tr>\n",
       "    <tr>\n",
       "      <th>4</th>\n",
       "      <td>AA0101</td>\n",
       "      <td>34540</td>\n",
       "      <td>48178511.0</td>\n",
       "      <td>2</td>\n",
       "      <td>PS</td>\n",
       "      <td>1999-02-01</td>\n",
       "      <td>2023-02-26 08:19:42</td>\n",
       "      <td>2023-02-26 08:19:47</td>\n",
       "      <td>2023-02-26 08:19:47</td>\n",
       "      <td>2023-02-26 08:20:21</td>\n",
       "      <td>AGENT</td>\n",
       "      <td>2023-02-26 08:20:20</td>\n",
       "      <td>2023-02-26 08:22:04</td>\n",
       "      <td>MICHAL</td>\n",
       "      <td>0 days 00:00:05</td>\n",
       "      <td>0 days 00:00:34</td>\n",
       "      <td>0 days 00:01:44</td>\n",
       "      <td>Priority</td>\n",
       "    </tr>\n",
       "  </tbody>\n",
       "</table>\n",
       "</div>"
      ],
      "text/plain": [
       "  vru+line  call_id  customer_id  priority type       date  \\\n",
       "0   AA0101    34536          0.0         0   PS 1999-02-01   \n",
       "1   AA0101    34537          0.0         0   PS 1999-02-01   \n",
       "2   AA0101    34538          0.0         0   NW 1999-02-01   \n",
       "3   AA0101    34539   23317894.0         2   PS 1999-02-01   \n",
       "4   AA0101    34540   48178511.0         2   PS 1999-02-01   \n",
       "\n",
       "            vru_entry            vru_exit             q_start  \\\n",
       "0 2023-02-26 07:02:47 2023-02-26 07:02:56 2023-02-26 00:00:00   \n",
       "1 2023-02-26 07:31:45 2023-02-26 07:31:55 2023-02-26 00:00:00   \n",
       "2 2023-02-26 07:54:38 2023-02-26 07:54:51 2023-02-26 00:00:00   \n",
       "3 2023-02-26 08:09:16 2023-02-26 08:09:22 2023-02-26 08:09:22   \n",
       "4 2023-02-26 08:19:42 2023-02-26 08:19:47 2023-02-26 08:19:47   \n",
       "\n",
       "               q_exit outcome           ser_start            ser_exit  \\\n",
       "0 2023-02-26 00:00:00   AGENT 2023-02-26 07:02:55 2023-02-26 07:05:41   \n",
       "1 2023-02-26 00:00:00   AGENT 2023-02-26 07:31:54 2023-02-26 07:31:59   \n",
       "2 2023-02-26 00:00:00   AGENT 2023-02-26 07:54:49 2023-02-26 07:56:21   \n",
       "3 2023-02-26 08:09:27    HANG 2023-02-26 00:00:00 2023-02-26 00:00:00   \n",
       "4 2023-02-26 08:20:21   AGENT 2023-02-26 08:20:20 2023-02-26 08:22:04   \n",
       "\n",
       "      server        vru_time          q_time        ser_time customer_type  \n",
       "0      DORIT 0 days 00:00:09 0 days 00:00:00 0 days 00:02:46  Unidentified  \n",
       "1  NO_SERVER 0 days 00:00:10 0 days 00:00:00 0 days 00:00:05  Unidentified  \n",
       "2       TOVA 0 days 00:00:13 0 days 00:00:00 0 days 00:01:32  Unidentified  \n",
       "3  NO_SERVER 0 days 00:00:06 0 days 00:00:05 0 days 00:00:00      Priority  \n",
       "4     MICHAL 0 days 00:00:05 0 days 00:00:34 0 days 00:01:44      Priority  "
      ]
     },
     "execution_count": 19,
     "metadata": {},
     "output_type": "execute_result"
    }
   ],
   "source": [
    "# let's check our dataframe for the new column\n",
    "\n",
    "df.head()"
   ]
  },
  {
   "cell_type": "markdown",
   "id": "ed4459df",
   "metadata": {},
   "source": [
    "# --------------------------------------------------------------------------------------------------------------"
   ]
  },
  {
   "cell_type": "markdown",
   "id": "5f6b7b98",
   "metadata": {},
   "source": [
    "# Calculating total VRU time in seconds"
   ]
  },
  {
   "cell_type": "code",
   "execution_count": 20,
   "id": "673e29fc",
   "metadata": {},
   "outputs": [
    {
     "data": {
      "text/plain": [
       "348907.0"
      ]
     },
     "execution_count": 20,
     "metadata": {},
     "output_type": "execute_result"
    }
   ],
   "source": [
    "total_vru_secs = df['vru_time'].sum().total_seconds()\n",
    "total_vru_secs"
   ]
  },
  {
   "cell_type": "markdown",
   "id": "5d34ffb7",
   "metadata": {},
   "source": [
    "\tVRU Call charges: \n",
    "        \n",
    "▪\t\t\t\tCalls handled by VRU are not billed to RBS upto a duration of 120,000 seconds \n",
    "\n",
    "▪\t\t\t\tFrom 120,001st second onwards, VRU calls are charged at EUR 0.5/ second.\n"
   ]
  },
  {
   "cell_type": "markdown",
   "id": "fdcab6ce",
   "metadata": {},
   "source": [
    "# Chargeable VRU time :"
   ]
  },
  {
   "cell_type": "code",
   "execution_count": 21,
   "id": "e87a0202",
   "metadata": {},
   "outputs": [
    {
     "data": {
      "text/plain": [
       "228907.0"
      ]
     },
     "execution_count": 21,
     "metadata": {},
     "output_type": "execute_result"
    }
   ],
   "source": [
    "free_vru_secs = 120000 # as given in the statement\n",
    "\n",
    "# Calculating the chargeable time of VRU -\n",
    "\n",
    "Chargeable_vru_secs = total_vru_secs - free_vru_secs \n",
    "Chargeable_vru_secs"
   ]
  },
  {
   "cell_type": "code",
   "execution_count": 22,
   "id": "2c5a0204",
   "metadata": {},
   "outputs": [
    {
     "name": "stdout",
     "output_type": "stream",
     "text": [
      "VRU bill is = 114453.5\n"
     ]
    }
   ],
   "source": [
    "if Chargeable_vru_secs > free_vru_secs :\t\n",
    "    vru_amount = Chargeable_vru_secs * 0.5\n",
    "    print(\"VRU bill is =\",vru_amount)\n",
    "elif Chargeable_vru_secs < 120000:\n",
    "    vru_amount = 0\n",
    "    print(\"VRU bill is \",vru_amount)"
   ]
  },
  {
   "cell_type": "markdown",
   "id": "82e9406d",
   "metadata": {},
   "source": [
    "# --------------------------------------------------------------------------------------------------------------"
   ]
  },
  {
   "cell_type": "markdown",
   "id": "1b3871b0",
   "metadata": {},
   "source": [
    "# Caclulating Service Time Charges"
   ]
  },
  {
   "cell_type": "markdown",
   "id": "c07779c4",
   "metadata": {},
   "source": [
    "Service Time Charges: \n",
    "    \n",
    "▪\tUpto a total of 30,00,000 seconds, the RBS is billed at EUR 0.5/ second\n",
    "\n",
    "▪\tFrom 30,00,001st seconds onwards, the bill is raised at EUR 1/ second."
   ]
  },
  {
   "cell_type": "code",
   "execution_count": 23,
   "id": "dd92d600",
   "metadata": {},
   "outputs": [
    {
     "data": {
      "text/plain": [
       "3430617.0"
      ]
     },
     "execution_count": 23,
     "metadata": {},
     "output_type": "execute_result"
    }
   ],
   "source": [
    "# Calculating total service time in seconds\n",
    "\n",
    "total_st_secs = df['ser_time'].sum().total_seconds()\n",
    "total_st_secs"
   ]
  },
  {
   "cell_type": "code",
   "execution_count": 24,
   "id": "c8148dab",
   "metadata": {},
   "outputs": [
    {
     "data": {
      "text/plain": [
       "430617.0"
      ]
     },
     "execution_count": 24,
     "metadata": {},
     "output_type": "execute_result"
    }
   ],
   "source": [
    "# Till 3000000 secs, it billed as 0.5 euro per second\n",
    "# And from 3000001 secs, it is billed as 1 euro per second\n",
    "\n",
    "st_secs_for_1_pound = total_st_secs - 3000000\n",
    "st_secs_for_1_pound"
   ]
  },
  {
   "cell_type": "code",
   "execution_count": 25,
   "id": "b720b3a4",
   "metadata": {},
   "outputs": [
    {
     "name": "stdout",
     "output_type": "stream",
     "text": [
      "Service time bill is : 1930617.0\n"
     ]
    }
   ],
   "source": [
    "# Calculating total amount for Service time\n",
    "\n",
    "if total_st_secs >= 3000001:\n",
    "    st_amount = (st_secs_for_1_pound * 1) + (3000000 * 0.5)\n",
    "    print(\"Service time bill is :\",st_amount)\n",
    "elif total_st_secs <= 3000000:\n",
    "    st_amount = total_st_secs * 0.5\n",
    "    print(\"Service time bill is =\",st_amount)"
   ]
  },
  {
   "cell_type": "markdown",
   "id": "5de59ef8",
   "metadata": {},
   "source": [
    "# ----------------------------------------------------------------------------------------------------"
   ]
  },
  {
   "cell_type": "markdown",
   "id": "96a01c38",
   "metadata": {},
   "source": [
    "# Calculating q-time "
   ]
  },
  {
   "cell_type": "code",
   "execution_count": 26,
   "id": "339984f1",
   "metadata": {},
   "outputs": [
    {
     "data": {
      "text/plain": [
       "20345"
      ]
     },
     "execution_count": 26,
     "metadata": {},
     "output_type": "execute_result"
    }
   ],
   "source": [
    "# Calculating q_time in minutes\n",
    "\n",
    "round((df['q_time'].sum().total_seconds())/60)"
   ]
  },
  {
   "cell_type": "code",
   "execution_count": 27,
   "id": "28545e44",
   "metadata": {},
   "outputs": [
    {
     "data": {
      "text/html": [
       "<div>\n",
       "<style scoped>\n",
       "    .dataframe tbody tr th:only-of-type {\n",
       "        vertical-align: middle;\n",
       "    }\n",
       "\n",
       "    .dataframe tbody tr th {\n",
       "        vertical-align: top;\n",
       "    }\n",
       "\n",
       "    .dataframe thead th {\n",
       "        text-align: right;\n",
       "    }\n",
       "</style>\n",
       "<table border=\"1\" class=\"dataframe\">\n",
       "  <thead>\n",
       "    <tr style=\"text-align: right;\">\n",
       "      <th></th>\n",
       "      <th>vru+line</th>\n",
       "      <th>call_id</th>\n",
       "      <th>customer_id</th>\n",
       "      <th>priority</th>\n",
       "      <th>type</th>\n",
       "      <th>date</th>\n",
       "      <th>vru_entry</th>\n",
       "      <th>vru_exit</th>\n",
       "      <th>q_start</th>\n",
       "      <th>q_exit</th>\n",
       "      <th>outcome</th>\n",
       "      <th>ser_start</th>\n",
       "      <th>ser_exit</th>\n",
       "      <th>server</th>\n",
       "      <th>vru_time</th>\n",
       "      <th>q_time</th>\n",
       "      <th>ser_time</th>\n",
       "      <th>customer_type</th>\n",
       "      <th>penalty_on_qtime</th>\n",
       "    </tr>\n",
       "  </thead>\n",
       "  <tbody>\n",
       "    <tr>\n",
       "      <th>0</th>\n",
       "      <td>AA0101</td>\n",
       "      <td>34536</td>\n",
       "      <td>0.0</td>\n",
       "      <td>0</td>\n",
       "      <td>PS</td>\n",
       "      <td>1999-02-01</td>\n",
       "      <td>2023-02-26 07:02:47</td>\n",
       "      <td>2023-02-26 07:02:56</td>\n",
       "      <td>2023-02-26</td>\n",
       "      <td>2023-02-26</td>\n",
       "      <td>AGENT</td>\n",
       "      <td>2023-02-26 07:02:55</td>\n",
       "      <td>2023-02-26 07:05:41</td>\n",
       "      <td>DORIT</td>\n",
       "      <td>0 days 00:00:09</td>\n",
       "      <td>0 days</td>\n",
       "      <td>0 days 00:02:46</td>\n",
       "      <td>Unidentified</td>\n",
       "      <td>0.0</td>\n",
       "    </tr>\n",
       "    <tr>\n",
       "      <th>1</th>\n",
       "      <td>AA0101</td>\n",
       "      <td>34537</td>\n",
       "      <td>0.0</td>\n",
       "      <td>0</td>\n",
       "      <td>PS</td>\n",
       "      <td>1999-02-01</td>\n",
       "      <td>2023-02-26 07:31:45</td>\n",
       "      <td>2023-02-26 07:31:55</td>\n",
       "      <td>2023-02-26</td>\n",
       "      <td>2023-02-26</td>\n",
       "      <td>AGENT</td>\n",
       "      <td>2023-02-26 07:31:54</td>\n",
       "      <td>2023-02-26 07:31:59</td>\n",
       "      <td>NO_SERVER</td>\n",
       "      <td>0 days 00:00:10</td>\n",
       "      <td>0 days</td>\n",
       "      <td>0 days 00:00:05</td>\n",
       "      <td>Unidentified</td>\n",
       "      <td>0.0</td>\n",
       "    </tr>\n",
       "    <tr>\n",
       "      <th>2</th>\n",
       "      <td>AA0101</td>\n",
       "      <td>34538</td>\n",
       "      <td>0.0</td>\n",
       "      <td>0</td>\n",
       "      <td>NW</td>\n",
       "      <td>1999-02-01</td>\n",
       "      <td>2023-02-26 07:54:38</td>\n",
       "      <td>2023-02-26 07:54:51</td>\n",
       "      <td>2023-02-26</td>\n",
       "      <td>2023-02-26</td>\n",
       "      <td>AGENT</td>\n",
       "      <td>2023-02-26 07:54:49</td>\n",
       "      <td>2023-02-26 07:56:21</td>\n",
       "      <td>TOVA</td>\n",
       "      <td>0 days 00:00:13</td>\n",
       "      <td>0 days</td>\n",
       "      <td>0 days 00:01:32</td>\n",
       "      <td>Unidentified</td>\n",
       "      <td>0.0</td>\n",
       "    </tr>\n",
       "  </tbody>\n",
       "</table>\n",
       "</div>"
      ],
      "text/plain": [
       "  vru+line  call_id  customer_id  priority type       date  \\\n",
       "0   AA0101    34536          0.0         0   PS 1999-02-01   \n",
       "1   AA0101    34537          0.0         0   PS 1999-02-01   \n",
       "2   AA0101    34538          0.0         0   NW 1999-02-01   \n",
       "\n",
       "            vru_entry            vru_exit    q_start     q_exit outcome  \\\n",
       "0 2023-02-26 07:02:47 2023-02-26 07:02:56 2023-02-26 2023-02-26   AGENT   \n",
       "1 2023-02-26 07:31:45 2023-02-26 07:31:55 2023-02-26 2023-02-26   AGENT   \n",
       "2 2023-02-26 07:54:38 2023-02-26 07:54:51 2023-02-26 2023-02-26   AGENT   \n",
       "\n",
       "            ser_start            ser_exit     server        vru_time q_time  \\\n",
       "0 2023-02-26 07:02:55 2023-02-26 07:05:41      DORIT 0 days 00:00:09 0 days   \n",
       "1 2023-02-26 07:31:54 2023-02-26 07:31:59  NO_SERVER 0 days 00:00:10 0 days   \n",
       "2 2023-02-26 07:54:49 2023-02-26 07:56:21       TOVA 0 days 00:00:13 0 days   \n",
       "\n",
       "         ser_time customer_type  penalty_on_qtime  \n",
       "0 0 days 00:02:46  Unidentified               0.0  \n",
       "1 0 days 00:00:05  Unidentified               0.0  \n",
       "2 0 days 00:01:32  Unidentified               0.0  "
      ]
     },
     "execution_count": 27,
     "metadata": {},
     "output_type": "execute_result"
    }
   ],
   "source": [
    "# Calculating penalty on q_time\n",
    "\n",
    "penalty_ls = [] \n",
    "\n",
    "for i in df.q_time:\n",
    "    if i <= datetime.timedelta(minutes=1):\n",
    "        penalty_ls.append(0)\n",
    "    elif i > datetime.timedelta(minutes=1) and i <= datetime.timedelta(minutes=3):\n",
    "        penalty_ls.append(0.5)\n",
    "    elif i > datetime.timedelta(minutes=3) and i <= datetime.timedelta(minutes=5):\n",
    "        penalty_ls.append(1)\n",
    "    elif i > datetime.timedelta(minutes=5):\n",
    "        penalty_ls.append(2)\n",
    "        \n",
    "df['penalty_on_qtime'] = penalty_ls\n",
    "df.head(3)"
   ]
  },
  {
   "cell_type": "code",
   "execution_count": 28,
   "id": "cc998649",
   "metadata": {},
   "outputs": [],
   "source": [
    "# Calculating total q_time penalty\n",
    "\n",
    "total_penalty_ls = [] # empty list\n",
    "\n",
    "\n",
    "# calculating the total penalty based on the q-time:\n",
    "for i in df.index:\n",
    "    total_penalty_ls.append(round((df['q_time'][i].total_seconds()/60)* (df['penalty_on_qtime'][i]),2))\n",
    "    \n",
    "# Adding a new column to the dataframe:\n",
    "df['total_qtime_penalty'] = total_penalty_ls"
   ]
  },
  {
   "cell_type": "code",
   "execution_count": 29,
   "id": "b8f95921",
   "metadata": {},
   "outputs": [
    {
     "data": {
      "text/html": [
       "<div>\n",
       "<style scoped>\n",
       "    .dataframe tbody tr th:only-of-type {\n",
       "        vertical-align: middle;\n",
       "    }\n",
       "\n",
       "    .dataframe tbody tr th {\n",
       "        vertical-align: top;\n",
       "    }\n",
       "\n",
       "    .dataframe thead th {\n",
       "        text-align: right;\n",
       "    }\n",
       "</style>\n",
       "<table border=\"1\" class=\"dataframe\">\n",
       "  <thead>\n",
       "    <tr style=\"text-align: right;\">\n",
       "      <th></th>\n",
       "      <th>vru+line</th>\n",
       "      <th>call_id</th>\n",
       "      <th>customer_id</th>\n",
       "      <th>priority</th>\n",
       "      <th>type</th>\n",
       "      <th>date</th>\n",
       "      <th>vru_entry</th>\n",
       "      <th>vru_exit</th>\n",
       "      <th>q_start</th>\n",
       "      <th>q_exit</th>\n",
       "      <th>outcome</th>\n",
       "      <th>ser_start</th>\n",
       "      <th>ser_exit</th>\n",
       "      <th>server</th>\n",
       "      <th>vru_time</th>\n",
       "      <th>q_time</th>\n",
       "      <th>ser_time</th>\n",
       "      <th>customer_type</th>\n",
       "      <th>penalty_on_qtime</th>\n",
       "      <th>total_qtime_penalty</th>\n",
       "    </tr>\n",
       "  </thead>\n",
       "  <tbody>\n",
       "    <tr>\n",
       "      <th>0</th>\n",
       "      <td>AA0101</td>\n",
       "      <td>34536</td>\n",
       "      <td>0.0</td>\n",
       "      <td>0</td>\n",
       "      <td>PS</td>\n",
       "      <td>1999-02-01</td>\n",
       "      <td>2023-02-26 07:02:47</td>\n",
       "      <td>2023-02-26 07:02:56</td>\n",
       "      <td>2023-02-26 00:00:00</td>\n",
       "      <td>2023-02-26 00:00:00</td>\n",
       "      <td>AGENT</td>\n",
       "      <td>2023-02-26 07:02:55</td>\n",
       "      <td>2023-02-26 07:05:41</td>\n",
       "      <td>DORIT</td>\n",
       "      <td>0 days 00:00:09</td>\n",
       "      <td>0 days 00:00:00</td>\n",
       "      <td>0 days 00:02:46</td>\n",
       "      <td>Unidentified</td>\n",
       "      <td>0.0</td>\n",
       "      <td>0.00</td>\n",
       "    </tr>\n",
       "    <tr>\n",
       "      <th>1</th>\n",
       "      <td>AA0101</td>\n",
       "      <td>34537</td>\n",
       "      <td>0.0</td>\n",
       "      <td>0</td>\n",
       "      <td>PS</td>\n",
       "      <td>1999-02-01</td>\n",
       "      <td>2023-02-26 07:31:45</td>\n",
       "      <td>2023-02-26 07:31:55</td>\n",
       "      <td>2023-02-26 00:00:00</td>\n",
       "      <td>2023-02-26 00:00:00</td>\n",
       "      <td>AGENT</td>\n",
       "      <td>2023-02-26 07:31:54</td>\n",
       "      <td>2023-02-26 07:31:59</td>\n",
       "      <td>NO_SERVER</td>\n",
       "      <td>0 days 00:00:10</td>\n",
       "      <td>0 days 00:00:00</td>\n",
       "      <td>0 days 00:00:05</td>\n",
       "      <td>Unidentified</td>\n",
       "      <td>0.0</td>\n",
       "      <td>0.00</td>\n",
       "    </tr>\n",
       "    <tr>\n",
       "      <th>2</th>\n",
       "      <td>AA0101</td>\n",
       "      <td>34538</td>\n",
       "      <td>0.0</td>\n",
       "      <td>0</td>\n",
       "      <td>NW</td>\n",
       "      <td>1999-02-01</td>\n",
       "      <td>2023-02-26 07:54:38</td>\n",
       "      <td>2023-02-26 07:54:51</td>\n",
       "      <td>2023-02-26 00:00:00</td>\n",
       "      <td>2023-02-26 00:00:00</td>\n",
       "      <td>AGENT</td>\n",
       "      <td>2023-02-26 07:54:49</td>\n",
       "      <td>2023-02-26 07:56:21</td>\n",
       "      <td>TOVA</td>\n",
       "      <td>0 days 00:00:13</td>\n",
       "      <td>0 days 00:00:00</td>\n",
       "      <td>0 days 00:01:32</td>\n",
       "      <td>Unidentified</td>\n",
       "      <td>0.0</td>\n",
       "      <td>0.00</td>\n",
       "    </tr>\n",
       "    <tr>\n",
       "      <th>3</th>\n",
       "      <td>AA0101</td>\n",
       "      <td>34539</td>\n",
       "      <td>23317894.0</td>\n",
       "      <td>2</td>\n",
       "      <td>PS</td>\n",
       "      <td>1999-02-01</td>\n",
       "      <td>2023-02-26 08:09:16</td>\n",
       "      <td>2023-02-26 08:09:22</td>\n",
       "      <td>2023-02-26 08:09:22</td>\n",
       "      <td>2023-02-26 08:09:27</td>\n",
       "      <td>HANG</td>\n",
       "      <td>2023-02-26 00:00:00</td>\n",
       "      <td>2023-02-26 00:00:00</td>\n",
       "      <td>NO_SERVER</td>\n",
       "      <td>0 days 00:00:06</td>\n",
       "      <td>0 days 00:00:05</td>\n",
       "      <td>0 days 00:00:00</td>\n",
       "      <td>Priority</td>\n",
       "      <td>0.0</td>\n",
       "      <td>0.00</td>\n",
       "    </tr>\n",
       "    <tr>\n",
       "      <th>4</th>\n",
       "      <td>AA0101</td>\n",
       "      <td>34540</td>\n",
       "      <td>48178511.0</td>\n",
       "      <td>2</td>\n",
       "      <td>PS</td>\n",
       "      <td>1999-02-01</td>\n",
       "      <td>2023-02-26 08:19:42</td>\n",
       "      <td>2023-02-26 08:19:47</td>\n",
       "      <td>2023-02-26 08:19:47</td>\n",
       "      <td>2023-02-26 08:20:21</td>\n",
       "      <td>AGENT</td>\n",
       "      <td>2023-02-26 08:20:20</td>\n",
       "      <td>2023-02-26 08:22:04</td>\n",
       "      <td>MICHAL</td>\n",
       "      <td>0 days 00:00:05</td>\n",
       "      <td>0 days 00:00:34</td>\n",
       "      <td>0 days 00:01:44</td>\n",
       "      <td>Priority</td>\n",
       "      <td>0.0</td>\n",
       "      <td>0.00</td>\n",
       "    </tr>\n",
       "    <tr>\n",
       "      <th>...</th>\n",
       "      <td>...</td>\n",
       "      <td>...</td>\n",
       "      <td>...</td>\n",
       "      <td>...</td>\n",
       "      <td>...</td>\n",
       "      <td>...</td>\n",
       "      <td>...</td>\n",
       "      <td>...</td>\n",
       "      <td>...</td>\n",
       "      <td>...</td>\n",
       "      <td>...</td>\n",
       "      <td>...</td>\n",
       "      <td>...</td>\n",
       "      <td>...</td>\n",
       "      <td>...</td>\n",
       "      <td>...</td>\n",
       "      <td>...</td>\n",
       "      <td>...</td>\n",
       "      <td>...</td>\n",
       "      <td>...</td>\n",
       "    </tr>\n",
       "    <tr>\n",
       "      <th>33339</th>\n",
       "      <td>AA0216</td>\n",
       "      <td>5607</td>\n",
       "      <td>0.0</td>\n",
       "      <td>0</td>\n",
       "      <td>IN</td>\n",
       "      <td>1999-02-26</td>\n",
       "      <td>2023-02-26 14:14:43</td>\n",
       "      <td>2023-02-26 14:15:05</td>\n",
       "      <td>2023-02-26 00:00:00</td>\n",
       "      <td>2023-02-26 00:00:00</td>\n",
       "      <td>HANG</td>\n",
       "      <td>2023-02-26 00:00:00</td>\n",
       "      <td>2023-02-26 00:00:00</td>\n",
       "      <td>NO_SERVER</td>\n",
       "      <td>0 days 00:00:22</td>\n",
       "      <td>0 days 00:00:00</td>\n",
       "      <td>0 days 00:00:00</td>\n",
       "      <td>Unidentified</td>\n",
       "      <td>0.0</td>\n",
       "      <td>0.00</td>\n",
       "    </tr>\n",
       "    <tr>\n",
       "      <th>33340</th>\n",
       "      <td>AA0216</td>\n",
       "      <td>5608</td>\n",
       "      <td>0.0</td>\n",
       "      <td>0</td>\n",
       "      <td>IN</td>\n",
       "      <td>1999-02-26</td>\n",
       "      <td>2023-02-26 14:33:45</td>\n",
       "      <td>2023-02-26 14:33:50</td>\n",
       "      <td>2023-02-26 00:00:00</td>\n",
       "      <td>2023-02-26 00:00:00</td>\n",
       "      <td>HANG</td>\n",
       "      <td>2023-02-26 00:00:00</td>\n",
       "      <td>2023-02-26 00:00:00</td>\n",
       "      <td>NO_SERVER</td>\n",
       "      <td>0 days 00:00:05</td>\n",
       "      <td>0 days 00:00:00</td>\n",
       "      <td>0 days 00:00:00</td>\n",
       "      <td>Unidentified</td>\n",
       "      <td>0.0</td>\n",
       "      <td>0.00</td>\n",
       "    </tr>\n",
       "    <tr>\n",
       "      <th>33341</th>\n",
       "      <td>AA0216</td>\n",
       "      <td>5609</td>\n",
       "      <td>0.0</td>\n",
       "      <td>0</td>\n",
       "      <td>IN</td>\n",
       "      <td>1999-02-28</td>\n",
       "      <td>2023-02-26 11:29:39</td>\n",
       "      <td>2023-02-26 11:29:48</td>\n",
       "      <td>2023-02-26 11:29:48</td>\n",
       "      <td>2023-02-26 11:33:39</td>\n",
       "      <td>HANG</td>\n",
       "      <td>2023-02-26 00:00:00</td>\n",
       "      <td>2023-02-26 00:00:00</td>\n",
       "      <td>NO_SERVER</td>\n",
       "      <td>0 days 00:00:09</td>\n",
       "      <td>0 days 00:03:51</td>\n",
       "      <td>0 days 00:00:00</td>\n",
       "      <td>Unidentified</td>\n",
       "      <td>1.0</td>\n",
       "      <td>3.85</td>\n",
       "    </tr>\n",
       "    <tr>\n",
       "      <th>33342</th>\n",
       "      <td>AA0216</td>\n",
       "      <td>5610</td>\n",
       "      <td>0.0</td>\n",
       "      <td>0</td>\n",
       "      <td>IN</td>\n",
       "      <td>1999-02-28</td>\n",
       "      <td>2023-02-26 12:18:20</td>\n",
       "      <td>2023-02-26 12:18:30</td>\n",
       "      <td>2023-02-26 12:18:30</td>\n",
       "      <td>2023-02-26 12:18:49</td>\n",
       "      <td>AGENT</td>\n",
       "      <td>2023-02-26 12:18:48</td>\n",
       "      <td>2023-02-26 12:22:54</td>\n",
       "      <td>YITZ</td>\n",
       "      <td>0 days 00:00:10</td>\n",
       "      <td>0 days 00:00:19</td>\n",
       "      <td>0 days 00:04:06</td>\n",
       "      <td>Unidentified</td>\n",
       "      <td>0.0</td>\n",
       "      <td>0.00</td>\n",
       "    </tr>\n",
       "    <tr>\n",
       "      <th>33343</th>\n",
       "      <td>AA0216</td>\n",
       "      <td>5611</td>\n",
       "      <td>0.0</td>\n",
       "      <td>0</td>\n",
       "      <td>IN</td>\n",
       "      <td>1999-02-28</td>\n",
       "      <td>2023-02-26 16:01:22</td>\n",
       "      <td>2023-02-26 16:01:32</td>\n",
       "      <td>2023-02-26 16:01:32</td>\n",
       "      <td>2023-02-26 16:09:25</td>\n",
       "      <td>HANG</td>\n",
       "      <td>2023-02-26 00:00:00</td>\n",
       "      <td>2023-02-26 00:00:00</td>\n",
       "      <td>NO_SERVER</td>\n",
       "      <td>0 days 00:00:10</td>\n",
       "      <td>0 days 00:07:53</td>\n",
       "      <td>0 days 00:00:00</td>\n",
       "      <td>Unidentified</td>\n",
       "      <td>2.0</td>\n",
       "      <td>15.77</td>\n",
       "    </tr>\n",
       "  </tbody>\n",
       "</table>\n",
       "<p>33344 rows × 20 columns</p>\n",
       "</div>"
      ],
      "text/plain": [
       "      vru+line  call_id  customer_id  priority type       date  \\\n",
       "0       AA0101    34536          0.0         0   PS 1999-02-01   \n",
       "1       AA0101    34537          0.0         0   PS 1999-02-01   \n",
       "2       AA0101    34538          0.0         0   NW 1999-02-01   \n",
       "3       AA0101    34539   23317894.0         2   PS 1999-02-01   \n",
       "4       AA0101    34540   48178511.0         2   PS 1999-02-01   \n",
       "...        ...      ...          ...       ...  ...        ...   \n",
       "33339   AA0216     5607          0.0         0   IN 1999-02-26   \n",
       "33340   AA0216     5608          0.0         0   IN 1999-02-26   \n",
       "33341   AA0216     5609          0.0         0   IN 1999-02-28   \n",
       "33342   AA0216     5610          0.0         0   IN 1999-02-28   \n",
       "33343   AA0216     5611          0.0         0   IN 1999-02-28   \n",
       "\n",
       "                vru_entry            vru_exit             q_start  \\\n",
       "0     2023-02-26 07:02:47 2023-02-26 07:02:56 2023-02-26 00:00:00   \n",
       "1     2023-02-26 07:31:45 2023-02-26 07:31:55 2023-02-26 00:00:00   \n",
       "2     2023-02-26 07:54:38 2023-02-26 07:54:51 2023-02-26 00:00:00   \n",
       "3     2023-02-26 08:09:16 2023-02-26 08:09:22 2023-02-26 08:09:22   \n",
       "4     2023-02-26 08:19:42 2023-02-26 08:19:47 2023-02-26 08:19:47   \n",
       "...                   ...                 ...                 ...   \n",
       "33339 2023-02-26 14:14:43 2023-02-26 14:15:05 2023-02-26 00:00:00   \n",
       "33340 2023-02-26 14:33:45 2023-02-26 14:33:50 2023-02-26 00:00:00   \n",
       "33341 2023-02-26 11:29:39 2023-02-26 11:29:48 2023-02-26 11:29:48   \n",
       "33342 2023-02-26 12:18:20 2023-02-26 12:18:30 2023-02-26 12:18:30   \n",
       "33343 2023-02-26 16:01:22 2023-02-26 16:01:32 2023-02-26 16:01:32   \n",
       "\n",
       "                   q_exit outcome           ser_start            ser_exit  \\\n",
       "0     2023-02-26 00:00:00   AGENT 2023-02-26 07:02:55 2023-02-26 07:05:41   \n",
       "1     2023-02-26 00:00:00   AGENT 2023-02-26 07:31:54 2023-02-26 07:31:59   \n",
       "2     2023-02-26 00:00:00   AGENT 2023-02-26 07:54:49 2023-02-26 07:56:21   \n",
       "3     2023-02-26 08:09:27    HANG 2023-02-26 00:00:00 2023-02-26 00:00:00   \n",
       "4     2023-02-26 08:20:21   AGENT 2023-02-26 08:20:20 2023-02-26 08:22:04   \n",
       "...                   ...     ...                 ...                 ...   \n",
       "33339 2023-02-26 00:00:00    HANG 2023-02-26 00:00:00 2023-02-26 00:00:00   \n",
       "33340 2023-02-26 00:00:00    HANG 2023-02-26 00:00:00 2023-02-26 00:00:00   \n",
       "33341 2023-02-26 11:33:39    HANG 2023-02-26 00:00:00 2023-02-26 00:00:00   \n",
       "33342 2023-02-26 12:18:49   AGENT 2023-02-26 12:18:48 2023-02-26 12:22:54   \n",
       "33343 2023-02-26 16:09:25    HANG 2023-02-26 00:00:00 2023-02-26 00:00:00   \n",
       "\n",
       "          server        vru_time          q_time        ser_time  \\\n",
       "0          DORIT 0 days 00:00:09 0 days 00:00:00 0 days 00:02:46   \n",
       "1      NO_SERVER 0 days 00:00:10 0 days 00:00:00 0 days 00:00:05   \n",
       "2           TOVA 0 days 00:00:13 0 days 00:00:00 0 days 00:01:32   \n",
       "3      NO_SERVER 0 days 00:00:06 0 days 00:00:05 0 days 00:00:00   \n",
       "4         MICHAL 0 days 00:00:05 0 days 00:00:34 0 days 00:01:44   \n",
       "...          ...             ...             ...             ...   \n",
       "33339  NO_SERVER 0 days 00:00:22 0 days 00:00:00 0 days 00:00:00   \n",
       "33340  NO_SERVER 0 days 00:00:05 0 days 00:00:00 0 days 00:00:00   \n",
       "33341  NO_SERVER 0 days 00:00:09 0 days 00:03:51 0 days 00:00:00   \n",
       "33342       YITZ 0 days 00:00:10 0 days 00:00:19 0 days 00:04:06   \n",
       "33343  NO_SERVER 0 days 00:00:10 0 days 00:07:53 0 days 00:00:00   \n",
       "\n",
       "      customer_type  penalty_on_qtime  total_qtime_penalty  \n",
       "0      Unidentified               0.0                 0.00  \n",
       "1      Unidentified               0.0                 0.00  \n",
       "2      Unidentified               0.0                 0.00  \n",
       "3          Priority               0.0                 0.00  \n",
       "4          Priority               0.0                 0.00  \n",
       "...             ...               ...                  ...  \n",
       "33339  Unidentified               0.0                 0.00  \n",
       "33340  Unidentified               0.0                 0.00  \n",
       "33341  Unidentified               1.0                 3.85  \n",
       "33342  Unidentified               0.0                 0.00  \n",
       "33343  Unidentified               2.0                15.77  \n",
       "\n",
       "[33344 rows x 20 columns]"
      ]
     },
     "execution_count": 29,
     "metadata": {},
     "output_type": "execute_result"
    }
   ],
   "source": [
    "df"
   ]
  },
  {
   "cell_type": "markdown",
   "id": "eb1fb073",
   "metadata": {},
   "source": [
    "# -------------------------------------------------------------------------------------------------------------"
   ]
  },
  {
   "cell_type": "markdown",
   "id": "23a66a49",
   "metadata": {},
   "source": [
    "# Calculating Call-Disconnection Penalty :"
   ]
  },
  {
   "cell_type": "code",
   "execution_count": 30,
   "id": "6ccfc7bc",
   "metadata": {},
   "outputs": [],
   "source": [
    "call_dis_ls = []\n",
    "\n",
    "\n",
    "# Calculating penalty based on call disconnection:\n",
    "for i in df.index:\n",
    "    if df[['outcome','server']].iloc[i][0] == 'AGENT' and df[['outcome','server']].iloc[i][1] == 'NO_SERVER':\n",
    "        call_dis_ls.append(10)\n",
    "    elif df[['outcome','server']].iloc[i][0] == 'HANG' and df[['outcome','server']].iloc[i][1] == 'NO_SERVER':\n",
    "        call_dis_ls.append(5)\n",
    "    else:\n",
    "        call_dis_ls.append(0)\n",
    "        \n",
    "        \n",
    "# Adding a new column to the dataframe:\n",
    "df['call_dis_penalty'] = call_dis_ls"
   ]
  },
  {
   "cell_type": "code",
   "execution_count": 31,
   "id": "37b2953a",
   "metadata": {},
   "outputs": [],
   "source": [
    "df['total_penalty'] = df['total_qtime_penalty'] + df['call_dis_penalty']"
   ]
  },
  {
   "cell_type": "code",
   "execution_count": 32,
   "id": "0c7d232b",
   "metadata": {},
   "outputs": [
    {
     "data": {
      "text/html": [
       "<div>\n",
       "<style scoped>\n",
       "    .dataframe tbody tr th:only-of-type {\n",
       "        vertical-align: middle;\n",
       "    }\n",
       "\n",
       "    .dataframe tbody tr th {\n",
       "        vertical-align: top;\n",
       "    }\n",
       "\n",
       "    .dataframe thead th {\n",
       "        text-align: right;\n",
       "    }\n",
       "</style>\n",
       "<table border=\"1\" class=\"dataframe\">\n",
       "  <thead>\n",
       "    <tr style=\"text-align: right;\">\n",
       "      <th></th>\n",
       "      <th>vru+line</th>\n",
       "      <th>call_id</th>\n",
       "      <th>customer_id</th>\n",
       "      <th>priority</th>\n",
       "      <th>type</th>\n",
       "      <th>date</th>\n",
       "      <th>vru_entry</th>\n",
       "      <th>vru_exit</th>\n",
       "      <th>q_start</th>\n",
       "      <th>q_exit</th>\n",
       "      <th>...</th>\n",
       "      <th>ser_exit</th>\n",
       "      <th>server</th>\n",
       "      <th>vru_time</th>\n",
       "      <th>q_time</th>\n",
       "      <th>ser_time</th>\n",
       "      <th>customer_type</th>\n",
       "      <th>penalty_on_qtime</th>\n",
       "      <th>total_qtime_penalty</th>\n",
       "      <th>call_dis_penalty</th>\n",
       "      <th>total_penalty</th>\n",
       "    </tr>\n",
       "  </thead>\n",
       "  <tbody>\n",
       "    <tr>\n",
       "      <th>0</th>\n",
       "      <td>AA0101</td>\n",
       "      <td>34536</td>\n",
       "      <td>0.0</td>\n",
       "      <td>0</td>\n",
       "      <td>PS</td>\n",
       "      <td>1999-02-01</td>\n",
       "      <td>2023-02-26 07:02:47</td>\n",
       "      <td>2023-02-26 07:02:56</td>\n",
       "      <td>2023-02-26 00:00:00</td>\n",
       "      <td>2023-02-26 00:00:00</td>\n",
       "      <td>...</td>\n",
       "      <td>2023-02-26 07:05:41</td>\n",
       "      <td>DORIT</td>\n",
       "      <td>0 days 00:00:09</td>\n",
       "      <td>0 days 00:00:00</td>\n",
       "      <td>0 days 00:02:46</td>\n",
       "      <td>Unidentified</td>\n",
       "      <td>0.0</td>\n",
       "      <td>0.00</td>\n",
       "      <td>0</td>\n",
       "      <td>0.00</td>\n",
       "    </tr>\n",
       "    <tr>\n",
       "      <th>1</th>\n",
       "      <td>AA0101</td>\n",
       "      <td>34537</td>\n",
       "      <td>0.0</td>\n",
       "      <td>0</td>\n",
       "      <td>PS</td>\n",
       "      <td>1999-02-01</td>\n",
       "      <td>2023-02-26 07:31:45</td>\n",
       "      <td>2023-02-26 07:31:55</td>\n",
       "      <td>2023-02-26 00:00:00</td>\n",
       "      <td>2023-02-26 00:00:00</td>\n",
       "      <td>...</td>\n",
       "      <td>2023-02-26 07:31:59</td>\n",
       "      <td>NO_SERVER</td>\n",
       "      <td>0 days 00:00:10</td>\n",
       "      <td>0 days 00:00:00</td>\n",
       "      <td>0 days 00:00:05</td>\n",
       "      <td>Unidentified</td>\n",
       "      <td>0.0</td>\n",
       "      <td>0.00</td>\n",
       "      <td>10</td>\n",
       "      <td>10.00</td>\n",
       "    </tr>\n",
       "    <tr>\n",
       "      <th>2</th>\n",
       "      <td>AA0101</td>\n",
       "      <td>34538</td>\n",
       "      <td>0.0</td>\n",
       "      <td>0</td>\n",
       "      <td>NW</td>\n",
       "      <td>1999-02-01</td>\n",
       "      <td>2023-02-26 07:54:38</td>\n",
       "      <td>2023-02-26 07:54:51</td>\n",
       "      <td>2023-02-26 00:00:00</td>\n",
       "      <td>2023-02-26 00:00:00</td>\n",
       "      <td>...</td>\n",
       "      <td>2023-02-26 07:56:21</td>\n",
       "      <td>TOVA</td>\n",
       "      <td>0 days 00:00:13</td>\n",
       "      <td>0 days 00:00:00</td>\n",
       "      <td>0 days 00:01:32</td>\n",
       "      <td>Unidentified</td>\n",
       "      <td>0.0</td>\n",
       "      <td>0.00</td>\n",
       "      <td>0</td>\n",
       "      <td>0.00</td>\n",
       "    </tr>\n",
       "    <tr>\n",
       "      <th>3</th>\n",
       "      <td>AA0101</td>\n",
       "      <td>34539</td>\n",
       "      <td>23317894.0</td>\n",
       "      <td>2</td>\n",
       "      <td>PS</td>\n",
       "      <td>1999-02-01</td>\n",
       "      <td>2023-02-26 08:09:16</td>\n",
       "      <td>2023-02-26 08:09:22</td>\n",
       "      <td>2023-02-26 08:09:22</td>\n",
       "      <td>2023-02-26 08:09:27</td>\n",
       "      <td>...</td>\n",
       "      <td>2023-02-26 00:00:00</td>\n",
       "      <td>NO_SERVER</td>\n",
       "      <td>0 days 00:00:06</td>\n",
       "      <td>0 days 00:00:05</td>\n",
       "      <td>0 days 00:00:00</td>\n",
       "      <td>Priority</td>\n",
       "      <td>0.0</td>\n",
       "      <td>0.00</td>\n",
       "      <td>5</td>\n",
       "      <td>5.00</td>\n",
       "    </tr>\n",
       "    <tr>\n",
       "      <th>4</th>\n",
       "      <td>AA0101</td>\n",
       "      <td>34540</td>\n",
       "      <td>48178511.0</td>\n",
       "      <td>2</td>\n",
       "      <td>PS</td>\n",
       "      <td>1999-02-01</td>\n",
       "      <td>2023-02-26 08:19:42</td>\n",
       "      <td>2023-02-26 08:19:47</td>\n",
       "      <td>2023-02-26 08:19:47</td>\n",
       "      <td>2023-02-26 08:20:21</td>\n",
       "      <td>...</td>\n",
       "      <td>2023-02-26 08:22:04</td>\n",
       "      <td>MICHAL</td>\n",
       "      <td>0 days 00:00:05</td>\n",
       "      <td>0 days 00:00:34</td>\n",
       "      <td>0 days 00:01:44</td>\n",
       "      <td>Priority</td>\n",
       "      <td>0.0</td>\n",
       "      <td>0.00</td>\n",
       "      <td>0</td>\n",
       "      <td>0.00</td>\n",
       "    </tr>\n",
       "    <tr>\n",
       "      <th>...</th>\n",
       "      <td>...</td>\n",
       "      <td>...</td>\n",
       "      <td>...</td>\n",
       "      <td>...</td>\n",
       "      <td>...</td>\n",
       "      <td>...</td>\n",
       "      <td>...</td>\n",
       "      <td>...</td>\n",
       "      <td>...</td>\n",
       "      <td>...</td>\n",
       "      <td>...</td>\n",
       "      <td>...</td>\n",
       "      <td>...</td>\n",
       "      <td>...</td>\n",
       "      <td>...</td>\n",
       "      <td>...</td>\n",
       "      <td>...</td>\n",
       "      <td>...</td>\n",
       "      <td>...</td>\n",
       "      <td>...</td>\n",
       "      <td>...</td>\n",
       "    </tr>\n",
       "    <tr>\n",
       "      <th>33339</th>\n",
       "      <td>AA0216</td>\n",
       "      <td>5607</td>\n",
       "      <td>0.0</td>\n",
       "      <td>0</td>\n",
       "      <td>IN</td>\n",
       "      <td>1999-02-26</td>\n",
       "      <td>2023-02-26 14:14:43</td>\n",
       "      <td>2023-02-26 14:15:05</td>\n",
       "      <td>2023-02-26 00:00:00</td>\n",
       "      <td>2023-02-26 00:00:00</td>\n",
       "      <td>...</td>\n",
       "      <td>2023-02-26 00:00:00</td>\n",
       "      <td>NO_SERVER</td>\n",
       "      <td>0 days 00:00:22</td>\n",
       "      <td>0 days 00:00:00</td>\n",
       "      <td>0 days 00:00:00</td>\n",
       "      <td>Unidentified</td>\n",
       "      <td>0.0</td>\n",
       "      <td>0.00</td>\n",
       "      <td>5</td>\n",
       "      <td>5.00</td>\n",
       "    </tr>\n",
       "    <tr>\n",
       "      <th>33340</th>\n",
       "      <td>AA0216</td>\n",
       "      <td>5608</td>\n",
       "      <td>0.0</td>\n",
       "      <td>0</td>\n",
       "      <td>IN</td>\n",
       "      <td>1999-02-26</td>\n",
       "      <td>2023-02-26 14:33:45</td>\n",
       "      <td>2023-02-26 14:33:50</td>\n",
       "      <td>2023-02-26 00:00:00</td>\n",
       "      <td>2023-02-26 00:00:00</td>\n",
       "      <td>...</td>\n",
       "      <td>2023-02-26 00:00:00</td>\n",
       "      <td>NO_SERVER</td>\n",
       "      <td>0 days 00:00:05</td>\n",
       "      <td>0 days 00:00:00</td>\n",
       "      <td>0 days 00:00:00</td>\n",
       "      <td>Unidentified</td>\n",
       "      <td>0.0</td>\n",
       "      <td>0.00</td>\n",
       "      <td>5</td>\n",
       "      <td>5.00</td>\n",
       "    </tr>\n",
       "    <tr>\n",
       "      <th>33341</th>\n",
       "      <td>AA0216</td>\n",
       "      <td>5609</td>\n",
       "      <td>0.0</td>\n",
       "      <td>0</td>\n",
       "      <td>IN</td>\n",
       "      <td>1999-02-28</td>\n",
       "      <td>2023-02-26 11:29:39</td>\n",
       "      <td>2023-02-26 11:29:48</td>\n",
       "      <td>2023-02-26 11:29:48</td>\n",
       "      <td>2023-02-26 11:33:39</td>\n",
       "      <td>...</td>\n",
       "      <td>2023-02-26 00:00:00</td>\n",
       "      <td>NO_SERVER</td>\n",
       "      <td>0 days 00:00:09</td>\n",
       "      <td>0 days 00:03:51</td>\n",
       "      <td>0 days 00:00:00</td>\n",
       "      <td>Unidentified</td>\n",
       "      <td>1.0</td>\n",
       "      <td>3.85</td>\n",
       "      <td>5</td>\n",
       "      <td>8.85</td>\n",
       "    </tr>\n",
       "    <tr>\n",
       "      <th>33342</th>\n",
       "      <td>AA0216</td>\n",
       "      <td>5610</td>\n",
       "      <td>0.0</td>\n",
       "      <td>0</td>\n",
       "      <td>IN</td>\n",
       "      <td>1999-02-28</td>\n",
       "      <td>2023-02-26 12:18:20</td>\n",
       "      <td>2023-02-26 12:18:30</td>\n",
       "      <td>2023-02-26 12:18:30</td>\n",
       "      <td>2023-02-26 12:18:49</td>\n",
       "      <td>...</td>\n",
       "      <td>2023-02-26 12:22:54</td>\n",
       "      <td>YITZ</td>\n",
       "      <td>0 days 00:00:10</td>\n",
       "      <td>0 days 00:00:19</td>\n",
       "      <td>0 days 00:04:06</td>\n",
       "      <td>Unidentified</td>\n",
       "      <td>0.0</td>\n",
       "      <td>0.00</td>\n",
       "      <td>0</td>\n",
       "      <td>0.00</td>\n",
       "    </tr>\n",
       "    <tr>\n",
       "      <th>33343</th>\n",
       "      <td>AA0216</td>\n",
       "      <td>5611</td>\n",
       "      <td>0.0</td>\n",
       "      <td>0</td>\n",
       "      <td>IN</td>\n",
       "      <td>1999-02-28</td>\n",
       "      <td>2023-02-26 16:01:22</td>\n",
       "      <td>2023-02-26 16:01:32</td>\n",
       "      <td>2023-02-26 16:01:32</td>\n",
       "      <td>2023-02-26 16:09:25</td>\n",
       "      <td>...</td>\n",
       "      <td>2023-02-26 00:00:00</td>\n",
       "      <td>NO_SERVER</td>\n",
       "      <td>0 days 00:00:10</td>\n",
       "      <td>0 days 00:07:53</td>\n",
       "      <td>0 days 00:00:00</td>\n",
       "      <td>Unidentified</td>\n",
       "      <td>2.0</td>\n",
       "      <td>15.77</td>\n",
       "      <td>5</td>\n",
       "      <td>20.77</td>\n",
       "    </tr>\n",
       "  </tbody>\n",
       "</table>\n",
       "<p>33344 rows × 22 columns</p>\n",
       "</div>"
      ],
      "text/plain": [
       "      vru+line  call_id  customer_id  priority type       date  \\\n",
       "0       AA0101    34536          0.0         0   PS 1999-02-01   \n",
       "1       AA0101    34537          0.0         0   PS 1999-02-01   \n",
       "2       AA0101    34538          0.0         0   NW 1999-02-01   \n",
       "3       AA0101    34539   23317894.0         2   PS 1999-02-01   \n",
       "4       AA0101    34540   48178511.0         2   PS 1999-02-01   \n",
       "...        ...      ...          ...       ...  ...        ...   \n",
       "33339   AA0216     5607          0.0         0   IN 1999-02-26   \n",
       "33340   AA0216     5608          0.0         0   IN 1999-02-26   \n",
       "33341   AA0216     5609          0.0         0   IN 1999-02-28   \n",
       "33342   AA0216     5610          0.0         0   IN 1999-02-28   \n",
       "33343   AA0216     5611          0.0         0   IN 1999-02-28   \n",
       "\n",
       "                vru_entry            vru_exit             q_start  \\\n",
       "0     2023-02-26 07:02:47 2023-02-26 07:02:56 2023-02-26 00:00:00   \n",
       "1     2023-02-26 07:31:45 2023-02-26 07:31:55 2023-02-26 00:00:00   \n",
       "2     2023-02-26 07:54:38 2023-02-26 07:54:51 2023-02-26 00:00:00   \n",
       "3     2023-02-26 08:09:16 2023-02-26 08:09:22 2023-02-26 08:09:22   \n",
       "4     2023-02-26 08:19:42 2023-02-26 08:19:47 2023-02-26 08:19:47   \n",
       "...                   ...                 ...                 ...   \n",
       "33339 2023-02-26 14:14:43 2023-02-26 14:15:05 2023-02-26 00:00:00   \n",
       "33340 2023-02-26 14:33:45 2023-02-26 14:33:50 2023-02-26 00:00:00   \n",
       "33341 2023-02-26 11:29:39 2023-02-26 11:29:48 2023-02-26 11:29:48   \n",
       "33342 2023-02-26 12:18:20 2023-02-26 12:18:30 2023-02-26 12:18:30   \n",
       "33343 2023-02-26 16:01:22 2023-02-26 16:01:32 2023-02-26 16:01:32   \n",
       "\n",
       "                   q_exit  ...            ser_exit     server        vru_time  \\\n",
       "0     2023-02-26 00:00:00  ... 2023-02-26 07:05:41      DORIT 0 days 00:00:09   \n",
       "1     2023-02-26 00:00:00  ... 2023-02-26 07:31:59  NO_SERVER 0 days 00:00:10   \n",
       "2     2023-02-26 00:00:00  ... 2023-02-26 07:56:21       TOVA 0 days 00:00:13   \n",
       "3     2023-02-26 08:09:27  ... 2023-02-26 00:00:00  NO_SERVER 0 days 00:00:06   \n",
       "4     2023-02-26 08:20:21  ... 2023-02-26 08:22:04     MICHAL 0 days 00:00:05   \n",
       "...                   ...  ...                 ...        ...             ...   \n",
       "33339 2023-02-26 00:00:00  ... 2023-02-26 00:00:00  NO_SERVER 0 days 00:00:22   \n",
       "33340 2023-02-26 00:00:00  ... 2023-02-26 00:00:00  NO_SERVER 0 days 00:00:05   \n",
       "33341 2023-02-26 11:33:39  ... 2023-02-26 00:00:00  NO_SERVER 0 days 00:00:09   \n",
       "33342 2023-02-26 12:18:49  ... 2023-02-26 12:22:54       YITZ 0 days 00:00:10   \n",
       "33343 2023-02-26 16:09:25  ... 2023-02-26 00:00:00  NO_SERVER 0 days 00:00:10   \n",
       "\n",
       "               q_time        ser_time customer_type penalty_on_qtime  \\\n",
       "0     0 days 00:00:00 0 days 00:02:46  Unidentified              0.0   \n",
       "1     0 days 00:00:00 0 days 00:00:05  Unidentified              0.0   \n",
       "2     0 days 00:00:00 0 days 00:01:32  Unidentified              0.0   \n",
       "3     0 days 00:00:05 0 days 00:00:00      Priority              0.0   \n",
       "4     0 days 00:00:34 0 days 00:01:44      Priority              0.0   \n",
       "...               ...             ...           ...              ...   \n",
       "33339 0 days 00:00:00 0 days 00:00:00  Unidentified              0.0   \n",
       "33340 0 days 00:00:00 0 days 00:00:00  Unidentified              0.0   \n",
       "33341 0 days 00:03:51 0 days 00:00:00  Unidentified              1.0   \n",
       "33342 0 days 00:00:19 0 days 00:04:06  Unidentified              0.0   \n",
       "33343 0 days 00:07:53 0 days 00:00:00  Unidentified              2.0   \n",
       "\n",
       "      total_qtime_penalty  call_dis_penalty  total_penalty  \n",
       "0                    0.00                 0           0.00  \n",
       "1                    0.00                10          10.00  \n",
       "2                    0.00                 0           0.00  \n",
       "3                    0.00                 5           5.00  \n",
       "4                    0.00                 0           0.00  \n",
       "...                   ...               ...            ...  \n",
       "33339                0.00                 5           5.00  \n",
       "33340                0.00                 5           5.00  \n",
       "33341                3.85                 5           8.85  \n",
       "33342                0.00                 0           0.00  \n",
       "33343               15.77                 5          20.77  \n",
       "\n",
       "[33344 rows x 22 columns]"
      ]
     },
     "execution_count": 32,
     "metadata": {},
     "output_type": "execute_result"
    }
   ],
   "source": [
    "df"
   ]
  },
  {
   "cell_type": "markdown",
   "id": "3c3ae8e6",
   "metadata": {},
   "source": [
    "# --------------------------------------------------------------------------------------------------------------"
   ]
  },
  {
   "cell_type": "markdown",
   "id": "968a0353",
   "metadata": {},
   "source": [
    "# Now, we have all the values that are needed to calculate the payable amount"
   ]
  },
  {
   "cell_type": "code",
   "execution_count": 33,
   "id": "eb4ec02f",
   "metadata": {},
   "outputs": [],
   "source": [
    "fixed_fee = 100000\n",
    "tp_usage = 20000"
   ]
  },
  {
   "cell_type": "code",
   "execution_count": 34,
   "id": "a3431dce",
   "metadata": {},
   "outputs": [
    {
     "data": {
      "text/plain": [
       "114453.5"
      ]
     },
     "execution_count": 34,
     "metadata": {},
     "output_type": "execute_result"
    }
   ],
   "source": [
    "# VRU Charge:\n",
    "vru_amount"
   ]
  },
  {
   "cell_type": "code",
   "execution_count": 35,
   "id": "994296f6",
   "metadata": {},
   "outputs": [
    {
     "data": {
      "text/plain": [
       "1930617.0"
      ]
     },
     "execution_count": 35,
     "metadata": {},
     "output_type": "execute_result"
    }
   ],
   "source": [
    "# Service Time Charge:\n",
    "st_amount"
   ]
  },
  {
   "cell_type": "code",
   "execution_count": 36,
   "id": "8185c525",
   "metadata": {},
   "outputs": [],
   "source": [
    "# Total penalty after adding qtime penalty and call disconnection penalty:\n",
    "total_penalty = df['total_penalty'].sum()"
   ]
  },
  {
   "cell_type": "markdown",
   "id": "2c2f9e2e",
   "metadata": {},
   "source": [
    "# ------------------------------------------------------------------------------------------------"
   ]
  },
  {
   "cell_type": "markdown",
   "id": "0266281c",
   "metadata": {},
   "source": [
    "# Thus, the payble amount to CallIn PLC:"
   ]
  },
  {
   "cell_type": "code",
   "execution_count": 37,
   "id": "a9a04aeb",
   "metadata": {},
   "outputs": [
    {
     "data": {
      "text/plain": [
       "2115070.37"
      ]
     },
     "execution_count": 37,
     "metadata": {},
     "output_type": "execute_result"
    }
   ],
   "source": [
    "# Payble amount to CallIn PLC:\n",
    "\n",
    "total_payable= (fixed_fee + tp_usage + vru_amount + st_amount) - (total_penalty)\n",
    "\n",
    "total_payable"
   ]
  },
  {
   "cell_type": "markdown",
   "id": "baadc834",
   "metadata": {},
   "source": [
    "# ---------------------------------------------------------------------------------------------------------------"
   ]
  },
  {
   "cell_type": "code",
   "execution_count": 38,
   "id": "c220f3d6",
   "metadata": {},
   "outputs": [],
   "source": [
    "# Creating a new column to show the day of the week\n",
    "df['day_of_week'] = df['date'].dt.day_name()"
   ]
  },
  {
   "cell_type": "code",
   "execution_count": 39,
   "id": "c11770a9",
   "metadata": {},
   "outputs": [
    {
     "data": {
      "text/html": [
       "<div>\n",
       "<style scoped>\n",
       "    .dataframe tbody tr th:only-of-type {\n",
       "        vertical-align: middle;\n",
       "    }\n",
       "\n",
       "    .dataframe tbody tr th {\n",
       "        vertical-align: top;\n",
       "    }\n",
       "\n",
       "    .dataframe thead th {\n",
       "        text-align: right;\n",
       "    }\n",
       "</style>\n",
       "<table border=\"1\" class=\"dataframe\">\n",
       "  <thead>\n",
       "    <tr style=\"text-align: right;\">\n",
       "      <th></th>\n",
       "      <th>vru+line</th>\n",
       "      <th>call_id</th>\n",
       "      <th>customer_id</th>\n",
       "      <th>priority</th>\n",
       "      <th>type</th>\n",
       "      <th>date</th>\n",
       "      <th>vru_entry</th>\n",
       "      <th>vru_exit</th>\n",
       "      <th>q_start</th>\n",
       "      <th>q_exit</th>\n",
       "      <th>...</th>\n",
       "      <th>server</th>\n",
       "      <th>vru_time</th>\n",
       "      <th>q_time</th>\n",
       "      <th>ser_time</th>\n",
       "      <th>customer_type</th>\n",
       "      <th>penalty_on_qtime</th>\n",
       "      <th>total_qtime_penalty</th>\n",
       "      <th>call_dis_penalty</th>\n",
       "      <th>total_penalty</th>\n",
       "      <th>day_of_week</th>\n",
       "    </tr>\n",
       "  </thead>\n",
       "  <tbody>\n",
       "    <tr>\n",
       "      <th>0</th>\n",
       "      <td>AA0101</td>\n",
       "      <td>34536</td>\n",
       "      <td>0.0</td>\n",
       "      <td>0</td>\n",
       "      <td>PS</td>\n",
       "      <td>1999-02-01</td>\n",
       "      <td>2023-02-26 07:02:47</td>\n",
       "      <td>2023-02-26 07:02:56</td>\n",
       "      <td>2023-02-26 00:00:00</td>\n",
       "      <td>2023-02-26 00:00:00</td>\n",
       "      <td>...</td>\n",
       "      <td>DORIT</td>\n",
       "      <td>0 days 00:00:09</td>\n",
       "      <td>0 days 00:00:00</td>\n",
       "      <td>0 days 00:02:46</td>\n",
       "      <td>Unidentified</td>\n",
       "      <td>0.0</td>\n",
       "      <td>0.00</td>\n",
       "      <td>0</td>\n",
       "      <td>0.00</td>\n",
       "      <td>Monday</td>\n",
       "    </tr>\n",
       "    <tr>\n",
       "      <th>1</th>\n",
       "      <td>AA0101</td>\n",
       "      <td>34537</td>\n",
       "      <td>0.0</td>\n",
       "      <td>0</td>\n",
       "      <td>PS</td>\n",
       "      <td>1999-02-01</td>\n",
       "      <td>2023-02-26 07:31:45</td>\n",
       "      <td>2023-02-26 07:31:55</td>\n",
       "      <td>2023-02-26 00:00:00</td>\n",
       "      <td>2023-02-26 00:00:00</td>\n",
       "      <td>...</td>\n",
       "      <td>NO_SERVER</td>\n",
       "      <td>0 days 00:00:10</td>\n",
       "      <td>0 days 00:00:00</td>\n",
       "      <td>0 days 00:00:05</td>\n",
       "      <td>Unidentified</td>\n",
       "      <td>0.0</td>\n",
       "      <td>0.00</td>\n",
       "      <td>10</td>\n",
       "      <td>10.00</td>\n",
       "      <td>Monday</td>\n",
       "    </tr>\n",
       "    <tr>\n",
       "      <th>2</th>\n",
       "      <td>AA0101</td>\n",
       "      <td>34538</td>\n",
       "      <td>0.0</td>\n",
       "      <td>0</td>\n",
       "      <td>NW</td>\n",
       "      <td>1999-02-01</td>\n",
       "      <td>2023-02-26 07:54:38</td>\n",
       "      <td>2023-02-26 07:54:51</td>\n",
       "      <td>2023-02-26 00:00:00</td>\n",
       "      <td>2023-02-26 00:00:00</td>\n",
       "      <td>...</td>\n",
       "      <td>TOVA</td>\n",
       "      <td>0 days 00:00:13</td>\n",
       "      <td>0 days 00:00:00</td>\n",
       "      <td>0 days 00:01:32</td>\n",
       "      <td>Unidentified</td>\n",
       "      <td>0.0</td>\n",
       "      <td>0.00</td>\n",
       "      <td>0</td>\n",
       "      <td>0.00</td>\n",
       "      <td>Monday</td>\n",
       "    </tr>\n",
       "    <tr>\n",
       "      <th>3</th>\n",
       "      <td>AA0101</td>\n",
       "      <td>34539</td>\n",
       "      <td>23317894.0</td>\n",
       "      <td>2</td>\n",
       "      <td>PS</td>\n",
       "      <td>1999-02-01</td>\n",
       "      <td>2023-02-26 08:09:16</td>\n",
       "      <td>2023-02-26 08:09:22</td>\n",
       "      <td>2023-02-26 08:09:22</td>\n",
       "      <td>2023-02-26 08:09:27</td>\n",
       "      <td>...</td>\n",
       "      <td>NO_SERVER</td>\n",
       "      <td>0 days 00:00:06</td>\n",
       "      <td>0 days 00:00:05</td>\n",
       "      <td>0 days 00:00:00</td>\n",
       "      <td>Priority</td>\n",
       "      <td>0.0</td>\n",
       "      <td>0.00</td>\n",
       "      <td>5</td>\n",
       "      <td>5.00</td>\n",
       "      <td>Monday</td>\n",
       "    </tr>\n",
       "    <tr>\n",
       "      <th>4</th>\n",
       "      <td>AA0101</td>\n",
       "      <td>34540</td>\n",
       "      <td>48178511.0</td>\n",
       "      <td>2</td>\n",
       "      <td>PS</td>\n",
       "      <td>1999-02-01</td>\n",
       "      <td>2023-02-26 08:19:42</td>\n",
       "      <td>2023-02-26 08:19:47</td>\n",
       "      <td>2023-02-26 08:19:47</td>\n",
       "      <td>2023-02-26 08:20:21</td>\n",
       "      <td>...</td>\n",
       "      <td>MICHAL</td>\n",
       "      <td>0 days 00:00:05</td>\n",
       "      <td>0 days 00:00:34</td>\n",
       "      <td>0 days 00:01:44</td>\n",
       "      <td>Priority</td>\n",
       "      <td>0.0</td>\n",
       "      <td>0.00</td>\n",
       "      <td>0</td>\n",
       "      <td>0.00</td>\n",
       "      <td>Monday</td>\n",
       "    </tr>\n",
       "    <tr>\n",
       "      <th>...</th>\n",
       "      <td>...</td>\n",
       "      <td>...</td>\n",
       "      <td>...</td>\n",
       "      <td>...</td>\n",
       "      <td>...</td>\n",
       "      <td>...</td>\n",
       "      <td>...</td>\n",
       "      <td>...</td>\n",
       "      <td>...</td>\n",
       "      <td>...</td>\n",
       "      <td>...</td>\n",
       "      <td>...</td>\n",
       "      <td>...</td>\n",
       "      <td>...</td>\n",
       "      <td>...</td>\n",
       "      <td>...</td>\n",
       "      <td>...</td>\n",
       "      <td>...</td>\n",
       "      <td>...</td>\n",
       "      <td>...</td>\n",
       "      <td>...</td>\n",
       "    </tr>\n",
       "    <tr>\n",
       "      <th>33339</th>\n",
       "      <td>AA0216</td>\n",
       "      <td>5607</td>\n",
       "      <td>0.0</td>\n",
       "      <td>0</td>\n",
       "      <td>IN</td>\n",
       "      <td>1999-02-26</td>\n",
       "      <td>2023-02-26 14:14:43</td>\n",
       "      <td>2023-02-26 14:15:05</td>\n",
       "      <td>2023-02-26 00:00:00</td>\n",
       "      <td>2023-02-26 00:00:00</td>\n",
       "      <td>...</td>\n",
       "      <td>NO_SERVER</td>\n",
       "      <td>0 days 00:00:22</td>\n",
       "      <td>0 days 00:00:00</td>\n",
       "      <td>0 days 00:00:00</td>\n",
       "      <td>Unidentified</td>\n",
       "      <td>0.0</td>\n",
       "      <td>0.00</td>\n",
       "      <td>5</td>\n",
       "      <td>5.00</td>\n",
       "      <td>Friday</td>\n",
       "    </tr>\n",
       "    <tr>\n",
       "      <th>33340</th>\n",
       "      <td>AA0216</td>\n",
       "      <td>5608</td>\n",
       "      <td>0.0</td>\n",
       "      <td>0</td>\n",
       "      <td>IN</td>\n",
       "      <td>1999-02-26</td>\n",
       "      <td>2023-02-26 14:33:45</td>\n",
       "      <td>2023-02-26 14:33:50</td>\n",
       "      <td>2023-02-26 00:00:00</td>\n",
       "      <td>2023-02-26 00:00:00</td>\n",
       "      <td>...</td>\n",
       "      <td>NO_SERVER</td>\n",
       "      <td>0 days 00:00:05</td>\n",
       "      <td>0 days 00:00:00</td>\n",
       "      <td>0 days 00:00:00</td>\n",
       "      <td>Unidentified</td>\n",
       "      <td>0.0</td>\n",
       "      <td>0.00</td>\n",
       "      <td>5</td>\n",
       "      <td>5.00</td>\n",
       "      <td>Friday</td>\n",
       "    </tr>\n",
       "    <tr>\n",
       "      <th>33341</th>\n",
       "      <td>AA0216</td>\n",
       "      <td>5609</td>\n",
       "      <td>0.0</td>\n",
       "      <td>0</td>\n",
       "      <td>IN</td>\n",
       "      <td>1999-02-28</td>\n",
       "      <td>2023-02-26 11:29:39</td>\n",
       "      <td>2023-02-26 11:29:48</td>\n",
       "      <td>2023-02-26 11:29:48</td>\n",
       "      <td>2023-02-26 11:33:39</td>\n",
       "      <td>...</td>\n",
       "      <td>NO_SERVER</td>\n",
       "      <td>0 days 00:00:09</td>\n",
       "      <td>0 days 00:03:51</td>\n",
       "      <td>0 days 00:00:00</td>\n",
       "      <td>Unidentified</td>\n",
       "      <td>1.0</td>\n",
       "      <td>3.85</td>\n",
       "      <td>5</td>\n",
       "      <td>8.85</td>\n",
       "      <td>Sunday</td>\n",
       "    </tr>\n",
       "    <tr>\n",
       "      <th>33342</th>\n",
       "      <td>AA0216</td>\n",
       "      <td>5610</td>\n",
       "      <td>0.0</td>\n",
       "      <td>0</td>\n",
       "      <td>IN</td>\n",
       "      <td>1999-02-28</td>\n",
       "      <td>2023-02-26 12:18:20</td>\n",
       "      <td>2023-02-26 12:18:30</td>\n",
       "      <td>2023-02-26 12:18:30</td>\n",
       "      <td>2023-02-26 12:18:49</td>\n",
       "      <td>...</td>\n",
       "      <td>YITZ</td>\n",
       "      <td>0 days 00:00:10</td>\n",
       "      <td>0 days 00:00:19</td>\n",
       "      <td>0 days 00:04:06</td>\n",
       "      <td>Unidentified</td>\n",
       "      <td>0.0</td>\n",
       "      <td>0.00</td>\n",
       "      <td>0</td>\n",
       "      <td>0.00</td>\n",
       "      <td>Sunday</td>\n",
       "    </tr>\n",
       "    <tr>\n",
       "      <th>33343</th>\n",
       "      <td>AA0216</td>\n",
       "      <td>5611</td>\n",
       "      <td>0.0</td>\n",
       "      <td>0</td>\n",
       "      <td>IN</td>\n",
       "      <td>1999-02-28</td>\n",
       "      <td>2023-02-26 16:01:22</td>\n",
       "      <td>2023-02-26 16:01:32</td>\n",
       "      <td>2023-02-26 16:01:32</td>\n",
       "      <td>2023-02-26 16:09:25</td>\n",
       "      <td>...</td>\n",
       "      <td>NO_SERVER</td>\n",
       "      <td>0 days 00:00:10</td>\n",
       "      <td>0 days 00:07:53</td>\n",
       "      <td>0 days 00:00:00</td>\n",
       "      <td>Unidentified</td>\n",
       "      <td>2.0</td>\n",
       "      <td>15.77</td>\n",
       "      <td>5</td>\n",
       "      <td>20.77</td>\n",
       "      <td>Sunday</td>\n",
       "    </tr>\n",
       "  </tbody>\n",
       "</table>\n",
       "<p>33344 rows × 23 columns</p>\n",
       "</div>"
      ],
      "text/plain": [
       "      vru+line  call_id  customer_id  priority type       date  \\\n",
       "0       AA0101    34536          0.0         0   PS 1999-02-01   \n",
       "1       AA0101    34537          0.0         0   PS 1999-02-01   \n",
       "2       AA0101    34538          0.0         0   NW 1999-02-01   \n",
       "3       AA0101    34539   23317894.0         2   PS 1999-02-01   \n",
       "4       AA0101    34540   48178511.0         2   PS 1999-02-01   \n",
       "...        ...      ...          ...       ...  ...        ...   \n",
       "33339   AA0216     5607          0.0         0   IN 1999-02-26   \n",
       "33340   AA0216     5608          0.0         0   IN 1999-02-26   \n",
       "33341   AA0216     5609          0.0         0   IN 1999-02-28   \n",
       "33342   AA0216     5610          0.0         0   IN 1999-02-28   \n",
       "33343   AA0216     5611          0.0         0   IN 1999-02-28   \n",
       "\n",
       "                vru_entry            vru_exit             q_start  \\\n",
       "0     2023-02-26 07:02:47 2023-02-26 07:02:56 2023-02-26 00:00:00   \n",
       "1     2023-02-26 07:31:45 2023-02-26 07:31:55 2023-02-26 00:00:00   \n",
       "2     2023-02-26 07:54:38 2023-02-26 07:54:51 2023-02-26 00:00:00   \n",
       "3     2023-02-26 08:09:16 2023-02-26 08:09:22 2023-02-26 08:09:22   \n",
       "4     2023-02-26 08:19:42 2023-02-26 08:19:47 2023-02-26 08:19:47   \n",
       "...                   ...                 ...                 ...   \n",
       "33339 2023-02-26 14:14:43 2023-02-26 14:15:05 2023-02-26 00:00:00   \n",
       "33340 2023-02-26 14:33:45 2023-02-26 14:33:50 2023-02-26 00:00:00   \n",
       "33341 2023-02-26 11:29:39 2023-02-26 11:29:48 2023-02-26 11:29:48   \n",
       "33342 2023-02-26 12:18:20 2023-02-26 12:18:30 2023-02-26 12:18:30   \n",
       "33343 2023-02-26 16:01:22 2023-02-26 16:01:32 2023-02-26 16:01:32   \n",
       "\n",
       "                   q_exit  ...     server        vru_time          q_time  \\\n",
       "0     2023-02-26 00:00:00  ...      DORIT 0 days 00:00:09 0 days 00:00:00   \n",
       "1     2023-02-26 00:00:00  ...  NO_SERVER 0 days 00:00:10 0 days 00:00:00   \n",
       "2     2023-02-26 00:00:00  ...       TOVA 0 days 00:00:13 0 days 00:00:00   \n",
       "3     2023-02-26 08:09:27  ...  NO_SERVER 0 days 00:00:06 0 days 00:00:05   \n",
       "4     2023-02-26 08:20:21  ...     MICHAL 0 days 00:00:05 0 days 00:00:34   \n",
       "...                   ...  ...        ...             ...             ...   \n",
       "33339 2023-02-26 00:00:00  ...  NO_SERVER 0 days 00:00:22 0 days 00:00:00   \n",
       "33340 2023-02-26 00:00:00  ...  NO_SERVER 0 days 00:00:05 0 days 00:00:00   \n",
       "33341 2023-02-26 11:33:39  ...  NO_SERVER 0 days 00:00:09 0 days 00:03:51   \n",
       "33342 2023-02-26 12:18:49  ...       YITZ 0 days 00:00:10 0 days 00:00:19   \n",
       "33343 2023-02-26 16:09:25  ...  NO_SERVER 0 days 00:00:10 0 days 00:07:53   \n",
       "\n",
       "             ser_time customer_type penalty_on_qtime total_qtime_penalty  \\\n",
       "0     0 days 00:02:46  Unidentified              0.0                0.00   \n",
       "1     0 days 00:00:05  Unidentified              0.0                0.00   \n",
       "2     0 days 00:01:32  Unidentified              0.0                0.00   \n",
       "3     0 days 00:00:00      Priority              0.0                0.00   \n",
       "4     0 days 00:01:44      Priority              0.0                0.00   \n",
       "...               ...           ...              ...                 ...   \n",
       "33339 0 days 00:00:00  Unidentified              0.0                0.00   \n",
       "33340 0 days 00:00:00  Unidentified              0.0                0.00   \n",
       "33341 0 days 00:00:00  Unidentified              1.0                3.85   \n",
       "33342 0 days 00:04:06  Unidentified              0.0                0.00   \n",
       "33343 0 days 00:00:00  Unidentified              2.0               15.77   \n",
       "\n",
       "      call_dis_penalty  total_penalty  day_of_week  \n",
       "0                    0           0.00       Monday  \n",
       "1                   10          10.00       Monday  \n",
       "2                    0           0.00       Monday  \n",
       "3                    5           5.00       Monday  \n",
       "4                    0           0.00       Monday  \n",
       "...                ...            ...          ...  \n",
       "33339                5           5.00       Friday  \n",
       "33340                5           5.00       Friday  \n",
       "33341                5           8.85       Sunday  \n",
       "33342                0           0.00       Sunday  \n",
       "33343                5          20.77       Sunday  \n",
       "\n",
       "[33344 rows x 23 columns]"
      ]
     },
     "execution_count": 39,
     "metadata": {},
     "output_type": "execute_result"
    }
   ],
   "source": [
    "df"
   ]
  },
  {
   "cell_type": "markdown",
   "id": "d232bfc2",
   "metadata": {},
   "source": [
    "# -------------------------------------------------------------------------------------------------------------"
   ]
  },
  {
   "cell_type": "markdown",
   "id": "3239b447",
   "metadata": {},
   "source": [
    "# Bar chart"
   ]
  },
  {
   "cell_type": "code",
   "execution_count": 40,
   "id": "97527bea",
   "metadata": {},
   "outputs": [
    {
     "data": {
      "text/plain": [
       "<AxesSubplot:xlabel='day_of_week'>"
      ]
     },
     "execution_count": 40,
     "metadata": {},
     "output_type": "execute_result"
    },
    {
     "data": {
      "image/png": "[encoded data removed]",
      "text/plain": [
       "<Figure size 640x480 with 1 Axes>"
      ]
     },
     "metadata": {},
     "output_type": "display_data"
    }
   ],
   "source": [
    "# Plotting a bar char for calls received on days of the week\n",
    "\n",
    "df[['day_of_week', 'call_id']].groupby('day_of_week').count().plot.bar()"
   ]
  },
  {
   "cell_type": "code",
   "execution_count": 41,
   "id": "24dfd18a",
   "metadata": {},
   "outputs": [
    {
     "data": {
      "text/plain": [
       "<AxesSubplot:xlabel='date'>"
      ]
     },
     "execution_count": 41,
     "metadata": {},
     "output_type": "execute_result"
    },
    {
     "data": {
      "image/png": "[encoded data removed]",
      "text/plain": [
       "<Figure size 640x480 with 1 Axes>"
      ]
     },
     "metadata": {},
     "output_type": "display_data"
    }
   ],
   "source": [
    "# Plotting a bar chart for calls received on dates of month\n",
    "\n",
    "df[['date', 'call_id']].groupby('date').sum().plot.bar()"
   ]
  },
  {
   "cell_type": "markdown",
   "id": "702477a4",
   "metadata": {},
   "source": [
    "# -------------------------------------------------------------------------------------------------------------"
   ]
  },
  {
   "cell_type": "markdown",
   "id": "29265b2d",
   "metadata": {},
   "source": [
    "# Count Plots:"
   ]
  },
  {
   "cell_type": "code",
   "execution_count": 42,
   "id": "35b9f4bd",
   "metadata": {},
   "outputs": [
    {
     "data": {
      "image/png": "[encoded data removed]",
      "text/plain": [
       "<Figure size 640x480 with 1 Axes>"
      ]
     },
     "metadata": {},
     "output_type": "display_data"
    }
   ],
   "source": [
    "# count plot for calls received by types of customers\n",
    "sns.countplot(y =df['customer_type'], data = df)\n",
    " \n",
    "# Show the plot\n",
    "plt.show()"
   ]
  },
  {
   "cell_type": "code",
   "execution_count": 43,
   "id": "7594266a",
   "metadata": {},
   "outputs": [
    {
     "data": {
      "image/png": "[encoded data removed]",
      "text/plain": [
       "<Figure size 640x480 with 1 Axes>"
      ]
     },
     "metadata": {},
     "output_type": "display_data"
    }
   ],
   "source": [
    "# count plot for calls received of days of the week\n",
    "sns.countplot(y =df['day_of_week'], data = df)\n",
    " \n",
    "# Show the plot\n",
    "plt.show()"
   ]
  },
  {
   "cell_type": "code",
   "execution_count": 44,
   "id": "1642a74f",
   "metadata": {},
   "outputs": [
    {
     "data": {
      "image/png": "[encoded data removed]",
      "text/plain": [
       "<Figure size 640x480 with 1 Axes>"
      ]
     },
     "metadata": {},
     "output_type": "display_data"
    }
   ],
   "source": [
    "# count plot on single categorical variable\n",
    "# Plot for calls received to agents\n",
    "\n",
    "sns.countplot(y =df['server'], data = df)\n",
    " \n",
    "# Show the plot\n",
    "plt.show()"
   ]
  },
  {
   "cell_type": "code",
   "execution_count": 65,
   "id": "159835e4",
   "metadata": {},
   "outputs": [
    {
     "data": {
      "text/plain": [
       "outcome\n",
       "AGENT      27162\n",
       "HANG        5904\n",
       "PHANTOM      278\n",
       "Name: call_id, dtype: int64"
      ]
     },
     "execution_count": 65,
     "metadata": {},
     "output_type": "execute_result"
    }
   ],
   "source": [
    "# Call count based on outcome\n",
    "\n",
    "df[['outcome', 'call_id']].groupby('outcome')['call_id'].count()"
   ]
  },
  {
   "cell_type": "code",
   "execution_count": 45,
   "id": "15b01863",
   "metadata": {},
   "outputs": [
    {
     "data": {
      "image/png": "[encoded data removed]",
      "text/plain": [
       "<Figure size 640x480 with 1 Axes>"
      ]
     },
     "metadata": {},
     "output_type": "display_data"
    }
   ],
   "source": [
    "# count plot on single categorical variable\n",
    "# Plot for checking the outcome of calls received\n",
    "\n",
    "sns.countplot(y =df['outcome'], data = df)\n",
    " \n",
    "# Show the plot\n",
    "plt.show()"
   ]
  },
  {
   "cell_type": "code",
   "execution_count": 46,
   "id": "3d614582",
   "metadata": {},
   "outputs": [
    {
     "data": {
      "text/plain": [
       "call_id                -1.001455\n",
       "customer_id            45.161956\n",
       "priority                0.654634\n",
       "penalty_on_qtime        2.816483\n",
       "total_qtime_penalty     6.604624\n",
       "call_dis_penalty        1.956518\n",
       "total_penalty           2.270534\n",
       "dtype: float64"
      ]
     },
     "execution_count": 46,
     "metadata": {},
     "output_type": "execute_result"
    }
   ],
   "source": [
    "# Let's check for skewness \n",
    "\n",
    "df.skew(axis = 0, skipna = True)"
   ]
  },
  {
   "cell_type": "markdown",
   "id": "c2be3749",
   "metadata": {},
   "source": [
    "# Histogram chart"
   ]
  },
  {
   "cell_type": "code",
   "execution_count": 47,
   "id": "56ae3fb6",
   "metadata": {},
   "outputs": [
    {
     "data": {
      "text/plain": [
       "array([[<AxesSubplot:title={'center':'call_id'}>,\n",
       "        <AxesSubplot:title={'center':'customer_id'}>,\n",
       "        <AxesSubplot:title={'center':'priority'}>],\n",
       "       [<AxesSubplot:title={'center':'date'}>,\n",
       "        <AxesSubplot:title={'center':'vru_entry'}>,\n",
       "        <AxesSubplot:title={'center':'vru_exit'}>],\n",
       "       [<AxesSubplot:title={'center':'q_start'}>,\n",
       "        <AxesSubplot:title={'center':'q_exit'}>,\n",
       "        <AxesSubplot:title={'center':'ser_start'}>],\n",
       "       [<AxesSubplot:title={'center':'ser_exit'}>,\n",
       "        <AxesSubplot:title={'center':'penalty_on_qtime'}>,\n",
       "        <AxesSubplot:title={'center':'total_qtime_penalty'}>],\n",
       "       [<AxesSubplot:title={'center':'call_dis_penalty'}>,\n",
       "        <AxesSubplot:title={'center':'total_penalty'}>, <AxesSubplot:>],\n",
       "       [<AxesSubplot:>, <AxesSubplot:>, <AxesSubplot:>],\n",
       "       [<AxesSubplot:>, <AxesSubplot:>, <AxesSubplot:>],\n",
       "       [<AxesSubplot:>, <AxesSubplot:>, <AxesSubplot:>],\n",
       "       [<AxesSubplot:>, <AxesSubplot:>, <AxesSubplot:>]], dtype=object)"
      ]
     },
     "execution_count": 47,
     "metadata": {},
     "output_type": "execute_result"
    },
    {
     "data": {
      "image/png": "[encoded data removed]",
      "text/plain": [
       "<Figure size 1500x3000 with 27 Axes>"
      ]
     },
     "metadata": {},
     "output_type": "display_data"
    }
   ],
   "source": [
    "# Histogram Plot \n",
    "\n",
    "df.hist(figsize=(15,30),layout=(9,3))"
   ]
  },
  {
   "cell_type": "markdown",
   "id": "063e07be",
   "metadata": {},
   "source": [
    "# Scatter Plot:"
   ]
  },
  {
   "cell_type": "code",
   "execution_count": 48,
   "id": "07407b4d",
   "metadata": {},
   "outputs": [
    {
     "data": {
      "image/png": "[encoded data removed]",
      "text/plain": [
       "<Figure size 800x500 with 1 Axes>"
      ]
     },
     "metadata": {},
     "output_type": "display_data"
    }
   ],
   "source": [
    "# Scatter plot for penalty paid on days of the week\n",
    "\n",
    "plt.figure(figsize=(8,5))\n",
    "plt.title('Daywise penalty')\n",
    "plt.xlabel('Day')\n",
    "plt.ylabel('Penalty')\n",
    "sns.scatterplot(df['day_of_week'],df['total_penalty'])\n",
    "plt.show()"
   ]
  },
  {
   "cell_type": "markdown",
   "id": "88d80a24",
   "metadata": {},
   "source": [
    "# Density Plot"
   ]
  },
  {
   "cell_type": "code",
   "execution_count": 49,
   "id": "540f0a16",
   "metadata": {},
   "outputs": [
    {
     "data": {
      "image/png": "[encoded data removed]",
      "text/plain": [
       "<Figure size 800x500 with 1 Axes>"
      ]
     },
     "metadata": {},
     "output_type": "display_data"
    }
   ],
   "source": [
    "# Density plot\n",
    "\n",
    "plt.figure(figsize=(8,5))\n",
    "plt.xlim(0,15)\n",
    "plt.xlabel('total_penalty')\n",
    "plt.ylabel('Density')\n",
    "sns.kdeplot(df['total_penalty'],shade=True)\n",
    "plt.show()"
   ]
  },
  {
   "cell_type": "markdown",
   "id": "0aad35b0",
   "metadata": {},
   "source": [
    "# Box Plot"
   ]
  },
  {
   "cell_type": "code",
   "execution_count": 50,
   "id": "826af859",
   "metadata": {},
   "outputs": [
    {
     "data": {
      "image/png": "[encoded data removed]",
      "text/plain": [
       "<Figure size 800x500 with 1 Axes>"
      ]
     },
     "metadata": {},
     "output_type": "display_data"
    }
   ],
   "source": [
    "# box plot\n",
    "\n",
    "plt.figure(figsize=(8,5))\n",
    "plt.xlim(0,40)\n",
    "plt.ylabel('Price')\n",
    "sns.boxplot(x=df['total_penalty'])\n",
    "plt.show()"
   ]
  },
  {
   "cell_type": "markdown",
   "id": "41e6089e",
   "metadata": {},
   "source": [
    "# Comparing Means"
   ]
  },
  {
   "cell_type": "code",
   "execution_count": 51,
   "id": "abc7ff29",
   "metadata": {},
   "outputs": [
    {
     "data": {
      "image/png": "[encoded data removed]",
      "text/plain": [
       "<Figure size 500x500 with 1 Axes>"
      ]
     },
     "metadata": {},
     "output_type": "display_data"
    }
   ],
   "source": [
    "# Comparing mean qtime penalty paid against each type of customer\n",
    "\n",
    "def compare_means(df,discrete_col,continuous_col):\n",
    "    group = df.groupby([discrete_col],as_index=False)[continuous_col].mean().reset_index(drop=True)\n",
    "    plt.figure(figsize=(5,5))\n",
    "    sns.barplot(x=group[discrete_col],y=group[continuous_col],palette='Reds')\n",
    "    plt.ylabel('mean ' + continuous_col)\n",
    "    plt.show()\n",
    "\n",
    "compare_means(df,'customer_type','penalty_on_qtime')"
   ]
  },
  {
   "cell_type": "code",
   "execution_count": 52,
   "id": "67660c7b",
   "metadata": {},
   "outputs": [
    {
     "data": {
      "image/png": "[encoded data removed]",
      "text/plain": [
       "<Figure size 500x500 with 1 Axes>"
      ]
     },
     "metadata": {},
     "output_type": "display_data"
    }
   ],
   "source": [
    "# Comparing mean call disconnection penalty paid against each type of customer\n",
    "\n",
    "def compare_means(df,discrete_col,continuous_col):\n",
    "    group = df.groupby([discrete_col],as_index=False)[continuous_col].mean().reset_index(drop=True)\n",
    "    plt.figure(figsize=(5,5))\n",
    "    sns.barplot(x=group[discrete_col],y=group[continuous_col],palette='Reds')\n",
    "    plt.ylabel('mean ' + continuous_col)\n",
    "    plt.show()\n",
    "\n",
    "compare_means(df,'customer_type','call_dis_penalty')"
   ]
  },
  {
   "cell_type": "code",
   "execution_count": 53,
   "id": "bb11ebb3",
   "metadata": {},
   "outputs": [
    {
     "data": {
      "image/png": "[encoded data removed]",
      "text/plain": [
       "<Figure size 1000x500 with 1 Axes>"
      ]
     },
     "metadata": {},
     "output_type": "display_data"
    }
   ],
   "source": [
    "# Comparing mean penalty paid against each type of customer\n",
    "\n",
    "def compare_means(df,discrete_col,continuous_col):\n",
    "    group = df.groupby([discrete_col],as_index=False)[continuous_col].mean().reset_index(drop=True)\n",
    "    plt.figure(figsize=(10,5))\n",
    "    sns.barplot(x=group[discrete_col],y=group[continuous_col],palette='Reds')\n",
    "    plt.ylabel('mean ' + continuous_col)\n",
    "    plt.show()\n",
    "\n",
    "compare_means(df,'customer_type','total_penalty')"
   ]
  },
  {
   "cell_type": "markdown",
   "id": "b563ab32",
   "metadata": {},
   "source": [
    "# Heat Map:"
   ]
  },
  {
   "cell_type": "code",
   "execution_count": 54,
   "id": "b0bae8f7",
   "metadata": {},
   "outputs": [
    {
     "data": {
      "text/plain": [
       "<AxesSubplot:>"
      ]
     },
     "execution_count": 54,
     "metadata": {},
     "output_type": "execute_result"
    },
    {
     "data": {
      "image/png": "[encoded data removed]",
      "text/plain": [
       "<Figure size 2000x2000 with 2 Axes>"
      ]
     },
     "metadata": {},
     "output_type": "display_data"
    }
   ],
   "source": [
    "# Heat map showing corelation among the columns\n",
    "\n",
    "f,ax = plt.subplots(figsize=(20, 20))\n",
    "sns.heatmap(df.corr(), annot = True, fmt= '.2f')"
   ]
  },
  {
   "cell_type": "markdown",
   "id": "58e5f616",
   "metadata": {},
   "source": [
    "# ------------------------------------------------------------------------------------------------------------"
   ]
  },
  {
   "cell_type": "markdown",
   "id": "9f5661ea",
   "metadata": {},
   "source": [
    "# Questionaire:"
   ]
  },
  {
   "cell_type": "markdown",
   "id": "f47dfb97",
   "metadata": {},
   "source": [
    "# Q.1. count the agents in BPO"
   ]
  },
  {
   "cell_type": "code",
   "execution_count": 56,
   "id": "8f788c7b",
   "metadata": {},
   "outputs": [
    {
     "data": {
      "text/plain": [
       "25"
      ]
     },
     "execution_count": 56,
     "metadata": {},
     "output_type": "execute_result"
    }
   ],
   "source": [
    "df['server'].nunique()\n",
    "\n",
    "# this includes NO_SERVER, thus it means that there are 24 agents"
   ]
  },
  {
   "cell_type": "markdown",
   "id": "b2469e14",
   "metadata": {},
   "source": [
    "# Q.2. Count how many call for internet consulting were hung up by customer despite availabilty of server?"
   ]
  },
  {
   "cell_type": "code",
   "execution_count": 87,
   "id": "bcca6b84",
   "metadata": {},
   "outputs": [
    {
     "data": {
      "text/plain": [
       "vru+line               0\n",
       "call_id                0\n",
       "customer_id            0\n",
       "priority               0\n",
       "type                   0\n",
       "date                   0\n",
       "vru_entry              0\n",
       "vru_exit               0\n",
       "q_start                0\n",
       "q_exit                 0\n",
       "outcome                0\n",
       "ser_start              0\n",
       "ser_exit               0\n",
       "server                 0\n",
       "vru_time               0\n",
       "q_time                 0\n",
       "ser_time               0\n",
       "customer_type          0\n",
       "penalty_on_qtime       0\n",
       "total_qtime_penalty    0\n",
       "call_dis_penalty       0\n",
       "total_penalty          0\n",
       "day_of_week            0\n",
       "dtype: int64"
      ]
     },
     "execution_count": 87,
     "metadata": {},
     "output_type": "execute_result"
    }
   ],
   "source": [
    "df[(df['type'] == 'IN') & (df['outcome'] == 'HANG') & (df['server'] != 'NO_SERVER')].count()"
   ]
  },
  {
   "cell_type": "code",
   "execution_count": 58,
   "id": "5afdb733",
   "metadata": {},
   "outputs": [
    {
     "data": {
      "text/plain": [
       "vru+line               0\n",
       "call_id                0\n",
       "customer_id            0\n",
       "priority               0\n",
       "type                   0\n",
       "date                   0\n",
       "vru_entry              0\n",
       "vru_exit               0\n",
       "q_start                0\n",
       "q_exit                 0\n",
       "outcome                0\n",
       "ser_start              0\n",
       "ser_exit               0\n",
       "server                 0\n",
       "vru_time               0\n",
       "q_time                 0\n",
       "ser_time               0\n",
       "customer_type          0\n",
       "penalty_on_qtime       0\n",
       "total_qtime_penalty    0\n",
       "call_dis_penalty       0\n",
       "total_penalty          0\n",
       "day_of_week            0\n",
       "dtype: int64"
      ]
     },
     "execution_count": 58,
     "metadata": {},
     "output_type": "execute_result"
    }
   ],
   "source": [
    "df[(df['outcome'] == 'HANG') & (df['server'] != 'NO_SERVER')][df['type'] == 'IN'].count()"
   ]
  },
  {
   "cell_type": "markdown",
   "id": "cc1c3c49",
   "metadata": {},
   "source": [
    "# Q.3. How many phantom calls were assigned to agents?"
   ]
  },
  {
   "cell_type": "code",
   "execution_count": 59,
   "id": "0e81eecc",
   "metadata": {},
   "outputs": [
    {
     "data": {
      "text/plain": [
       "vru+line               0\n",
       "call_id                0\n",
       "customer_id            0\n",
       "priority               0\n",
       "type                   0\n",
       "date                   0\n",
       "vru_entry              0\n",
       "vru_exit               0\n",
       "q_start                0\n",
       "q_exit                 0\n",
       "outcome                0\n",
       "ser_start              0\n",
       "ser_exit               0\n",
       "server                 0\n",
       "vru_time               0\n",
       "q_time                 0\n",
       "ser_time               0\n",
       "customer_type          0\n",
       "penalty_on_qtime       0\n",
       "total_qtime_penalty    0\n",
       "call_dis_penalty       0\n",
       "total_penalty          0\n",
       "day_of_week            0\n",
       "dtype: int64"
      ]
     },
     "execution_count": 59,
     "metadata": {},
     "output_type": "execute_result"
    }
   ],
   "source": [
    "df[(df['outcome'] == 'PHANTOM') & (df['server'] != 'NO_SERVER')].count()"
   ]
  },
  {
   "cell_type": "markdown",
   "id": "069794fe",
   "metadata": {},
   "source": [
    "# Q.4. Which agent has the highest avg service time?"
   ]
  },
  {
   "cell_type": "code",
   "execution_count": 60,
   "id": "946d37f0",
   "metadata": {},
   "outputs": [
    {
     "data": {
      "text/plain": [
       "server\n",
       "PINHAS   0 days 00:11:22.925000\n",
       "Name: ser_time, dtype: timedelta64[ns]"
      ]
     },
     "execution_count": 60,
     "metadata": {},
     "output_type": "execute_result"
    }
   ],
   "source": [
    "# df[['server', 'ser_time']].groupby('server')['ser_time'].mean()\n",
    "\n",
    "df[['server', 'ser_time']].groupby('server')['ser_time'].mean().nlargest(1)"
   ]
  },
  {
   "cell_type": "markdown",
   "id": "489209c5",
   "metadata": {},
   "source": [
    "# Q.5. Which agent has the least number of calls assigned?"
   ]
  },
  {
   "cell_type": "code",
   "execution_count": 61,
   "id": "f93011a9",
   "metadata": {},
   "outputs": [
    {
     "data": {
      "text/plain": [
       "server\n",
       "PINHAS    40\n",
       "Name: call_id, dtype: int64"
      ]
     },
     "execution_count": 61,
     "metadata": {},
     "output_type": "execute_result"
    }
   ],
   "source": [
    "df[['server', 'call_id']].groupby('server')['call_id'].count().nsmallest(1)"
   ]
  },
  {
   "cell_type": "markdown",
   "id": "8df536dd",
   "metadata": {},
   "source": [
    "# Q.6. Which agent's customers had to wait for the longest in order to speak to the agent?"
   ]
  },
  {
   "cell_type": "code",
   "execution_count": 62,
   "id": "482c00c9",
   "metadata": {},
   "outputs": [
    {
     "data": {
      "text/plain": [
       "server\n",
       "ANAT        0 days 09:58:12\n",
       "AVIDAN      0 days 09:51:37\n",
       "AVNI        0 days 22:33:31\n",
       "BASCH       0 days 13:03:03\n",
       "BENSION     0 days 10:23:56\n",
       "DARMON      0 days 08:04:32\n",
       "DORIT       0 days 10:34:52\n",
       "ELI         0 days 05:22:16\n",
       "GELBER      0 days 02:34:32\n",
       "GILI        0 days 05:29:19\n",
       "IDIT        0 days 18:11:45\n",
       "KAZAV       1 days 00:48:49\n",
       "MICHAL      0 days 13:00:34\n",
       "MIKI        0 days 15:42:35\n",
       "MORIAH      0 days 15:07:57\n",
       "NAAMA       0 days 02:49:48\n",
       "NO_SERVER   1 days 07:31:36\n",
       "PINHAS      0 days 00:39:48\n",
       "SHARON      0 days 23:20:16\n",
       "SHLOMO      0 days 04:56:04\n",
       "STEREN      0 days 15:15:17\n",
       "TOVA        0 days 17:46:15\n",
       "YIFAT       1 days 02:58:53\n",
       "YITZ        0 days 21:42:51\n",
       "ZOHARI      0 days 09:16:41\n",
       "Name: q_time, dtype: timedelta64[ns]"
      ]
     },
     "execution_count": 62,
     "metadata": {},
     "output_type": "execute_result"
    }
   ],
   "source": [
    "df[['server', 'q_time']].groupby('server')['q_time'].sum()"
   ]
  },
  {
   "cell_type": "code",
   "execution_count": 63,
   "id": "03e4f127",
   "metadata": {},
   "outputs": [
    {
     "data": {
      "text/plain": [
       "server\n",
       "NO_SERVER   1 days 07:31:36\n",
       "YIFAT       1 days 02:58:53\n",
       "KAZAV       1 days 00:48:49\n",
       "SHARON      0 days 23:20:16\n",
       "AVNI        0 days 22:33:31\n",
       "Name: q_time, dtype: timedelta64[ns]"
      ]
     },
     "execution_count": 63,
     "metadata": {},
     "output_type": "execute_result"
    }
   ],
   "source": [
    "df.groupby('server')['q_time'].sum().nlargest()"
   ]
  },
  {
   "cell_type": "markdown",
   "id": "9c44d583",
   "metadata": {},
   "source": [
    "# Q.7. Based on description of data, queuing time of Phantom calls should be the highest. Is this assumption correct? : YES"
   ]
  },
  {
   "cell_type": "code",
   "execution_count": 90,
   "id": "047dd288",
   "metadata": {},
   "outputs": [
    {
     "data": {
      "text/plain": [
       "outcome\n",
       "PHANTOM   0 days 00:01:34.575539568\n",
       "Name: q_time, dtype: timedelta64[ns]"
      ]
     },
     "execution_count": 90,
     "metadata": {},
     "output_type": "execute_result"
    }
   ],
   "source": [
    "df[['outcome', 'q_time']].groupby('outcome')['q_time'].mean().nlargest(1)\n",
    "\n",
    "# Yes, the assumption is  corrrect"
   ]
  },
  {
   "cell_type": "markdown",
   "id": "0b713d0d",
   "metadata": {},
   "source": [
    "# Q.8. Which of the following customers has made maximum number of calls (Chose customer ID)?"
   ]
  },
  {
   "cell_type": "code",
   "execution_count": 66,
   "id": "20b56401",
   "metadata": {},
   "outputs": [],
   "source": [
    "# creating a new dataframe max_calldf\n",
    "\n",
    "max_calldf = df.where(df['customer_id']>0)"
   ]
  },
  {
   "cell_type": "code",
   "execution_count": 67,
   "id": "5fdd0f80",
   "metadata": {},
   "outputs": [],
   "source": [
    "# dropping all nan values from it\n",
    "\n",
    "max_calldf = max_calldf.dropna(axis = 0, how = 'all')"
   ]
  },
  {
   "cell_type": "code",
   "execution_count": 68,
   "id": "c7ef84fe",
   "metadata": {},
   "outputs": [],
   "source": [
    "# change datatype \n",
    "\n",
    "max_calldf['call_id'] = max_calldf['call_id'].astype('int64')"
   ]
  },
  {
   "cell_type": "code",
   "execution_count": 69,
   "id": "a7e3ee6b",
   "metadata": {},
   "outputs": [],
   "source": [
    "# change datatype \n",
    "\n",
    "max_calldf['customer_id'] = max_calldf['customer_id'].astype('int64')"
   ]
  },
  {
   "cell_type": "code",
   "execution_count": 70,
   "id": "e5bb4401",
   "metadata": {},
   "outputs": [
    {
     "data": {
      "text/plain": [
       "customer_id\n",
       "7191646     170\n",
       "58704610    170\n",
       "Name: call_id, dtype: int64"
      ]
     },
     "execution_count": 70,
     "metadata": {},
     "output_type": "execute_result"
    }
   ],
   "source": [
    "# Answer \n",
    "\n",
    "max_calldf[['customer_id', 'call_id']].groupby('customer_id')['call_id'].count().nlargest(2)\n",
    "\n",
    "# here 2 customers made samae number of calls \n",
    "# In the quiz, I answered it as : 7191646 which was marked WRONG"
   ]
  },
  {
   "cell_type": "markdown",
   "id": "7d5732d6",
   "metadata": {},
   "source": [
    "# Q.9. Calls from which of the following customers have been tagged as Phantom calls most number of times (Chose customer ID)?"
   ]
  },
  {
   "cell_type": "code",
   "execution_count": 71,
   "id": "b5f1c80b",
   "metadata": {},
   "outputs": [
    {
     "data": {
      "text/plain": [
       "customer_id\n",
       "13408620    3\n",
       "Name: outcome, dtype: int64"
      ]
     },
     "execution_count": 71,
     "metadata": {},
     "output_type": "execute_result"
    }
   ],
   "source": [
    "max_calldf[max_calldf[\"outcome\"] == 'PHANTOM'].groupby([\"customer_id\"])[\"outcome\"].count().nlargest(1)"
   ]
  },
  {
   "cell_type": "markdown",
   "id": "f6c54ac3",
   "metadata": {},
   "source": [
    "# Q.10. What percentage of high priority customer calls have been hung?"
   ]
  },
  {
   "cell_type": "code",
   "execution_count": 72,
   "id": "865e2499",
   "metadata": {},
   "outputs": [
    {
     "data": {
      "text/plain": [
       "9119"
      ]
     },
     "execution_count": 72,
     "metadata": {},
     "output_type": "execute_result"
    }
   ],
   "source": [
    "# Total priority customers \n",
    "\n",
    "df[df['priority'] == 2]['priority'].count()"
   ]
  },
  {
   "cell_type": "code",
   "execution_count": 73,
   "id": "0d396f4f",
   "metadata": {},
   "outputs": [
    {
     "data": {
      "text/plain": [
       "909"
      ]
     },
     "execution_count": 73,
     "metadata": {},
     "output_type": "execute_result"
    }
   ],
   "source": [
    "# Total priority customers whose call were hung\n",
    "\n",
    "df[(df['outcome'] == 'HANG') & (df['customer_type'] == 'Priority')]['customer_type'].count()"
   ]
  },
  {
   "cell_type": "code",
   "execution_count": 74,
   "id": "d87b0196",
   "metadata": {},
   "outputs": [
    {
     "data": {
      "text/plain": [
       "9.968198267353877"
      ]
     },
     "execution_count": 74,
     "metadata": {},
     "output_type": "execute_result"
    }
   ],
   "source": [
    "# answer\n",
    "\n",
    "(df[(df['outcome']== 'HANG') & (df['priority'] == 2)]['priority'].count() / df[df['priority'] == 2]['priority'].count())*100"
   ]
  },
  {
   "cell_type": "markdown",
   "id": "4c1038ab",
   "metadata": {},
   "source": [
    "# Q.11. How many high priority customer calls have been tagged as Phantom?"
   ]
  },
  {
   "cell_type": "code",
   "execution_count": 75,
   "id": "966d140e",
   "metadata": {},
   "outputs": [
    {
     "data": {
      "text/plain": [
       "1.1953065029060204"
      ]
     },
     "execution_count": 75,
     "metadata": {},
     "output_type": "execute_result"
    }
   ],
   "source": [
    "# answer\n",
    "\n",
    "(df[(df['outcome']== 'PHANTOM') & (df['priority'] == 2)]['priority'].count() / df[df['priority'] == 2]['priority'].count())*100"
   ]
  },
  {
   "cell_type": "markdown",
   "id": "60a999dc",
   "metadata": {},
   "source": [
    "# Q.12. Queuing time of high priority customers is shortest"
   ]
  },
  {
   "cell_type": "code",
   "execution_count": 76,
   "id": "4e1470bb",
   "metadata": {},
   "outputs": [
    {
     "data": {
      "text/plain": [
       "customer_type\n",
       "Priority       0 days 00:01:04.495339401\n",
       "Regular        0 days 00:01:12.987021414\n",
       "Unidentified   0 days 00:00:15.056983981\n",
       "Name: q_time, dtype: timedelta64[ns]"
      ]
     },
     "execution_count": 76,
     "metadata": {},
     "output_type": "execute_result"
    }
   ],
   "source": [
    "# Assumption is FALSE.\n",
    "\n",
    "df.groupby('customer_type')['q_time'].mean()"
   ]
  },
  {
   "cell_type": "markdown",
   "id": "97cda0a0",
   "metadata": {},
   "source": [
    "# Q13. High priority customers are focussed more by the agents with more time spent on servicing them."
   ]
  },
  {
   "cell_type": "code",
   "execution_count": 77,
   "id": "6a1e5615",
   "metadata": {},
   "outputs": [
    {
     "data": {
      "text/plain": [
       "customer_type\n",
       "Priority       0 days 00:02:51.776181598\n",
       "Regular        0 days 00:01:42.035907419\n",
       "Unidentified   0 days 00:01:11.037547189\n",
       "Name: ser_time, dtype: timedelta64[ns]"
      ]
     },
     "execution_count": 77,
     "metadata": {},
     "output_type": "execute_result"
    }
   ],
   "source": [
    "# Assumption is TRUE\n",
    "\n",
    "df.groupby('customer_type')['ser_time'].mean()"
   ]
  },
  {
   "cell_type": "markdown",
   "id": "fcf5527b",
   "metadata": {},
   "source": [
    "# Q14. Average VRU time for high priority customers is the highest."
   ]
  },
  {
   "cell_type": "code",
   "execution_count": 78,
   "id": "79c527b5",
   "metadata": {},
   "outputs": [
    {
     "data": {
      "text/plain": [
       "customer_type\n",
       "Priority       0 days 00:00:05.533501480\n",
       "Regular        0 days 00:00:05.293099718\n",
       "Unidentified   0 days 00:00:13.976992143\n",
       "Name: vru_time, dtype: timedelta64[ns]"
      ]
     },
     "execution_count": 78,
     "metadata": {},
     "output_type": "execute_result"
    }
   ],
   "source": [
    "# Assumption is FALSE\n",
    "\n",
    "df.groupby('customer_type')['vru_time'].mean()"
   ]
  },
  {
   "cell_type": "markdown",
   "id": "bb4e9e68",
   "metadata": {},
   "source": [
    "# Q15. Which of the following agents have received maximum number of high priority calls?"
   ]
  },
  {
   "cell_type": "code",
   "execution_count": 85,
   "id": "f9521ed7",
   "metadata": {},
   "outputs": [
    {
     "data": {
      "text/plain": [
       "server\n",
       "KAZAV    705\n",
       "Name: server, dtype: int64"
      ]
     },
     "execution_count": 85,
     "metadata": {},
     "output_type": "execute_result"
    }
   ],
   "source": [
    "# Answer is Kazav\n",
    "\n",
    "df[(df['priority'] == 2)].groupby('server')['server'].count().nlargest().iloc[1:2]"
   ]
  },
  {
   "cell_type": "markdown",
   "id": "92ee4df2",
   "metadata": {},
   "source": [
    "# --------------------------------------------------------------------------------------------------"
   ]
  },
  {
   "cell_type": "markdown",
   "id": "3ef25e96",
   "metadata": {},
   "source": [
    "# Converting all the time realted columns"
   ]
  },
  {
   "cell_type": "markdown",
   "id": "46e43d94",
   "metadata": {},
   "source": [
    "df['vru_time'] = df['vru_time'].astype(str).str.slice(7,15)"
   ]
  },
  {
   "cell_type": "markdown",
   "id": "603e0f65",
   "metadata": {},
   "source": [
    "df['vru_entry'] = df['vru_entry'].astype(str).str.slice(11,19)\n",
    "df['vru_exit'] = df['vru_exit'].astype(str).str.slice(11,19)"
   ]
  },
  {
   "cell_type": "markdown",
   "id": "b3e716a9",
   "metadata": {},
   "source": [
    "df['q_time'] = df['q_time'].astype(str).str.slice(7,15)"
   ]
  },
  {
   "cell_type": "markdown",
   "id": "23ebcbff",
   "metadata": {},
   "source": [
    "df['q_start'] = df['q_start'].astype(str).str.slice(11,19)\n",
    "df['q_exit'] = df['q_exit'].astype(str).str.slice(11,19)"
   ]
  },
  {
   "cell_type": "markdown",
   "id": "8b95e174",
   "metadata": {},
   "source": [
    "df['ser_time'] = df['ser_time'].astype(str).str.slice(7,15)"
   ]
  },
  {
   "cell_type": "markdown",
   "id": "9671a874",
   "metadata": {},
   "source": [
    "df['ser_start'] = df['ser_start'].astype(str).str.slice(11,19)\n",
    "df['ser_exit'] = df['ser_exit'].astype(str).str.slice(11,19)"
   ]
  },
  {
   "cell_type": "markdown",
   "id": "8ddb6093",
   "metadata": {},
   "source": [
    "# -------------------------------------------------------------------------------------------------------------"
   ]
  },
  {
   "cell_type": "code",
   "execution_count": 80,
   "id": "7ba431c9",
   "metadata": {
    "scrolled": false
   },
   "outputs": [
    {
     "data": {
      "text/html": [
       "<div>\n",
       "<style scoped>\n",
       "    .dataframe tbody tr th:only-of-type {\n",
       "        vertical-align: middle;\n",
       "    }\n",
       "\n",
       "    .dataframe tbody tr th {\n",
       "        vertical-align: top;\n",
       "    }\n",
       "\n",
       "    .dataframe thead th {\n",
       "        text-align: right;\n",
       "    }\n",
       "</style>\n",
       "<table border=\"1\" class=\"dataframe\">\n",
       "  <thead>\n",
       "    <tr style=\"text-align: right;\">\n",
       "      <th></th>\n",
       "      <th>vru+line</th>\n",
       "      <th>call_id</th>\n",
       "      <th>customer_id</th>\n",
       "      <th>priority</th>\n",
       "      <th>type</th>\n",
       "      <th>date</th>\n",
       "      <th>vru_entry</th>\n",
       "      <th>vru_exit</th>\n",
       "      <th>q_start</th>\n",
       "      <th>q_exit</th>\n",
       "      <th>...</th>\n",
       "      <th>server</th>\n",
       "      <th>vru_time</th>\n",
       "      <th>q_time</th>\n",
       "      <th>ser_time</th>\n",
       "      <th>customer_type</th>\n",
       "      <th>penalty_on_qtime</th>\n",
       "      <th>total_qtime_penalty</th>\n",
       "      <th>call_dis_penalty</th>\n",
       "      <th>total_penalty</th>\n",
       "      <th>day_of_week</th>\n",
       "    </tr>\n",
       "  </thead>\n",
       "  <tbody>\n",
       "    <tr>\n",
       "      <th>0</th>\n",
       "      <td>AA0101</td>\n",
       "      <td>34536</td>\n",
       "      <td>0.0</td>\n",
       "      <td>0</td>\n",
       "      <td>PS</td>\n",
       "      <td>1999-02-01</td>\n",
       "      <td>2023-02-26 07:02:47</td>\n",
       "      <td>2023-02-26 07:02:56</td>\n",
       "      <td>2023-02-26 00:00:00</td>\n",
       "      <td>2023-02-26 00:00:00</td>\n",
       "      <td>...</td>\n",
       "      <td>DORIT</td>\n",
       "      <td>0 days 00:00:09</td>\n",
       "      <td>0 days 00:00:00</td>\n",
       "      <td>0 days 00:02:46</td>\n",
       "      <td>Unidentified</td>\n",
       "      <td>0.0</td>\n",
       "      <td>0.00</td>\n",
       "      <td>0</td>\n",
       "      <td>0.00</td>\n",
       "      <td>Monday</td>\n",
       "    </tr>\n",
       "    <tr>\n",
       "      <th>1</th>\n",
       "      <td>AA0101</td>\n",
       "      <td>34537</td>\n",
       "      <td>0.0</td>\n",
       "      <td>0</td>\n",
       "      <td>PS</td>\n",
       "      <td>1999-02-01</td>\n",
       "      <td>2023-02-26 07:31:45</td>\n",
       "      <td>2023-02-26 07:31:55</td>\n",
       "      <td>2023-02-26 00:00:00</td>\n",
       "      <td>2023-02-26 00:00:00</td>\n",
       "      <td>...</td>\n",
       "      <td>NO_SERVER</td>\n",
       "      <td>0 days 00:00:10</td>\n",
       "      <td>0 days 00:00:00</td>\n",
       "      <td>0 days 00:00:05</td>\n",
       "      <td>Unidentified</td>\n",
       "      <td>0.0</td>\n",
       "      <td>0.00</td>\n",
       "      <td>10</td>\n",
       "      <td>10.00</td>\n",
       "      <td>Monday</td>\n",
       "    </tr>\n",
       "    <tr>\n",
       "      <th>2</th>\n",
       "      <td>AA0101</td>\n",
       "      <td>34538</td>\n",
       "      <td>0.0</td>\n",
       "      <td>0</td>\n",
       "      <td>NW</td>\n",
       "      <td>1999-02-01</td>\n",
       "      <td>2023-02-26 07:54:38</td>\n",
       "      <td>2023-02-26 07:54:51</td>\n",
       "      <td>2023-02-26 00:00:00</td>\n",
       "      <td>2023-02-26 00:00:00</td>\n",
       "      <td>...</td>\n",
       "      <td>TOVA</td>\n",
       "      <td>0 days 00:00:13</td>\n",
       "      <td>0 days 00:00:00</td>\n",
       "      <td>0 days 00:01:32</td>\n",
       "      <td>Unidentified</td>\n",
       "      <td>0.0</td>\n",
       "      <td>0.00</td>\n",
       "      <td>0</td>\n",
       "      <td>0.00</td>\n",
       "      <td>Monday</td>\n",
       "    </tr>\n",
       "    <tr>\n",
       "      <th>3</th>\n",
       "      <td>AA0101</td>\n",
       "      <td>34539</td>\n",
       "      <td>23317894.0</td>\n",
       "      <td>2</td>\n",
       "      <td>PS</td>\n",
       "      <td>1999-02-01</td>\n",
       "      <td>2023-02-26 08:09:16</td>\n",
       "      <td>2023-02-26 08:09:22</td>\n",
       "      <td>2023-02-26 08:09:22</td>\n",
       "      <td>2023-02-26 08:09:27</td>\n",
       "      <td>...</td>\n",
       "      <td>NO_SERVER</td>\n",
       "      <td>0 days 00:00:06</td>\n",
       "      <td>0 days 00:00:05</td>\n",
       "      <td>0 days 00:00:00</td>\n",
       "      <td>Priority</td>\n",
       "      <td>0.0</td>\n",
       "      <td>0.00</td>\n",
       "      <td>5</td>\n",
       "      <td>5.00</td>\n",
       "      <td>Monday</td>\n",
       "    </tr>\n",
       "    <tr>\n",
       "      <th>4</th>\n",
       "      <td>AA0101</td>\n",
       "      <td>34540</td>\n",
       "      <td>48178511.0</td>\n",
       "      <td>2</td>\n",
       "      <td>PS</td>\n",
       "      <td>1999-02-01</td>\n",
       "      <td>2023-02-26 08:19:42</td>\n",
       "      <td>2023-02-26 08:19:47</td>\n",
       "      <td>2023-02-26 08:19:47</td>\n",
       "      <td>2023-02-26 08:20:21</td>\n",
       "      <td>...</td>\n",
       "      <td>MICHAL</td>\n",
       "      <td>0 days 00:00:05</td>\n",
       "      <td>0 days 00:00:34</td>\n",
       "      <td>0 days 00:01:44</td>\n",
       "      <td>Priority</td>\n",
       "      <td>0.0</td>\n",
       "      <td>0.00</td>\n",
       "      <td>0</td>\n",
       "      <td>0.00</td>\n",
       "      <td>Monday</td>\n",
       "    </tr>\n",
       "    <tr>\n",
       "      <th>...</th>\n",
       "      <td>...</td>\n",
       "      <td>...</td>\n",
       "      <td>...</td>\n",
       "      <td>...</td>\n",
       "      <td>...</td>\n",
       "      <td>...</td>\n",
       "      <td>...</td>\n",
       "      <td>...</td>\n",
       "      <td>...</td>\n",
       "      <td>...</td>\n",
       "      <td>...</td>\n",
       "      <td>...</td>\n",
       "      <td>...</td>\n",
       "      <td>...</td>\n",
       "      <td>...</td>\n",
       "      <td>...</td>\n",
       "      <td>...</td>\n",
       "      <td>...</td>\n",
       "      <td>...</td>\n",
       "      <td>...</td>\n",
       "      <td>...</td>\n",
       "    </tr>\n",
       "    <tr>\n",
       "      <th>33339</th>\n",
       "      <td>AA0216</td>\n",
       "      <td>5607</td>\n",
       "      <td>0.0</td>\n",
       "      <td>0</td>\n",
       "      <td>IN</td>\n",
       "      <td>1999-02-26</td>\n",
       "      <td>2023-02-26 14:14:43</td>\n",
       "      <td>2023-02-26 14:15:05</td>\n",
       "      <td>2023-02-26 00:00:00</td>\n",
       "      <td>2023-02-26 00:00:00</td>\n",
       "      <td>...</td>\n",
       "      <td>NO_SERVER</td>\n",
       "      <td>0 days 00:00:22</td>\n",
       "      <td>0 days 00:00:00</td>\n",
       "      <td>0 days 00:00:00</td>\n",
       "      <td>Unidentified</td>\n",
       "      <td>0.0</td>\n",
       "      <td>0.00</td>\n",
       "      <td>5</td>\n",
       "      <td>5.00</td>\n",
       "      <td>Friday</td>\n",
       "    </tr>\n",
       "    <tr>\n",
       "      <th>33340</th>\n",
       "      <td>AA0216</td>\n",
       "      <td>5608</td>\n",
       "      <td>0.0</td>\n",
       "      <td>0</td>\n",
       "      <td>IN</td>\n",
       "      <td>1999-02-26</td>\n",
       "      <td>2023-02-26 14:33:45</td>\n",
       "      <td>2023-02-26 14:33:50</td>\n",
       "      <td>2023-02-26 00:00:00</td>\n",
       "      <td>2023-02-26 00:00:00</td>\n",
       "      <td>...</td>\n",
       "      <td>NO_SERVER</td>\n",
       "      <td>0 days 00:00:05</td>\n",
       "      <td>0 days 00:00:00</td>\n",
       "      <td>0 days 00:00:00</td>\n",
       "      <td>Unidentified</td>\n",
       "      <td>0.0</td>\n",
       "      <td>0.00</td>\n",
       "      <td>5</td>\n",
       "      <td>5.00</td>\n",
       "      <td>Friday</td>\n",
       "    </tr>\n",
       "    <tr>\n",
       "      <th>33341</th>\n",
       "      <td>AA0216</td>\n",
       "      <td>5609</td>\n",
       "      <td>0.0</td>\n",
       "      <td>0</td>\n",
       "      <td>IN</td>\n",
       "      <td>1999-02-28</td>\n",
       "      <td>2023-02-26 11:29:39</td>\n",
       "      <td>2023-02-26 11:29:48</td>\n",
       "      <td>2023-02-26 11:29:48</td>\n",
       "      <td>2023-02-26 11:33:39</td>\n",
       "      <td>...</td>\n",
       "      <td>NO_SERVER</td>\n",
       "      <td>0 days 00:00:09</td>\n",
       "      <td>0 days 00:03:51</td>\n",
       "      <td>0 days 00:00:00</td>\n",
       "      <td>Unidentified</td>\n",
       "      <td>1.0</td>\n",
       "      <td>3.85</td>\n",
       "      <td>5</td>\n",
       "      <td>8.85</td>\n",
       "      <td>Sunday</td>\n",
       "    </tr>\n",
       "    <tr>\n",
       "      <th>33342</th>\n",
       "      <td>AA0216</td>\n",
       "      <td>5610</td>\n",
       "      <td>0.0</td>\n",
       "      <td>0</td>\n",
       "      <td>IN</td>\n",
       "      <td>1999-02-28</td>\n",
       "      <td>2023-02-26 12:18:20</td>\n",
       "      <td>2023-02-26 12:18:30</td>\n",
       "      <td>2023-02-26 12:18:30</td>\n",
       "      <td>2023-02-26 12:18:49</td>\n",
       "      <td>...</td>\n",
       "      <td>YITZ</td>\n",
       "      <td>0 days 00:00:10</td>\n",
       "      <td>0 days 00:00:19</td>\n",
       "      <td>0 days 00:04:06</td>\n",
       "      <td>Unidentified</td>\n",
       "      <td>0.0</td>\n",
       "      <td>0.00</td>\n",
       "      <td>0</td>\n",
       "      <td>0.00</td>\n",
       "      <td>Sunday</td>\n",
       "    </tr>\n",
       "    <tr>\n",
       "      <th>33343</th>\n",
       "      <td>AA0216</td>\n",
       "      <td>5611</td>\n",
       "      <td>0.0</td>\n",
       "      <td>0</td>\n",
       "      <td>IN</td>\n",
       "      <td>1999-02-28</td>\n",
       "      <td>2023-02-26 16:01:22</td>\n",
       "      <td>2023-02-26 16:01:32</td>\n",
       "      <td>2023-02-26 16:01:32</td>\n",
       "      <td>2023-02-26 16:09:25</td>\n",
       "      <td>...</td>\n",
       "      <td>NO_SERVER</td>\n",
       "      <td>0 days 00:00:10</td>\n",
       "      <td>0 days 00:07:53</td>\n",
       "      <td>0 days 00:00:00</td>\n",
       "      <td>Unidentified</td>\n",
       "      <td>2.0</td>\n",
       "      <td>15.77</td>\n",
       "      <td>5</td>\n",
       "      <td>20.77</td>\n",
       "      <td>Sunday</td>\n",
       "    </tr>\n",
       "  </tbody>\n",
       "</table>\n",
       "<p>33344 rows × 23 columns</p>\n",
       "</div>"
      ],
      "text/plain": [
       "      vru+line  call_id  customer_id  priority type       date  \\\n",
       "0       AA0101    34536          0.0         0   PS 1999-02-01   \n",
       "1       AA0101    34537          0.0         0   PS 1999-02-01   \n",
       "2       AA0101    34538          0.0         0   NW 1999-02-01   \n",
       "3       AA0101    34539   23317894.0         2   PS 1999-02-01   \n",
       "4       AA0101    34540   48178511.0         2   PS 1999-02-01   \n",
       "...        ...      ...          ...       ...  ...        ...   \n",
       "33339   AA0216     5607          0.0         0   IN 1999-02-26   \n",
       "33340   AA0216     5608          0.0         0   IN 1999-02-26   \n",
       "33341   AA0216     5609          0.0         0   IN 1999-02-28   \n",
       "33342   AA0216     5610          0.0         0   IN 1999-02-28   \n",
       "33343   AA0216     5611          0.0         0   IN 1999-02-28   \n",
       "\n",
       "                vru_entry            vru_exit             q_start  \\\n",
       "0     2023-02-26 07:02:47 2023-02-26 07:02:56 2023-02-26 00:00:00   \n",
       "1     2023-02-26 07:31:45 2023-02-26 07:31:55 2023-02-26 00:00:00   \n",
       "2     2023-02-26 07:54:38 2023-02-26 07:54:51 2023-02-26 00:00:00   \n",
       "3     2023-02-26 08:09:16 2023-02-26 08:09:22 2023-02-26 08:09:22   \n",
       "4     2023-02-26 08:19:42 2023-02-26 08:19:47 2023-02-26 08:19:47   \n",
       "...                   ...                 ...                 ...   \n",
       "33339 2023-02-26 14:14:43 2023-02-26 14:15:05 2023-02-26 00:00:00   \n",
       "33340 2023-02-26 14:33:45 2023-02-26 14:33:50 2023-02-26 00:00:00   \n",
       "33341 2023-02-26 11:29:39 2023-02-26 11:29:48 2023-02-26 11:29:48   \n",
       "33342 2023-02-26 12:18:20 2023-02-26 12:18:30 2023-02-26 12:18:30   \n",
       "33343 2023-02-26 16:01:22 2023-02-26 16:01:32 2023-02-26 16:01:32   \n",
       "\n",
       "                   q_exit  ...     server        vru_time          q_time  \\\n",
       "0     2023-02-26 00:00:00  ...      DORIT 0 days 00:00:09 0 days 00:00:00   \n",
       "1     2023-02-26 00:00:00  ...  NO_SERVER 0 days 00:00:10 0 days 00:00:00   \n",
       "2     2023-02-26 00:00:00  ...       TOVA 0 days 00:00:13 0 days 00:00:00   \n",
       "3     2023-02-26 08:09:27  ...  NO_SERVER 0 days 00:00:06 0 days 00:00:05   \n",
       "4     2023-02-26 08:20:21  ...     MICHAL 0 days 00:00:05 0 days 00:00:34   \n",
       "...                   ...  ...        ...             ...             ...   \n",
       "33339 2023-02-26 00:00:00  ...  NO_SERVER 0 days 00:00:22 0 days 00:00:00   \n",
       "33340 2023-02-26 00:00:00  ...  NO_SERVER 0 days 00:00:05 0 days 00:00:00   \n",
       "33341 2023-02-26 11:33:39  ...  NO_SERVER 0 days 00:00:09 0 days 00:03:51   \n",
       "33342 2023-02-26 12:18:49  ...       YITZ 0 days 00:00:10 0 days 00:00:19   \n",
       "33343 2023-02-26 16:09:25  ...  NO_SERVER 0 days 00:00:10 0 days 00:07:53   \n",
       "\n",
       "             ser_time customer_type penalty_on_qtime total_qtime_penalty  \\\n",
       "0     0 days 00:02:46  Unidentified              0.0                0.00   \n",
       "1     0 days 00:00:05  Unidentified              0.0                0.00   \n",
       "2     0 days 00:01:32  Unidentified              0.0                0.00   \n",
       "3     0 days 00:00:00      Priority              0.0                0.00   \n",
       "4     0 days 00:01:44      Priority              0.0                0.00   \n",
       "...               ...           ...              ...                 ...   \n",
       "33339 0 days 00:00:00  Unidentified              0.0                0.00   \n",
       "33340 0 days 00:00:00  Unidentified              0.0                0.00   \n",
       "33341 0 days 00:00:00  Unidentified              1.0                3.85   \n",
       "33342 0 days 00:04:06  Unidentified              0.0                0.00   \n",
       "33343 0 days 00:00:00  Unidentified              2.0               15.77   \n",
       "\n",
       "      call_dis_penalty  total_penalty  day_of_week  \n",
       "0                    0           0.00       Monday  \n",
       "1                   10          10.00       Monday  \n",
       "2                    0           0.00       Monday  \n",
       "3                    5           5.00       Monday  \n",
       "4                    0           0.00       Monday  \n",
       "...                ...            ...          ...  \n",
       "33339                5           5.00       Friday  \n",
       "33340                5           5.00       Friday  \n",
       "33341                5           8.85       Sunday  \n",
       "33342                0           0.00       Sunday  \n",
       "33343                5          20.77       Sunday  \n",
       "\n",
       "[33344 rows x 23 columns]"
      ]
     },
     "execution_count": 80,
     "metadata": {},
     "output_type": "execute_result"
    }
   ],
   "source": [
    "df"
   ]
  },
  {
   "cell_type": "markdown",
   "id": "6381294e",
   "metadata": {},
   "source": [
    "# ----------------------------------------------------------------------------------------------------"
   ]
  },
  {
   "cell_type": "markdown",
   "id": "02f6c37b",
   "metadata": {},
   "source": [
    "# Insights:"
   ]
  },
  {
   "cell_type": "markdown",
   "id": "5dccd3d1",
   "metadata": {},
   "source": [
    "- Noticably, there is a difference in amount that was billed earlier and the amount that was generated after the audit.\n",
    "\n",
    "- We observe that Calls received on friday and saturaday are comparatively lower than other days\n",
    "\n",
    "- Most calls received are Unidentified\n",
    "\n",
    "- Major number of the calls do not find an agent\n",
    "\n",
    "- Average q_time penalty is higher for regular customers\n",
    "\n",
    "- Average call disconnection penalty is higher for Unidentified customers\n",
    "\n",
    "- Howeever, the total penalty is higher for regular customers\n",
    "\n",
    "- There are 24 agents which is different from the number told."
   ]
  },
  {
   "cell_type": "code",
   "execution_count": null,
   "id": "ebbbcc30",
   "metadata": {},
   "outputs": [],
   "source": []
  }
 ],
 "metadata": {
  "kernelspec": {
   "display_name": "Python 3 (ipykernel)",
   "language": "python",
   "name": "python3"
  },
  "language_info": {
   "codemirror_mode": {
    "name": "ipython",
    "version": 3
   },
   "file_extension": ".py",
   "mimetype": "text/x-python",
   "name": "python",
   "nbconvert_exporter": "python",
   "pygments_lexer": "ipython3",
   "version": "3.9.13"
  }
 },
 "nbformat": 4,
 "nbformat_minor": 5
}
