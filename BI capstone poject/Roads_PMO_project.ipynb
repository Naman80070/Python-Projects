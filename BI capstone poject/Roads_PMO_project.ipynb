{
 "cells": [
  {
   "cell_type": "code",
   "execution_count": 1,
   "id": "490d9527",
   "metadata": {},
   "outputs": [],
   "source": [
    "# importing the libraries\n",
    "\n",
    "import numpy as np\n",
    "import pandas as pd\n",
    "import seaborn as sns\n",
    "import matplotlib.pyplot as plt"
   ]
  },
  {
   "cell_type": "code",
   "execution_count": 2,
   "id": "50369cce",
   "metadata": {},
   "outputs": [],
   "source": [
    "# loading our data file\n",
    "\n",
    "df = pd.read_excel(r'C:\\Users\\Lenovo\\Desktop\\python\\BI capstone poject\\Roads.xlsx')"
   ]
  },
  {
   "cell_type": "code",
   "execution_count": 3,
   "id": "eb7abd9b",
   "metadata": {},
   "outputs": [
    {
     "data": {
      "text/html": [
       "<div>\n",
       "<style scoped>\n",
       "    .dataframe tbody tr th:only-of-type {\n",
       "        vertical-align: middle;\n",
       "    }\n",
       "\n",
       "    .dataframe tbody tr th {\n",
       "        vertical-align: top;\n",
       "    }\n",
       "\n",
       "    .dataframe thead th {\n",
       "        text-align: right;\n",
       "    }\n",
       "</style>\n",
       "<table border=\"1\" class=\"dataframe\">\n",
       "  <thead>\n",
       "    <tr style=\"text-align: right;\">\n",
       "      <th></th>\n",
       "      <th>Unnamed: 0</th>\n",
       "      <th>National Highways</th>\n",
       "      <th>Unnamed: 2</th>\n",
       "      <th>Unnamed: 3</th>\n",
       "      <th>Unnamed: 4</th>\n",
       "      <th>Unnamed: 5</th>\n",
       "      <th>Unnamed: 6</th>\n",
       "      <th>State Highways</th>\n",
       "      <th>Unnamed: 8</th>\n",
       "      <th>Unnamed: 9</th>\n",
       "      <th>...</th>\n",
       "      <th>Unnamed: 23</th>\n",
       "      <th>Unnamed: 24</th>\n",
       "      <th>Project Roads</th>\n",
       "      <th>Unnamed: 26</th>\n",
       "      <th>Unnamed: 27</th>\n",
       "      <th>Unnamed: 28</th>\n",
       "      <th>Unnamed: 29</th>\n",
       "      <th>Unnamed: 30</th>\n",
       "      <th>Rural Roads</th>\n",
       "      <th>Unnamed: 32</th>\n",
       "    </tr>\n",
       "  </thead>\n",
       "  <tbody>\n",
       "    <tr>\n",
       "      <th>0</th>\n",
       "      <td>Year</td>\n",
       "      <td>2008.0</td>\n",
       "      <td>2009</td>\n",
       "      <td>2010</td>\n",
       "      <td>2011</td>\n",
       "      <td>2012</td>\n",
       "      <td>2013</td>\n",
       "      <td>2008.0</td>\n",
       "      <td>2009</td>\n",
       "      <td>2010</td>\n",
       "      <td>...</td>\n",
       "      <td>2012</td>\n",
       "      <td>2013</td>\n",
       "      <td>2008</td>\n",
       "      <td>2009</td>\n",
       "      <td>2010</td>\n",
       "      <td>2011</td>\n",
       "      <td>2012</td>\n",
       "      <td>2013</td>\n",
       "      <td>2012</td>\n",
       "      <td>2013</td>\n",
       "    </tr>\n",
       "    <tr>\n",
       "      <th>1</th>\n",
       "      <td>Andhra Pradesh</td>\n",
       "      <td>4472.0</td>\n",
       "      <td>4537</td>\n",
       "      <td>4537</td>\n",
       "      <td>4537</td>\n",
       "      <td>4537</td>\n",
       "      <td>5022</td>\n",
       "      <td>10518.0</td>\n",
       "      <td>10470</td>\n",
       "      <td>10481</td>\n",
       "      <td>...</td>\n",
       "      <td>13759</td>\n",
       "      <td>13628</td>\n",
       "      <td>8657</td>\n",
       "      <td>7463</td>\n",
       "      <td>7476</td>\n",
       "      <td>7453</td>\n",
       "      <td>7507</td>\n",
       "      <td>7620</td>\n",
       "      <td>164026</td>\n",
       "      <td>168516</td>\n",
       "    </tr>\n",
       "    <tr>\n",
       "      <th>2</th>\n",
       "      <td>Arunachal Pradesh</td>\n",
       "      <td>392.0</td>\n",
       "      <td>1992</td>\n",
       "      <td>1992</td>\n",
       "      <td>1992</td>\n",
       "      <td>2027</td>\n",
       "      <td>2027</td>\n",
       "      <td>0.0</td>\n",
       "      <td>..</td>\n",
       "      <td>..</td>\n",
       "      <td>...</td>\n",
       "      <td>53</td>\n",
       "      <td>18</td>\n",
       "      <td>1118</td>\n",
       "      <td>1088</td>\n",
       "      <td>1088</td>\n",
       "      <td>1088</td>\n",
       "      <td>5699</td>\n",
       "      <td>5699</td>\n",
       "      <td>3345</td>\n",
       "      <td>5262</td>\n",
       "    </tr>\n",
       "    <tr>\n",
       "      <th>3</th>\n",
       "      <td>Assam</td>\n",
       "      <td>2836.0</td>\n",
       "      <td>2836</td>\n",
       "      <td>2836</td>\n",
       "      <td>2836</td>\n",
       "      <td>2940</td>\n",
       "      <td>2940</td>\n",
       "      <td>3134.0</td>\n",
       "      <td>3134</td>\n",
       "      <td>3134</td>\n",
       "      <td>...</td>\n",
       "      <td>6710</td>\n",
       "      <td>4518</td>\n",
       "      <td>8061</td>\n",
       "      <td>8087</td>\n",
       "      <td>8298</td>\n",
       "      <td>8493</td>\n",
       "      <td>11348</td>\n",
       "      <td>13090</td>\n",
       "      <td>217734</td>\n",
       "      <td>222087</td>\n",
       "    </tr>\n",
       "    <tr>\n",
       "      <th>4</th>\n",
       "      <td>Bihar</td>\n",
       "      <td>3642.0</td>\n",
       "      <td>3642</td>\n",
       "      <td>3642</td>\n",
       "      <td>3642</td>\n",
       "      <td>4105</td>\n",
       "      <td>4168</td>\n",
       "      <td>3767.0</td>\n",
       "      <td>3989</td>\n",
       "      <td>3989</td>\n",
       "      <td>...</td>\n",
       "      <td>8918</td>\n",
       "      <td>8760</td>\n",
       "      <td>2328</td>\n",
       "      <td>2850</td>\n",
       "      <td>2850</td>\n",
       "      <td>2850</td>\n",
       "      <td>2848</td>\n",
       "      <td>2848</td>\n",
       "      <td>108759</td>\n",
       "      <td>167579</td>\n",
       "    </tr>\n",
       "  </tbody>\n",
       "</table>\n",
       "<p>5 rows × 33 columns</p>\n",
       "</div>"
      ],
      "text/plain": [
       "           Unnamed: 0  National Highways Unnamed: 2 Unnamed: 3 Unnamed: 4  \\\n",
       "0                Year             2008.0       2009       2010       2011   \n",
       "1      Andhra Pradesh             4472.0       4537       4537       4537   \n",
       "2   Arunachal Pradesh              392.0       1992       1992       1992   \n",
       "3               Assam             2836.0       2836       2836       2836   \n",
       "4               Bihar             3642.0       3642       3642       3642   \n",
       "\n",
       "  Unnamed: 5 Unnamed: 6  State Highways Unnamed: 8 Unnamed: 9  ...  \\\n",
       "0       2012       2013          2008.0       2009       2010  ...   \n",
       "1       4537       5022         10518.0      10470      10481  ...   \n",
       "2       2027       2027             0.0         ..         ..  ...   \n",
       "3       2940       2940          3134.0       3134       3134  ...   \n",
       "4       4105       4168          3767.0       3989       3989  ...   \n",
       "\n",
       "  Unnamed: 23 Unnamed: 24 Project Roads Unnamed: 26  Unnamed: 27  Unnamed: 28  \\\n",
       "0        2012        2013          2008        2009         2010         2011   \n",
       "1       13759       13628          8657        7463         7476         7453   \n",
       "2          53          18          1118        1088         1088         1088   \n",
       "3        6710        4518          8061        8087         8298         8493   \n",
       "4        8918        8760          2328        2850         2850         2850   \n",
       "\n",
       "   Unnamed: 29  Unnamed: 30  Rural Roads Unnamed: 32  \n",
       "0         2012         2013         2012        2013  \n",
       "1         7507         7620       164026      168516  \n",
       "2         5699         5699         3345        5262  \n",
       "3        11348        13090       217734      222087  \n",
       "4         2848         2848       108759      167579  \n",
       "\n",
       "[5 rows x 33 columns]"
      ]
     },
     "execution_count": 3,
     "metadata": {},
     "output_type": "execute_result"
    }
   ],
   "source": [
    "#taking a look at our dataset\n",
    "# loading our dataframe\n",
    "df.head()"
   ]
  },
  {
   "cell_type": "markdown",
   "id": "677eacbf",
   "metadata": {},
   "source": [
    "It is clearly noticed that there are issues in our data.\n",
    "\n",
    "- Column names are treated as records which starts from row-2\n",
    "\n",
    "- nan values must be removed "
   ]
  },
  {
   "cell_type": "code",
   "execution_count": 4,
   "id": "8e76687b",
   "metadata": {},
   "outputs": [],
   "source": [
    "# Hence, dropping values that are worthless\n",
    "# Dropping all the NaN values from our dataset\n",
    "\n",
    "df = df.dropna()"
   ]
  },
  {
   "cell_type": "markdown",
   "id": "8e9687a6",
   "metadata": {},
   "source": [
    "# Let's see all our column names"
   ]
  },
  {
   "cell_type": "code",
   "execution_count": 5,
   "id": "5eba34db",
   "metadata": {},
   "outputs": [
    {
     "data": {
      "text/plain": [
       "Index(['Unnamed: 0', 'National Highways', 'Unnamed: 2', 'Unnamed: 3',\n",
       "       'Unnamed: 4', 'Unnamed: 5', 'Unnamed: 6', 'State Highways',\n",
       "       'Unnamed: 8', 'Unnamed: 9', 'Unnamed: 10', 'Unnamed: 11', 'Unnamed: 12',\n",
       "       'PWD Roads', 'Unnamed: 14', 'Unnamed: 15', 'Unnamed: 16', 'Unnamed: 17',\n",
       "       'Unnamed: 18', 'Urban Roads', 'Unnamed: 20', 'Unnamed: 21',\n",
       "       'Unnamed: 22', 'Unnamed: 23', 'Unnamed: 24', 'Project Roads',\n",
       "       'Unnamed: 26', 'Unnamed: 27', 'Unnamed: 28', 'Unnamed: 29',\n",
       "       'Unnamed: 30', 'Rural Roads', 'Unnamed: 32'],\n",
       "      dtype='object')"
      ]
     },
     "execution_count": 5,
     "metadata": {},
     "output_type": "execute_result"
    }
   ],
   "source": [
    "df.columns"
   ]
  },
  {
   "cell_type": "markdown",
   "id": "8428780a",
   "metadata": {},
   "source": [
    "# Creating dataframe for National highways"
   ]
  },
  {
   "cell_type": "code",
   "execution_count": 6,
   "id": "af5252e0",
   "metadata": {},
   "outputs": [
    {
     "data": {
      "text/html": [
       "<div>\n",
       "<style scoped>\n",
       "    .dataframe tbody tr th:only-of-type {\n",
       "        vertical-align: middle;\n",
       "    }\n",
       "\n",
       "    .dataframe tbody tr th {\n",
       "        vertical-align: top;\n",
       "    }\n",
       "\n",
       "    .dataframe thead th {\n",
       "        text-align: right;\n",
       "    }\n",
       "</style>\n",
       "<table border=\"1\" class=\"dataframe\">\n",
       "  <thead>\n",
       "    <tr style=\"text-align: right;\">\n",
       "      <th></th>\n",
       "      <th>Unnamed: 0</th>\n",
       "      <th>National Highways</th>\n",
       "      <th>Unnamed: 2</th>\n",
       "      <th>Unnamed: 3</th>\n",
       "      <th>Unnamed: 4</th>\n",
       "      <th>Unnamed: 5</th>\n",
       "      <th>Unnamed: 6</th>\n",
       "    </tr>\n",
       "  </thead>\n",
       "  <tbody>\n",
       "    <tr>\n",
       "      <th>0</th>\n",
       "      <td>Year</td>\n",
       "      <td>2008.0</td>\n",
       "      <td>2009</td>\n",
       "      <td>2010</td>\n",
       "      <td>2011</td>\n",
       "      <td>2012</td>\n",
       "      <td>2013</td>\n",
       "    </tr>\n",
       "    <tr>\n",
       "      <th>1</th>\n",
       "      <td>Andhra Pradesh</td>\n",
       "      <td>4472.0</td>\n",
       "      <td>4537</td>\n",
       "      <td>4537</td>\n",
       "      <td>4537</td>\n",
       "      <td>4537</td>\n",
       "      <td>5022</td>\n",
       "    </tr>\n",
       "    <tr>\n",
       "      <th>2</th>\n",
       "      <td>Arunachal Pradesh</td>\n",
       "      <td>392.0</td>\n",
       "      <td>1992</td>\n",
       "      <td>1992</td>\n",
       "      <td>1992</td>\n",
       "      <td>2027</td>\n",
       "      <td>2027</td>\n",
       "    </tr>\n",
       "    <tr>\n",
       "      <th>3</th>\n",
       "      <td>Assam</td>\n",
       "      <td>2836.0</td>\n",
       "      <td>2836</td>\n",
       "      <td>2836</td>\n",
       "      <td>2836</td>\n",
       "      <td>2940</td>\n",
       "      <td>2940</td>\n",
       "    </tr>\n",
       "    <tr>\n",
       "      <th>4</th>\n",
       "      <td>Bihar</td>\n",
       "      <td>3642.0</td>\n",
       "      <td>3642</td>\n",
       "      <td>3642</td>\n",
       "      <td>3642</td>\n",
       "      <td>4105</td>\n",
       "      <td>4168</td>\n",
       "    </tr>\n",
       "  </tbody>\n",
       "</table>\n",
       "</div>"
      ],
      "text/plain": [
       "           Unnamed: 0  National Highways Unnamed: 2 Unnamed: 3 Unnamed: 4  \\\n",
       "0                Year             2008.0       2009       2010       2011   \n",
       "1      Andhra Pradesh             4472.0       4537       4537       4537   \n",
       "2   Arunachal Pradesh              392.0       1992       1992       1992   \n",
       "3               Assam             2836.0       2836       2836       2836   \n",
       "4               Bihar             3642.0       3642       3642       3642   \n",
       "\n",
       "  Unnamed: 5 Unnamed: 6  \n",
       "0       2012       2013  \n",
       "1       4537       5022  \n",
       "2       2027       2027  \n",
       "3       2940       2940  \n",
       "4       4105       4168  "
      ]
     },
     "execution_count": 6,
     "metadata": {},
     "output_type": "execute_result"
    }
   ],
   "source": [
    "# creating dataframe for National highways\n",
    "\n",
    "nh_df = pd.DataFrame(df,columns=['Unnamed: 0','National Highways','Unnamed: 2','Unnamed: 3','Unnamed: 4','Unnamed: 5','Unnamed: 6'])\n",
    "nh_df.head()"
   ]
  },
  {
   "cell_type": "markdown",
   "id": "14567597",
   "metadata": {},
   "source": [
    "# Creating dataframe for State highways"
   ]
  },
  {
   "cell_type": "code",
   "execution_count": 7,
   "id": "cc4ea213",
   "metadata": {},
   "outputs": [
    {
     "data": {
      "text/html": [
       "<div>\n",
       "<style scoped>\n",
       "    .dataframe tbody tr th:only-of-type {\n",
       "        vertical-align: middle;\n",
       "    }\n",
       "\n",
       "    .dataframe tbody tr th {\n",
       "        vertical-align: top;\n",
       "    }\n",
       "\n",
       "    .dataframe thead th {\n",
       "        text-align: right;\n",
       "    }\n",
       "</style>\n",
       "<table border=\"1\" class=\"dataframe\">\n",
       "  <thead>\n",
       "    <tr style=\"text-align: right;\">\n",
       "      <th></th>\n",
       "      <th>Unnamed: 0</th>\n",
       "      <th>State Highways</th>\n",
       "      <th>Unnamed: 8</th>\n",
       "      <th>Unnamed: 9</th>\n",
       "      <th>Unnamed: 10</th>\n",
       "      <th>Unnamed: 11</th>\n",
       "      <th>Unnamed: 12</th>\n",
       "    </tr>\n",
       "  </thead>\n",
       "  <tbody>\n",
       "    <tr>\n",
       "      <th>0</th>\n",
       "      <td>Year</td>\n",
       "      <td>2008.0</td>\n",
       "      <td>2009</td>\n",
       "      <td>2010</td>\n",
       "      <td>2011</td>\n",
       "      <td>2012</td>\n",
       "      <td>2013</td>\n",
       "    </tr>\n",
       "    <tr>\n",
       "      <th>1</th>\n",
       "      <td>Andhra Pradesh</td>\n",
       "      <td>10518.0</td>\n",
       "      <td>10470</td>\n",
       "      <td>10481</td>\n",
       "      <td>10491</td>\n",
       "      <td>10650</td>\n",
       "      <td>10700</td>\n",
       "    </tr>\n",
       "    <tr>\n",
       "      <th>2</th>\n",
       "      <td>Arunachal Pradesh</td>\n",
       "      <td>0.0</td>\n",
       "      <td>..</td>\n",
       "      <td>..</td>\n",
       "      <td>..</td>\n",
       "      <td>..</td>\n",
       "      <td>..</td>\n",
       "    </tr>\n",
       "    <tr>\n",
       "      <th>3</th>\n",
       "      <td>Assam</td>\n",
       "      <td>3134.0</td>\n",
       "      <td>3134</td>\n",
       "      <td>3134</td>\n",
       "      <td>3134</td>\n",
       "      <td>3134</td>\n",
       "      <td>3134</td>\n",
       "    </tr>\n",
       "    <tr>\n",
       "      <th>4</th>\n",
       "      <td>Bihar</td>\n",
       "      <td>3767.0</td>\n",
       "      <td>3989</td>\n",
       "      <td>3989</td>\n",
       "      <td>3989</td>\n",
       "      <td>4857</td>\n",
       "      <td>4483</td>\n",
       "    </tr>\n",
       "  </tbody>\n",
       "</table>\n",
       "</div>"
      ],
      "text/plain": [
       "           Unnamed: 0  State Highways Unnamed: 8 Unnamed: 9 Unnamed: 10  \\\n",
       "0                Year          2008.0       2009       2010        2011   \n",
       "1      Andhra Pradesh         10518.0      10470      10481       10491   \n",
       "2   Arunachal Pradesh             0.0         ..         ..          ..   \n",
       "3               Assam          3134.0       3134       3134        3134   \n",
       "4               Bihar          3767.0       3989       3989        3989   \n",
       "\n",
       "  Unnamed: 11 Unnamed: 12  \n",
       "0        2012        2013  \n",
       "1       10650       10700  \n",
       "2          ..          ..  \n",
       "3        3134        3134  \n",
       "4        4857        4483  "
      ]
     },
     "execution_count": 7,
     "metadata": {},
     "output_type": "execute_result"
    }
   ],
   "source": [
    "# creating dataframe for State highways\n",
    "\n",
    "sh_df = pd.DataFrame(df,columns=['Unnamed: 0','State Highways','Unnamed: 8','Unnamed: 9','Unnamed: 10','Unnamed: 11','Unnamed: 12'])\n",
    "sh_df.head()"
   ]
  },
  {
   "cell_type": "markdown",
   "id": "e486cea1",
   "metadata": {},
   "source": [
    "# Creating dataframe for PWD roads\n"
   ]
  },
  {
   "cell_type": "code",
   "execution_count": 8,
   "id": "9156d0ce",
   "metadata": {},
   "outputs": [
    {
     "data": {
      "text/html": [
       "<div>\n",
       "<style scoped>\n",
       "    .dataframe tbody tr th:only-of-type {\n",
       "        vertical-align: middle;\n",
       "    }\n",
       "\n",
       "    .dataframe tbody tr th {\n",
       "        vertical-align: top;\n",
       "    }\n",
       "\n",
       "    .dataframe thead th {\n",
       "        text-align: right;\n",
       "    }\n",
       "</style>\n",
       "<table border=\"1\" class=\"dataframe\">\n",
       "  <thead>\n",
       "    <tr style=\"text-align: right;\">\n",
       "      <th></th>\n",
       "      <th>Unnamed: 0</th>\n",
       "      <th>PWD Roads</th>\n",
       "      <th>Unnamed: 14</th>\n",
       "      <th>Unnamed: 15</th>\n",
       "      <th>Unnamed: 16</th>\n",
       "      <th>Unnamed: 17</th>\n",
       "      <th>Unnamed: 18</th>\n",
       "    </tr>\n",
       "  </thead>\n",
       "  <tbody>\n",
       "    <tr>\n",
       "      <th>0</th>\n",
       "      <td>Year</td>\n",
       "      <td>2008</td>\n",
       "      <td>2009.0</td>\n",
       "      <td>2010.0</td>\n",
       "      <td>2011.0</td>\n",
       "      <td>2012.0</td>\n",
       "      <td>2013.0</td>\n",
       "    </tr>\n",
       "    <tr>\n",
       "      <th>1</th>\n",
       "      <td>Andhra Pradesh</td>\n",
       "      <td>53886</td>\n",
       "      <td>55194.0</td>\n",
       "      <td>55466.0</td>\n",
       "      <td>55658.0</td>\n",
       "      <td>55968.0</td>\n",
       "      <td>56171.0</td>\n",
       "    </tr>\n",
       "    <tr>\n",
       "      <th>2</th>\n",
       "      <td>Arunachal Pradesh</td>\n",
       "      <td>12967</td>\n",
       "      <td>12967.0</td>\n",
       "      <td>12967.0</td>\n",
       "      <td>12967.0</td>\n",
       "      <td>3856.0</td>\n",
       "      <td>15089.0</td>\n",
       "    </tr>\n",
       "    <tr>\n",
       "      <th>3</th>\n",
       "      <td>Assam</td>\n",
       "      <td>31813</td>\n",
       "      <td>31813.0</td>\n",
       "      <td>31813.0</td>\n",
       "      <td>31813.0</td>\n",
       "      <td>42366.0</td>\n",
       "      <td>42366.0</td>\n",
       "    </tr>\n",
       "    <tr>\n",
       "      <th>4</th>\n",
       "      <td>Bihar</td>\n",
       "      <td>74672</td>\n",
       "      <td>8158.0</td>\n",
       "      <td>8966.0</td>\n",
       "      <td>8966.0</td>\n",
       "      <td>9030.0</td>\n",
       "      <td>9401.0</td>\n",
       "    </tr>\n",
       "  </tbody>\n",
       "</table>\n",
       "</div>"
      ],
      "text/plain": [
       "           Unnamed: 0 PWD Roads  Unnamed: 14  Unnamed: 15  Unnamed: 16  \\\n",
       "0                Year      2008       2009.0       2010.0       2011.0   \n",
       "1      Andhra Pradesh     53886      55194.0      55466.0      55658.0   \n",
       "2   Arunachal Pradesh     12967      12967.0      12967.0      12967.0   \n",
       "3               Assam     31813      31813.0      31813.0      31813.0   \n",
       "4               Bihar     74672       8158.0       8966.0       8966.0   \n",
       "\n",
       "   Unnamed: 17  Unnamed: 18  \n",
       "0       2012.0       2013.0  \n",
       "1      55968.0      56171.0  \n",
       "2       3856.0      15089.0  \n",
       "3      42366.0      42366.0  \n",
       "4       9030.0       9401.0  "
      ]
     },
     "execution_count": 8,
     "metadata": {},
     "output_type": "execute_result"
    }
   ],
   "source": [
    "pwd_df = pd.DataFrame(df,columns=['Unnamed: 0','PWD Roads','Unnamed: 14', 'Unnamed: 15', 'Unnamed: 16', 'Unnamed: 17',\n",
    "       'Unnamed: 18'])\n",
    "pwd_df.head()"
   ]
  },
  {
   "cell_type": "markdown",
   "id": "17bdc1ad",
   "metadata": {},
   "source": [
    "# Creating dataframe for Urban roads\n"
   ]
  },
  {
   "cell_type": "code",
   "execution_count": 9,
   "id": "d89cd1b6",
   "metadata": {},
   "outputs": [
    {
     "data": {
      "text/html": [
       "<div>\n",
       "<style scoped>\n",
       "    .dataframe tbody tr th:only-of-type {\n",
       "        vertical-align: middle;\n",
       "    }\n",
       "\n",
       "    .dataframe tbody tr th {\n",
       "        vertical-align: top;\n",
       "    }\n",
       "\n",
       "    .dataframe thead th {\n",
       "        text-align: right;\n",
       "    }\n",
       "</style>\n",
       "<table border=\"1\" class=\"dataframe\">\n",
       "  <thead>\n",
       "    <tr style=\"text-align: right;\">\n",
       "      <th></th>\n",
       "      <th>Unnamed: 0</th>\n",
       "      <th>Urban Roads</th>\n",
       "      <th>Unnamed: 20</th>\n",
       "      <th>Unnamed: 21</th>\n",
       "      <th>Unnamed: 22</th>\n",
       "      <th>Unnamed: 23</th>\n",
       "      <th>Unnamed: 24</th>\n",
       "    </tr>\n",
       "  </thead>\n",
       "  <tbody>\n",
       "    <tr>\n",
       "      <th>0</th>\n",
       "      <td>Year</td>\n",
       "      <td>2008</td>\n",
       "      <td>2009</td>\n",
       "      <td>2010</td>\n",
       "      <td>2011</td>\n",
       "      <td>2012</td>\n",
       "      <td>2013</td>\n",
       "    </tr>\n",
       "    <tr>\n",
       "      <th>1</th>\n",
       "      <td>Andhra Pradesh</td>\n",
       "      <td>13799</td>\n",
       "      <td>13811</td>\n",
       "      <td>13820</td>\n",
       "      <td>13843</td>\n",
       "      <td>13759</td>\n",
       "      <td>13628</td>\n",
       "    </tr>\n",
       "    <tr>\n",
       "      <th>2</th>\n",
       "      <td>Arunachal Pradesh</td>\n",
       "      <td>14</td>\n",
       "      <td>53</td>\n",
       "      <td>53</td>\n",
       "      <td>53</td>\n",
       "      <td>53</td>\n",
       "      <td>18</td>\n",
       "    </tr>\n",
       "    <tr>\n",
       "      <th>3</th>\n",
       "      <td>Assam</td>\n",
       "      <td>5747</td>\n",
       "      <td>6418</td>\n",
       "      <td>6520</td>\n",
       "      <td>6664</td>\n",
       "      <td>6710</td>\n",
       "      <td>4518</td>\n",
       "    </tr>\n",
       "    <tr>\n",
       "      <th>4</th>\n",
       "      <td>Bihar</td>\n",
       "      <td>9854</td>\n",
       "      <td>9864</td>\n",
       "      <td>9883</td>\n",
       "      <td>9975</td>\n",
       "      <td>8918</td>\n",
       "      <td>8760</td>\n",
       "    </tr>\n",
       "  </tbody>\n",
       "</table>\n",
       "</div>"
      ],
      "text/plain": [
       "           Unnamed: 0 Urban Roads Unnamed: 20 Unnamed: 21 Unnamed: 22  \\\n",
       "0                Year        2008        2009        2010        2011   \n",
       "1      Andhra Pradesh       13799       13811       13820       13843   \n",
       "2   Arunachal Pradesh          14          53          53          53   \n",
       "3               Assam        5747        6418        6520        6664   \n",
       "4               Bihar        9854        9864        9883        9975   \n",
       "\n",
       "  Unnamed: 23 Unnamed: 24  \n",
       "0        2012        2013  \n",
       "1       13759       13628  \n",
       "2          53          18  \n",
       "3        6710        4518  \n",
       "4        8918        8760  "
      ]
     },
     "execution_count": 9,
     "metadata": {},
     "output_type": "execute_result"
    }
   ],
   "source": [
    "urban_df = pd.DataFrame(df,columns=['Unnamed: 0','Urban Roads', 'Unnamed: 20', 'Unnamed: 21',\n",
    "       'Unnamed: 22', 'Unnamed: 23', 'Unnamed: 24'])\n",
    "urban_df.head()"
   ]
  },
  {
   "cell_type": "markdown",
   "id": "8fd6ef56",
   "metadata": {},
   "source": [
    "# Creating dataframe for Project Roads\n"
   ]
  },
  {
   "cell_type": "code",
   "execution_count": 10,
   "id": "5de233c0",
   "metadata": {},
   "outputs": [
    {
     "data": {
      "text/html": [
       "<div>\n",
       "<style scoped>\n",
       "    .dataframe tbody tr th:only-of-type {\n",
       "        vertical-align: middle;\n",
       "    }\n",
       "\n",
       "    .dataframe tbody tr th {\n",
       "        vertical-align: top;\n",
       "    }\n",
       "\n",
       "    .dataframe thead th {\n",
       "        text-align: right;\n",
       "    }\n",
       "</style>\n",
       "<table border=\"1\" class=\"dataframe\">\n",
       "  <thead>\n",
       "    <tr style=\"text-align: right;\">\n",
       "      <th></th>\n",
       "      <th>Unnamed: 0</th>\n",
       "      <th>Project Roads</th>\n",
       "      <th>Unnamed: 26</th>\n",
       "      <th>Unnamed: 27</th>\n",
       "      <th>Unnamed: 28</th>\n",
       "      <th>Unnamed: 29</th>\n",
       "      <th>Unnamed: 30</th>\n",
       "    </tr>\n",
       "  </thead>\n",
       "  <tbody>\n",
       "    <tr>\n",
       "      <th>0</th>\n",
       "      <td>Year</td>\n",
       "      <td>2008</td>\n",
       "      <td>2009</td>\n",
       "      <td>2010</td>\n",
       "      <td>2011</td>\n",
       "      <td>2012</td>\n",
       "      <td>2013</td>\n",
       "    </tr>\n",
       "    <tr>\n",
       "      <th>1</th>\n",
       "      <td>Andhra Pradesh</td>\n",
       "      <td>8657</td>\n",
       "      <td>7463</td>\n",
       "      <td>7476</td>\n",
       "      <td>7453</td>\n",
       "      <td>7507</td>\n",
       "      <td>7620</td>\n",
       "    </tr>\n",
       "    <tr>\n",
       "      <th>2</th>\n",
       "      <td>Arunachal Pradesh</td>\n",
       "      <td>1118</td>\n",
       "      <td>1088</td>\n",
       "      <td>1088</td>\n",
       "      <td>1088</td>\n",
       "      <td>5699</td>\n",
       "      <td>5699</td>\n",
       "    </tr>\n",
       "    <tr>\n",
       "      <th>3</th>\n",
       "      <td>Assam</td>\n",
       "      <td>8061</td>\n",
       "      <td>8087</td>\n",
       "      <td>8298</td>\n",
       "      <td>8493</td>\n",
       "      <td>11348</td>\n",
       "      <td>13090</td>\n",
       "    </tr>\n",
       "    <tr>\n",
       "      <th>4</th>\n",
       "      <td>Bihar</td>\n",
       "      <td>2328</td>\n",
       "      <td>2850</td>\n",
       "      <td>2850</td>\n",
       "      <td>2850</td>\n",
       "      <td>2848</td>\n",
       "      <td>2848</td>\n",
       "    </tr>\n",
       "  </tbody>\n",
       "</table>\n",
       "</div>"
      ],
      "text/plain": [
       "           Unnamed: 0 Project Roads Unnamed: 26 Unnamed: 27 Unnamed: 28  \\\n",
       "0                Year          2008        2009        2010        2011   \n",
       "1      Andhra Pradesh          8657        7463        7476        7453   \n",
       "2   Arunachal Pradesh          1118        1088        1088        1088   \n",
       "3               Assam          8061        8087        8298        8493   \n",
       "4               Bihar          2328        2850        2850        2850   \n",
       "\n",
       "  Unnamed: 29 Unnamed: 30  \n",
       "0        2012        2013  \n",
       "1        7507        7620  \n",
       "2        5699        5699  \n",
       "3       11348       13090  \n",
       "4        2848        2848  "
      ]
     },
     "execution_count": 10,
     "metadata": {},
     "output_type": "execute_result"
    }
   ],
   "source": [
    "project_df = pd.DataFrame(df,columns=['Unnamed: 0','Project Roads',\n",
    "       'Unnamed: 26', 'Unnamed: 27', 'Unnamed: 28', 'Unnamed: 29',\n",
    "       'Unnamed: 30'])\n",
    "project_df.head()"
   ]
  },
  {
   "cell_type": "markdown",
   "id": "8e2653b6",
   "metadata": {},
   "source": [
    "# Creating dataframe for Rural Roads"
   ]
  },
  {
   "cell_type": "code",
   "execution_count": 11,
   "id": "8e67e41e",
   "metadata": {},
   "outputs": [
    {
     "data": {
      "text/html": [
       "<div>\n",
       "<style scoped>\n",
       "    .dataframe tbody tr th:only-of-type {\n",
       "        vertical-align: middle;\n",
       "    }\n",
       "\n",
       "    .dataframe tbody tr th {\n",
       "        vertical-align: top;\n",
       "    }\n",
       "\n",
       "    .dataframe thead th {\n",
       "        text-align: right;\n",
       "    }\n",
       "</style>\n",
       "<table border=\"1\" class=\"dataframe\">\n",
       "  <thead>\n",
       "    <tr style=\"text-align: right;\">\n",
       "      <th></th>\n",
       "      <th>Unnamed: 0</th>\n",
       "      <th>Rural Roads</th>\n",
       "      <th>Unnamed: 32</th>\n",
       "    </tr>\n",
       "  </thead>\n",
       "  <tbody>\n",
       "    <tr>\n",
       "      <th>0</th>\n",
       "      <td>Year</td>\n",
       "      <td>2012</td>\n",
       "      <td>2013</td>\n",
       "    </tr>\n",
       "    <tr>\n",
       "      <th>1</th>\n",
       "      <td>Andhra Pradesh</td>\n",
       "      <td>164026</td>\n",
       "      <td>168516</td>\n",
       "    </tr>\n",
       "    <tr>\n",
       "      <th>2</th>\n",
       "      <td>Arunachal Pradesh</td>\n",
       "      <td>3345</td>\n",
       "      <td>5262</td>\n",
       "    </tr>\n",
       "    <tr>\n",
       "      <th>3</th>\n",
       "      <td>Assam</td>\n",
       "      <td>217734</td>\n",
       "      <td>222087</td>\n",
       "    </tr>\n",
       "    <tr>\n",
       "      <th>4</th>\n",
       "      <td>Bihar</td>\n",
       "      <td>108759</td>\n",
       "      <td>167579</td>\n",
       "    </tr>\n",
       "  </tbody>\n",
       "</table>\n",
       "</div>"
      ],
      "text/plain": [
       "           Unnamed: 0 Rural Roads Unnamed: 32\n",
       "0                Year        2012        2013\n",
       "1      Andhra Pradesh      164026      168516\n",
       "2   Arunachal Pradesh        3345        5262\n",
       "3               Assam      217734      222087\n",
       "4               Bihar      108759      167579"
      ]
     },
     "execution_count": 11,
     "metadata": {},
     "output_type": "execute_result"
    }
   ],
   "source": [
    "rural_df = pd.DataFrame(df,columns=['Unnamed: 0','Rural Roads', 'Unnamed: 32'])\n",
    "rural_df.head()"
   ]
  },
  {
   "cell_type": "markdown",
   "id": "6731178e",
   "metadata": {},
   "source": [
    "# Our new dataframes -\n",
    "\n",
    "- df\n",
    "\n",
    "- nh_df\n",
    "\n",
    "- sh_df\n",
    "\n",
    "- pwd_df\n",
    "\n",
    "- urban_df\n",
    "\n",
    "- project_df\n",
    "\n",
    "- rural_df"
   ]
  },
  {
   "cell_type": "markdown",
   "id": "dbf0b243",
   "metadata": {},
   "source": [
    "# Now, we have correct the column headers of all our dataframes"
   ]
  },
  {
   "cell_type": "code",
   "execution_count": 12,
   "id": "c767dfc7",
   "metadata": {},
   "outputs": [],
   "source": [
    "# Converting our row as column headers of the dataframe\n",
    "\n",
    "nh_df.columns = nh_df.iloc[0]\n",
    "sh_df.columns = sh_df.iloc[0]\n",
    "pwd_df.columns = pwd_df.iloc[0]\n",
    "urban_df.columns = urban_df.iloc[0]\n",
    "project_df.columns = project_df.iloc[0]\n",
    "rural_df.columns = rural_df.iloc[0]"
   ]
  },
  {
   "cell_type": "code",
   "execution_count": 13,
   "id": "e2e4f323",
   "metadata": {},
   "outputs": [
    {
     "data": {
      "text/html": [
       "<div>\n",
       "<style scoped>\n",
       "    .dataframe tbody tr th:only-of-type {\n",
       "        vertical-align: middle;\n",
       "    }\n",
       "\n",
       "    .dataframe tbody tr th {\n",
       "        vertical-align: top;\n",
       "    }\n",
       "\n",
       "    .dataframe thead th {\n",
       "        text-align: right;\n",
       "    }\n",
       "</style>\n",
       "<table border=\"1\" class=\"dataframe\">\n",
       "  <thead>\n",
       "    <tr style=\"text-align: right;\">\n",
       "      <th></th>\n",
       "      <th>Year</th>\n",
       "      <th>2008.0</th>\n",
       "      <th>2009</th>\n",
       "      <th>2010</th>\n",
       "      <th>2011</th>\n",
       "      <th>2012</th>\n",
       "      <th>2013</th>\n",
       "    </tr>\n",
       "  </thead>\n",
       "  <tbody>\n",
       "    <tr>\n",
       "      <th>0</th>\n",
       "      <td>Year</td>\n",
       "      <td>2008.0</td>\n",
       "      <td>2009</td>\n",
       "      <td>2010</td>\n",
       "      <td>2011</td>\n",
       "      <td>2012</td>\n",
       "      <td>2013</td>\n",
       "    </tr>\n",
       "    <tr>\n",
       "      <th>1</th>\n",
       "      <td>Andhra Pradesh</td>\n",
       "      <td>4472.0</td>\n",
       "      <td>4537</td>\n",
       "      <td>4537</td>\n",
       "      <td>4537</td>\n",
       "      <td>4537</td>\n",
       "      <td>5022</td>\n",
       "    </tr>\n",
       "    <tr>\n",
       "      <th>2</th>\n",
       "      <td>Arunachal Pradesh</td>\n",
       "      <td>392.0</td>\n",
       "      <td>1992</td>\n",
       "      <td>1992</td>\n",
       "      <td>1992</td>\n",
       "      <td>2027</td>\n",
       "      <td>2027</td>\n",
       "    </tr>\n",
       "    <tr>\n",
       "      <th>3</th>\n",
       "      <td>Assam</td>\n",
       "      <td>2836.0</td>\n",
       "      <td>2836</td>\n",
       "      <td>2836</td>\n",
       "      <td>2836</td>\n",
       "      <td>2940</td>\n",
       "      <td>2940</td>\n",
       "    </tr>\n",
       "    <tr>\n",
       "      <th>4</th>\n",
       "      <td>Bihar</td>\n",
       "      <td>3642.0</td>\n",
       "      <td>3642</td>\n",
       "      <td>3642</td>\n",
       "      <td>3642</td>\n",
       "      <td>4105</td>\n",
       "      <td>4168</td>\n",
       "    </tr>\n",
       "  </tbody>\n",
       "</table>\n",
       "</div>"
      ],
      "text/plain": [
       "0                Year  2008.0  2009  2010  2011  2012  2013\n",
       "0                Year  2008.0  2009  2010  2011  2012  2013\n",
       "1      Andhra Pradesh  4472.0  4537  4537  4537  4537  5022\n",
       "2   Arunachal Pradesh   392.0  1992  1992  1992  2027  2027\n",
       "3               Assam  2836.0  2836  2836  2836  2940  2940\n",
       "4               Bihar  3642.0  3642  3642  3642  4105  4168"
      ]
     },
     "execution_count": 13,
     "metadata": {},
     "output_type": "execute_result"
    }
   ],
   "source": [
    "nh_df.head()"
   ]
  },
  {
   "cell_type": "code",
   "execution_count": 14,
   "id": "4d9aa51b",
   "metadata": {},
   "outputs": [],
   "source": [
    "# Correcting the column names\n",
    "\n",
    "nh_df.set_axis([\"State\",\"2008\",\"2009\",\"2010\",\"2011\",\"2012\",\"2013\"], axis=\"columns\", inplace=True)\n",
    "sh_df.set_axis([\"State\",\"2008\",\"2009\",\"2010\",\"2011\",\"2012\",\"2013\"], axis=\"columns\", inplace=True)\n",
    "pwd_df.set_axis([\"State\",\"2008\",\"2009\",\"2010\",\"2011\",\"2012\",\"2013\"], axis=\"columns\", inplace=True)"
   ]
  },
  {
   "cell_type": "code",
   "execution_count": 15,
   "id": "51c34c63",
   "metadata": {},
   "outputs": [],
   "source": [
    "urban_df.set_axis([\"State\",\"2008\",\"2009\",\"2010\",\"2011\",\"2012\",\"2013\"], axis=\"columns\", inplace=True)\n",
    "project_df.set_axis([\"State\",\"2008\",\"2009\",\"2010\",\"2011\",\"2012\",\"2013\"], axis=\"columns\", inplace=True)\n",
    "rural_df.set_axis([\"State\",\"2012\",\"2013\"], axis=\"columns\", inplace=True)"
   ]
  },
  {
   "cell_type": "code",
   "execution_count": 16,
   "id": "1c3601d7",
   "metadata": {},
   "outputs": [
    {
     "data": {
      "text/html": [
       "<div>\n",
       "<style scoped>\n",
       "    .dataframe tbody tr th:only-of-type {\n",
       "        vertical-align: middle;\n",
       "    }\n",
       "\n",
       "    .dataframe tbody tr th {\n",
       "        vertical-align: top;\n",
       "    }\n",
       "\n",
       "    .dataframe thead th {\n",
       "        text-align: right;\n",
       "    }\n",
       "</style>\n",
       "<table border=\"1\" class=\"dataframe\">\n",
       "  <thead>\n",
       "    <tr style=\"text-align: right;\">\n",
       "      <th></th>\n",
       "      <th>State</th>\n",
       "      <th>2008</th>\n",
       "      <th>2009</th>\n",
       "      <th>2010</th>\n",
       "      <th>2011</th>\n",
       "      <th>2012</th>\n",
       "      <th>2013</th>\n",
       "    </tr>\n",
       "  </thead>\n",
       "  <tbody>\n",
       "    <tr>\n",
       "      <th>0</th>\n",
       "      <td>Year</td>\n",
       "      <td>2008.0</td>\n",
       "      <td>2009</td>\n",
       "      <td>2010</td>\n",
       "      <td>2011</td>\n",
       "      <td>2012</td>\n",
       "      <td>2013</td>\n",
       "    </tr>\n",
       "    <tr>\n",
       "      <th>1</th>\n",
       "      <td>Andhra Pradesh</td>\n",
       "      <td>4472.0</td>\n",
       "      <td>4537</td>\n",
       "      <td>4537</td>\n",
       "      <td>4537</td>\n",
       "      <td>4537</td>\n",
       "      <td>5022</td>\n",
       "    </tr>\n",
       "    <tr>\n",
       "      <th>2</th>\n",
       "      <td>Arunachal Pradesh</td>\n",
       "      <td>392.0</td>\n",
       "      <td>1992</td>\n",
       "      <td>1992</td>\n",
       "      <td>1992</td>\n",
       "      <td>2027</td>\n",
       "      <td>2027</td>\n",
       "    </tr>\n",
       "    <tr>\n",
       "      <th>3</th>\n",
       "      <td>Assam</td>\n",
       "      <td>2836.0</td>\n",
       "      <td>2836</td>\n",
       "      <td>2836</td>\n",
       "      <td>2836</td>\n",
       "      <td>2940</td>\n",
       "      <td>2940</td>\n",
       "    </tr>\n",
       "    <tr>\n",
       "      <th>4</th>\n",
       "      <td>Bihar</td>\n",
       "      <td>3642.0</td>\n",
       "      <td>3642</td>\n",
       "      <td>3642</td>\n",
       "      <td>3642</td>\n",
       "      <td>4105</td>\n",
       "      <td>4168</td>\n",
       "    </tr>\n",
       "  </tbody>\n",
       "</table>\n",
       "</div>"
      ],
      "text/plain": [
       "                State    2008  2009  2010  2011  2012  2013\n",
       "0                Year  2008.0  2009  2010  2011  2012  2013\n",
       "1      Andhra Pradesh  4472.0  4537  4537  4537  4537  5022\n",
       "2   Arunachal Pradesh   392.0  1992  1992  1992  2027  2027\n",
       "3               Assam  2836.0  2836  2836  2836  2940  2940\n",
       "4               Bihar  3642.0  3642  3642  3642  4105  4168"
      ]
     },
     "execution_count": 16,
     "metadata": {},
     "output_type": "execute_result"
    }
   ],
   "source": [
    "nh_df.head()"
   ]
  },
  {
   "cell_type": "code",
   "execution_count": 17,
   "id": "3ad5135f",
   "metadata": {},
   "outputs": [
    {
     "data": {
      "text/html": [
       "<div>\n",
       "<style scoped>\n",
       "    .dataframe tbody tr th:only-of-type {\n",
       "        vertical-align: middle;\n",
       "    }\n",
       "\n",
       "    .dataframe tbody tr th {\n",
       "        vertical-align: top;\n",
       "    }\n",
       "\n",
       "    .dataframe thead th {\n",
       "        text-align: right;\n",
       "    }\n",
       "</style>\n",
       "<table border=\"1\" class=\"dataframe\">\n",
       "  <thead>\n",
       "    <tr style=\"text-align: right;\">\n",
       "      <th></th>\n",
       "      <th>State</th>\n",
       "      <th>2008</th>\n",
       "      <th>2009</th>\n",
       "      <th>2010</th>\n",
       "      <th>2011</th>\n",
       "      <th>2012</th>\n",
       "      <th>2013</th>\n",
       "    </tr>\n",
       "  </thead>\n",
       "  <tbody>\n",
       "    <tr>\n",
       "      <th>1</th>\n",
       "      <td>Andhra Pradesh</td>\n",
       "      <td>4472.0</td>\n",
       "      <td>4537</td>\n",
       "      <td>4537</td>\n",
       "      <td>4537</td>\n",
       "      <td>4537</td>\n",
       "      <td>5022</td>\n",
       "    </tr>\n",
       "    <tr>\n",
       "      <th>2</th>\n",
       "      <td>Arunachal Pradesh</td>\n",
       "      <td>392.0</td>\n",
       "      <td>1992</td>\n",
       "      <td>1992</td>\n",
       "      <td>1992</td>\n",
       "      <td>2027</td>\n",
       "      <td>2027</td>\n",
       "    </tr>\n",
       "    <tr>\n",
       "      <th>3</th>\n",
       "      <td>Assam</td>\n",
       "      <td>2836.0</td>\n",
       "      <td>2836</td>\n",
       "      <td>2836</td>\n",
       "      <td>2836</td>\n",
       "      <td>2940</td>\n",
       "      <td>2940</td>\n",
       "    </tr>\n",
       "    <tr>\n",
       "      <th>4</th>\n",
       "      <td>Bihar</td>\n",
       "      <td>3642.0</td>\n",
       "      <td>3642</td>\n",
       "      <td>3642</td>\n",
       "      <td>3642</td>\n",
       "      <td>4105</td>\n",
       "      <td>4168</td>\n",
       "    </tr>\n",
       "    <tr>\n",
       "      <th>5</th>\n",
       "      <td>Chhattisgarh</td>\n",
       "      <td>2184.0</td>\n",
       "      <td>2184</td>\n",
       "      <td>2184</td>\n",
       "      <td>2184</td>\n",
       "      <td>2289</td>\n",
       "      <td>2289</td>\n",
       "    </tr>\n",
       "  </tbody>\n",
       "</table>\n",
       "</div>"
      ],
      "text/plain": [
       "                State    2008  2009  2010  2011  2012  2013\n",
       "1      Andhra Pradesh  4472.0  4537  4537  4537  4537  5022\n",
       "2   Arunachal Pradesh   392.0  1992  1992  1992  2027  2027\n",
       "3               Assam  2836.0  2836  2836  2836  2940  2940\n",
       "4               Bihar  3642.0  3642  3642  3642  4105  4168\n",
       "5        Chhattisgarh  2184.0  2184  2184  2184  2289  2289"
      ]
     },
     "execution_count": 17,
     "metadata": {},
     "output_type": "execute_result"
    }
   ],
   "source": [
    "# We don't need the row on zeroth index as that is now our column header of national highways\n",
    "# So lets delete the first row\n",
    "\n",
    "nh_df = nh_df.tail(-1)\n",
    "\n",
    "nh_df.head()"
   ]
  },
  {
   "cell_type": "code",
   "execution_count": 18,
   "id": "8d14cbca",
   "metadata": {},
   "outputs": [
    {
     "data": {
      "text/html": [
       "<div>\n",
       "<style scoped>\n",
       "    .dataframe tbody tr th:only-of-type {\n",
       "        vertical-align: middle;\n",
       "    }\n",
       "\n",
       "    .dataframe tbody tr th {\n",
       "        vertical-align: top;\n",
       "    }\n",
       "\n",
       "    .dataframe thead th {\n",
       "        text-align: right;\n",
       "    }\n",
       "</style>\n",
       "<table border=\"1\" class=\"dataframe\">\n",
       "  <thead>\n",
       "    <tr style=\"text-align: right;\">\n",
       "      <th></th>\n",
       "      <th>State</th>\n",
       "      <th>2008</th>\n",
       "      <th>2009</th>\n",
       "      <th>2010</th>\n",
       "      <th>2011</th>\n",
       "      <th>2012</th>\n",
       "      <th>2013</th>\n",
       "    </tr>\n",
       "  </thead>\n",
       "  <tbody>\n",
       "    <tr>\n",
       "      <th>1</th>\n",
       "      <td>Andhra Pradesh</td>\n",
       "      <td>10518.0</td>\n",
       "      <td>10470</td>\n",
       "      <td>10481</td>\n",
       "      <td>10491</td>\n",
       "      <td>10650</td>\n",
       "      <td>10700</td>\n",
       "    </tr>\n",
       "    <tr>\n",
       "      <th>2</th>\n",
       "      <td>Arunachal Pradesh</td>\n",
       "      <td>0.0</td>\n",
       "      <td>..</td>\n",
       "      <td>..</td>\n",
       "      <td>..</td>\n",
       "      <td>..</td>\n",
       "      <td>..</td>\n",
       "    </tr>\n",
       "    <tr>\n",
       "      <th>3</th>\n",
       "      <td>Assam</td>\n",
       "      <td>3134.0</td>\n",
       "      <td>3134</td>\n",
       "      <td>3134</td>\n",
       "      <td>3134</td>\n",
       "      <td>3134</td>\n",
       "      <td>3134</td>\n",
       "    </tr>\n",
       "    <tr>\n",
       "      <th>4</th>\n",
       "      <td>Bihar</td>\n",
       "      <td>3767.0</td>\n",
       "      <td>3989</td>\n",
       "      <td>3989</td>\n",
       "      <td>3989</td>\n",
       "      <td>4857</td>\n",
       "      <td>4483</td>\n",
       "    </tr>\n",
       "    <tr>\n",
       "      <th>5</th>\n",
       "      <td>Chhattisgarh</td>\n",
       "      <td>3419.0</td>\n",
       "      <td>3213</td>\n",
       "      <td>5240</td>\n",
       "      <td>5240</td>\n",
       "      <td>5240</td>\n",
       "      <td>5240</td>\n",
       "    </tr>\n",
       "  </tbody>\n",
       "</table>\n",
       "</div>"
      ],
      "text/plain": [
       "                State     2008   2009   2010   2011   2012   2013\n",
       "1      Andhra Pradesh  10518.0  10470  10481  10491  10650  10700\n",
       "2   Arunachal Pradesh      0.0     ..     ..     ..     ..     ..\n",
       "3               Assam   3134.0   3134   3134   3134   3134   3134\n",
       "4               Bihar   3767.0   3989   3989   3989   4857   4483\n",
       "5        Chhattisgarh   3419.0   3213   5240   5240   5240   5240"
      ]
     },
     "execution_count": 18,
     "metadata": {},
     "output_type": "execute_result"
    }
   ],
   "source": [
    "# We don't need the row on zeroth index as that is now our column header of state highways\n",
    "# So lets delete the first row\n",
    "\n",
    "sh_df = sh_df.tail(-1)\n",
    "\n",
    "sh_df.head()"
   ]
  },
  {
   "cell_type": "code",
   "execution_count": 19,
   "id": "59b70968",
   "metadata": {},
   "outputs": [
    {
     "data": {
      "text/html": [
       "<div>\n",
       "<style scoped>\n",
       "    .dataframe tbody tr th:only-of-type {\n",
       "        vertical-align: middle;\n",
       "    }\n",
       "\n",
       "    .dataframe tbody tr th {\n",
       "        vertical-align: top;\n",
       "    }\n",
       "\n",
       "    .dataframe thead th {\n",
       "        text-align: right;\n",
       "    }\n",
       "</style>\n",
       "<table border=\"1\" class=\"dataframe\">\n",
       "  <thead>\n",
       "    <tr style=\"text-align: right;\">\n",
       "      <th></th>\n",
       "      <th>State</th>\n",
       "      <th>2008</th>\n",
       "      <th>2009</th>\n",
       "      <th>2010</th>\n",
       "      <th>2011</th>\n",
       "      <th>2012</th>\n",
       "      <th>2013</th>\n",
       "    </tr>\n",
       "  </thead>\n",
       "  <tbody>\n",
       "    <tr>\n",
       "      <th>1</th>\n",
       "      <td>Andhra Pradesh</td>\n",
       "      <td>53886</td>\n",
       "      <td>55194.0</td>\n",
       "      <td>55466.0</td>\n",
       "      <td>55658.0</td>\n",
       "      <td>55968.0</td>\n",
       "      <td>56171.0</td>\n",
       "    </tr>\n",
       "    <tr>\n",
       "      <th>2</th>\n",
       "      <td>Arunachal Pradesh</td>\n",
       "      <td>12967</td>\n",
       "      <td>12967.0</td>\n",
       "      <td>12967.0</td>\n",
       "      <td>12967.0</td>\n",
       "      <td>3856.0</td>\n",
       "      <td>15089.0</td>\n",
       "    </tr>\n",
       "    <tr>\n",
       "      <th>3</th>\n",
       "      <td>Assam</td>\n",
       "      <td>31813</td>\n",
       "      <td>31813.0</td>\n",
       "      <td>31813.0</td>\n",
       "      <td>31813.0</td>\n",
       "      <td>42366.0</td>\n",
       "      <td>42366.0</td>\n",
       "    </tr>\n",
       "    <tr>\n",
       "      <th>4</th>\n",
       "      <td>Bihar</td>\n",
       "      <td>74672</td>\n",
       "      <td>8158.0</td>\n",
       "      <td>8966.0</td>\n",
       "      <td>8966.0</td>\n",
       "      <td>9030.0</td>\n",
       "      <td>9401.0</td>\n",
       "    </tr>\n",
       "    <tr>\n",
       "      <th>5</th>\n",
       "      <td>Chhattisgarh</td>\n",
       "      <td>28663</td>\n",
       "      <td>28887.0</td>\n",
       "      <td>25983.0</td>\n",
       "      <td>25983.0</td>\n",
       "      <td>25061.0</td>\n",
       "      <td>25062.0</td>\n",
       "    </tr>\n",
       "  </tbody>\n",
       "</table>\n",
       "</div>"
      ],
      "text/plain": [
       "                State   2008     2009     2010     2011     2012     2013\n",
       "1      Andhra Pradesh  53886  55194.0  55466.0  55658.0  55968.0  56171.0\n",
       "2   Arunachal Pradesh  12967  12967.0  12967.0  12967.0   3856.0  15089.0\n",
       "3               Assam  31813  31813.0  31813.0  31813.0  42366.0  42366.0\n",
       "4               Bihar  74672   8158.0   8966.0   8966.0   9030.0   9401.0\n",
       "5        Chhattisgarh  28663  28887.0  25983.0  25983.0  25061.0  25062.0"
      ]
     },
     "execution_count": 19,
     "metadata": {},
     "output_type": "execute_result"
    }
   ],
   "source": [
    "# We don't need the row on zeroth index as that is now our column header of pwd roads\n",
    "# So lets delete the first row\n",
    "\n",
    "pwd_df = pwd_df.tail(-1)\n",
    "\n",
    "pwd_df.head()"
   ]
  },
  {
   "cell_type": "code",
   "execution_count": 20,
   "id": "9e4fd920",
   "metadata": {},
   "outputs": [
    {
     "data": {
      "text/html": [
       "<div>\n",
       "<style scoped>\n",
       "    .dataframe tbody tr th:only-of-type {\n",
       "        vertical-align: middle;\n",
       "    }\n",
       "\n",
       "    .dataframe tbody tr th {\n",
       "        vertical-align: top;\n",
       "    }\n",
       "\n",
       "    .dataframe thead th {\n",
       "        text-align: right;\n",
       "    }\n",
       "</style>\n",
       "<table border=\"1\" class=\"dataframe\">\n",
       "  <thead>\n",
       "    <tr style=\"text-align: right;\">\n",
       "      <th></th>\n",
       "      <th>State</th>\n",
       "      <th>2008</th>\n",
       "      <th>2009</th>\n",
       "      <th>2010</th>\n",
       "      <th>2011</th>\n",
       "      <th>2012</th>\n",
       "      <th>2013</th>\n",
       "    </tr>\n",
       "  </thead>\n",
       "  <tbody>\n",
       "    <tr>\n",
       "      <th>1</th>\n",
       "      <td>Andhra Pradesh</td>\n",
       "      <td>13799</td>\n",
       "      <td>13811</td>\n",
       "      <td>13820</td>\n",
       "      <td>13843</td>\n",
       "      <td>13759</td>\n",
       "      <td>13628</td>\n",
       "    </tr>\n",
       "    <tr>\n",
       "      <th>2</th>\n",
       "      <td>Arunachal Pradesh</td>\n",
       "      <td>14</td>\n",
       "      <td>53</td>\n",
       "      <td>53</td>\n",
       "      <td>53</td>\n",
       "      <td>53</td>\n",
       "      <td>18</td>\n",
       "    </tr>\n",
       "    <tr>\n",
       "      <th>3</th>\n",
       "      <td>Assam</td>\n",
       "      <td>5747</td>\n",
       "      <td>6418</td>\n",
       "      <td>6520</td>\n",
       "      <td>6664</td>\n",
       "      <td>6710</td>\n",
       "      <td>4518</td>\n",
       "    </tr>\n",
       "    <tr>\n",
       "      <th>4</th>\n",
       "      <td>Bihar</td>\n",
       "      <td>9854</td>\n",
       "      <td>9864</td>\n",
       "      <td>9883</td>\n",
       "      <td>9975</td>\n",
       "      <td>8918</td>\n",
       "      <td>8760</td>\n",
       "    </tr>\n",
       "    <tr>\n",
       "      <th>5</th>\n",
       "      <td>Chhattisgarh</td>\n",
       "      <td>6553</td>\n",
       "      <td>6867</td>\n",
       "      <td>7326</td>\n",
       "      <td>8031</td>\n",
       "      <td>8116</td>\n",
       "      <td>8109</td>\n",
       "    </tr>\n",
       "  </tbody>\n",
       "</table>\n",
       "</div>"
      ],
      "text/plain": [
       "                State   2008   2009   2010   2011   2012   2013\n",
       "1      Andhra Pradesh  13799  13811  13820  13843  13759  13628\n",
       "2   Arunachal Pradesh     14     53     53     53     53     18\n",
       "3               Assam   5747   6418   6520   6664   6710   4518\n",
       "4               Bihar   9854   9864   9883   9975   8918   8760\n",
       "5        Chhattisgarh   6553   6867   7326   8031   8116   8109"
      ]
     },
     "execution_count": 20,
     "metadata": {},
     "output_type": "execute_result"
    }
   ],
   "source": [
    "# We don't need the row on zeroth index as that is now our column header of Urban roads\n",
    "# So lets delete the first row\n",
    "\n",
    "urban_df = urban_df.tail(-1)\n",
    "\n",
    "urban_df.head()"
   ]
  },
  {
   "cell_type": "code",
   "execution_count": 21,
   "id": "72109aea",
   "metadata": {},
   "outputs": [
    {
     "data": {
      "text/html": [
       "<div>\n",
       "<style scoped>\n",
       "    .dataframe tbody tr th:only-of-type {\n",
       "        vertical-align: middle;\n",
       "    }\n",
       "\n",
       "    .dataframe tbody tr th {\n",
       "        vertical-align: top;\n",
       "    }\n",
       "\n",
       "    .dataframe thead th {\n",
       "        text-align: right;\n",
       "    }\n",
       "</style>\n",
       "<table border=\"1\" class=\"dataframe\">\n",
       "  <thead>\n",
       "    <tr style=\"text-align: right;\">\n",
       "      <th></th>\n",
       "      <th>State</th>\n",
       "      <th>2008</th>\n",
       "      <th>2009</th>\n",
       "      <th>2010</th>\n",
       "      <th>2011</th>\n",
       "      <th>2012</th>\n",
       "      <th>2013</th>\n",
       "    </tr>\n",
       "  </thead>\n",
       "  <tbody>\n",
       "    <tr>\n",
       "      <th>1</th>\n",
       "      <td>Andhra Pradesh</td>\n",
       "      <td>8657</td>\n",
       "      <td>7463</td>\n",
       "      <td>7476</td>\n",
       "      <td>7453</td>\n",
       "      <td>7507</td>\n",
       "      <td>7620</td>\n",
       "    </tr>\n",
       "    <tr>\n",
       "      <th>2</th>\n",
       "      <td>Arunachal Pradesh</td>\n",
       "      <td>1118</td>\n",
       "      <td>1088</td>\n",
       "      <td>1088</td>\n",
       "      <td>1088</td>\n",
       "      <td>5699</td>\n",
       "      <td>5699</td>\n",
       "    </tr>\n",
       "    <tr>\n",
       "      <th>3</th>\n",
       "      <td>Assam</td>\n",
       "      <td>8061</td>\n",
       "      <td>8087</td>\n",
       "      <td>8298</td>\n",
       "      <td>8493</td>\n",
       "      <td>11348</td>\n",
       "      <td>13090</td>\n",
       "    </tr>\n",
       "    <tr>\n",
       "      <th>4</th>\n",
       "      <td>Bihar</td>\n",
       "      <td>2328</td>\n",
       "      <td>2850</td>\n",
       "      <td>2850</td>\n",
       "      <td>2850</td>\n",
       "      <td>2848</td>\n",
       "      <td>2848</td>\n",
       "    </tr>\n",
       "    <tr>\n",
       "      <th>5</th>\n",
       "      <td>Chhattisgarh</td>\n",
       "      <td>15054</td>\n",
       "      <td>15204</td>\n",
       "      <td>15345</td>\n",
       "      <td>15557</td>\n",
       "      <td>15575</td>\n",
       "      <td>18241</td>\n",
       "    </tr>\n",
       "  </tbody>\n",
       "</table>\n",
       "</div>"
      ],
      "text/plain": [
       "                State   2008   2009   2010   2011   2012   2013\n",
       "1      Andhra Pradesh   8657   7463   7476   7453   7507   7620\n",
       "2   Arunachal Pradesh   1118   1088   1088   1088   5699   5699\n",
       "3               Assam   8061   8087   8298   8493  11348  13090\n",
       "4               Bihar   2328   2850   2850   2850   2848   2848\n",
       "5        Chhattisgarh  15054  15204  15345  15557  15575  18241"
      ]
     },
     "execution_count": 21,
     "metadata": {},
     "output_type": "execute_result"
    }
   ],
   "source": [
    "# We don't need the row on zeroth index as that is now our column header of Project roads\n",
    "# So lets delete the first row\n",
    "\n",
    "project_df = project_df.tail(-1)\n",
    "\n",
    "project_df.head()"
   ]
  },
  {
   "cell_type": "code",
   "execution_count": 22,
   "id": "2850ea29",
   "metadata": {},
   "outputs": [
    {
     "data": {
      "text/html": [
       "<div>\n",
       "<style scoped>\n",
       "    .dataframe tbody tr th:only-of-type {\n",
       "        vertical-align: middle;\n",
       "    }\n",
       "\n",
       "    .dataframe tbody tr th {\n",
       "        vertical-align: top;\n",
       "    }\n",
       "\n",
       "    .dataframe thead th {\n",
       "        text-align: right;\n",
       "    }\n",
       "</style>\n",
       "<table border=\"1\" class=\"dataframe\">\n",
       "  <thead>\n",
       "    <tr style=\"text-align: right;\">\n",
       "      <th></th>\n",
       "      <th>State</th>\n",
       "      <th>2012</th>\n",
       "      <th>2013</th>\n",
       "    </tr>\n",
       "  </thead>\n",
       "  <tbody>\n",
       "    <tr>\n",
       "      <th>1</th>\n",
       "      <td>Andhra Pradesh</td>\n",
       "      <td>164026</td>\n",
       "      <td>168516</td>\n",
       "    </tr>\n",
       "    <tr>\n",
       "      <th>2</th>\n",
       "      <td>Arunachal Pradesh</td>\n",
       "      <td>3345</td>\n",
       "      <td>5262</td>\n",
       "    </tr>\n",
       "    <tr>\n",
       "      <th>3</th>\n",
       "      <td>Assam</td>\n",
       "      <td>217734</td>\n",
       "      <td>222087</td>\n",
       "    </tr>\n",
       "    <tr>\n",
       "      <th>4</th>\n",
       "      <td>Bihar</td>\n",
       "      <td>108759</td>\n",
       "      <td>167579</td>\n",
       "    </tr>\n",
       "    <tr>\n",
       "      <th>5</th>\n",
       "      <td>Chhattisgarh</td>\n",
       "      <td>19462</td>\n",
       "      <td>30295</td>\n",
       "    </tr>\n",
       "  </tbody>\n",
       "</table>\n",
       "</div>"
      ],
      "text/plain": [
       "                State    2012    2013\n",
       "1      Andhra Pradesh  164026  168516\n",
       "2   Arunachal Pradesh    3345    5262\n",
       "3               Assam  217734  222087\n",
       "4               Bihar  108759  167579\n",
       "5        Chhattisgarh   19462   30295"
      ]
     },
     "execution_count": 22,
     "metadata": {},
     "output_type": "execute_result"
    }
   ],
   "source": [
    "# We don't need the row on zeroth index as that is now our column header of rural roads\n",
    "# So lets delete the first row\n",
    "\n",
    "rural_df = rural_df.tail(-1)\n",
    "\n",
    "rural_df.head()"
   ]
  },
  {
   "cell_type": "code",
   "execution_count": 23,
   "id": "5249ce0c",
   "metadata": {},
   "outputs": [
    {
     "data": {
      "text/plain": [
       "Unnamed: 0           0\n",
       "National Highways    0\n",
       "Unnamed: 2           0\n",
       "Unnamed: 3           0\n",
       "Unnamed: 4           0\n",
       "Unnamed: 5           0\n",
       "Unnamed: 6           0\n",
       "State Highways       0\n",
       "Unnamed: 8           0\n",
       "Unnamed: 9           0\n",
       "Unnamed: 10          0\n",
       "Unnamed: 11          0\n",
       "Unnamed: 12          0\n",
       "PWD Roads            0\n",
       "Unnamed: 14          0\n",
       "Unnamed: 15          0\n",
       "Unnamed: 16          0\n",
       "Unnamed: 17          0\n",
       "Unnamed: 18          0\n",
       "Urban Roads          0\n",
       "Unnamed: 20          0\n",
       "Unnamed: 21          0\n",
       "Unnamed: 22          0\n",
       "Unnamed: 23          0\n",
       "Unnamed: 24          0\n",
       "Project Roads        0\n",
       "Unnamed: 26          0\n",
       "Unnamed: 27          0\n",
       "Unnamed: 28          0\n",
       "Unnamed: 29          0\n",
       "Unnamed: 30          0\n",
       "Rural Roads          0\n",
       "Unnamed: 32          0\n",
       "dtype: int64"
      ]
     },
     "execution_count": 23,
     "metadata": {},
     "output_type": "execute_result"
    }
   ],
   "source": [
    "# let's check if there are null values in our data\n",
    "df.isnull().sum()"
   ]
  },
  {
   "cell_type": "markdown",
   "id": "fe7130fa",
   "metadata": {},
   "source": [
    "# We may not have null values but we do have missing values in our data as noticed.\n",
    "\n",
    "The reason behind this is that all such data is observed only in the Union-Territories of our nation. Most of which being an island such as Daman and Diu,  D. & N. Haveli,  Lakshadweep etc where conenction of national and state highway is a difficult task."
   ]
  },
  {
   "cell_type": "markdown",
   "id": "eb3ac941",
   "metadata": {},
   "source": [
    "# ---------------------------------------------------------------------------------------------------------------"
   ]
  },
  {
   "cell_type": "markdown",
   "id": "9ae3cf5c",
   "metadata": {},
   "source": [
    "nh_df = nh_df.drop('total',axis=1) # deleting the total column\n"
   ]
  },
  {
   "cell_type": "markdown",
   "id": "f7f099a7",
   "metadata": {},
   "source": [
    "# convert columns from object type to int/float type to get a sum"
   ]
  },
  {
   "cell_type": "code",
   "execution_count": 24,
   "id": "9dd55747",
   "metadata": {},
   "outputs": [],
   "source": [
    "nh_df['2008'] = nh_df['2008'].astype(int)"
   ]
  },
  {
   "cell_type": "code",
   "execution_count": 25,
   "id": "ad81ace6",
   "metadata": {},
   "outputs": [],
   "source": [
    "nh_df['2009'] = pd.to_numeric(nh_df['2009'], errors=\"coerce\")\n",
    "nh_df['2010'] = pd.to_numeric(nh_df['2010'], errors=\"coerce\")\n",
    "nh_df['2011'] = pd.to_numeric(nh_df['2011'], errors=\"coerce\")\n",
    "nh_df['2012'] = pd.to_numeric(nh_df['2012'], errors=\"coerce\")\n",
    "nh_df['2013'] = pd.to_numeric(nh_df['2013'], errors=\"coerce\")"
   ]
  },
  {
   "cell_type": "code",
   "execution_count": 26,
   "id": "898e0eb4",
   "metadata": {},
   "outputs": [
    {
     "name": "stdout",
     "output_type": "stream",
     "text": [
      "<class 'pandas.core.frame.DataFrame'>\n",
      "Int64Index: 35 entries, 1 to 35\n",
      "Data columns (total 7 columns):\n",
      " #   Column  Non-Null Count  Dtype  \n",
      "---  ------  --------------  -----  \n",
      " 0   State   35 non-null     object \n",
      " 1   2008    35 non-null     int32  \n",
      " 2   2009    32 non-null     float64\n",
      " 3   2010    32 non-null     float64\n",
      " 4   2011    32 non-null     float64\n",
      " 5   2012    32 non-null     float64\n",
      " 6   2013    32 non-null     float64\n",
      "dtypes: float64(5), int32(1), object(1)\n",
      "memory usage: 2.1+ KB\n"
     ]
    }
   ],
   "source": [
    "nh_df.info() # we can now get a sum of rows"
   ]
  },
  {
   "cell_type": "markdown",
   "id": "de9c7678",
   "metadata": {},
   "source": [
    "# Creating a new column names as 'total'"
   ]
  },
  {
   "cell_type": "code",
   "execution_count": 27,
   "id": "b1a18a10",
   "metadata": {},
   "outputs": [
    {
     "name": "stderr",
     "output_type": "stream",
     "text": [
      "C:\\Users\\Lenovo\\AppData\\Local\\Temp\\ipykernel_8844\\2697991419.py:1: FutureWarning: Dropping of nuisance columns in DataFrame reductions (with 'numeric_only=None') is deprecated; in a future version this will raise TypeError.  Select only valid columns before calling the reduction.\n",
      "  nh_df['total'] = nh_df.sum(axis = 1)\n"
     ]
    }
   ],
   "source": [
    "nh_df['total'] = nh_df.sum(axis = 1) "
   ]
  },
  {
   "cell_type": "code",
   "execution_count": 28,
   "id": "84f362b0",
   "metadata": {},
   "outputs": [
    {
     "data": {
      "text/html": [
       "<div>\n",
       "<style scoped>\n",
       "    .dataframe tbody tr th:only-of-type {\n",
       "        vertical-align: middle;\n",
       "    }\n",
       "\n",
       "    .dataframe tbody tr th {\n",
       "        vertical-align: top;\n",
       "    }\n",
       "\n",
       "    .dataframe thead th {\n",
       "        text-align: right;\n",
       "    }\n",
       "</style>\n",
       "<table border=\"1\" class=\"dataframe\">\n",
       "  <thead>\n",
       "    <tr style=\"text-align: right;\">\n",
       "      <th></th>\n",
       "      <th>State</th>\n",
       "      <th>2008</th>\n",
       "      <th>2009</th>\n",
       "      <th>2010</th>\n",
       "      <th>2011</th>\n",
       "      <th>2012</th>\n",
       "      <th>2013</th>\n",
       "      <th>total</th>\n",
       "    </tr>\n",
       "  </thead>\n",
       "  <tbody>\n",
       "    <tr>\n",
       "      <th>1</th>\n",
       "      <td>Andhra Pradesh</td>\n",
       "      <td>4472</td>\n",
       "      <td>4537.0</td>\n",
       "      <td>4537.0</td>\n",
       "      <td>4537.0</td>\n",
       "      <td>4537.0</td>\n",
       "      <td>5022.0</td>\n",
       "      <td>27642.0</td>\n",
       "    </tr>\n",
       "    <tr>\n",
       "      <th>2</th>\n",
       "      <td>Arunachal Pradesh</td>\n",
       "      <td>392</td>\n",
       "      <td>1992.0</td>\n",
       "      <td>1992.0</td>\n",
       "      <td>1992.0</td>\n",
       "      <td>2027.0</td>\n",
       "      <td>2027.0</td>\n",
       "      <td>10422.0</td>\n",
       "    </tr>\n",
       "    <tr>\n",
       "      <th>3</th>\n",
       "      <td>Assam</td>\n",
       "      <td>2836</td>\n",
       "      <td>2836.0</td>\n",
       "      <td>2836.0</td>\n",
       "      <td>2836.0</td>\n",
       "      <td>2940.0</td>\n",
       "      <td>2940.0</td>\n",
       "      <td>17224.0</td>\n",
       "    </tr>\n",
       "    <tr>\n",
       "      <th>4</th>\n",
       "      <td>Bihar</td>\n",
       "      <td>3642</td>\n",
       "      <td>3642.0</td>\n",
       "      <td>3642.0</td>\n",
       "      <td>3642.0</td>\n",
       "      <td>4105.0</td>\n",
       "      <td>4168.0</td>\n",
       "      <td>22841.0</td>\n",
       "    </tr>\n",
       "    <tr>\n",
       "      <th>5</th>\n",
       "      <td>Chhattisgarh</td>\n",
       "      <td>2184</td>\n",
       "      <td>2184.0</td>\n",
       "      <td>2184.0</td>\n",
       "      <td>2184.0</td>\n",
       "      <td>2289.0</td>\n",
       "      <td>2289.0</td>\n",
       "      <td>13314.0</td>\n",
       "    </tr>\n",
       "  </tbody>\n",
       "</table>\n",
       "</div>"
      ],
      "text/plain": [
       "                State  2008    2009    2010    2011    2012    2013    total\n",
       "1      Andhra Pradesh  4472  4537.0  4537.0  4537.0  4537.0  5022.0  27642.0\n",
       "2   Arunachal Pradesh   392  1992.0  1992.0  1992.0  2027.0  2027.0  10422.0\n",
       "3               Assam  2836  2836.0  2836.0  2836.0  2940.0  2940.0  17224.0\n",
       "4               Bihar  3642  3642.0  3642.0  3642.0  4105.0  4168.0  22841.0\n",
       "5        Chhattisgarh  2184  2184.0  2184.0  2184.0  2289.0  2289.0  13314.0"
      ]
     },
     "execution_count": 28,
     "metadata": {},
     "output_type": "execute_result"
    }
   ],
   "source": [
    "nh_df.head()"
   ]
  },
  {
   "cell_type": "markdown",
   "id": "839946c6",
   "metadata": {},
   "source": [
    "# ---------------------------------------------------------------------------------------------------------------"
   ]
  },
  {
   "cell_type": "markdown",
   "id": "f580833d",
   "metadata": {},
   "source": [
    "- State highways :"
   ]
  },
  {
   "cell_type": "code",
   "execution_count": 29,
   "id": "4a4b2218",
   "metadata": {},
   "outputs": [
    {
     "name": "stdout",
     "output_type": "stream",
     "text": [
      "<class 'pandas.core.frame.DataFrame'>\n",
      "Int64Index: 35 entries, 1 to 35\n",
      "Data columns (total 7 columns):\n",
      " #   Column  Non-Null Count  Dtype  \n",
      "---  ------  --------------  -----  \n",
      " 0   State   35 non-null     object \n",
      " 1   2008    35 non-null     float64\n",
      " 2   2009    35 non-null     object \n",
      " 3   2010    35 non-null     object \n",
      " 4   2011    35 non-null     object \n",
      " 5   2012    35 non-null     object \n",
      " 6   2013    35 non-null     object \n",
      "dtypes: float64(1), object(6)\n",
      "memory usage: 2.2+ KB\n"
     ]
    }
   ],
   "source": [
    " #  let's check datatypes\n",
    "    \n",
    "sh_df.info()"
   ]
  },
  {
   "cell_type": "markdown",
   "id": "99d57dc6",
   "metadata": {},
   "source": [
    "- Here, also we see that our columnns have datatype as object type.\n",
    "\n",
    "- Hence, we need to change them, in order to sum it up row-wise."
   ]
  },
  {
   "cell_type": "code",
   "execution_count": 30,
   "id": "f19cdb48",
   "metadata": {},
   "outputs": [],
   "source": [
    "sh_df['2009'] = pd.to_numeric(sh_df['2009'], errors=\"coerce\")\n",
    "\n",
    "sh_df['2010'] = pd.to_numeric(sh_df['2010'], errors=\"coerce\")\n",
    "\n",
    "sh_df['2011'] = pd.to_numeric(sh_df['2011'], errors=\"coerce\")\n",
    "\n",
    "sh_df['2012'] = pd.to_numeric(sh_df['2012'], errors=\"coerce\")\n",
    "\n",
    "sh_df['2013'] = pd.to_numeric(sh_df['2013'], errors=\"coerce\")"
   ]
  },
  {
   "cell_type": "code",
   "execution_count": 31,
   "id": "b5df5a2b",
   "metadata": {},
   "outputs": [
    {
     "name": "stdout",
     "output_type": "stream",
     "text": [
      "<class 'pandas.core.frame.DataFrame'>\n",
      "Int64Index: 35 entries, 1 to 35\n",
      "Data columns (total 7 columns):\n",
      " #   Column  Non-Null Count  Dtype  \n",
      "---  ------  --------------  -----  \n",
      " 0   State   35 non-null     object \n",
      " 1   2008    35 non-null     float64\n",
      " 2   2009    30 non-null     float64\n",
      " 3   2010    30 non-null     float64\n",
      " 4   2011    30 non-null     float64\n",
      " 5   2012    30 non-null     float64\n",
      " 6   2013    31 non-null     float64\n",
      "dtypes: float64(6), object(1)\n",
      "memory usage: 2.2+ KB\n"
     ]
    }
   ],
   "source": [
    "sh_df.info()"
   ]
  },
  {
   "cell_type": "code",
   "execution_count": 32,
   "id": "6dbdbd07",
   "metadata": {},
   "outputs": [
    {
     "name": "stderr",
     "output_type": "stream",
     "text": [
      "C:\\Users\\Lenovo\\AppData\\Local\\Temp\\ipykernel_8844\\457648367.py:3: FutureWarning: Dropping of nuisance columns in DataFrame reductions (with 'numeric_only=None') is deprecated; in a future version this will raise TypeError.  Select only valid columns before calling the reduction.\n",
      "  sh_df['total'] = sh_df.sum(axis = 1)\n"
     ]
    }
   ],
   "source": [
    "# creating a column named as 'total' in state highway dataftame\n",
    "\n",
    "sh_df['total'] = sh_df.sum(axis = 1) "
   ]
  },
  {
   "cell_type": "code",
   "execution_count": 33,
   "id": "5b305c5d",
   "metadata": {},
   "outputs": [
    {
     "data": {
      "text/html": [
       "<div>\n",
       "<style scoped>\n",
       "    .dataframe tbody tr th:only-of-type {\n",
       "        vertical-align: middle;\n",
       "    }\n",
       "\n",
       "    .dataframe tbody tr th {\n",
       "        vertical-align: top;\n",
       "    }\n",
       "\n",
       "    .dataframe thead th {\n",
       "        text-align: right;\n",
       "    }\n",
       "</style>\n",
       "<table border=\"1\" class=\"dataframe\">\n",
       "  <thead>\n",
       "    <tr style=\"text-align: right;\">\n",
       "      <th></th>\n",
       "      <th>State</th>\n",
       "      <th>2008</th>\n",
       "      <th>2009</th>\n",
       "      <th>2010</th>\n",
       "      <th>2011</th>\n",
       "      <th>2012</th>\n",
       "      <th>2013</th>\n",
       "      <th>total</th>\n",
       "    </tr>\n",
       "  </thead>\n",
       "  <tbody>\n",
       "    <tr>\n",
       "      <th>1</th>\n",
       "      <td>Andhra Pradesh</td>\n",
       "      <td>10518.0</td>\n",
       "      <td>10470.0</td>\n",
       "      <td>10481.0</td>\n",
       "      <td>10491.0</td>\n",
       "      <td>10650.0</td>\n",
       "      <td>10700.0</td>\n",
       "      <td>63310.0</td>\n",
       "    </tr>\n",
       "    <tr>\n",
       "      <th>2</th>\n",
       "      <td>Arunachal Pradesh</td>\n",
       "      <td>0.0</td>\n",
       "      <td>NaN</td>\n",
       "      <td>NaN</td>\n",
       "      <td>NaN</td>\n",
       "      <td>NaN</td>\n",
       "      <td>NaN</td>\n",
       "      <td>0.0</td>\n",
       "    </tr>\n",
       "    <tr>\n",
       "      <th>3</th>\n",
       "      <td>Assam</td>\n",
       "      <td>3134.0</td>\n",
       "      <td>3134.0</td>\n",
       "      <td>3134.0</td>\n",
       "      <td>3134.0</td>\n",
       "      <td>3134.0</td>\n",
       "      <td>3134.0</td>\n",
       "      <td>18804.0</td>\n",
       "    </tr>\n",
       "    <tr>\n",
       "      <th>4</th>\n",
       "      <td>Bihar</td>\n",
       "      <td>3767.0</td>\n",
       "      <td>3989.0</td>\n",
       "      <td>3989.0</td>\n",
       "      <td>3989.0</td>\n",
       "      <td>4857.0</td>\n",
       "      <td>4483.0</td>\n",
       "      <td>25074.0</td>\n",
       "    </tr>\n",
       "    <tr>\n",
       "      <th>5</th>\n",
       "      <td>Chhattisgarh</td>\n",
       "      <td>3419.0</td>\n",
       "      <td>3213.0</td>\n",
       "      <td>5240.0</td>\n",
       "      <td>5240.0</td>\n",
       "      <td>5240.0</td>\n",
       "      <td>5240.0</td>\n",
       "      <td>27592.0</td>\n",
       "    </tr>\n",
       "  </tbody>\n",
       "</table>\n",
       "</div>"
      ],
      "text/plain": [
       "                State     2008     2009     2010     2011     2012     2013  \\\n",
       "1      Andhra Pradesh  10518.0  10470.0  10481.0  10491.0  10650.0  10700.0   \n",
       "2   Arunachal Pradesh      0.0      NaN      NaN      NaN      NaN      NaN   \n",
       "3               Assam   3134.0   3134.0   3134.0   3134.0   3134.0   3134.0   \n",
       "4               Bihar   3767.0   3989.0   3989.0   3989.0   4857.0   4483.0   \n",
       "5        Chhattisgarh   3419.0   3213.0   5240.0   5240.0   5240.0   5240.0   \n",
       "\n",
       "     total  \n",
       "1  63310.0  \n",
       "2      0.0  \n",
       "3  18804.0  \n",
       "4  25074.0  \n",
       "5  27592.0  "
      ]
     },
     "execution_count": 33,
     "metadata": {},
     "output_type": "execute_result"
    }
   ],
   "source": [
    "sh_df.head()"
   ]
  },
  {
   "cell_type": "markdown",
   "id": "15b8139a",
   "metadata": {},
   "source": [
    "# ---------------------------------------------------------------------------------------------------------------"
   ]
  },
  {
   "cell_type": "markdown",
   "id": "981b46ed",
   "metadata": {},
   "source": [
    "- PWD Roads"
   ]
  },
  {
   "cell_type": "code",
   "execution_count": 34,
   "id": "a5a674a4",
   "metadata": {},
   "outputs": [
    {
     "name": "stdout",
     "output_type": "stream",
     "text": [
      "<class 'pandas.core.frame.DataFrame'>\n",
      "Int64Index: 35 entries, 1 to 35\n",
      "Data columns (total 7 columns):\n",
      " #   Column  Non-Null Count  Dtype  \n",
      "---  ------  --------------  -----  \n",
      " 0   State   35 non-null     object \n",
      " 1   2008    35 non-null     object \n",
      " 2   2009    35 non-null     float64\n",
      " 3   2010    35 non-null     float64\n",
      " 4   2011    35 non-null     float64\n",
      " 5   2012    35 non-null     float64\n",
      " 6   2013    35 non-null     float64\n",
      "dtypes: float64(5), object(2)\n",
      "memory usage: 2.2+ KB\n"
     ]
    }
   ],
   "source": [
    "pwd_df.info() #  let's check datatypes"
   ]
  },
  {
   "cell_type": "markdown",
   "id": "c0791f2e",
   "metadata": {},
   "source": [
    "- Here, also we see that one of our columnn has datatype as object type.\n",
    "\n",
    "- Hence, we need to change it, in order to sum it up row-wise."
   ]
  },
  {
   "cell_type": "code",
   "execution_count": 35,
   "id": "d345ca80",
   "metadata": {},
   "outputs": [],
   "source": [
    "pwd_df['2008'] = pd.to_numeric(sh_df['2008'], errors=\"coerce\")"
   ]
  },
  {
   "cell_type": "code",
   "execution_count": 36,
   "id": "570accac",
   "metadata": {},
   "outputs": [
    {
     "name": "stdout",
     "output_type": "stream",
     "text": [
      "<class 'pandas.core.frame.DataFrame'>\n",
      "Int64Index: 35 entries, 1 to 35\n",
      "Data columns (total 8 columns):\n",
      " #   Column  Non-Null Count  Dtype  \n",
      "---  ------  --------------  -----  \n",
      " 0   State   35 non-null     object \n",
      " 1   2008    35 non-null     float64\n",
      " 2   2009    30 non-null     float64\n",
      " 3   2010    30 non-null     float64\n",
      " 4   2011    30 non-null     float64\n",
      " 5   2012    30 non-null     float64\n",
      " 6   2013    31 non-null     float64\n",
      " 7   total   35 non-null     float64\n",
      "dtypes: float64(7), object(1)\n",
      "memory usage: 2.5+ KB\n"
     ]
    }
   ],
   "source": [
    "sh_df.info()"
   ]
  },
  {
   "cell_type": "code",
   "execution_count": 37,
   "id": "0129b246",
   "metadata": {},
   "outputs": [
    {
     "name": "stderr",
     "output_type": "stream",
     "text": [
      "C:\\Users\\Lenovo\\AppData\\Local\\Temp\\ipykernel_8844\\328113208.py:3: FutureWarning: Dropping of nuisance columns in DataFrame reductions (with 'numeric_only=None') is deprecated; in a future version this will raise TypeError.  Select only valid columns before calling the reduction.\n",
      "  pwd_df['total'] = pwd_df.sum(axis = 1)\n"
     ]
    }
   ],
   "source": [
    "# creating a column named as 'total' in PWD roads dataftame\n",
    "\n",
    "pwd_df['total'] = pwd_df.sum(axis = 1)"
   ]
  },
  {
   "cell_type": "code",
   "execution_count": 38,
   "id": "ad2cb43e",
   "metadata": {},
   "outputs": [
    {
     "data": {
      "text/html": [
       "<div>\n",
       "<style scoped>\n",
       "    .dataframe tbody tr th:only-of-type {\n",
       "        vertical-align: middle;\n",
       "    }\n",
       "\n",
       "    .dataframe tbody tr th {\n",
       "        vertical-align: top;\n",
       "    }\n",
       "\n",
       "    .dataframe thead th {\n",
       "        text-align: right;\n",
       "    }\n",
       "</style>\n",
       "<table border=\"1\" class=\"dataframe\">\n",
       "  <thead>\n",
       "    <tr style=\"text-align: right;\">\n",
       "      <th></th>\n",
       "      <th>State</th>\n",
       "      <th>2008</th>\n",
       "      <th>2009</th>\n",
       "      <th>2010</th>\n",
       "      <th>2011</th>\n",
       "      <th>2012</th>\n",
       "      <th>2013</th>\n",
       "      <th>total</th>\n",
       "    </tr>\n",
       "  </thead>\n",
       "  <tbody>\n",
       "    <tr>\n",
       "      <th>1</th>\n",
       "      <td>Andhra Pradesh</td>\n",
       "      <td>10518.0</td>\n",
       "      <td>55194.0</td>\n",
       "      <td>55466.0</td>\n",
       "      <td>55658.0</td>\n",
       "      <td>55968.0</td>\n",
       "      <td>56171.0</td>\n",
       "      <td>288975.0</td>\n",
       "    </tr>\n",
       "    <tr>\n",
       "      <th>2</th>\n",
       "      <td>Arunachal Pradesh</td>\n",
       "      <td>0.0</td>\n",
       "      <td>12967.0</td>\n",
       "      <td>12967.0</td>\n",
       "      <td>12967.0</td>\n",
       "      <td>3856.0</td>\n",
       "      <td>15089.0</td>\n",
       "      <td>57846.0</td>\n",
       "    </tr>\n",
       "    <tr>\n",
       "      <th>3</th>\n",
       "      <td>Assam</td>\n",
       "      <td>3134.0</td>\n",
       "      <td>31813.0</td>\n",
       "      <td>31813.0</td>\n",
       "      <td>31813.0</td>\n",
       "      <td>42366.0</td>\n",
       "      <td>42366.0</td>\n",
       "      <td>183305.0</td>\n",
       "    </tr>\n",
       "    <tr>\n",
       "      <th>4</th>\n",
       "      <td>Bihar</td>\n",
       "      <td>3767.0</td>\n",
       "      <td>8158.0</td>\n",
       "      <td>8966.0</td>\n",
       "      <td>8966.0</td>\n",
       "      <td>9030.0</td>\n",
       "      <td>9401.0</td>\n",
       "      <td>48288.0</td>\n",
       "    </tr>\n",
       "    <tr>\n",
       "      <th>5</th>\n",
       "      <td>Chhattisgarh</td>\n",
       "      <td>3419.0</td>\n",
       "      <td>28887.0</td>\n",
       "      <td>25983.0</td>\n",
       "      <td>25983.0</td>\n",
       "      <td>25061.0</td>\n",
       "      <td>25062.0</td>\n",
       "      <td>134395.0</td>\n",
       "    </tr>\n",
       "  </tbody>\n",
       "</table>\n",
       "</div>"
      ],
      "text/plain": [
       "                State     2008     2009     2010     2011     2012     2013  \\\n",
       "1      Andhra Pradesh  10518.0  55194.0  55466.0  55658.0  55968.0  56171.0   \n",
       "2   Arunachal Pradesh      0.0  12967.0  12967.0  12967.0   3856.0  15089.0   \n",
       "3               Assam   3134.0  31813.0  31813.0  31813.0  42366.0  42366.0   \n",
       "4               Bihar   3767.0   8158.0   8966.0   8966.0   9030.0   9401.0   \n",
       "5        Chhattisgarh   3419.0  28887.0  25983.0  25983.0  25061.0  25062.0   \n",
       "\n",
       "      total  \n",
       "1  288975.0  \n",
       "2   57846.0  \n",
       "3  183305.0  \n",
       "4   48288.0  \n",
       "5  134395.0  "
      ]
     },
     "execution_count": 38,
     "metadata": {},
     "output_type": "execute_result"
    }
   ],
   "source": [
    "pwd_df.head()"
   ]
  },
  {
   "cell_type": "markdown",
   "id": "437d992e",
   "metadata": {},
   "source": [
    "# ---------------------------------------------------------------------------------------------------------------"
   ]
  },
  {
   "cell_type": "markdown",
   "id": "171f0f3c",
   "metadata": {},
   "source": [
    "- Urban roads :"
   ]
  },
  {
   "cell_type": "code",
   "execution_count": 39,
   "id": "afe90ef2",
   "metadata": {},
   "outputs": [
    {
     "name": "stdout",
     "output_type": "stream",
     "text": [
      "<class 'pandas.core.frame.DataFrame'>\n",
      "Int64Index: 35 entries, 1 to 35\n",
      "Data columns (total 7 columns):\n",
      " #   Column  Non-Null Count  Dtype \n",
      "---  ------  --------------  ----- \n",
      " 0   State   35 non-null     object\n",
      " 1   2008    35 non-null     object\n",
      " 2   2009    35 non-null     object\n",
      " 3   2010    35 non-null     object\n",
      " 4   2011    35 non-null     object\n",
      " 5   2012    35 non-null     object\n",
      " 6   2013    35 non-null     object\n",
      "dtypes: object(7)\n",
      "memory usage: 2.2+ KB\n"
     ]
    }
   ],
   "source": [
    "urban_df.info() # let's check datatypes"
   ]
  },
  {
   "cell_type": "markdown",
   "id": "1346c0d5",
   "metadata": {},
   "source": [
    "- Here, also we see that our columnns have datatype as object type.\n",
    "\n",
    "- Hence, we need to change them, in order to sum it up row-wise."
   ]
  },
  {
   "cell_type": "code",
   "execution_count": 40,
   "id": "9af4cced",
   "metadata": {},
   "outputs": [],
   "source": [
    "urban_df['2008'] = pd.to_numeric(urban_df['2008'], errors=\"coerce\")\n",
    "urban_df['2009'] = pd.to_numeric(urban_df['2009'], errors=\"coerce\")\n",
    "urban_df['2010'] = pd.to_numeric(urban_df['2010'], errors=\"coerce\")\n",
    "urban_df['2011'] = pd.to_numeric(urban_df['2011'], errors=\"coerce\")\n",
    "urban_df['2012'] = pd.to_numeric(urban_df['2012'], errors=\"coerce\")\n",
    "urban_df['2013'] = pd.to_numeric(urban_df['2013'], errors=\"coerce\")"
   ]
  },
  {
   "cell_type": "code",
   "execution_count": 41,
   "id": "b4c1266a",
   "metadata": {},
   "outputs": [
    {
     "name": "stdout",
     "output_type": "stream",
     "text": [
      "<class 'pandas.core.frame.DataFrame'>\n",
      "Int64Index: 35 entries, 1 to 35\n",
      "Data columns (total 7 columns):\n",
      " #   Column  Non-Null Count  Dtype  \n",
      "---  ------  --------------  -----  \n",
      " 0   State   35 non-null     object \n",
      " 1   2008    34 non-null     float64\n",
      " 2   2009    34 non-null     float64\n",
      " 3   2010    34 non-null     float64\n",
      " 4   2011    34 non-null     float64\n",
      " 5   2012    34 non-null     float64\n",
      " 6   2013    34 non-null     float64\n",
      "dtypes: float64(6), object(1)\n",
      "memory usage: 2.2+ KB\n"
     ]
    }
   ],
   "source": [
    "urban_df.info()"
   ]
  },
  {
   "cell_type": "code",
   "execution_count": 42,
   "id": "6dea33cc",
   "metadata": {},
   "outputs": [
    {
     "name": "stderr",
     "output_type": "stream",
     "text": [
      "C:\\Users\\Lenovo\\AppData\\Local\\Temp\\ipykernel_8844\\3415636024.py:3: FutureWarning: Dropping of nuisance columns in DataFrame reductions (with 'numeric_only=None') is deprecated; in a future version this will raise TypeError.  Select only valid columns before calling the reduction.\n",
      "  urban_df['total'] = pwd_df.sum(axis = 1)\n"
     ]
    }
   ],
   "source": [
    "# creating a column named as 'total' in Urban roads dataftame\n",
    "\n",
    "urban_df['total'] = pwd_df.sum(axis = 1)"
   ]
  },
  {
   "cell_type": "code",
   "execution_count": 43,
   "id": "c5366692",
   "metadata": {},
   "outputs": [
    {
     "data": {
      "text/html": [
       "<div>\n",
       "<style scoped>\n",
       "    .dataframe tbody tr th:only-of-type {\n",
       "        vertical-align: middle;\n",
       "    }\n",
       "\n",
       "    .dataframe tbody tr th {\n",
       "        vertical-align: top;\n",
       "    }\n",
       "\n",
       "    .dataframe thead th {\n",
       "        text-align: right;\n",
       "    }\n",
       "</style>\n",
       "<table border=\"1\" class=\"dataframe\">\n",
       "  <thead>\n",
       "    <tr style=\"text-align: right;\">\n",
       "      <th></th>\n",
       "      <th>State</th>\n",
       "      <th>2008</th>\n",
       "      <th>2009</th>\n",
       "      <th>2010</th>\n",
       "      <th>2011</th>\n",
       "      <th>2012</th>\n",
       "      <th>2013</th>\n",
       "      <th>total</th>\n",
       "    </tr>\n",
       "  </thead>\n",
       "  <tbody>\n",
       "    <tr>\n",
       "      <th>1</th>\n",
       "      <td>Andhra Pradesh</td>\n",
       "      <td>13799.0</td>\n",
       "      <td>13811.0</td>\n",
       "      <td>13820.0</td>\n",
       "      <td>13843.0</td>\n",
       "      <td>13759.0</td>\n",
       "      <td>13628.0</td>\n",
       "      <td>577950.0</td>\n",
       "    </tr>\n",
       "    <tr>\n",
       "      <th>2</th>\n",
       "      <td>Arunachal Pradesh</td>\n",
       "      <td>14.0</td>\n",
       "      <td>53.0</td>\n",
       "      <td>53.0</td>\n",
       "      <td>53.0</td>\n",
       "      <td>53.0</td>\n",
       "      <td>18.0</td>\n",
       "      <td>115692.0</td>\n",
       "    </tr>\n",
       "    <tr>\n",
       "      <th>3</th>\n",
       "      <td>Assam</td>\n",
       "      <td>5747.0</td>\n",
       "      <td>6418.0</td>\n",
       "      <td>6520.0</td>\n",
       "      <td>6664.0</td>\n",
       "      <td>6710.0</td>\n",
       "      <td>4518.0</td>\n",
       "      <td>366610.0</td>\n",
       "    </tr>\n",
       "    <tr>\n",
       "      <th>4</th>\n",
       "      <td>Bihar</td>\n",
       "      <td>9854.0</td>\n",
       "      <td>9864.0</td>\n",
       "      <td>9883.0</td>\n",
       "      <td>9975.0</td>\n",
       "      <td>8918.0</td>\n",
       "      <td>8760.0</td>\n",
       "      <td>96576.0</td>\n",
       "    </tr>\n",
       "    <tr>\n",
       "      <th>5</th>\n",
       "      <td>Chhattisgarh</td>\n",
       "      <td>6553.0</td>\n",
       "      <td>6867.0</td>\n",
       "      <td>7326.0</td>\n",
       "      <td>8031.0</td>\n",
       "      <td>8116.0</td>\n",
       "      <td>8109.0</td>\n",
       "      <td>268790.0</td>\n",
       "    </tr>\n",
       "  </tbody>\n",
       "</table>\n",
       "</div>"
      ],
      "text/plain": [
       "                State     2008     2009     2010     2011     2012     2013  \\\n",
       "1      Andhra Pradesh  13799.0  13811.0  13820.0  13843.0  13759.0  13628.0   \n",
       "2   Arunachal Pradesh     14.0     53.0     53.0     53.0     53.0     18.0   \n",
       "3               Assam   5747.0   6418.0   6520.0   6664.0   6710.0   4518.0   \n",
       "4               Bihar   9854.0   9864.0   9883.0   9975.0   8918.0   8760.0   \n",
       "5        Chhattisgarh   6553.0   6867.0   7326.0   8031.0   8116.0   8109.0   \n",
       "\n",
       "      total  \n",
       "1  577950.0  \n",
       "2  115692.0  \n",
       "3  366610.0  \n",
       "4   96576.0  \n",
       "5  268790.0  "
      ]
     },
     "execution_count": 43,
     "metadata": {},
     "output_type": "execute_result"
    }
   ],
   "source": [
    "urban_df.head()"
   ]
  },
  {
   "cell_type": "markdown",
   "id": "425fdf9b",
   "metadata": {},
   "source": [
    "# ---------------------------------------------------------------------------------------------------------------"
   ]
  },
  {
   "cell_type": "markdown",
   "id": "00c2938f",
   "metadata": {},
   "source": [
    "- Project Roads:"
   ]
  },
  {
   "cell_type": "code",
   "execution_count": 44,
   "id": "1147e840",
   "metadata": {},
   "outputs": [
    {
     "name": "stdout",
     "output_type": "stream",
     "text": [
      "<class 'pandas.core.frame.DataFrame'>\n",
      "Int64Index: 35 entries, 1 to 35\n",
      "Data columns (total 7 columns):\n",
      " #   Column  Non-Null Count  Dtype \n",
      "---  ------  --------------  ----- \n",
      " 0   State   35 non-null     object\n",
      " 1   2008    35 non-null     object\n",
      " 2   2009    35 non-null     object\n",
      " 3   2010    35 non-null     object\n",
      " 4   2011    35 non-null     object\n",
      " 5   2012    35 non-null     object\n",
      " 6   2013    35 non-null     object\n",
      "dtypes: object(7)\n",
      "memory usage: 2.2+ KB\n"
     ]
    }
   ],
   "source": [
    "project_df.info() # let's check datatypes"
   ]
  },
  {
   "cell_type": "markdown",
   "id": "97d34aa4",
   "metadata": {},
   "source": [
    "- Here, also we see that our columnns have datatype as object type.\n",
    "\n",
    "- Hence, we need to change them, in order to sum it up row-wise."
   ]
  },
  {
   "cell_type": "code",
   "execution_count": 45,
   "id": "74f794c5",
   "metadata": {},
   "outputs": [],
   "source": [
    "project_df['2008'] = pd.to_numeric(project_df['2008'], errors=\"coerce\")\n",
    "project_df['2009'] = pd.to_numeric(project_df['2009'], errors=\"coerce\")\n",
    "project_df['2010'] = pd.to_numeric(project_df['2010'], errors=\"coerce\")\n",
    "project_df['2011'] = pd.to_numeric(project_df['2011'], errors=\"coerce\")\n",
    "project_df['2012'] = pd.to_numeric(project_df['2012'], errors=\"coerce\")\n",
    "project_df['2013'] = pd.to_numeric(project_df['2013'], errors=\"coerce\")"
   ]
  },
  {
   "cell_type": "code",
   "execution_count": 46,
   "id": "a3a19d51",
   "metadata": {},
   "outputs": [
    {
     "name": "stderr",
     "output_type": "stream",
     "text": [
      "C:\\Users\\Lenovo\\AppData\\Local\\Temp\\ipykernel_8844\\2857698289.py:3: FutureWarning: Dropping of nuisance columns in DataFrame reductions (with 'numeric_only=None') is deprecated; in a future version this will raise TypeError.  Select only valid columns before calling the reduction.\n",
      "  project_df['total'] = project_df.sum(axis = 1)\n"
     ]
    }
   ],
   "source": [
    "# creating a column named as 'total' in Urban roads dataftame\n",
    "\n",
    "project_df['total'] = project_df.sum(axis = 1)"
   ]
  },
  {
   "cell_type": "code",
   "execution_count": 47,
   "id": "bcd2149f",
   "metadata": {},
   "outputs": [
    {
     "data": {
      "text/html": [
       "<div>\n",
       "<style scoped>\n",
       "    .dataframe tbody tr th:only-of-type {\n",
       "        vertical-align: middle;\n",
       "    }\n",
       "\n",
       "    .dataframe tbody tr th {\n",
       "        vertical-align: top;\n",
       "    }\n",
       "\n",
       "    .dataframe thead th {\n",
       "        text-align: right;\n",
       "    }\n",
       "</style>\n",
       "<table border=\"1\" class=\"dataframe\">\n",
       "  <thead>\n",
       "    <tr style=\"text-align: right;\">\n",
       "      <th></th>\n",
       "      <th>State</th>\n",
       "      <th>2008</th>\n",
       "      <th>2009</th>\n",
       "      <th>2010</th>\n",
       "      <th>2011</th>\n",
       "      <th>2012</th>\n",
       "      <th>2013</th>\n",
       "      <th>total</th>\n",
       "    </tr>\n",
       "  </thead>\n",
       "  <tbody>\n",
       "    <tr>\n",
       "      <th>1</th>\n",
       "      <td>Andhra Pradesh</td>\n",
       "      <td>8657.0</td>\n",
       "      <td>7463.0</td>\n",
       "      <td>7476.0</td>\n",
       "      <td>7453.0</td>\n",
       "      <td>7507.0</td>\n",
       "      <td>7620.0</td>\n",
       "      <td>46176.0</td>\n",
       "    </tr>\n",
       "    <tr>\n",
       "      <th>2</th>\n",
       "      <td>Arunachal Pradesh</td>\n",
       "      <td>1118.0</td>\n",
       "      <td>1088.0</td>\n",
       "      <td>1088.0</td>\n",
       "      <td>1088.0</td>\n",
       "      <td>5699.0</td>\n",
       "      <td>5699.0</td>\n",
       "      <td>15780.0</td>\n",
       "    </tr>\n",
       "    <tr>\n",
       "      <th>3</th>\n",
       "      <td>Assam</td>\n",
       "      <td>8061.0</td>\n",
       "      <td>8087.0</td>\n",
       "      <td>8298.0</td>\n",
       "      <td>8493.0</td>\n",
       "      <td>11348.0</td>\n",
       "      <td>13090.0</td>\n",
       "      <td>57377.0</td>\n",
       "    </tr>\n",
       "    <tr>\n",
       "      <th>4</th>\n",
       "      <td>Bihar</td>\n",
       "      <td>2328.0</td>\n",
       "      <td>2850.0</td>\n",
       "      <td>2850.0</td>\n",
       "      <td>2850.0</td>\n",
       "      <td>2848.0</td>\n",
       "      <td>2848.0</td>\n",
       "      <td>16574.0</td>\n",
       "    </tr>\n",
       "    <tr>\n",
       "      <th>5</th>\n",
       "      <td>Chhattisgarh</td>\n",
       "      <td>15054.0</td>\n",
       "      <td>15204.0</td>\n",
       "      <td>15345.0</td>\n",
       "      <td>15557.0</td>\n",
       "      <td>15575.0</td>\n",
       "      <td>18241.0</td>\n",
       "      <td>94976.0</td>\n",
       "    </tr>\n",
       "  </tbody>\n",
       "</table>\n",
       "</div>"
      ],
      "text/plain": [
       "                State     2008     2009     2010     2011     2012     2013  \\\n",
       "1      Andhra Pradesh   8657.0   7463.0   7476.0   7453.0   7507.0   7620.0   \n",
       "2   Arunachal Pradesh   1118.0   1088.0   1088.0   1088.0   5699.0   5699.0   \n",
       "3               Assam   8061.0   8087.0   8298.0   8493.0  11348.0  13090.0   \n",
       "4               Bihar   2328.0   2850.0   2850.0   2850.0   2848.0   2848.0   \n",
       "5        Chhattisgarh  15054.0  15204.0  15345.0  15557.0  15575.0  18241.0   \n",
       "\n",
       "     total  \n",
       "1  46176.0  \n",
       "2  15780.0  \n",
       "3  57377.0  \n",
       "4  16574.0  \n",
       "5  94976.0  "
      ]
     },
     "execution_count": 47,
     "metadata": {},
     "output_type": "execute_result"
    }
   ],
   "source": [
    "project_df.head()"
   ]
  },
  {
   "cell_type": "markdown",
   "id": "9aa4d0a4",
   "metadata": {},
   "source": [
    "# ---------------------------------------------------------------------------------------------------------------"
   ]
  },
  {
   "cell_type": "code",
   "execution_count": 48,
   "id": "6f6447d9",
   "metadata": {},
   "outputs": [
    {
     "name": "stdout",
     "output_type": "stream",
     "text": [
      "<class 'pandas.core.frame.DataFrame'>\n",
      "Int64Index: 35 entries, 1 to 35\n",
      "Data columns (total 3 columns):\n",
      " #   Column  Non-Null Count  Dtype \n",
      "---  ------  --------------  ----- \n",
      " 0   State   35 non-null     object\n",
      " 1   2012    35 non-null     object\n",
      " 2   2013    35 non-null     object\n",
      "dtypes: object(3)\n",
      "memory usage: 1.1+ KB\n"
     ]
    }
   ],
   "source": [
    "rural_df.info() # let's check datatypes"
   ]
  },
  {
   "cell_type": "markdown",
   "id": "153bdf68",
   "metadata": {},
   "source": [
    "- Here, also we see that our columnns have datatype as object type.\n",
    "\n",
    "- Hence, we need to change them, in order to sum it up row-wise."
   ]
  },
  {
   "cell_type": "code",
   "execution_count": 49,
   "id": "4e5be58e",
   "metadata": {},
   "outputs": [],
   "source": [
    "rural_df['2012'] = pd.to_numeric(rural_df['2012'], errors=\"coerce\")\n",
    "rural_df['2013'] = pd.to_numeric(rural_df['2013'], errors=\"coerce\")"
   ]
  },
  {
   "cell_type": "code",
   "execution_count": 97,
   "id": "910287e9",
   "metadata": {},
   "outputs": [
    {
     "name": "stderr",
     "output_type": "stream",
     "text": [
      "C:\\Users\\Lenovo\\AppData\\Local\\Temp\\ipykernel_8844\\3256063190.py:3: FutureWarning: Dropping of nuisance columns in DataFrame reductions (with 'numeric_only=None') is deprecated; in a future version this will raise TypeError.  Select only valid columns before calling the reduction.\n",
      "  rural_df['total'] = rural_df.sum(axis = 1)\n"
     ]
    }
   ],
   "source": [
    "# creating a column named as 'total' in Urban roads dataftame\n",
    "\n",
    "rural_df['total'] = rural_df.sum(axis = 1)"
   ]
  },
  {
   "cell_type": "code",
   "execution_count": 98,
   "id": "db75ab8a",
   "metadata": {},
   "outputs": [
    {
     "data": {
      "text/html": [
       "<div>\n",
       "<style scoped>\n",
       "    .dataframe tbody tr th:only-of-type {\n",
       "        vertical-align: middle;\n",
       "    }\n",
       "\n",
       "    .dataframe tbody tr th {\n",
       "        vertical-align: top;\n",
       "    }\n",
       "\n",
       "    .dataframe thead th {\n",
       "        text-align: right;\n",
       "    }\n",
       "</style>\n",
       "<table border=\"1\" class=\"dataframe\">\n",
       "  <thead>\n",
       "    <tr style=\"text-align: right;\">\n",
       "      <th></th>\n",
       "      <th>State</th>\n",
       "      <th>2012</th>\n",
       "      <th>2013</th>\n",
       "      <th>total</th>\n",
       "    </tr>\n",
       "  </thead>\n",
       "  <tbody>\n",
       "    <tr>\n",
       "      <th>1</th>\n",
       "      <td>Andhra Pradesh</td>\n",
       "      <td>164026.0</td>\n",
       "      <td>168516.0</td>\n",
       "      <td>332542.0</td>\n",
       "    </tr>\n",
       "    <tr>\n",
       "      <th>2</th>\n",
       "      <td>Arunachal Pradesh</td>\n",
       "      <td>3345.0</td>\n",
       "      <td>5262.0</td>\n",
       "      <td>8607.0</td>\n",
       "    </tr>\n",
       "    <tr>\n",
       "      <th>3</th>\n",
       "      <td>Assam</td>\n",
       "      <td>217734.0</td>\n",
       "      <td>222087.0</td>\n",
       "      <td>439821.0</td>\n",
       "    </tr>\n",
       "    <tr>\n",
       "      <th>4</th>\n",
       "      <td>Bihar</td>\n",
       "      <td>108759.0</td>\n",
       "      <td>167579.0</td>\n",
       "      <td>276338.0</td>\n",
       "    </tr>\n",
       "    <tr>\n",
       "      <th>5</th>\n",
       "      <td>Chhattisgarh</td>\n",
       "      <td>19462.0</td>\n",
       "      <td>30295.0</td>\n",
       "      <td>49757.0</td>\n",
       "    </tr>\n",
       "  </tbody>\n",
       "</table>\n",
       "</div>"
      ],
      "text/plain": [
       "                State      2012      2013     total\n",
       "1      Andhra Pradesh  164026.0  168516.0  332542.0\n",
       "2   Arunachal Pradesh    3345.0    5262.0    8607.0\n",
       "3               Assam  217734.0  222087.0  439821.0\n",
       "4               Bihar  108759.0  167579.0  276338.0\n",
       "5        Chhattisgarh   19462.0   30295.0   49757.0"
      ]
     },
     "execution_count": 98,
     "metadata": {},
     "output_type": "execute_result"
    }
   ],
   "source": [
    "rural_df.head()"
   ]
  },
  {
   "cell_type": "markdown",
   "id": "43d812da",
   "metadata": {},
   "source": [
    "# ---------------------------------------------------------------------------------------------------------------"
   ]
  },
  {
   "cell_type": "markdown",
   "id": "8494a6b8",
   "metadata": {},
   "source": [
    "# The top 3 states according to the total KMs of road constructed under National highways are :"
   ]
  },
  {
   "cell_type": "code",
   "execution_count": 51,
   "id": "328f0cfb",
   "metadata": {},
   "outputs": [
    {
     "data": {
      "text/html": [
       "<div>\n",
       "<style scoped>\n",
       "    .dataframe tbody tr th:only-of-type {\n",
       "        vertical-align: middle;\n",
       "    }\n",
       "\n",
       "    .dataframe tbody tr th {\n",
       "        vertical-align: top;\n",
       "    }\n",
       "\n",
       "    .dataframe thead th {\n",
       "        text-align: right;\n",
       "    }\n",
       "</style>\n",
       "<table border=\"1\" class=\"dataframe\">\n",
       "  <thead>\n",
       "    <tr style=\"text-align: right;\">\n",
       "      <th></th>\n",
       "      <th>State</th>\n",
       "      <th>2008</th>\n",
       "      <th>2009</th>\n",
       "      <th>2010</th>\n",
       "      <th>2011</th>\n",
       "      <th>2012</th>\n",
       "      <th>2013</th>\n",
       "      <th>total</th>\n",
       "    </tr>\n",
       "  </thead>\n",
       "  <tbody>\n",
       "    <tr>\n",
       "      <th>26</th>\n",
       "      <td>Uttar Pradesh</td>\n",
       "      <td>5874</td>\n",
       "      <td>6774.0</td>\n",
       "      <td>6774.0</td>\n",
       "      <td>6774.0</td>\n",
       "      <td>7818.0</td>\n",
       "      <td>7818.0</td>\n",
       "      <td>41832.0</td>\n",
       "    </tr>\n",
       "    <tr>\n",
       "      <th>22</th>\n",
       "      <td>Rajasthan</td>\n",
       "      <td>5585</td>\n",
       "      <td>5585.0</td>\n",
       "      <td>5585.0</td>\n",
       "      <td>5585.0</td>\n",
       "      <td>7130.0</td>\n",
       "      <td>7180.0</td>\n",
       "      <td>36650.0</td>\n",
       "    </tr>\n",
       "    <tr>\n",
       "      <th>14</th>\n",
       "      <td>Madhya Pradesh</td>\n",
       "      <td>4670</td>\n",
       "      <td>4670.0</td>\n",
       "      <td>5027.0</td>\n",
       "      <td>5027.0</td>\n",
       "      <td>5064.0</td>\n",
       "      <td>5116.0</td>\n",
       "      <td>29574.0</td>\n",
       "    </tr>\n",
       "  </tbody>\n",
       "</table>\n",
       "</div>"
      ],
      "text/plain": [
       "              State  2008    2009    2010    2011    2012    2013    total\n",
       "26    Uttar Pradesh  5874  6774.0  6774.0  6774.0  7818.0  7818.0  41832.0\n",
       "22        Rajasthan  5585  5585.0  5585.0  5585.0  7130.0  7180.0  36650.0\n",
       "14   Madhya Pradesh  4670  4670.0  5027.0  5027.0  5064.0  5116.0  29574.0"
      ]
     },
     "execution_count": 51,
     "metadata": {},
     "output_type": "execute_result"
    }
   ],
   "source": [
    "nh3 = nh_df.nlargest(3,['total'])\n",
    "nh3"
   ]
  },
  {
   "cell_type": "code",
   "execution_count": 52,
   "id": "b02240cf",
   "metadata": {},
   "outputs": [
    {
     "data": {
      "text/plain": [
       "Text(0, 0.5, 'kms')"
      ]
     },
     "execution_count": 52,
     "metadata": {},
     "output_type": "execute_result"
    },
    {
     "data": {
      "image/png": "[encoded data removed]",
      "text/plain": [
       "<Figure size 640x480 with 1 Axes>"
      ]
     },
     "metadata": {},
     "output_type": "display_data"
    }
   ],
   "source": [
    "nh3.plot.bar('State')\n",
    "\n",
    "# Add title and axis names\n",
    "plt.title('Top 3 states with most constucted National Highways')\n",
    "plt.xlabel('State')\n",
    "plt.ylabel('kms')"
   ]
  },
  {
   "cell_type": "code",
   "execution_count": null,
   "id": "aac1e198",
   "metadata": {},
   "outputs": [],
   "source": []
  },
  {
   "cell_type": "markdown",
   "id": "a873123e",
   "metadata": {},
   "source": [
    "# ---------------------------------------------------------------------------------------------------------------"
   ]
  },
  {
   "cell_type": "markdown",
   "id": "0f8b2e7f",
   "metadata": {},
   "source": [
    "# The top 3 states according to the total KMs of road constructed under state highways are :"
   ]
  },
  {
   "cell_type": "code",
   "execution_count": 53,
   "id": "a99fe97c",
   "metadata": {},
   "outputs": [
    {
     "data": {
      "text/html": [
       "<div>\n",
       "<style scoped>\n",
       "    .dataframe tbody tr th:only-of-type {\n",
       "        vertical-align: middle;\n",
       "    }\n",
       "\n",
       "    .dataframe tbody tr th {\n",
       "        vertical-align: top;\n",
       "    }\n",
       "\n",
       "    .dataframe thead th {\n",
       "        text-align: right;\n",
       "    }\n",
       "</style>\n",
       "<table border=\"1\" class=\"dataframe\">\n",
       "  <thead>\n",
       "    <tr style=\"text-align: right;\">\n",
       "      <th></th>\n",
       "      <th>State</th>\n",
       "      <th>2008</th>\n",
       "      <th>2009</th>\n",
       "      <th>2010</th>\n",
       "      <th>2011</th>\n",
       "      <th>2012</th>\n",
       "      <th>2013</th>\n",
       "      <th>total</th>\n",
       "    </tr>\n",
       "  </thead>\n",
       "  <tbody>\n",
       "    <tr>\n",
       "      <th>15</th>\n",
       "      <td>Maharashtra</td>\n",
       "      <td>33675.0</td>\n",
       "      <td>32629.0</td>\n",
       "      <td>32823.0</td>\n",
       "      <td>32823.0</td>\n",
       "      <td>32596.0</td>\n",
       "      <td>38765.0</td>\n",
       "      <td>203311.0</td>\n",
       "    </tr>\n",
       "    <tr>\n",
       "      <th>12</th>\n",
       "      <td>Karnataka</td>\n",
       "      <td>20738.0</td>\n",
       "      <td>20905.0</td>\n",
       "      <td>20528.0</td>\n",
       "      <td>20770.0</td>\n",
       "      <td>20774.0</td>\n",
       "      <td>20749.0</td>\n",
       "      <td>124464.0</td>\n",
       "    </tr>\n",
       "    <tr>\n",
       "      <th>7</th>\n",
       "      <td>Gujarat</td>\n",
       "      <td>18447.0</td>\n",
       "      <td>18460.0</td>\n",
       "      <td>18421.0</td>\n",
       "      <td>18421.0</td>\n",
       "      <td>18480.0</td>\n",
       "      <td>18506.0</td>\n",
       "      <td>110735.0</td>\n",
       "    </tr>\n",
       "  </tbody>\n",
       "</table>\n",
       "</div>"
      ],
      "text/plain": [
       "           State     2008     2009     2010     2011     2012     2013  \\\n",
       "15   Maharashtra  33675.0  32629.0  32823.0  32823.0  32596.0  38765.0   \n",
       "12     Karnataka  20738.0  20905.0  20528.0  20770.0  20774.0  20749.0   \n",
       "7        Gujarat  18447.0  18460.0  18421.0  18421.0  18480.0  18506.0   \n",
       "\n",
       "       total  \n",
       "15  203311.0  \n",
       "12  124464.0  \n",
       "7   110735.0  "
      ]
     },
     "execution_count": 53,
     "metadata": {},
     "output_type": "execute_result"
    }
   ],
   "source": [
    "sh3 = sh_df.nlargest(3,['total'])\n",
    "sh3"
   ]
  },
  {
   "cell_type": "code",
   "execution_count": 54,
   "id": "d07e5865",
   "metadata": {},
   "outputs": [
    {
     "data": {
      "text/plain": [
       "Text(0, 0.5, 'kms')"
      ]
     },
     "execution_count": 54,
     "metadata": {},
     "output_type": "execute_result"
    },
    {
     "data": {
      "image/png": "[encoded data removed]",
      "text/plain": [
       "<Figure size 640x480 with 1 Axes>"
      ]
     },
     "metadata": {},
     "output_type": "display_data"
    }
   ],
   "source": [
    "sh3.plot.bar('State')\n",
    "\n",
    "# Add title and axis names\n",
    "plt.title('Top 3 states with most constucted State Highways')\n",
    "plt.xlabel('State')\n",
    "plt.ylabel('kms')"
   ]
  },
  {
   "cell_type": "markdown",
   "id": "bc9b8cff",
   "metadata": {},
   "source": [
    "# ---------------------------------------------------------------------------------------------------------------"
   ]
  },
  {
   "cell_type": "markdown",
   "id": "863eea23",
   "metadata": {},
   "source": [
    "# The top 3 states according to the total KMs of road constructed under PWD roads are :"
   ]
  },
  {
   "cell_type": "code",
   "execution_count": 55,
   "id": "fb01422b",
   "metadata": {},
   "outputs": [
    {
     "data": {
      "text/html": [
       "<div>\n",
       "<style scoped>\n",
       "    .dataframe tbody tr th:only-of-type {\n",
       "        vertical-align: middle;\n",
       "    }\n",
       "\n",
       "    .dataframe tbody tr th {\n",
       "        vertical-align: top;\n",
       "    }\n",
       "\n",
       "    .dataframe thead th {\n",
       "        text-align: right;\n",
       "    }\n",
       "</style>\n",
       "<table border=\"1\" class=\"dataframe\">\n",
       "  <thead>\n",
       "    <tr style=\"text-align: right;\">\n",
       "      <th></th>\n",
       "      <th>State</th>\n",
       "      <th>2008</th>\n",
       "      <th>2009</th>\n",
       "      <th>2010</th>\n",
       "      <th>2011</th>\n",
       "      <th>2012</th>\n",
       "      <th>2013</th>\n",
       "      <th>total</th>\n",
       "    </tr>\n",
       "  </thead>\n",
       "  <tbody>\n",
       "    <tr>\n",
       "      <th>15</th>\n",
       "      <td>Maharashtra</td>\n",
       "      <td>33675.0</td>\n",
       "      <td>197100.0</td>\n",
       "      <td>200712.0</td>\n",
       "      <td>200711.0</td>\n",
       "      <td>196754.0</td>\n",
       "      <td>244721.0</td>\n",
       "      <td>1073673.0</td>\n",
       "    </tr>\n",
       "    <tr>\n",
       "      <th>26</th>\n",
       "      <td>Uttar Pradesh</td>\n",
       "      <td>8391.0</td>\n",
       "      <td>148553.0</td>\n",
       "      <td>159614.0</td>\n",
       "      <td>169718.0</td>\n",
       "      <td>179937.0</td>\n",
       "      <td>185840.0</td>\n",
       "      <td>852053.0</td>\n",
       "    </tr>\n",
       "    <tr>\n",
       "      <th>22</th>\n",
       "      <td>Rajasthan</td>\n",
       "      <td>11240.0</td>\n",
       "      <td>97326.0</td>\n",
       "      <td>98712.0</td>\n",
       "      <td>113649.0</td>\n",
       "      <td>115033.0</td>\n",
       "      <td>81533.0</td>\n",
       "      <td>517493.0</td>\n",
       "    </tr>\n",
       "  </tbody>\n",
       "</table>\n",
       "</div>"
      ],
      "text/plain": [
       "             State     2008      2009      2010      2011      2012      2013  \\\n",
       "15     Maharashtra  33675.0  197100.0  200712.0  200711.0  196754.0  244721.0   \n",
       "26   Uttar Pradesh   8391.0  148553.0  159614.0  169718.0  179937.0  185840.0   \n",
       "22       Rajasthan  11240.0   97326.0   98712.0  113649.0  115033.0   81533.0   \n",
       "\n",
       "        total  \n",
       "15  1073673.0  \n",
       "26   852053.0  \n",
       "22   517493.0  "
      ]
     },
     "execution_count": 55,
     "metadata": {},
     "output_type": "execute_result"
    }
   ],
   "source": [
    "pwd3 = pwd_df.nlargest(3,['total'])\n",
    "pwd3"
   ]
  },
  {
   "cell_type": "code",
   "execution_count": 56,
   "id": "66b607e4",
   "metadata": {},
   "outputs": [
    {
     "data": {
      "text/plain": [
       "Text(0, 0.5, 'kms')"
      ]
     },
     "execution_count": 56,
     "metadata": {},
     "output_type": "execute_result"
    },
    {
     "data": {
      "image/png": "[encoded data removed]",
      "text/plain": [
       "<Figure size 640x480 with 1 Axes>"
      ]
     },
     "metadata": {},
     "output_type": "display_data"
    }
   ],
   "source": [
    "pwd3.plot.bar('State')\n",
    "\n",
    "# Add title and axis names\n",
    "plt.title('Top 3 states with most constucted PWD roads ')\n",
    "plt.xlabel('State')\n",
    "plt.ylabel('kms')"
   ]
  },
  {
   "cell_type": "markdown",
   "id": "9bf6bb2c",
   "metadata": {},
   "source": [
    "# ---------------------------------------------------------------------------------------------------------------"
   ]
  },
  {
   "cell_type": "markdown",
   "id": "0604140d",
   "metadata": {},
   "source": [
    "# The top 3 states according to the total KMs of road constructed under Urban roads are :"
   ]
  },
  {
   "cell_type": "code",
   "execution_count": 57,
   "id": "a040b2d4",
   "metadata": {},
   "outputs": [
    {
     "data": {
      "text/html": [
       "<div>\n",
       "<style scoped>\n",
       "    .dataframe tbody tr th:only-of-type {\n",
       "        vertical-align: middle;\n",
       "    }\n",
       "\n",
       "    .dataframe tbody tr th {\n",
       "        vertical-align: top;\n",
       "    }\n",
       "\n",
       "    .dataframe thead th {\n",
       "        text-align: right;\n",
       "    }\n",
       "</style>\n",
       "<table border=\"1\" class=\"dataframe\">\n",
       "  <thead>\n",
       "    <tr style=\"text-align: right;\">\n",
       "      <th></th>\n",
       "      <th>State</th>\n",
       "      <th>2008</th>\n",
       "      <th>2009</th>\n",
       "      <th>2010</th>\n",
       "      <th>2011</th>\n",
       "      <th>2012</th>\n",
       "      <th>2013</th>\n",
       "      <th>total</th>\n",
       "    </tr>\n",
       "  </thead>\n",
       "  <tbody>\n",
       "    <tr>\n",
       "      <th>15</th>\n",
       "      <td>Maharashtra</td>\n",
       "      <td>20383.0</td>\n",
       "      <td>20367.0</td>\n",
       "      <td>20400.0</td>\n",
       "      <td>20407.0</td>\n",
       "      <td>20620.0</td>\n",
       "      <td>20455.0</td>\n",
       "      <td>2147346.0</td>\n",
       "    </tr>\n",
       "    <tr>\n",
       "      <th>26</th>\n",
       "      <td>Uttar Pradesh</td>\n",
       "      <td>47448.0</td>\n",
       "      <td>49462.0</td>\n",
       "      <td>76464.0</td>\n",
       "      <td>76475.0</td>\n",
       "      <td>77205.0</td>\n",
       "      <td>76549.0</td>\n",
       "      <td>1704106.0</td>\n",
       "    </tr>\n",
       "    <tr>\n",
       "      <th>22</th>\n",
       "      <td>Rajasthan</td>\n",
       "      <td>12564.0</td>\n",
       "      <td>12564.0</td>\n",
       "      <td>12564.0</td>\n",
       "      <td>12564.0</td>\n",
       "      <td>12599.0</td>\n",
       "      <td>12636.0</td>\n",
       "      <td>1034986.0</td>\n",
       "    </tr>\n",
       "  </tbody>\n",
       "</table>\n",
       "</div>"
      ],
      "text/plain": [
       "             State     2008     2009     2010     2011     2012     2013  \\\n",
       "15     Maharashtra  20383.0  20367.0  20400.0  20407.0  20620.0  20455.0   \n",
       "26   Uttar Pradesh  47448.0  49462.0  76464.0  76475.0  77205.0  76549.0   \n",
       "22       Rajasthan  12564.0  12564.0  12564.0  12564.0  12599.0  12636.0   \n",
       "\n",
       "        total  \n",
       "15  2147346.0  \n",
       "26  1704106.0  \n",
       "22  1034986.0  "
      ]
     },
     "execution_count": 57,
     "metadata": {},
     "output_type": "execute_result"
    }
   ],
   "source": [
    "urban3 = urban_df.nlargest(3,['total'])\n",
    "urban3"
   ]
  },
  {
   "cell_type": "code",
   "execution_count": 58,
   "id": "4a821081",
   "metadata": {},
   "outputs": [
    {
     "data": {
      "text/plain": [
       "Text(0, 0.5, 'kms')"
      ]
     },
     "execution_count": 58,
     "metadata": {},
     "output_type": "execute_result"
    },
    {
     "data": {
      "image/png": "[encoded data removed]",
      "text/plain": [
       "<Figure size 640x480 with 1 Axes>"
      ]
     },
     "metadata": {},
     "output_type": "display_data"
    }
   ],
   "source": [
    "urban3.plot.bar('State')\n",
    "\n",
    "# Add title and axis names\n",
    "plt.title('Top 3 states with most constucted Urban roads ')\n",
    "plt.xlabel('State')\n",
    "plt.ylabel('kms')"
   ]
  },
  {
   "cell_type": "markdown",
   "id": "729df292",
   "metadata": {},
   "source": [
    "# ---------------------------------------------------------------------------------------------------------------"
   ]
  },
  {
   "cell_type": "markdown",
   "id": "db172147",
   "metadata": {},
   "source": [
    "# The top 3 states according to the total KMs of road constructed under Project roads are :"
   ]
  },
  {
   "cell_type": "code",
   "execution_count": 59,
   "id": "d02cc8dc",
   "metadata": {},
   "outputs": [
    {
     "data": {
      "text/html": [
       "<div>\n",
       "<style scoped>\n",
       "    .dataframe tbody tr th:only-of-type {\n",
       "        vertical-align: middle;\n",
       "    }\n",
       "\n",
       "    .dataframe tbody tr th {\n",
       "        vertical-align: top;\n",
       "    }\n",
       "\n",
       "    .dataframe thead th {\n",
       "        text-align: right;\n",
       "    }\n",
       "</style>\n",
       "<table border=\"1\" class=\"dataframe\">\n",
       "  <thead>\n",
       "    <tr style=\"text-align: right;\">\n",
       "      <th></th>\n",
       "      <th>State</th>\n",
       "      <th>2008</th>\n",
       "      <th>2009</th>\n",
       "      <th>2010</th>\n",
       "      <th>2011</th>\n",
       "      <th>2012</th>\n",
       "      <th>2013</th>\n",
       "      <th>total</th>\n",
       "    </tr>\n",
       "  </thead>\n",
       "  <tbody>\n",
       "    <tr>\n",
       "      <th>26</th>\n",
       "      <td>Uttar Pradesh</td>\n",
       "      <td>37423.0</td>\n",
       "      <td>41950.0</td>\n",
       "      <td>42236.0</td>\n",
       "      <td>42520.0</td>\n",
       "      <td>42916.0</td>\n",
       "      <td>44528.0</td>\n",
       "      <td>251573.0</td>\n",
       "    </tr>\n",
       "    <tr>\n",
       "      <th>14</th>\n",
       "      <td>Madhya Pradesh</td>\n",
       "      <td>30236.0</td>\n",
       "      <td>31195.0</td>\n",
       "      <td>31275.0</td>\n",
       "      <td>31294.0</td>\n",
       "      <td>31382.0</td>\n",
       "      <td>31200.0</td>\n",
       "      <td>186582.0</td>\n",
       "    </tr>\n",
       "    <tr>\n",
       "      <th>15</th>\n",
       "      <td>Maharashtra</td>\n",
       "      <td>30884.0</td>\n",
       "      <td>31070.0</td>\n",
       "      <td>31348.0</td>\n",
       "      <td>31484.0</td>\n",
       "      <td>18961.0</td>\n",
       "      <td>18815.0</td>\n",
       "      <td>162562.0</td>\n",
       "    </tr>\n",
       "  </tbody>\n",
       "</table>\n",
       "</div>"
      ],
      "text/plain": [
       "              State     2008     2009     2010     2011     2012     2013  \\\n",
       "26    Uttar Pradesh  37423.0  41950.0  42236.0  42520.0  42916.0  44528.0   \n",
       "14   Madhya Pradesh  30236.0  31195.0  31275.0  31294.0  31382.0  31200.0   \n",
       "15      Maharashtra  30884.0  31070.0  31348.0  31484.0  18961.0  18815.0   \n",
       "\n",
       "       total  \n",
       "26  251573.0  \n",
       "14  186582.0  \n",
       "15  162562.0  "
      ]
     },
     "execution_count": 59,
     "metadata": {},
     "output_type": "execute_result"
    }
   ],
   "source": [
    "project3 = project_df.nlargest(3,['total'])\n",
    "project3"
   ]
  },
  {
   "cell_type": "code",
   "execution_count": 60,
   "id": "1fbb59a9",
   "metadata": {},
   "outputs": [
    {
     "data": {
      "text/plain": [
       "Text(0, 0.5, 'kms')"
      ]
     },
     "execution_count": 60,
     "metadata": {},
     "output_type": "execute_result"
    },
    {
     "data": {
      "image/png": "[encoded data removed]",
      "text/plain": [
       "<Figure size 640x480 with 1 Axes>"
      ]
     },
     "metadata": {},
     "output_type": "display_data"
    }
   ],
   "source": [
    "project3.plot.bar('State')\n",
    "\n",
    "# Add title and axis names\n",
    "plt.title('Top 3 states with most constucted Project roads ')\n",
    "plt.xlabel('State')\n",
    "plt.ylabel('kms')"
   ]
  },
  {
   "cell_type": "markdown",
   "id": "4452c692",
   "metadata": {},
   "source": [
    "# ---------------------------------------------------------------------------------------------------------------"
   ]
  },
  {
   "cell_type": "markdown",
   "id": "1c9e8521",
   "metadata": {},
   "source": [
    "# The top 3 states according to the total KMs of road constructed under Rural roads are :"
   ]
  },
  {
   "cell_type": "code",
   "execution_count": 61,
   "id": "fe0fbdae",
   "metadata": {},
   "outputs": [
    {
     "ename": "KeyError",
     "evalue": "'total'",
     "output_type": "error",
     "traceback": [
      "\u001b[1;31m---------------------------------------------------------------------------\u001b[0m",
      "\u001b[1;31mKeyError\u001b[0m                                  Traceback (most recent call last)",
      "\u001b[1;32m~\\anaconda3\\lib\\site-packages\\pandas\\core\\indexes\\base.py\u001b[0m in \u001b[0;36mget_loc\u001b[1;34m(self, key, method, tolerance)\u001b[0m\n\u001b[0;32m   3628\u001b[0m             \u001b[1;32mtry\u001b[0m\u001b[1;33m:\u001b[0m\u001b[1;33m\u001b[0m\u001b[1;33m\u001b[0m\u001b[0m\n\u001b[1;32m-> 3629\u001b[1;33m                 \u001b[1;32mreturn\u001b[0m \u001b[0mself\u001b[0m\u001b[1;33m.\u001b[0m\u001b[0m_engine\u001b[0m\u001b[1;33m.\u001b[0m\u001b[0mget_loc\u001b[0m\u001b[1;33m(\u001b[0m\u001b[0mcasted_key\u001b[0m\u001b[1;33m)\u001b[0m\u001b[1;33m\u001b[0m\u001b[1;33m\u001b[0m\u001b[0m\n\u001b[0m\u001b[0;32m   3630\u001b[0m             \u001b[1;32mexcept\u001b[0m \u001b[0mKeyError\u001b[0m \u001b[1;32mas\u001b[0m \u001b[0merr\u001b[0m\u001b[1;33m:\u001b[0m\u001b[1;33m\u001b[0m\u001b[1;33m\u001b[0m\u001b[0m\n",
      "\u001b[1;32m~\\anaconda3\\lib\\site-packages\\pandas\\_libs\\index.pyx\u001b[0m in \u001b[0;36mpandas._libs.index.IndexEngine.get_loc\u001b[1;34m()\u001b[0m\n",
      "\u001b[1;32m~\\anaconda3\\lib\\site-packages\\pandas\\_libs\\index.pyx\u001b[0m in \u001b[0;36mpandas._libs.index.IndexEngine.get_loc\u001b[1;34m()\u001b[0m\n",
      "\u001b[1;32mpandas\\_libs\\hashtable_class_helper.pxi\u001b[0m in \u001b[0;36mpandas._libs.hashtable.PyObjectHashTable.get_item\u001b[1;34m()\u001b[0m\n",
      "\u001b[1;32mpandas\\_libs\\hashtable_class_helper.pxi\u001b[0m in \u001b[0;36mpandas._libs.hashtable.PyObjectHashTable.get_item\u001b[1;34m()\u001b[0m\n",
      "\u001b[1;31mKeyError\u001b[0m: 'total'",
      "\nThe above exception was the direct cause of the following exception:\n",
      "\u001b[1;31mKeyError\u001b[0m                                  Traceback (most recent call last)",
      "\u001b[1;32m~\\AppData\\Local\\Temp\\ipykernel_8844\\2789802747.py\u001b[0m in \u001b[0;36m<module>\u001b[1;34m\u001b[0m\n\u001b[1;32m----> 1\u001b[1;33m \u001b[0mrural3\u001b[0m \u001b[1;33m=\u001b[0m \u001b[0mrural_df\u001b[0m\u001b[1;33m.\u001b[0m\u001b[0mnlargest\u001b[0m\u001b[1;33m(\u001b[0m\u001b[1;36m3\u001b[0m\u001b[1;33m,\u001b[0m\u001b[1;33m[\u001b[0m\u001b[1;34m'total'\u001b[0m\u001b[1;33m]\u001b[0m\u001b[1;33m)\u001b[0m\u001b[1;33m\u001b[0m\u001b[1;33m\u001b[0m\u001b[0m\n\u001b[0m\u001b[0;32m      2\u001b[0m \u001b[0mrural3\u001b[0m\u001b[1;33m\u001b[0m\u001b[1;33m\u001b[0m\u001b[0m\n",
      "\u001b[1;32m~\\anaconda3\\lib\\site-packages\\pandas\\core\\frame.py\u001b[0m in \u001b[0;36mnlargest\u001b[1;34m(self, n, columns, keep)\u001b[0m\n\u001b[0;32m   6697\u001b[0m         \u001b[0mBrunei\u001b[0m      \u001b[1;36m434000\u001b[0m    \u001b[1;36m12128\u001b[0m      \u001b[0mBN\u001b[0m\u001b[1;33m\u001b[0m\u001b[1;33m\u001b[0m\u001b[0m\n\u001b[0;32m   6698\u001b[0m         \"\"\"\n\u001b[1;32m-> 6699\u001b[1;33m         \u001b[1;32mreturn\u001b[0m \u001b[0malgorithms\u001b[0m\u001b[1;33m.\u001b[0m\u001b[0mSelectNFrame\u001b[0m\u001b[1;33m(\u001b[0m\u001b[0mself\u001b[0m\u001b[1;33m,\u001b[0m \u001b[0mn\u001b[0m\u001b[1;33m=\u001b[0m\u001b[0mn\u001b[0m\u001b[1;33m,\u001b[0m \u001b[0mkeep\u001b[0m\u001b[1;33m=\u001b[0m\u001b[0mkeep\u001b[0m\u001b[1;33m,\u001b[0m \u001b[0mcolumns\u001b[0m\u001b[1;33m=\u001b[0m\u001b[0mcolumns\u001b[0m\u001b[1;33m)\u001b[0m\u001b[1;33m.\u001b[0m\u001b[0mnlargest\u001b[0m\u001b[1;33m(\u001b[0m\u001b[1;33m)\u001b[0m\u001b[1;33m\u001b[0m\u001b[1;33m\u001b[0m\u001b[0m\n\u001b[0m\u001b[0;32m   6700\u001b[0m \u001b[1;33m\u001b[0m\u001b[0m\n\u001b[0;32m   6701\u001b[0m     \u001b[1;32mdef\u001b[0m \u001b[0mnsmallest\u001b[0m\u001b[1;33m(\u001b[0m\u001b[0mself\u001b[0m\u001b[1;33m,\u001b[0m \u001b[0mn\u001b[0m\u001b[1;33m:\u001b[0m \u001b[0mint\u001b[0m\u001b[1;33m,\u001b[0m \u001b[0mcolumns\u001b[0m\u001b[1;33m:\u001b[0m \u001b[0mIndexLabel\u001b[0m\u001b[1;33m,\u001b[0m \u001b[0mkeep\u001b[0m\u001b[1;33m:\u001b[0m \u001b[0mstr\u001b[0m \u001b[1;33m=\u001b[0m \u001b[1;34m\"first\"\u001b[0m\u001b[1;33m)\u001b[0m \u001b[1;33m->\u001b[0m \u001b[0mDataFrame\u001b[0m\u001b[1;33m:\u001b[0m\u001b[1;33m\u001b[0m\u001b[1;33m\u001b[0m\u001b[0m\n",
      "\u001b[1;32m~\\anaconda3\\lib\\site-packages\\pandas\\core\\algorithms.py\u001b[0m in \u001b[0;36mnlargest\u001b[1;34m(self)\u001b[0m\n\u001b[0;32m   1135\u001b[0m     \u001b[1;33m@\u001b[0m\u001b[0mfinal\u001b[0m\u001b[1;33m\u001b[0m\u001b[1;33m\u001b[0m\u001b[0m\n\u001b[0;32m   1136\u001b[0m     \u001b[1;32mdef\u001b[0m \u001b[0mnlargest\u001b[0m\u001b[1;33m(\u001b[0m\u001b[0mself\u001b[0m\u001b[1;33m)\u001b[0m\u001b[1;33m:\u001b[0m\u001b[1;33m\u001b[0m\u001b[1;33m\u001b[0m\u001b[0m\n\u001b[1;32m-> 1137\u001b[1;33m         \u001b[1;32mreturn\u001b[0m \u001b[0mself\u001b[0m\u001b[1;33m.\u001b[0m\u001b[0mcompute\u001b[0m\u001b[1;33m(\u001b[0m\u001b[1;34m\"nlargest\"\u001b[0m\u001b[1;33m)\u001b[0m\u001b[1;33m\u001b[0m\u001b[1;33m\u001b[0m\u001b[0m\n\u001b[0m\u001b[0;32m   1138\u001b[0m \u001b[1;33m\u001b[0m\u001b[0m\n\u001b[0;32m   1139\u001b[0m     \u001b[1;33m@\u001b[0m\u001b[0mfinal\u001b[0m\u001b[1;33m\u001b[0m\u001b[1;33m\u001b[0m\u001b[0m\n",
      "\u001b[1;32m~\\anaconda3\\lib\\site-packages\\pandas\\core\\algorithms.py\u001b[0m in \u001b[0;36mcompute\u001b[1;34m(self, method)\u001b[0m\n\u001b[0;32m   1276\u001b[0m \u001b[1;33m\u001b[0m\u001b[0m\n\u001b[0;32m   1277\u001b[0m         \u001b[1;32mfor\u001b[0m \u001b[0mcolumn\u001b[0m \u001b[1;32min\u001b[0m \u001b[0mcolumns\u001b[0m\u001b[1;33m:\u001b[0m\u001b[1;33m\u001b[0m\u001b[1;33m\u001b[0m\u001b[0m\n\u001b[1;32m-> 1278\u001b[1;33m             \u001b[0mdtype\u001b[0m \u001b[1;33m=\u001b[0m \u001b[0mframe\u001b[0m\u001b[1;33m[\u001b[0m\u001b[0mcolumn\u001b[0m\u001b[1;33m]\u001b[0m\u001b[1;33m.\u001b[0m\u001b[0mdtype\u001b[0m\u001b[1;33m\u001b[0m\u001b[1;33m\u001b[0m\u001b[0m\n\u001b[0m\u001b[0;32m   1279\u001b[0m             \u001b[1;32mif\u001b[0m \u001b[1;32mnot\u001b[0m \u001b[0mself\u001b[0m\u001b[1;33m.\u001b[0m\u001b[0mis_valid_dtype_n_method\u001b[0m\u001b[1;33m(\u001b[0m\u001b[0mdtype\u001b[0m\u001b[1;33m)\u001b[0m\u001b[1;33m:\u001b[0m\u001b[1;33m\u001b[0m\u001b[1;33m\u001b[0m\u001b[0m\n\u001b[0;32m   1280\u001b[0m                 raise TypeError(\n",
      "\u001b[1;32m~\\anaconda3\\lib\\site-packages\\pandas\\core\\frame.py\u001b[0m in \u001b[0;36m__getitem__\u001b[1;34m(self, key)\u001b[0m\n\u001b[0;32m   3503\u001b[0m             \u001b[1;32mif\u001b[0m \u001b[0mself\u001b[0m\u001b[1;33m.\u001b[0m\u001b[0mcolumns\u001b[0m\u001b[1;33m.\u001b[0m\u001b[0mnlevels\u001b[0m \u001b[1;33m>\u001b[0m \u001b[1;36m1\u001b[0m\u001b[1;33m:\u001b[0m\u001b[1;33m\u001b[0m\u001b[1;33m\u001b[0m\u001b[0m\n\u001b[0;32m   3504\u001b[0m                 \u001b[1;32mreturn\u001b[0m \u001b[0mself\u001b[0m\u001b[1;33m.\u001b[0m\u001b[0m_getitem_multilevel\u001b[0m\u001b[1;33m(\u001b[0m\u001b[0mkey\u001b[0m\u001b[1;33m)\u001b[0m\u001b[1;33m\u001b[0m\u001b[1;33m\u001b[0m\u001b[0m\n\u001b[1;32m-> 3505\u001b[1;33m             \u001b[0mindexer\u001b[0m \u001b[1;33m=\u001b[0m \u001b[0mself\u001b[0m\u001b[1;33m.\u001b[0m\u001b[0mcolumns\u001b[0m\u001b[1;33m.\u001b[0m\u001b[0mget_loc\u001b[0m\u001b[1;33m(\u001b[0m\u001b[0mkey\u001b[0m\u001b[1;33m)\u001b[0m\u001b[1;33m\u001b[0m\u001b[1;33m\u001b[0m\u001b[0m\n\u001b[0m\u001b[0;32m   3506\u001b[0m             \u001b[1;32mif\u001b[0m \u001b[0mis_integer\u001b[0m\u001b[1;33m(\u001b[0m\u001b[0mindexer\u001b[0m\u001b[1;33m)\u001b[0m\u001b[1;33m:\u001b[0m\u001b[1;33m\u001b[0m\u001b[1;33m\u001b[0m\u001b[0m\n\u001b[0;32m   3507\u001b[0m                 \u001b[0mindexer\u001b[0m \u001b[1;33m=\u001b[0m \u001b[1;33m[\u001b[0m\u001b[0mindexer\u001b[0m\u001b[1;33m]\u001b[0m\u001b[1;33m\u001b[0m\u001b[1;33m\u001b[0m\u001b[0m\n",
      "\u001b[1;32m~\\anaconda3\\lib\\site-packages\\pandas\\core\\indexes\\base.py\u001b[0m in \u001b[0;36mget_loc\u001b[1;34m(self, key, method, tolerance)\u001b[0m\n\u001b[0;32m   3629\u001b[0m                 \u001b[1;32mreturn\u001b[0m \u001b[0mself\u001b[0m\u001b[1;33m.\u001b[0m\u001b[0m_engine\u001b[0m\u001b[1;33m.\u001b[0m\u001b[0mget_loc\u001b[0m\u001b[1;33m(\u001b[0m\u001b[0mcasted_key\u001b[0m\u001b[1;33m)\u001b[0m\u001b[1;33m\u001b[0m\u001b[1;33m\u001b[0m\u001b[0m\n\u001b[0;32m   3630\u001b[0m             \u001b[1;32mexcept\u001b[0m \u001b[0mKeyError\u001b[0m \u001b[1;32mas\u001b[0m \u001b[0merr\u001b[0m\u001b[1;33m:\u001b[0m\u001b[1;33m\u001b[0m\u001b[1;33m\u001b[0m\u001b[0m\n\u001b[1;32m-> 3631\u001b[1;33m                 \u001b[1;32mraise\u001b[0m \u001b[0mKeyError\u001b[0m\u001b[1;33m(\u001b[0m\u001b[0mkey\u001b[0m\u001b[1;33m)\u001b[0m \u001b[1;32mfrom\u001b[0m \u001b[0merr\u001b[0m\u001b[1;33m\u001b[0m\u001b[1;33m\u001b[0m\u001b[0m\n\u001b[0m\u001b[0;32m   3632\u001b[0m             \u001b[1;32mexcept\u001b[0m \u001b[0mTypeError\u001b[0m\u001b[1;33m:\u001b[0m\u001b[1;33m\u001b[0m\u001b[1;33m\u001b[0m\u001b[0m\n\u001b[0;32m   3633\u001b[0m                 \u001b[1;31m# If we have a listlike key, _check_indexing_error will raise\u001b[0m\u001b[1;33m\u001b[0m\u001b[1;33m\u001b[0m\u001b[0m\n",
      "\u001b[1;31mKeyError\u001b[0m: 'total'"
     ]
    }
   ],
   "source": [
    "rural3 = rural_df.nlargest(3,['total'])\n",
    "rural3"
   ]
  },
  {
   "cell_type": "code",
   "execution_count": 64,
   "id": "20715ebf",
   "metadata": {},
   "outputs": [
    {
     "data": {
      "text/plain": [
       "Text(0, 0.5, 'kms')"
      ]
     },
     "execution_count": 64,
     "metadata": {},
     "output_type": "execute_result"
    },
    {
     "data": {
      "image/png": "[encoded data removed]",
      "text/plain": [
       "<Figure size 640x480 with 1 Axes>"
      ]
     },
     "metadata": {},
     "output_type": "display_data"
    }
   ],
   "source": [
    "rural3.plot.bar('State')\n",
    "\n",
    "# Add title and axis names\n",
    "plt.title('Top 3 states with most constucted Rural roads ')\n",
    "plt.xlabel('State')\n",
    "plt.ylabel('kms')"
   ]
  },
  {
   "cell_type": "markdown",
   "id": "14793024",
   "metadata": {},
   "source": [
    "# ---------------------------------------------------------------------------------------------------------------"
   ]
  },
  {
   "cell_type": "markdown",
   "id": "6ba33be0",
   "metadata": {},
   "source": [
    "# We must create a merged dataframe of all the dataframes in order generate some insights"
   ]
  },
  {
   "cell_type": "code",
   "execution_count": 62,
   "id": "3740d3dc",
   "metadata": {},
   "outputs": [
    {
     "data": {
      "text/html": [
       "<div>\n",
       "<style scoped>\n",
       "    .dataframe tbody tr th:only-of-type {\n",
       "        vertical-align: middle;\n",
       "    }\n",
       "\n",
       "    .dataframe tbody tr th {\n",
       "        vertical-align: top;\n",
       "    }\n",
       "\n",
       "    .dataframe thead th {\n",
       "        text-align: right;\n",
       "    }\n",
       "</style>\n",
       "<table border=\"1\" class=\"dataframe\">\n",
       "  <thead>\n",
       "    <tr style=\"text-align: right;\">\n",
       "      <th></th>\n",
       "      <th>National Highways</th>\n",
       "      <th>State Highways</th>\n",
       "      <th>Unnamed: 14</th>\n",
       "      <th>Unnamed: 15</th>\n",
       "      <th>Unnamed: 16</th>\n",
       "      <th>Unnamed: 17</th>\n",
       "      <th>Unnamed: 18</th>\n",
       "    </tr>\n",
       "  </thead>\n",
       "  <tbody>\n",
       "    <tr>\n",
       "      <th>National Highways</th>\n",
       "      <td>1.000000</td>\n",
       "      <td>0.675437</td>\n",
       "      <td>0.727896</td>\n",
       "      <td>0.721549</td>\n",
       "      <td>0.726250</td>\n",
       "      <td>0.738343</td>\n",
       "      <td>0.674914</td>\n",
       "    </tr>\n",
       "    <tr>\n",
       "      <th>State Highways</th>\n",
       "      <td>0.675437</td>\n",
       "      <td>1.000000</td>\n",
       "      <td>0.829942</td>\n",
       "      <td>0.819935</td>\n",
       "      <td>0.801002</td>\n",
       "      <td>0.788404</td>\n",
       "      <td>0.811286</td>\n",
       "    </tr>\n",
       "    <tr>\n",
       "      <th>Unnamed: 14</th>\n",
       "      <td>0.727896</td>\n",
       "      <td>0.829942</td>\n",
       "      <td>1.000000</td>\n",
       "      <td>0.998922</td>\n",
       "      <td>0.996295</td>\n",
       "      <td>0.991561</td>\n",
       "      <td>0.989573</td>\n",
       "    </tr>\n",
       "    <tr>\n",
       "      <th>Unnamed: 15</th>\n",
       "      <td>0.721549</td>\n",
       "      <td>0.819935</td>\n",
       "      <td>0.998922</td>\n",
       "      <td>1.000000</td>\n",
       "      <td>0.998310</td>\n",
       "      <td>0.994521</td>\n",
       "      <td>0.991427</td>\n",
       "    </tr>\n",
       "    <tr>\n",
       "      <th>Unnamed: 16</th>\n",
       "      <td>0.726250</td>\n",
       "      <td>0.801002</td>\n",
       "      <td>0.996295</td>\n",
       "      <td>0.998310</td>\n",
       "      <td>1.000000</td>\n",
       "      <td>0.997204</td>\n",
       "      <td>0.984822</td>\n",
       "    </tr>\n",
       "    <tr>\n",
       "      <th>Unnamed: 17</th>\n",
       "      <td>0.738343</td>\n",
       "      <td>0.788404</td>\n",
       "      <td>0.991561</td>\n",
       "      <td>0.994521</td>\n",
       "      <td>0.997204</td>\n",
       "      <td>1.000000</td>\n",
       "      <td>0.982309</td>\n",
       "    </tr>\n",
       "    <tr>\n",
       "      <th>Unnamed: 18</th>\n",
       "      <td>0.674914</td>\n",
       "      <td>0.811286</td>\n",
       "      <td>0.989573</td>\n",
       "      <td>0.991427</td>\n",
       "      <td>0.984822</td>\n",
       "      <td>0.982309</td>\n",
       "      <td>1.000000</td>\n",
       "    </tr>\n",
       "  </tbody>\n",
       "</table>\n",
       "</div>"
      ],
      "text/plain": [
       "                   National Highways  State Highways  Unnamed: 14  \\\n",
       "National Highways           1.000000        0.675437     0.727896   \n",
       "State Highways              0.675437        1.000000     0.829942   \n",
       "Unnamed: 14                 0.727896        0.829942     1.000000   \n",
       "Unnamed: 15                 0.721549        0.819935     0.998922   \n",
       "Unnamed: 16                 0.726250        0.801002     0.996295   \n",
       "Unnamed: 17                 0.738343        0.788404     0.991561   \n",
       "Unnamed: 18                 0.674914        0.811286     0.989573   \n",
       "\n",
       "                   Unnamed: 15  Unnamed: 16  Unnamed: 17  Unnamed: 18  \n",
       "National Highways     0.721549     0.726250     0.738343     0.674914  \n",
       "State Highways        0.819935     0.801002     0.788404     0.811286  \n",
       "Unnamed: 14           0.998922     0.996295     0.991561     0.989573  \n",
       "Unnamed: 15           1.000000     0.998310     0.994521     0.991427  \n",
       "Unnamed: 16           0.998310     1.000000     0.997204     0.984822  \n",
       "Unnamed: 17           0.994521     0.997204     1.000000     0.982309  \n",
       "Unnamed: 18           0.991427     0.984822     0.982309     1.000000  "
      ]
     },
     "execution_count": 62,
     "metadata": {},
     "output_type": "execute_result"
    }
   ],
   "source": [
    "df.corr()"
   ]
  },
  {
   "cell_type": "code",
   "execution_count": 63,
   "id": "9f81dcec",
   "metadata": {},
   "outputs": [
    {
     "data": {
      "image/png": "[encoded data removed]",
      "text/plain": [
       "<Figure size 640x480 with 2 Axes>"
      ]
     },
     "metadata": {},
     "output_type": "display_data"
    }
   ],
   "source": [
    "dataplot = sns.heatmap(df.corr(), cmap=\"YlGnBu\", annot=True)"
   ]
  },
  {
   "cell_type": "code",
   "execution_count": null,
   "id": "247da58a",
   "metadata": {},
   "outputs": [],
   "source": []
  },
  {
   "cell_type": "markdown",
   "id": "863d8dbc",
   "metadata": {},
   "source": [
    "# ---------------------------------------------------------------------------------------------------------------"
   ]
  },
  {
   "cell_type": "markdown",
   "id": "843eda20",
   "metadata": {},
   "source": [
    "# Create a new data frame with the following columns:\n",
    "\n",
    "- State Name\n",
    "- Total Urban Road\n",
    "- Total Rural Road\n",
    "- Total \n",
    "- Population as on 2013\n",
    "\n"
   ]
  },
  {
   "cell_type": "markdown",
   "id": "803e5ce4",
   "metadata": {},
   "source": [
    "# importing an excelsheet with data of population in 2013 :"
   ]
  },
  {
   "cell_type": "code",
   "execution_count": 81,
   "id": "81def06f",
   "metadata": {},
   "outputs": [
    {
     "data": {
      "text/html": [
       "<div>\n",
       "<style scoped>\n",
       "    .dataframe tbody tr th:only-of-type {\n",
       "        vertical-align: middle;\n",
       "    }\n",
       "\n",
       "    .dataframe tbody tr th {\n",
       "        vertical-align: top;\n",
       "    }\n",
       "\n",
       "    .dataframe thead th {\n",
       "        text-align: right;\n",
       "    }\n",
       "</style>\n",
       "<table border=\"1\" class=\"dataframe\">\n",
       "  <thead>\n",
       "    <tr style=\"text-align: right;\">\n",
       "      <th></th>\n",
       "      <th>State</th>\n",
       "      <th>Population_2013</th>\n",
       "    </tr>\n",
       "  </thead>\n",
       "  <tbody>\n",
       "    <tr>\n",
       "      <th>0</th>\n",
       "      <td>NaN</td>\n",
       "      <td>NaN</td>\n",
       "    </tr>\n",
       "    <tr>\n",
       "      <th>1</th>\n",
       "      <td>Andhra Pradesh</td>\n",
       "      <td>49,386,799</td>\n",
       "    </tr>\n",
       "    <tr>\n",
       "      <th>2</th>\n",
       "      <td>Arunachal Pradesh</td>\n",
       "      <td>1,382,611</td>\n",
       "    </tr>\n",
       "    <tr>\n",
       "      <th>3</th>\n",
       "      <td>Assam</td>\n",
       "      <td>31,169,272</td>\n",
       "    </tr>\n",
       "    <tr>\n",
       "      <th>4</th>\n",
       "      <td>Bihar</td>\n",
       "      <td>103,804,630</td>\n",
       "    </tr>\n",
       "  </tbody>\n",
       "</table>\n",
       "</div>"
      ],
      "text/plain": [
       "                State Population_2013\n",
       "0                 NaN             NaN\n",
       "1      Andhra Pradesh      49,386,799\n",
       "2   Arunachal Pradesh       1,382,611\n",
       "3               Assam      31,169,272\n",
       "4               Bihar     103,804,630"
      ]
     },
     "execution_count": 81,
     "metadata": {},
     "output_type": "execute_result"
    }
   ],
   "source": [
    "population_df = pd.read_excel(r'C:\\Users\\Lenovo\\Desktop\\python\\BI capstone poject\\PMO_Population_2013.xlsx')\n",
    "population_df.head()"
   ]
  },
  {
   "cell_type": "code",
   "execution_count": 85,
   "id": "bdc73b46",
   "metadata": {},
   "outputs": [],
   "source": [
    "population_df = population_df.tail(-1)"
   ]
  },
  {
   "cell_type": "code",
   "execution_count": 86,
   "id": "eecfccb5",
   "metadata": {},
   "outputs": [],
   "source": [
    "population_df = population_df.dropna()"
   ]
  },
  {
   "cell_type": "code",
   "execution_count": 82,
   "id": "95c8dd91",
   "metadata": {},
   "outputs": [
    {
     "name": "stdout",
     "output_type": "stream",
     "text": [
      "<class 'pandas.core.frame.DataFrame'>\n",
      "RangeIndex: 38 entries, 0 to 37\n",
      "Data columns (total 2 columns):\n",
      " #   Column           Non-Null Count  Dtype \n",
      "---  ------           --------------  ----- \n",
      " 0   State            36 non-null     object\n",
      " 1   Population_2013  35 non-null     object\n",
      "dtypes: object(2)\n",
      "memory usage: 736.0+ bytes\n"
     ]
    }
   ],
   "source": [
    "population_df.info()"
   ]
  },
  {
   "cell_type": "code",
   "execution_count": 88,
   "id": "8d6f875d",
   "metadata": {},
   "outputs": [],
   "source": [
    "# population_df['Population_2013'] = pd.to_numeric(population_df['Population_2013'])\n",
    "\n",
    "population_df['Population_2013'] = population_df['Population_2013'].apply(lambda x: float(x.split()[0].replace(',', '')))"
   ]
  },
  {
   "cell_type": "code",
   "execution_count": 90,
   "id": "e9e289df",
   "metadata": {},
   "outputs": [
    {
     "name": "stdout",
     "output_type": "stream",
     "text": [
      "<class 'pandas.core.frame.DataFrame'>\n",
      "Int64Index: 35 entries, 1 to 35\n",
      "Data columns (total 2 columns):\n",
      " #   Column           Non-Null Count  Dtype  \n",
      "---  ------           --------------  -----  \n",
      " 0   State            35 non-null     object \n",
      " 1   Population_2013  35 non-null     float64\n",
      "dtypes: float64(1), object(1)\n",
      "memory usage: 840.0+ bytes\n"
     ]
    }
   ],
   "source": [
    "population_df.info()"
   ]
  },
  {
   "cell_type": "code",
   "execution_count": 89,
   "id": "e22a9758",
   "metadata": {},
   "outputs": [
    {
     "data": {
      "text/html": [
       "<div>\n",
       "<style scoped>\n",
       "    .dataframe tbody tr th:only-of-type {\n",
       "        vertical-align: middle;\n",
       "    }\n",
       "\n",
       "    .dataframe tbody tr th {\n",
       "        vertical-align: top;\n",
       "    }\n",
       "\n",
       "    .dataframe thead th {\n",
       "        text-align: right;\n",
       "    }\n",
       "</style>\n",
       "<table border=\"1\" class=\"dataframe\">\n",
       "  <thead>\n",
       "    <tr style=\"text-align: right;\">\n",
       "      <th></th>\n",
       "      <th>State</th>\n",
       "      <th>Population_2013</th>\n",
       "    </tr>\n",
       "  </thead>\n",
       "  <tbody>\n",
       "    <tr>\n",
       "      <th>1</th>\n",
       "      <td>Andhra Pradesh</td>\n",
       "      <td>49386799.0</td>\n",
       "    </tr>\n",
       "    <tr>\n",
       "      <th>2</th>\n",
       "      <td>Arunachal Pradesh</td>\n",
       "      <td>1382611.0</td>\n",
       "    </tr>\n",
       "    <tr>\n",
       "      <th>3</th>\n",
       "      <td>Assam</td>\n",
       "      <td>31169272.0</td>\n",
       "    </tr>\n",
       "    <tr>\n",
       "      <th>4</th>\n",
       "      <td>Bihar</td>\n",
       "      <td>103804630.0</td>\n",
       "    </tr>\n",
       "    <tr>\n",
       "      <th>5</th>\n",
       "      <td>Chhattisgarh</td>\n",
       "      <td>25540196.0</td>\n",
       "    </tr>\n",
       "    <tr>\n",
       "      <th>6</th>\n",
       "      <td>Goa</td>\n",
       "      <td>1457723.0</td>\n",
       "    </tr>\n",
       "    <tr>\n",
       "      <th>7</th>\n",
       "      <td>Gujarat</td>\n",
       "      <td>60383628.0</td>\n",
       "    </tr>\n",
       "    <tr>\n",
       "      <th>8</th>\n",
       "      <td>Haryana</td>\n",
       "      <td>25753081.0</td>\n",
       "    </tr>\n",
       "    <tr>\n",
       "      <th>9</th>\n",
       "      <td>Himachal Pradesh</td>\n",
       "      <td>6856509.0</td>\n",
       "    </tr>\n",
       "    <tr>\n",
       "      <th>10</th>\n",
       "      <td>Jammu &amp; Kashmir</td>\n",
       "      <td>12548926.0</td>\n",
       "    </tr>\n",
       "    <tr>\n",
       "      <th>11</th>\n",
       "      <td>Jharkhand</td>\n",
       "      <td>32988134.0</td>\n",
       "    </tr>\n",
       "    <tr>\n",
       "      <th>12</th>\n",
       "      <td>Karnataka</td>\n",
       "      <td>61130704.0</td>\n",
       "    </tr>\n",
       "    <tr>\n",
       "      <th>13</th>\n",
       "      <td>Kerala</td>\n",
       "      <td>33387677.0</td>\n",
       "    </tr>\n",
       "    <tr>\n",
       "      <th>14</th>\n",
       "      <td>Madhya Pradesh</td>\n",
       "      <td>72597565.0</td>\n",
       "    </tr>\n",
       "    <tr>\n",
       "      <th>15</th>\n",
       "      <td>Maharashtra</td>\n",
       "      <td>112372972.0</td>\n",
       "    </tr>\n",
       "    <tr>\n",
       "      <th>16</th>\n",
       "      <td>Manipur</td>\n",
       "      <td>2721756.0</td>\n",
       "    </tr>\n",
       "    <tr>\n",
       "      <th>17</th>\n",
       "      <td>Meghalaya</td>\n",
       "      <td>2964007.0</td>\n",
       "    </tr>\n",
       "    <tr>\n",
       "      <th>18</th>\n",
       "      <td>Mizoram</td>\n",
       "      <td>1091014.0</td>\n",
       "    </tr>\n",
       "    <tr>\n",
       "      <th>19</th>\n",
       "      <td>Nagaland</td>\n",
       "      <td>1980602.0</td>\n",
       "    </tr>\n",
       "    <tr>\n",
       "      <th>20</th>\n",
       "      <td>Orissa</td>\n",
       "      <td>41947358.0</td>\n",
       "    </tr>\n",
       "    <tr>\n",
       "      <th>21</th>\n",
       "      <td>Punjab</td>\n",
       "      <td>27704236.0</td>\n",
       "    </tr>\n",
       "    <tr>\n",
       "      <th>22</th>\n",
       "      <td>Rajasthan</td>\n",
       "      <td>68621012.0</td>\n",
       "    </tr>\n",
       "    <tr>\n",
       "      <th>23</th>\n",
       "      <td>Sikkim</td>\n",
       "      <td>607688.0</td>\n",
       "    </tr>\n",
       "    <tr>\n",
       "      <th>24</th>\n",
       "      <td>Tamil Nadu</td>\n",
       "      <td>72138958.0</td>\n",
       "    </tr>\n",
       "    <tr>\n",
       "      <th>25</th>\n",
       "      <td>Tripura</td>\n",
       "      <td>3671032.0</td>\n",
       "    </tr>\n",
       "    <tr>\n",
       "      <th>26</th>\n",
       "      <td>Uttar Pradesh</td>\n",
       "      <td>199581477.0</td>\n",
       "    </tr>\n",
       "    <tr>\n",
       "      <th>27</th>\n",
       "      <td>Uttra Khand</td>\n",
       "      <td>10116752.0</td>\n",
       "    </tr>\n",
       "    <tr>\n",
       "      <th>28</th>\n",
       "      <td>West Bengal</td>\n",
       "      <td>91347736.0</td>\n",
       "    </tr>\n",
       "    <tr>\n",
       "      <th>29</th>\n",
       "      <td>A. &amp; N. Islands</td>\n",
       "      <td>379944.0</td>\n",
       "    </tr>\n",
       "    <tr>\n",
       "      <th>30</th>\n",
       "      <td>Chandigarh</td>\n",
       "      <td>1054686.0</td>\n",
       "    </tr>\n",
       "    <tr>\n",
       "      <th>31</th>\n",
       "      <td>D. &amp; N. Haveli</td>\n",
       "      <td>342853.0</td>\n",
       "    </tr>\n",
       "    <tr>\n",
       "      <th>32</th>\n",
       "      <td>Daman and Diu</td>\n",
       "      <td>242911.0</td>\n",
       "    </tr>\n",
       "    <tr>\n",
       "      <th>33</th>\n",
       "      <td>Delhi</td>\n",
       "      <td>16753235.0</td>\n",
       "    </tr>\n",
       "    <tr>\n",
       "      <th>34</th>\n",
       "      <td>Lakshadweep</td>\n",
       "      <td>64429.0</td>\n",
       "    </tr>\n",
       "    <tr>\n",
       "      <th>35</th>\n",
       "      <td>Pudducherry</td>\n",
       "      <td>1244464.0</td>\n",
       "    </tr>\n",
       "  </tbody>\n",
       "</table>\n",
       "</div>"
      ],
      "text/plain": [
       "                 State  Population_2013\n",
       "1       Andhra Pradesh       49386799.0\n",
       "2    Arunachal Pradesh        1382611.0\n",
       "3                Assam       31169272.0\n",
       "4                Bihar      103804630.0\n",
       "5         Chhattisgarh       25540196.0\n",
       "6                  Goa        1457723.0\n",
       "7              Gujarat       60383628.0\n",
       "8              Haryana       25753081.0\n",
       "9     Himachal Pradesh        6856509.0\n",
       "10    Jammu & Kashmir        12548926.0\n",
       "11           Jharkhand       32988134.0\n",
       "12           Karnataka       61130704.0\n",
       "13              Kerala       33387677.0\n",
       "14      Madhya Pradesh       72597565.0\n",
       "15         Maharashtra      112372972.0\n",
       "16             Manipur        2721756.0\n",
       "17           Meghalaya        2964007.0\n",
       "18             Mizoram        1091014.0\n",
       "19            Nagaland        1980602.0\n",
       "20              Orissa       41947358.0\n",
       "21              Punjab       27704236.0\n",
       "22           Rajasthan       68621012.0\n",
       "23              Sikkim         607688.0\n",
       "24          Tamil Nadu       72138958.0\n",
       "25             Tripura        3671032.0\n",
       "26       Uttar Pradesh      199581477.0\n",
       "27         Uttra Khand       10116752.0\n",
       "28         West Bengal       91347736.0\n",
       "29     A. & N. Islands         379944.0\n",
       "30          Chandigarh        1054686.0\n",
       "31      D. & N. Haveli         342853.0\n",
       "32       Daman and Diu         242911.0\n",
       "33               Delhi       16753235.0\n",
       "34         Lakshadweep          64429.0\n",
       "35         Pudducherry        1244464.0"
      ]
     },
     "execution_count": 89,
     "metadata": {},
     "output_type": "execute_result"
    }
   ],
   "source": [
    "population_df"
   ]
  },
  {
   "cell_type": "markdown",
   "id": "4af989cf",
   "metadata": {},
   "source": [
    "# let's create a new dataframe as asked in the question with required columns ---"
   ]
  },
  {
   "cell_type": "code",
   "execution_count": 91,
   "id": "aa7e6712",
   "metadata": {},
   "outputs": [],
   "source": [
    "new_df = pd.DataFrame(columns=['State Name','Total Urban Road','Total Rural Road','Total','Population as on 2013'])"
   ]
  },
  {
   "cell_type": "code",
   "execution_count": 92,
   "id": "3e000dba",
   "metadata": {},
   "outputs": [
    {
     "data": {
      "text/html": [
       "<div>\n",
       "<style scoped>\n",
       "    .dataframe tbody tr th:only-of-type {\n",
       "        vertical-align: middle;\n",
       "    }\n",
       "\n",
       "    .dataframe tbody tr th {\n",
       "        vertical-align: top;\n",
       "    }\n",
       "\n",
       "    .dataframe thead th {\n",
       "        text-align: right;\n",
       "    }\n",
       "</style>\n",
       "<table border=\"1\" class=\"dataframe\">\n",
       "  <thead>\n",
       "    <tr style=\"text-align: right;\">\n",
       "      <th></th>\n",
       "      <th>State Name</th>\n",
       "      <th>Total Urban Road</th>\n",
       "      <th>Total Rural Road</th>\n",
       "      <th>Total</th>\n",
       "      <th>Population as on 2013</th>\n",
       "    </tr>\n",
       "  </thead>\n",
       "  <tbody>\n",
       "  </tbody>\n",
       "</table>\n",
       "</div>"
      ],
      "text/plain": [
       "Empty DataFrame\n",
       "Columns: [State Name, Total Urban Road, Total Rural Road, Total, Population as on 2013]\n",
       "Index: []"
      ]
     },
     "execution_count": 92,
     "metadata": {},
     "output_type": "execute_result"
    }
   ],
   "source": [
    "new_df"
   ]
  },
  {
   "cell_type": "code",
   "execution_count": 93,
   "id": "acbd23e1",
   "metadata": {},
   "outputs": [],
   "source": [
    "new_df['State Name'] = nh_df['State']"
   ]
  },
  {
   "cell_type": "code",
   "execution_count": 94,
   "id": "a707930c",
   "metadata": {},
   "outputs": [],
   "source": [
    "new_df['Total Urban Road'] = urban_df['total']"
   ]
  },
  {
   "cell_type": "code",
   "execution_count": 99,
   "id": "e51ddb4c",
   "metadata": {},
   "outputs": [],
   "source": [
    "new_df['Total Rural Road'] = rural_df['total']"
   ]
  },
  {
   "cell_type": "code",
   "execution_count": 100,
   "id": "a5e1f298",
   "metadata": {},
   "outputs": [],
   "source": [
    "new_df['Total'] = new_df['Total Urban Road'] + new_df['Total Rural Road']"
   ]
  },
  {
   "cell_type": "code",
   "execution_count": 101,
   "id": "448d5133",
   "metadata": {},
   "outputs": [],
   "source": [
    "new_df['Population as on 2013'] = population_df['Population_2013']"
   ]
  },
  {
   "cell_type": "markdown",
   "id": "15bd24be",
   "metadata": {},
   "source": [
    "# This is our new dataframe as asked in the question"
   ]
  },
  {
   "cell_type": "code",
   "execution_count": 102,
   "id": "1e60387c",
   "metadata": {},
   "outputs": [
    {
     "data": {
      "text/html": [
       "<div>\n",
       "<style scoped>\n",
       "    .dataframe tbody tr th:only-of-type {\n",
       "        vertical-align: middle;\n",
       "    }\n",
       "\n",
       "    .dataframe tbody tr th {\n",
       "        vertical-align: top;\n",
       "    }\n",
       "\n",
       "    .dataframe thead th {\n",
       "        text-align: right;\n",
       "    }\n",
       "</style>\n",
       "<table border=\"1\" class=\"dataframe\">\n",
       "  <thead>\n",
       "    <tr style=\"text-align: right;\">\n",
       "      <th></th>\n",
       "      <th>State Name</th>\n",
       "      <th>Total Urban Road</th>\n",
       "      <th>Total Rural Road</th>\n",
       "      <th>Total</th>\n",
       "      <th>Population as on 2013</th>\n",
       "    </tr>\n",
       "  </thead>\n",
       "  <tbody>\n",
       "    <tr>\n",
       "      <th>1</th>\n",
       "      <td>Andhra Pradesh</td>\n",
       "      <td>577950.0</td>\n",
       "      <td>332542.0</td>\n",
       "      <td>910492.0</td>\n",
       "      <td>49386799.0</td>\n",
       "    </tr>\n",
       "    <tr>\n",
       "      <th>2</th>\n",
       "      <td>Arunachal Pradesh</td>\n",
       "      <td>115692.0</td>\n",
       "      <td>8607.0</td>\n",
       "      <td>124299.0</td>\n",
       "      <td>1382611.0</td>\n",
       "    </tr>\n",
       "    <tr>\n",
       "      <th>3</th>\n",
       "      <td>Assam</td>\n",
       "      <td>366610.0</td>\n",
       "      <td>439821.0</td>\n",
       "      <td>806431.0</td>\n",
       "      <td>31169272.0</td>\n",
       "    </tr>\n",
       "    <tr>\n",
       "      <th>4</th>\n",
       "      <td>Bihar</td>\n",
       "      <td>96576.0</td>\n",
       "      <td>276338.0</td>\n",
       "      <td>372914.0</td>\n",
       "      <td>103804630.0</td>\n",
       "    </tr>\n",
       "    <tr>\n",
       "      <th>5</th>\n",
       "      <td>Chhattisgarh</td>\n",
       "      <td>268790.0</td>\n",
       "      <td>49757.0</td>\n",
       "      <td>318547.0</td>\n",
       "      <td>25540196.0</td>\n",
       "    </tr>\n",
       "    <tr>\n",
       "      <th>6</th>\n",
       "      <td>Goa</td>\n",
       "      <td>45568.0</td>\n",
       "      <td>11097.0</td>\n",
       "      <td>56665.0</td>\n",
       "      <td>1457723.0</td>\n",
       "    </tr>\n",
       "    <tr>\n",
       "      <th>7</th>\n",
       "      <td>Gujarat</td>\n",
       "      <td>577224.0</td>\n",
       "      <td>105310.0</td>\n",
       "      <td>682534.0</td>\n",
       "      <td>60383628.0</td>\n",
       "    </tr>\n",
       "    <tr>\n",
       "      <th>8</th>\n",
       "      <td>Haryana</td>\n",
       "      <td>223894.0</td>\n",
       "      <td>9106.0</td>\n",
       "      <td>233000.0</td>\n",
       "      <td>25753081.0</td>\n",
       "    </tr>\n",
       "    <tr>\n",
       "      <th>9</th>\n",
       "      <td>Himachal Pradesh</td>\n",
       "      <td>305996.0</td>\n",
       "      <td>25730.0</td>\n",
       "      <td>331726.0</td>\n",
       "      <td>6856509.0</td>\n",
       "    </tr>\n",
       "    <tr>\n",
       "      <th>10</th>\n",
       "      <td>Jammu &amp; Kashmir</td>\n",
       "      <td>82396.0</td>\n",
       "      <td>19075.0</td>\n",
       "      <td>101471.0</td>\n",
       "      <td>12548926.0</td>\n",
       "    </tr>\n",
       "    <tr>\n",
       "      <th>11</th>\n",
       "      <td>Jharkhand</td>\n",
       "      <td>57006.0</td>\n",
       "      <td>24382.0</td>\n",
       "      <td>81388.0</td>\n",
       "      <td>32988134.0</td>\n",
       "    </tr>\n",
       "    <tr>\n",
       "      <th>12</th>\n",
       "      <td>Karnataka</td>\n",
       "      <td>537516.0</td>\n",
       "      <td>326710.0</td>\n",
       "      <td>864226.0</td>\n",
       "      <td>61130704.0</td>\n",
       "    </tr>\n",
       "    <tr>\n",
       "      <th>13</th>\n",
       "      <td>Kerala</td>\n",
       "      <td>231494.0</td>\n",
       "      <td>280149.0</td>\n",
       "      <td>511643.0</td>\n",
       "      <td>33387677.0</td>\n",
       "    </tr>\n",
       "    <tr>\n",
       "      <th>14</th>\n",
       "      <td>Madhya Pradesh</td>\n",
       "      <td>480446.0</td>\n",
       "      <td>214333.0</td>\n",
       "      <td>694779.0</td>\n",
       "      <td>72597565.0</td>\n",
       "    </tr>\n",
       "    <tr>\n",
       "      <th>15</th>\n",
       "      <td>Maharashtra</td>\n",
       "      <td>2147346.0</td>\n",
       "      <td>385868.0</td>\n",
       "      <td>2533214.0</td>\n",
       "      <td>112372972.0</td>\n",
       "    </tr>\n",
       "    <tr>\n",
       "      <th>16</th>\n",
       "      <td>Manipur</td>\n",
       "      <td>100824.0</td>\n",
       "      <td>14315.0</td>\n",
       "      <td>115139.0</td>\n",
       "      <td>2721756.0</td>\n",
       "    </tr>\n",
       "    <tr>\n",
       "      <th>17</th>\n",
       "      <td>Meghalaya</td>\n",
       "      <td>74592.0</td>\n",
       "      <td>3406.0</td>\n",
       "      <td>77998.0</td>\n",
       "      <td>2964007.0</td>\n",
       "    </tr>\n",
       "    <tr>\n",
       "      <th>18</th>\n",
       "      <td>Mizoram</td>\n",
       "      <td>54824.0</td>\n",
       "      <td>4664.0</td>\n",
       "      <td>59488.0</td>\n",
       "      <td>1091014.0</td>\n",
       "    </tr>\n",
       "    <tr>\n",
       "      <th>19</th>\n",
       "      <td>Nagaland</td>\n",
       "      <td>103992.0</td>\n",
       "      <td>45903.0</td>\n",
       "      <td>149895.0</td>\n",
       "      <td>1980602.0</td>\n",
       "    </tr>\n",
       "    <tr>\n",
       "      <th>20</th>\n",
       "      <td>Orissa</td>\n",
       "      <td>119104.0</td>\n",
       "      <td>407597.0</td>\n",
       "      <td>526701.0</td>\n",
       "      <td>41947358.0</td>\n",
       "    </tr>\n",
       "    <tr>\n",
       "      <th>21</th>\n",
       "      <td>Punjab</td>\n",
       "      <td>68152.0</td>\n",
       "      <td>122395.0</td>\n",
       "      <td>190547.0</td>\n",
       "      <td>27704236.0</td>\n",
       "    </tr>\n",
       "    <tr>\n",
       "      <th>22</th>\n",
       "      <td>Rajasthan</td>\n",
       "      <td>1034986.0</td>\n",
       "      <td>196345.0</td>\n",
       "      <td>1231331.0</td>\n",
       "      <td>68621012.0</td>\n",
       "    </tr>\n",
       "    <tr>\n",
       "      <th>23</th>\n",
       "      <td>Sikkim</td>\n",
       "      <td>19306.0</td>\n",
       "      <td>5744.0</td>\n",
       "      <td>25050.0</td>\n",
       "      <td>607688.0</td>\n",
       "    </tr>\n",
       "    <tr>\n",
       "      <th>24</th>\n",
       "      <td>Tamil Nadu</td>\n",
       "      <td>485684.0</td>\n",
       "      <td>282682.0</td>\n",
       "      <td>768366.0</td>\n",
       "      <td>72138958.0</td>\n",
       "    </tr>\n",
       "    <tr>\n",
       "      <th>25</th>\n",
       "      <td>Tripura</td>\n",
       "      <td>127044.0</td>\n",
       "      <td>34932.0</td>\n",
       "      <td>161976.0</td>\n",
       "      <td>3671032.0</td>\n",
       "    </tr>\n",
       "    <tr>\n",
       "      <th>26</th>\n",
       "      <td>Uttar Pradesh</td>\n",
       "      <td>1704106.0</td>\n",
       "      <td>200881.0</td>\n",
       "      <td>1904987.0</td>\n",
       "      <td>199581477.0</td>\n",
       "    </tr>\n",
       "    <tr>\n",
       "      <th>27</th>\n",
       "      <td>Uttra Khand</td>\n",
       "      <td>214022.0</td>\n",
       "      <td>10984.0</td>\n",
       "      <td>225006.0</td>\n",
       "      <td>10116752.0</td>\n",
       "    </tr>\n",
       "    <tr>\n",
       "      <th>28</th>\n",
       "      <td>West Bengal</td>\n",
       "      <td>120708.0</td>\n",
       "      <td>356550.0</td>\n",
       "      <td>477258.0</td>\n",
       "      <td>91347736.0</td>\n",
       "    </tr>\n",
       "    <tr>\n",
       "      <th>29</th>\n",
       "      <td>A. &amp; N. Islands</td>\n",
       "      <td>6588.0</td>\n",
       "      <td>0.0</td>\n",
       "      <td>6588.0</td>\n",
       "      <td>379944.0</td>\n",
       "    </tr>\n",
       "    <tr>\n",
       "      <th>30</th>\n",
       "      <td>Chandigarh</td>\n",
       "      <td>3990.0</td>\n",
       "      <td>0.0</td>\n",
       "      <td>3990.0</td>\n",
       "      <td>1054686.0</td>\n",
       "    </tr>\n",
       "    <tr>\n",
       "      <th>31</th>\n",
       "      <td>D. &amp; N. Haveli</td>\n",
       "      <td>7608.0</td>\n",
       "      <td>0.0</td>\n",
       "      <td>7608.0</td>\n",
       "      <td>342853.0</td>\n",
       "    </tr>\n",
       "    <tr>\n",
       "      <th>32</th>\n",
       "      <td>Daman and Diu</td>\n",
       "      <td>762.0</td>\n",
       "      <td>222.0</td>\n",
       "      <td>984.0</td>\n",
       "      <td>242911.0</td>\n",
       "    </tr>\n",
       "    <tr>\n",
       "      <th>33</th>\n",
       "      <td>Delhi</td>\n",
       "      <td>9794.0</td>\n",
       "      <td>0.0</td>\n",
       "      <td>9794.0</td>\n",
       "      <td>16753235.0</td>\n",
       "    </tr>\n",
       "    <tr>\n",
       "      <th>34</th>\n",
       "      <td>Lakshadweep</td>\n",
       "      <td>1886.0</td>\n",
       "      <td>0.0</td>\n",
       "      <td>1886.0</td>\n",
       "      <td>64429.0</td>\n",
       "    </tr>\n",
       "    <tr>\n",
       "      <th>35</th>\n",
       "      <td>Pudducherry</td>\n",
       "      <td>5870.0</td>\n",
       "      <td>2414.0</td>\n",
       "      <td>8284.0</td>\n",
       "      <td>1244464.0</td>\n",
       "    </tr>\n",
       "  </tbody>\n",
       "</table>\n",
       "</div>"
      ],
      "text/plain": [
       "            State Name  Total Urban Road  Total Rural Road      Total  \\\n",
       "1       Andhra Pradesh          577950.0          332542.0   910492.0   \n",
       "2    Arunachal Pradesh          115692.0            8607.0   124299.0   \n",
       "3                Assam          366610.0          439821.0   806431.0   \n",
       "4                Bihar           96576.0          276338.0   372914.0   \n",
       "5         Chhattisgarh          268790.0           49757.0   318547.0   \n",
       "6                  Goa           45568.0           11097.0    56665.0   \n",
       "7              Gujarat          577224.0          105310.0   682534.0   \n",
       "8              Haryana          223894.0            9106.0   233000.0   \n",
       "9     Himachal Pradesh          305996.0           25730.0   331726.0   \n",
       "10    Jammu & Kashmir            82396.0           19075.0   101471.0   \n",
       "11           Jharkhand           57006.0           24382.0    81388.0   \n",
       "12           Karnataka          537516.0          326710.0   864226.0   \n",
       "13              Kerala          231494.0          280149.0   511643.0   \n",
       "14      Madhya Pradesh          480446.0          214333.0   694779.0   \n",
       "15         Maharashtra         2147346.0          385868.0  2533214.0   \n",
       "16             Manipur          100824.0           14315.0   115139.0   \n",
       "17           Meghalaya           74592.0            3406.0    77998.0   \n",
       "18             Mizoram           54824.0            4664.0    59488.0   \n",
       "19            Nagaland          103992.0           45903.0   149895.0   \n",
       "20              Orissa          119104.0          407597.0   526701.0   \n",
       "21              Punjab           68152.0          122395.0   190547.0   \n",
       "22           Rajasthan         1034986.0          196345.0  1231331.0   \n",
       "23              Sikkim           19306.0            5744.0    25050.0   \n",
       "24          Tamil Nadu          485684.0          282682.0   768366.0   \n",
       "25             Tripura          127044.0           34932.0   161976.0   \n",
       "26       Uttar Pradesh         1704106.0          200881.0  1904987.0   \n",
       "27         Uttra Khand          214022.0           10984.0   225006.0   \n",
       "28         West Bengal          120708.0          356550.0   477258.0   \n",
       "29     A. & N. Islands            6588.0               0.0     6588.0   \n",
       "30          Chandigarh            3990.0               0.0     3990.0   \n",
       "31      D. & N. Haveli            7608.0               0.0     7608.0   \n",
       "32       Daman and Diu             762.0             222.0      984.0   \n",
       "33               Delhi            9794.0               0.0     9794.0   \n",
       "34         Lakshadweep            1886.0               0.0     1886.0   \n",
       "35         Pudducherry            5870.0            2414.0     8284.0   \n",
       "\n",
       "    Population as on 2013  \n",
       "1              49386799.0  \n",
       "2               1382611.0  \n",
       "3              31169272.0  \n",
       "4             103804630.0  \n",
       "5              25540196.0  \n",
       "6               1457723.0  \n",
       "7              60383628.0  \n",
       "8              25753081.0  \n",
       "9               6856509.0  \n",
       "10             12548926.0  \n",
       "11             32988134.0  \n",
       "12             61130704.0  \n",
       "13             33387677.0  \n",
       "14             72597565.0  \n",
       "15            112372972.0  \n",
       "16              2721756.0  \n",
       "17              2964007.0  \n",
       "18              1091014.0  \n",
       "19              1980602.0  \n",
       "20             41947358.0  \n",
       "21             27704236.0  \n",
       "22             68621012.0  \n",
       "23               607688.0  \n",
       "24             72138958.0  \n",
       "25              3671032.0  \n",
       "26            199581477.0  \n",
       "27             10116752.0  \n",
       "28             91347736.0  \n",
       "29               379944.0  \n",
       "30              1054686.0  \n",
       "31               342853.0  \n",
       "32               242911.0  \n",
       "33             16753235.0  \n",
       "34                64429.0  \n",
       "35              1244464.0  "
      ]
     },
     "execution_count": 102,
     "metadata": {},
     "output_type": "execute_result"
    }
   ],
   "source": [
    "new_df"
   ]
  },
  {
   "cell_type": "markdown",
   "id": "6e92b13a",
   "metadata": {},
   "source": [
    "# --------------------------------------------------------------------------------------------------------------"
   ]
  },
  {
   "cell_type": "markdown",
   "id": "94c15890",
   "metadata": {},
   "source": [
    "# The maximum road per person in the state ---\n"
   ]
  },
  {
   "cell_type": "code",
   "execution_count": 103,
   "id": "3f752069",
   "metadata": {},
   "outputs": [],
   "source": [
    "final_df = new_df"
   ]
  },
  {
   "cell_type": "code",
   "execution_count": 104,
   "id": "6716f33d",
   "metadata": {},
   "outputs": [
    {
     "data": {
      "text/html": [
       "<div>\n",
       "<style scoped>\n",
       "    .dataframe tbody tr th:only-of-type {\n",
       "        vertical-align: middle;\n",
       "    }\n",
       "\n",
       "    .dataframe tbody tr th {\n",
       "        vertical-align: top;\n",
       "    }\n",
       "\n",
       "    .dataframe thead th {\n",
       "        text-align: right;\n",
       "    }\n",
       "</style>\n",
       "<table border=\"1\" class=\"dataframe\">\n",
       "  <thead>\n",
       "    <tr style=\"text-align: right;\">\n",
       "      <th></th>\n",
       "      <th>State Name</th>\n",
       "      <th>Total Urban Road</th>\n",
       "      <th>Total Rural Road</th>\n",
       "      <th>Total</th>\n",
       "      <th>Population as on 2013</th>\n",
       "    </tr>\n",
       "  </thead>\n",
       "  <tbody>\n",
       "    <tr>\n",
       "      <th>1</th>\n",
       "      <td>Andhra Pradesh</td>\n",
       "      <td>577950.0</td>\n",
       "      <td>332542.0</td>\n",
       "      <td>910492.0</td>\n",
       "      <td>49386799.0</td>\n",
       "    </tr>\n",
       "    <tr>\n",
       "      <th>2</th>\n",
       "      <td>Arunachal Pradesh</td>\n",
       "      <td>115692.0</td>\n",
       "      <td>8607.0</td>\n",
       "      <td>124299.0</td>\n",
       "      <td>1382611.0</td>\n",
       "    </tr>\n",
       "    <tr>\n",
       "      <th>3</th>\n",
       "      <td>Assam</td>\n",
       "      <td>366610.0</td>\n",
       "      <td>439821.0</td>\n",
       "      <td>806431.0</td>\n",
       "      <td>31169272.0</td>\n",
       "    </tr>\n",
       "    <tr>\n",
       "      <th>4</th>\n",
       "      <td>Bihar</td>\n",
       "      <td>96576.0</td>\n",
       "      <td>276338.0</td>\n",
       "      <td>372914.0</td>\n",
       "      <td>103804630.0</td>\n",
       "    </tr>\n",
       "    <tr>\n",
       "      <th>5</th>\n",
       "      <td>Chhattisgarh</td>\n",
       "      <td>268790.0</td>\n",
       "      <td>49757.0</td>\n",
       "      <td>318547.0</td>\n",
       "      <td>25540196.0</td>\n",
       "    </tr>\n",
       "  </tbody>\n",
       "</table>\n",
       "</div>"
      ],
      "text/plain": [
       "           State Name  Total Urban Road  Total Rural Road     Total  \\\n",
       "1      Andhra Pradesh          577950.0          332542.0  910492.0   \n",
       "2   Arunachal Pradesh          115692.0            8607.0  124299.0   \n",
       "3               Assam          366610.0          439821.0  806431.0   \n",
       "4               Bihar           96576.0          276338.0  372914.0   \n",
       "5        Chhattisgarh          268790.0           49757.0  318547.0   \n",
       "\n",
       "   Population as on 2013  \n",
       "1             49386799.0  \n",
       "2              1382611.0  \n",
       "3             31169272.0  \n",
       "4            103804630.0  \n",
       "5             25540196.0  "
      ]
     },
     "execution_count": 104,
     "metadata": {},
     "output_type": "execute_result"
    }
   ],
   "source": [
    "final_df.head()"
   ]
  },
  {
   "cell_type": "code",
   "execution_count": 105,
   "id": "ad0d029b",
   "metadata": {},
   "outputs": [
    {
     "name": "stdout",
     "output_type": "stream",
     "text": [
      "<class 'pandas.core.frame.DataFrame'>\n",
      "Int64Index: 35 entries, 1 to 35\n",
      "Data columns (total 5 columns):\n",
      " #   Column                 Non-Null Count  Dtype  \n",
      "---  ------                 --------------  -----  \n",
      " 0   State Name             35 non-null     object \n",
      " 1   Total Urban Road       35 non-null     float64\n",
      " 2   Total Rural Road       35 non-null     float64\n",
      " 3   Total                  35 non-null     float64\n",
      " 4   Population as on 2013  35 non-null     float64\n",
      "dtypes: float64(4), object(1)\n",
      "memory usage: 1.6+ KB\n"
     ]
    }
   ],
   "source": [
    "final_df.info()"
   ]
  },
  {
   "cell_type": "markdown",
   "id": "853d4ad3",
   "metadata": {},
   "source": [
    "Here, we see that column : 'Population as on 2013' is f object datatype.\n",
    "    \n",
    "In order to calculate out of it, we must change the datatype of it."
   ]
  },
  {
   "cell_type": "markdown",
   "id": "45327774",
   "metadata": {},
   "source": [
    "# Converting object dtype to float:\n",
    "\n",
    "final_df['Population as on 2013'] = final_df['Population as on 2013'].apply(lambda x: float(x.split()[0].replace(',', '')))\n"
   ]
  },
  {
   "cell_type": "code",
   "execution_count": 107,
   "id": "28dae106",
   "metadata": {},
   "outputs": [
    {
     "name": "stdout",
     "output_type": "stream",
     "text": [
      "<class 'pandas.core.frame.DataFrame'>\n",
      "Int64Index: 35 entries, 1 to 35\n",
      "Data columns (total 5 columns):\n",
      " #   Column                 Non-Null Count  Dtype  \n",
      "---  ------                 --------------  -----  \n",
      " 0   State Name             35 non-null     object \n",
      " 1   Total Urban Road       35 non-null     float64\n",
      " 2   Total Rural Road       35 non-null     float64\n",
      " 3   Total                  35 non-null     float64\n",
      " 4   Population as on 2013  35 non-null     float64\n",
      "dtypes: float64(4), object(1)\n",
      "memory usage: 1.6+ KB\n"
     ]
    }
   ],
   "source": [
    "final_df.info()"
   ]
  },
  {
   "cell_type": "code",
   "execution_count": 108,
   "id": "2bea9370",
   "metadata": {},
   "outputs": [],
   "source": [
    "final_df['Roads_per_population'] = final_df['Total'] / final_df['Population as on 2013']"
   ]
  },
  {
   "cell_type": "code",
   "execution_count": 109,
   "id": "3b758ff5",
   "metadata": {},
   "outputs": [
    {
     "data": {
      "text/html": [
       "<div>\n",
       "<style scoped>\n",
       "    .dataframe tbody tr th:only-of-type {\n",
       "        vertical-align: middle;\n",
       "    }\n",
       "\n",
       "    .dataframe tbody tr th {\n",
       "        vertical-align: top;\n",
       "    }\n",
       "\n",
       "    .dataframe thead th {\n",
       "        text-align: right;\n",
       "    }\n",
       "</style>\n",
       "<table border=\"1\" class=\"dataframe\">\n",
       "  <thead>\n",
       "    <tr style=\"text-align: right;\">\n",
       "      <th></th>\n",
       "      <th>State Name</th>\n",
       "      <th>Total Urban Road</th>\n",
       "      <th>Total Rural Road</th>\n",
       "      <th>Total</th>\n",
       "      <th>Population as on 2013</th>\n",
       "      <th>Roads_per_population</th>\n",
       "    </tr>\n",
       "  </thead>\n",
       "  <tbody>\n",
       "    <tr>\n",
       "      <th>1</th>\n",
       "      <td>Andhra Pradesh</td>\n",
       "      <td>577950.0</td>\n",
       "      <td>332542.0</td>\n",
       "      <td>910492.0</td>\n",
       "      <td>49386799.0</td>\n",
       "      <td>0.018436</td>\n",
       "    </tr>\n",
       "    <tr>\n",
       "      <th>2</th>\n",
       "      <td>Arunachal Pradesh</td>\n",
       "      <td>115692.0</td>\n",
       "      <td>8607.0</td>\n",
       "      <td>124299.0</td>\n",
       "      <td>1382611.0</td>\n",
       "      <td>0.089902</td>\n",
       "    </tr>\n",
       "    <tr>\n",
       "      <th>3</th>\n",
       "      <td>Assam</td>\n",
       "      <td>366610.0</td>\n",
       "      <td>439821.0</td>\n",
       "      <td>806431.0</td>\n",
       "      <td>31169272.0</td>\n",
       "      <td>0.025873</td>\n",
       "    </tr>\n",
       "    <tr>\n",
       "      <th>4</th>\n",
       "      <td>Bihar</td>\n",
       "      <td>96576.0</td>\n",
       "      <td>276338.0</td>\n",
       "      <td>372914.0</td>\n",
       "      <td>103804630.0</td>\n",
       "      <td>0.003592</td>\n",
       "    </tr>\n",
       "    <tr>\n",
       "      <th>5</th>\n",
       "      <td>Chhattisgarh</td>\n",
       "      <td>268790.0</td>\n",
       "      <td>49757.0</td>\n",
       "      <td>318547.0</td>\n",
       "      <td>25540196.0</td>\n",
       "      <td>0.012472</td>\n",
       "    </tr>\n",
       "    <tr>\n",
       "      <th>6</th>\n",
       "      <td>Goa</td>\n",
       "      <td>45568.0</td>\n",
       "      <td>11097.0</td>\n",
       "      <td>56665.0</td>\n",
       "      <td>1457723.0</td>\n",
       "      <td>0.038872</td>\n",
       "    </tr>\n",
       "    <tr>\n",
       "      <th>7</th>\n",
       "      <td>Gujarat</td>\n",
       "      <td>577224.0</td>\n",
       "      <td>105310.0</td>\n",
       "      <td>682534.0</td>\n",
       "      <td>60383628.0</td>\n",
       "      <td>0.011303</td>\n",
       "    </tr>\n",
       "    <tr>\n",
       "      <th>8</th>\n",
       "      <td>Haryana</td>\n",
       "      <td>223894.0</td>\n",
       "      <td>9106.0</td>\n",
       "      <td>233000.0</td>\n",
       "      <td>25753081.0</td>\n",
       "      <td>0.009047</td>\n",
       "    </tr>\n",
       "    <tr>\n",
       "      <th>9</th>\n",
       "      <td>Himachal Pradesh</td>\n",
       "      <td>305996.0</td>\n",
       "      <td>25730.0</td>\n",
       "      <td>331726.0</td>\n",
       "      <td>6856509.0</td>\n",
       "      <td>0.048381</td>\n",
       "    </tr>\n",
       "    <tr>\n",
       "      <th>10</th>\n",
       "      <td>Jammu &amp; Kashmir</td>\n",
       "      <td>82396.0</td>\n",
       "      <td>19075.0</td>\n",
       "      <td>101471.0</td>\n",
       "      <td>12548926.0</td>\n",
       "      <td>0.008086</td>\n",
       "    </tr>\n",
       "    <tr>\n",
       "      <th>11</th>\n",
       "      <td>Jharkhand</td>\n",
       "      <td>57006.0</td>\n",
       "      <td>24382.0</td>\n",
       "      <td>81388.0</td>\n",
       "      <td>32988134.0</td>\n",
       "      <td>0.002467</td>\n",
       "    </tr>\n",
       "    <tr>\n",
       "      <th>12</th>\n",
       "      <td>Karnataka</td>\n",
       "      <td>537516.0</td>\n",
       "      <td>326710.0</td>\n",
       "      <td>864226.0</td>\n",
       "      <td>61130704.0</td>\n",
       "      <td>0.014137</td>\n",
       "    </tr>\n",
       "    <tr>\n",
       "      <th>13</th>\n",
       "      <td>Kerala</td>\n",
       "      <td>231494.0</td>\n",
       "      <td>280149.0</td>\n",
       "      <td>511643.0</td>\n",
       "      <td>33387677.0</td>\n",
       "      <td>0.015324</td>\n",
       "    </tr>\n",
       "    <tr>\n",
       "      <th>14</th>\n",
       "      <td>Madhya Pradesh</td>\n",
       "      <td>480446.0</td>\n",
       "      <td>214333.0</td>\n",
       "      <td>694779.0</td>\n",
       "      <td>72597565.0</td>\n",
       "      <td>0.009570</td>\n",
       "    </tr>\n",
       "    <tr>\n",
       "      <th>15</th>\n",
       "      <td>Maharashtra</td>\n",
       "      <td>2147346.0</td>\n",
       "      <td>385868.0</td>\n",
       "      <td>2533214.0</td>\n",
       "      <td>112372972.0</td>\n",
       "      <td>0.022543</td>\n",
       "    </tr>\n",
       "    <tr>\n",
       "      <th>16</th>\n",
       "      <td>Manipur</td>\n",
       "      <td>100824.0</td>\n",
       "      <td>14315.0</td>\n",
       "      <td>115139.0</td>\n",
       "      <td>2721756.0</td>\n",
       "      <td>0.042303</td>\n",
       "    </tr>\n",
       "    <tr>\n",
       "      <th>17</th>\n",
       "      <td>Meghalaya</td>\n",
       "      <td>74592.0</td>\n",
       "      <td>3406.0</td>\n",
       "      <td>77998.0</td>\n",
       "      <td>2964007.0</td>\n",
       "      <td>0.026315</td>\n",
       "    </tr>\n",
       "    <tr>\n",
       "      <th>18</th>\n",
       "      <td>Mizoram</td>\n",
       "      <td>54824.0</td>\n",
       "      <td>4664.0</td>\n",
       "      <td>59488.0</td>\n",
       "      <td>1091014.0</td>\n",
       "      <td>0.054525</td>\n",
       "    </tr>\n",
       "    <tr>\n",
       "      <th>19</th>\n",
       "      <td>Nagaland</td>\n",
       "      <td>103992.0</td>\n",
       "      <td>45903.0</td>\n",
       "      <td>149895.0</td>\n",
       "      <td>1980602.0</td>\n",
       "      <td>0.075682</td>\n",
       "    </tr>\n",
       "    <tr>\n",
       "      <th>20</th>\n",
       "      <td>Orissa</td>\n",
       "      <td>119104.0</td>\n",
       "      <td>407597.0</td>\n",
       "      <td>526701.0</td>\n",
       "      <td>41947358.0</td>\n",
       "      <td>0.012556</td>\n",
       "    </tr>\n",
       "    <tr>\n",
       "      <th>21</th>\n",
       "      <td>Punjab</td>\n",
       "      <td>68152.0</td>\n",
       "      <td>122395.0</td>\n",
       "      <td>190547.0</td>\n",
       "      <td>27704236.0</td>\n",
       "      <td>0.006878</td>\n",
       "    </tr>\n",
       "    <tr>\n",
       "      <th>22</th>\n",
       "      <td>Rajasthan</td>\n",
       "      <td>1034986.0</td>\n",
       "      <td>196345.0</td>\n",
       "      <td>1231331.0</td>\n",
       "      <td>68621012.0</td>\n",
       "      <td>0.017944</td>\n",
       "    </tr>\n",
       "    <tr>\n",
       "      <th>23</th>\n",
       "      <td>Sikkim</td>\n",
       "      <td>19306.0</td>\n",
       "      <td>5744.0</td>\n",
       "      <td>25050.0</td>\n",
       "      <td>607688.0</td>\n",
       "      <td>0.041222</td>\n",
       "    </tr>\n",
       "    <tr>\n",
       "      <th>24</th>\n",
       "      <td>Tamil Nadu</td>\n",
       "      <td>485684.0</td>\n",
       "      <td>282682.0</td>\n",
       "      <td>768366.0</td>\n",
       "      <td>72138958.0</td>\n",
       "      <td>0.010651</td>\n",
       "    </tr>\n",
       "    <tr>\n",
       "      <th>25</th>\n",
       "      <td>Tripura</td>\n",
       "      <td>127044.0</td>\n",
       "      <td>34932.0</td>\n",
       "      <td>161976.0</td>\n",
       "      <td>3671032.0</td>\n",
       "      <td>0.044123</td>\n",
       "    </tr>\n",
       "    <tr>\n",
       "      <th>26</th>\n",
       "      <td>Uttar Pradesh</td>\n",
       "      <td>1704106.0</td>\n",
       "      <td>200881.0</td>\n",
       "      <td>1904987.0</td>\n",
       "      <td>199581477.0</td>\n",
       "      <td>0.009545</td>\n",
       "    </tr>\n",
       "    <tr>\n",
       "      <th>27</th>\n",
       "      <td>Uttra Khand</td>\n",
       "      <td>214022.0</td>\n",
       "      <td>10984.0</td>\n",
       "      <td>225006.0</td>\n",
       "      <td>10116752.0</td>\n",
       "      <td>0.022241</td>\n",
       "    </tr>\n",
       "    <tr>\n",
       "      <th>28</th>\n",
       "      <td>West Bengal</td>\n",
       "      <td>120708.0</td>\n",
       "      <td>356550.0</td>\n",
       "      <td>477258.0</td>\n",
       "      <td>91347736.0</td>\n",
       "      <td>0.005225</td>\n",
       "    </tr>\n",
       "    <tr>\n",
       "      <th>29</th>\n",
       "      <td>A. &amp; N. Islands</td>\n",
       "      <td>6588.0</td>\n",
       "      <td>0.0</td>\n",
       "      <td>6588.0</td>\n",
       "      <td>379944.0</td>\n",
       "      <td>0.017339</td>\n",
       "    </tr>\n",
       "    <tr>\n",
       "      <th>30</th>\n",
       "      <td>Chandigarh</td>\n",
       "      <td>3990.0</td>\n",
       "      <td>0.0</td>\n",
       "      <td>3990.0</td>\n",
       "      <td>1054686.0</td>\n",
       "      <td>0.003783</td>\n",
       "    </tr>\n",
       "    <tr>\n",
       "      <th>31</th>\n",
       "      <td>D. &amp; N. Haveli</td>\n",
       "      <td>7608.0</td>\n",
       "      <td>0.0</td>\n",
       "      <td>7608.0</td>\n",
       "      <td>342853.0</td>\n",
       "      <td>0.022190</td>\n",
       "    </tr>\n",
       "    <tr>\n",
       "      <th>32</th>\n",
       "      <td>Daman and Diu</td>\n",
       "      <td>762.0</td>\n",
       "      <td>222.0</td>\n",
       "      <td>984.0</td>\n",
       "      <td>242911.0</td>\n",
       "      <td>0.004051</td>\n",
       "    </tr>\n",
       "    <tr>\n",
       "      <th>33</th>\n",
       "      <td>Delhi</td>\n",
       "      <td>9794.0</td>\n",
       "      <td>0.0</td>\n",
       "      <td>9794.0</td>\n",
       "      <td>16753235.0</td>\n",
       "      <td>0.000585</td>\n",
       "    </tr>\n",
       "    <tr>\n",
       "      <th>34</th>\n",
       "      <td>Lakshadweep</td>\n",
       "      <td>1886.0</td>\n",
       "      <td>0.0</td>\n",
       "      <td>1886.0</td>\n",
       "      <td>64429.0</td>\n",
       "      <td>0.029273</td>\n",
       "    </tr>\n",
       "    <tr>\n",
       "      <th>35</th>\n",
       "      <td>Pudducherry</td>\n",
       "      <td>5870.0</td>\n",
       "      <td>2414.0</td>\n",
       "      <td>8284.0</td>\n",
       "      <td>1244464.0</td>\n",
       "      <td>0.006657</td>\n",
       "    </tr>\n",
       "  </tbody>\n",
       "</table>\n",
       "</div>"
      ],
      "text/plain": [
       "            State Name  Total Urban Road  Total Rural Road      Total  \\\n",
       "1       Andhra Pradesh          577950.0          332542.0   910492.0   \n",
       "2    Arunachal Pradesh          115692.0            8607.0   124299.0   \n",
       "3                Assam          366610.0          439821.0   806431.0   \n",
       "4                Bihar           96576.0          276338.0   372914.0   \n",
       "5         Chhattisgarh          268790.0           49757.0   318547.0   \n",
       "6                  Goa           45568.0           11097.0    56665.0   \n",
       "7              Gujarat          577224.0          105310.0   682534.0   \n",
       "8              Haryana          223894.0            9106.0   233000.0   \n",
       "9     Himachal Pradesh          305996.0           25730.0   331726.0   \n",
       "10    Jammu & Kashmir            82396.0           19075.0   101471.0   \n",
       "11           Jharkhand           57006.0           24382.0    81388.0   \n",
       "12           Karnataka          537516.0          326710.0   864226.0   \n",
       "13              Kerala          231494.0          280149.0   511643.0   \n",
       "14      Madhya Pradesh          480446.0          214333.0   694779.0   \n",
       "15         Maharashtra         2147346.0          385868.0  2533214.0   \n",
       "16             Manipur          100824.0           14315.0   115139.0   \n",
       "17           Meghalaya           74592.0            3406.0    77998.0   \n",
       "18             Mizoram           54824.0            4664.0    59488.0   \n",
       "19            Nagaland          103992.0           45903.0   149895.0   \n",
       "20              Orissa          119104.0          407597.0   526701.0   \n",
       "21              Punjab           68152.0          122395.0   190547.0   \n",
       "22           Rajasthan         1034986.0          196345.0  1231331.0   \n",
       "23              Sikkim           19306.0            5744.0    25050.0   \n",
       "24          Tamil Nadu          485684.0          282682.0   768366.0   \n",
       "25             Tripura          127044.0           34932.0   161976.0   \n",
       "26       Uttar Pradesh         1704106.0          200881.0  1904987.0   \n",
       "27         Uttra Khand          214022.0           10984.0   225006.0   \n",
       "28         West Bengal          120708.0          356550.0   477258.0   \n",
       "29     A. & N. Islands            6588.0               0.0     6588.0   \n",
       "30          Chandigarh            3990.0               0.0     3990.0   \n",
       "31      D. & N. Haveli            7608.0               0.0     7608.0   \n",
       "32       Daman and Diu             762.0             222.0      984.0   \n",
       "33               Delhi            9794.0               0.0     9794.0   \n",
       "34         Lakshadweep            1886.0               0.0     1886.0   \n",
       "35         Pudducherry            5870.0            2414.0     8284.0   \n",
       "\n",
       "    Population as on 2013  Roads_per_population  \n",
       "1              49386799.0              0.018436  \n",
       "2               1382611.0              0.089902  \n",
       "3              31169272.0              0.025873  \n",
       "4             103804630.0              0.003592  \n",
       "5              25540196.0              0.012472  \n",
       "6               1457723.0              0.038872  \n",
       "7              60383628.0              0.011303  \n",
       "8              25753081.0              0.009047  \n",
       "9               6856509.0              0.048381  \n",
       "10             12548926.0              0.008086  \n",
       "11             32988134.0              0.002467  \n",
       "12             61130704.0              0.014137  \n",
       "13             33387677.0              0.015324  \n",
       "14             72597565.0              0.009570  \n",
       "15            112372972.0              0.022543  \n",
       "16              2721756.0              0.042303  \n",
       "17              2964007.0              0.026315  \n",
       "18              1091014.0              0.054525  \n",
       "19              1980602.0              0.075682  \n",
       "20             41947358.0              0.012556  \n",
       "21             27704236.0              0.006878  \n",
       "22             68621012.0              0.017944  \n",
       "23               607688.0              0.041222  \n",
       "24             72138958.0              0.010651  \n",
       "25              3671032.0              0.044123  \n",
       "26            199581477.0              0.009545  \n",
       "27             10116752.0              0.022241  \n",
       "28             91347736.0              0.005225  \n",
       "29               379944.0              0.017339  \n",
       "30              1054686.0              0.003783  \n",
       "31               342853.0              0.022190  \n",
       "32               242911.0              0.004051  \n",
       "33             16753235.0              0.000585  \n",
       "34                64429.0              0.029273  \n",
       "35              1244464.0              0.006657  "
      ]
     },
     "execution_count": 109,
     "metadata": {},
     "output_type": "execute_result"
    }
   ],
   "source": [
    "final_df"
   ]
  },
  {
   "cell_type": "markdown",
   "id": "55064a8c",
   "metadata": {},
   "source": [
    "# ------------------------------------------------------------------------------------------------------------"
   ]
  },
  {
   "cell_type": "markdown",
   "id": "d625494f",
   "metadata": {},
   "source": [
    " # The top states that constructed the maximum road per person as per states"
   ]
  },
  {
   "cell_type": "code",
   "execution_count": 110,
   "id": "21d63d93",
   "metadata": {},
   "outputs": [
    {
     "data": {
      "text/html": [
       "<div>\n",
       "<style scoped>\n",
       "    .dataframe tbody tr th:only-of-type {\n",
       "        vertical-align: middle;\n",
       "    }\n",
       "\n",
       "    .dataframe tbody tr th {\n",
       "        vertical-align: top;\n",
       "    }\n",
       "\n",
       "    .dataframe thead th {\n",
       "        text-align: right;\n",
       "    }\n",
       "</style>\n",
       "<table border=\"1\" class=\"dataframe\">\n",
       "  <thead>\n",
       "    <tr style=\"text-align: right;\">\n",
       "      <th></th>\n",
       "      <th>State Name</th>\n",
       "      <th>Total Urban Road</th>\n",
       "      <th>Total Rural Road</th>\n",
       "      <th>Total</th>\n",
       "      <th>Population as on 2013</th>\n",
       "      <th>Roads_per_population</th>\n",
       "    </tr>\n",
       "  </thead>\n",
       "  <tbody>\n",
       "    <tr>\n",
       "      <th>2</th>\n",
       "      <td>Arunachal Pradesh</td>\n",
       "      <td>115692.0</td>\n",
       "      <td>8607.0</td>\n",
       "      <td>124299.0</td>\n",
       "      <td>1382611.0</td>\n",
       "      <td>0.089902</td>\n",
       "    </tr>\n",
       "    <tr>\n",
       "      <th>19</th>\n",
       "      <td>Nagaland</td>\n",
       "      <td>103992.0</td>\n",
       "      <td>45903.0</td>\n",
       "      <td>149895.0</td>\n",
       "      <td>1980602.0</td>\n",
       "      <td>0.075682</td>\n",
       "    </tr>\n",
       "    <tr>\n",
       "      <th>18</th>\n",
       "      <td>Mizoram</td>\n",
       "      <td>54824.0</td>\n",
       "      <td>4664.0</td>\n",
       "      <td>59488.0</td>\n",
       "      <td>1091014.0</td>\n",
       "      <td>0.054525</td>\n",
       "    </tr>\n",
       "  </tbody>\n",
       "</table>\n",
       "</div>"
      ],
      "text/plain": [
       "            State Name  Total Urban Road  Total Rural Road     Total  \\\n",
       "2    Arunachal Pradesh          115692.0            8607.0  124299.0   \n",
       "19            Nagaland          103992.0           45903.0  149895.0   \n",
       "18             Mizoram           54824.0            4664.0   59488.0   \n",
       "\n",
       "    Population as on 2013  Roads_per_population  \n",
       "2               1382611.0              0.089902  \n",
       "19              1980602.0              0.075682  \n",
       "18              1091014.0              0.054525  "
      ]
     },
     "execution_count": 110,
     "metadata": {},
     "output_type": "execute_result"
    }
   ],
   "source": [
    "final_df.nlargest(3,['Roads_per_population'])"
   ]
  },
  {
   "cell_type": "markdown",
   "id": "095a5f0c",
   "metadata": {},
   "source": [
    "# Drawing a line chart using Plotly to show thr construction of roads per population in the states :"
   ]
  },
  {
   "cell_type": "code",
   "execution_count": 114,
   "id": "f0c30394",
   "metadata": {},
   "outputs": [
    {
     "data": {
      "application/vnd.plotly.v1+json": {
       "config": {
        "plotlyServerURL": "https://plot.ly"
       },
       "data": [
        {
         "type": "scatter",
         "x": [
          " Andhra Pradesh",
          " Arunachal Pradesh",
          " Assam",
          " Bihar",
          " Chhattisgarh",
          " Goa",
          " Gujarat",
          " Haryana",
          " Himachal Pradesh",
          " Jammu & Kashmir ",
          " Jharkhand",
          " Karnataka",
          " Kerala",
          " Madhya Pradesh",
          " Maharashtra",
          " Manipur",
          " Meghalaya",
          " Mizoram",
          " Nagaland",
          " Orissa",
          " Punjab",
          " Rajasthan",
          " Sikkim",
          " Tamil Nadu",
          " Tripura",
          " Uttar Pradesh",
          " Uttra Khand",
          " West Bengal",
          " A. & N. Islands",
          " Chandigarh",
          " D. & N. Haveli",
          " Daman and Diu",
          " Delhi",
          " Lakshadweep",
          " Pudducherry"
         ],
         "y": [
          0.018435938721195515,
          0.08990164261675916,
          0.025872628658122013,
          0.003592460182171065,
          0.012472378833741134,
          0.03887226859972711,
          0.011303295654908315,
          0.009047461156201078,
          0.04838118056871216,
          0.008086030629234724,
          0.002467190172078239,
          0.014137347412194043,
          0.0153243066296586,
          0.009570279664338604,
          0.02254291183114744,
          0.04230320425490015,
          0.02631505256229152,
          0.05452542313847485,
          0.0756815352100018,
          0.01255623774922845,
          0.006877901271126914,
          0.017943935306579274,
          0.04122181119258567,
          0.010651193492426103,
          0.04412274259663223,
          0.009544908819369044,
          0.022240932662973254,
          0.005224628665126413,
          0.01733939738487777,
          0.003783116491543455,
          0.0221902681324066,
          0.004050866366693974,
          0.0005846035109040135,
          0.029272532555215818,
          0.006656681109296854
         ]
        }
       ],
       "layout": {
        "template": {
         "data": {
          "bar": [
           {
            "error_x": {
             "color": "#2a3f5f"
            },
            "error_y": {
             "color": "#2a3f5f"
            },
            "marker": {
             "line": {
              "color": "#E5ECF6",
              "width": 0.5
             },
             "pattern": {
              "fillmode": "overlay",
              "size": 10,
              "solidity": 0.2
             }
            },
            "type": "bar"
           }
          ],
          "barpolar": [
           {
            "marker": {
             "line": {
              "color": "#E5ECF6",
              "width": 0.5
             },
             "pattern": {
              "fillmode": "overlay",
              "size": 10,
              "solidity": 0.2
             }
            },
            "type": "barpolar"
           }
          ],
          "carpet": [
           {
            "aaxis": {
             "endlinecolor": "#2a3f5f",
             "gridcolor": "white",
             "linecolor": "white",
             "minorgridcolor": "white",
             "startlinecolor": "#2a3f5f"
            },
            "baxis": {
             "endlinecolor": "#2a3f5f",
             "gridcolor": "white",
             "linecolor": "white",
             "minorgridcolor": "white",
             "startlinecolor": "#2a3f5f"
            },
            "type": "carpet"
           }
          ],
          "choropleth": [
           {
            "colorbar": {
             "outlinewidth": 0,
             "ticks": ""
            },
            "type": "choropleth"
           }
          ],
          "contour": [
           {
            "colorbar": {
             "outlinewidth": 0,
             "ticks": ""
            },
            "colorscale": [
             [
              0,
              "#0d0887"
             ],
             [
              0.1111111111111111,
              "#46039f"
             ],
             [
              0.2222222222222222,
              "#7201a8"
             ],
             [
              0.3333333333333333,
              "#9c179e"
             ],
             [
              0.4444444444444444,
              "#bd3786"
             ],
             [
              0.5555555555555556,
              "#d8576b"
             ],
             [
              0.6666666666666666,
              "#ed7953"
             ],
             [
              0.7777777777777778,
              "#fb9f3a"
             ],
             [
              0.8888888888888888,
              "#fdca26"
             ],
             [
              1,
              "#f0f921"
             ]
            ],
            "type": "contour"
           }
          ],
          "contourcarpet": [
           {
            "colorbar": {
             "outlinewidth": 0,
             "ticks": ""
            },
            "type": "contourcarpet"
           }
          ],
          "heatmap": [
           {
            "colorbar": {
             "outlinewidth": 0,
             "ticks": ""
            },
            "colorscale": [
             [
              0,
              "#0d0887"
             ],
             [
              0.1111111111111111,
              "#46039f"
             ],
             [
              0.2222222222222222,
              "#7201a8"
             ],
             [
              0.3333333333333333,
              "#9c179e"
             ],
             [
              0.4444444444444444,
              "#bd3786"
             ],
             [
              0.5555555555555556,
              "#d8576b"
             ],
             [
              0.6666666666666666,
              "#ed7953"
             ],
             [
              0.7777777777777778,
              "#fb9f3a"
             ],
             [
              0.8888888888888888,
              "#fdca26"
             ],
             [
              1,
              "#f0f921"
             ]
            ],
            "type": "heatmap"
           }
          ],
          "heatmapgl": [
           {
            "colorbar": {
             "outlinewidth": 0,
             "ticks": ""
            },
            "colorscale": [
             [
              0,
              "#0d0887"
             ],
             [
              0.1111111111111111,
              "#46039f"
             ],
             [
              0.2222222222222222,
              "#7201a8"
             ],
             [
              0.3333333333333333,
              "#9c179e"
             ],
             [
              0.4444444444444444,
              "#bd3786"
             ],
             [
              0.5555555555555556,
              "#d8576b"
             ],
             [
              0.6666666666666666,
              "#ed7953"
             ],
             [
              0.7777777777777778,
              "#fb9f3a"
             ],
             [
              0.8888888888888888,
              "#fdca26"
             ],
             [
              1,
              "#f0f921"
             ]
            ],
            "type": "heatmapgl"
           }
          ],
          "histogram": [
           {
            "marker": {
             "pattern": {
              "fillmode": "overlay",
              "size": 10,
              "solidity": 0.2
             }
            },
            "type": "histogram"
           }
          ],
          "histogram2d": [
           {
            "colorbar": {
             "outlinewidth": 0,
             "ticks": ""
            },
            "colorscale": [
             [
              0,
              "#0d0887"
             ],
             [
              0.1111111111111111,
              "#46039f"
             ],
             [
              0.2222222222222222,
              "#7201a8"
             ],
             [
              0.3333333333333333,
              "#9c179e"
             ],
             [
              0.4444444444444444,
              "#bd3786"
             ],
             [
              0.5555555555555556,
              "#d8576b"
             ],
             [
              0.6666666666666666,
              "#ed7953"
             ],
             [
              0.7777777777777778,
              "#fb9f3a"
             ],
             [
              0.8888888888888888,
              "#fdca26"
             ],
             [
              1,
              "#f0f921"
             ]
            ],
            "type": "histogram2d"
           }
          ],
          "histogram2dcontour": [
           {
            "colorbar": {
             "outlinewidth": 0,
             "ticks": ""
            },
            "colorscale": [
             [
              0,
              "#0d0887"
             ],
             [
              0.1111111111111111,
              "#46039f"
             ],
             [
              0.2222222222222222,
              "#7201a8"
             ],
             [
              0.3333333333333333,
              "#9c179e"
             ],
             [
              0.4444444444444444,
              "#bd3786"
             ],
             [
              0.5555555555555556,
              "#d8576b"
             ],
             [
              0.6666666666666666,
              "#ed7953"
             ],
             [
              0.7777777777777778,
              "#fb9f3a"
             ],
             [
              0.8888888888888888,
              "#fdca26"
             ],
             [
              1,
              "#f0f921"
             ]
            ],
            "type": "histogram2dcontour"
           }
          ],
          "mesh3d": [
           {
            "colorbar": {
             "outlinewidth": 0,
             "ticks": ""
            },
            "type": "mesh3d"
           }
          ],
          "parcoords": [
           {
            "line": {
             "colorbar": {
              "outlinewidth": 0,
              "ticks": ""
             }
            },
            "type": "parcoords"
           }
          ],
          "pie": [
           {
            "automargin": true,
            "type": "pie"
           }
          ],
          "scatter": [
           {
            "fillpattern": {
             "fillmode": "overlay",
             "size": 10,
             "solidity": 0.2
            },
            "type": "scatter"
           }
          ],
          "scatter3d": [
           {
            "line": {
             "colorbar": {
              "outlinewidth": 0,
              "ticks": ""
             }
            },
            "marker": {
             "colorbar": {
              "outlinewidth": 0,
              "ticks": ""
             }
            },
            "type": "scatter3d"
           }
          ],
          "scattercarpet": [
           {
            "marker": {
             "colorbar": {
              "outlinewidth": 0,
              "ticks": ""
             }
            },
            "type": "scattercarpet"
           }
          ],
          "scattergeo": [
           {
            "marker": {
             "colorbar": {
              "outlinewidth": 0,
              "ticks": ""
             }
            },
            "type": "scattergeo"
           }
          ],
          "scattergl": [
           {
            "marker": {
             "colorbar": {
              "outlinewidth": 0,
              "ticks": ""
             }
            },
            "type": "scattergl"
           }
          ],
          "scattermapbox": [
           {
            "marker": {
             "colorbar": {
              "outlinewidth": 0,
              "ticks": ""
             }
            },
            "type": "scattermapbox"
           }
          ],
          "scatterpolar": [
           {
            "marker": {
             "colorbar": {
              "outlinewidth": 0,
              "ticks": ""
             }
            },
            "type": "scatterpolar"
           }
          ],
          "scatterpolargl": [
           {
            "marker": {
             "colorbar": {
              "outlinewidth": 0,
              "ticks": ""
             }
            },
            "type": "scatterpolargl"
           }
          ],
          "scatterternary": [
           {
            "marker": {
             "colorbar": {
              "outlinewidth": 0,
              "ticks": ""
             }
            },
            "type": "scatterternary"
           }
          ],
          "surface": [
           {
            "colorbar": {
             "outlinewidth": 0,
             "ticks": ""
            },
            "colorscale": [
             [
              0,
              "#0d0887"
             ],
             [
              0.1111111111111111,
              "#46039f"
             ],
             [
              0.2222222222222222,
              "#7201a8"
             ],
             [
              0.3333333333333333,
              "#9c179e"
             ],
             [
              0.4444444444444444,
              "#bd3786"
             ],
             [
              0.5555555555555556,
              "#d8576b"
             ],
             [
              0.6666666666666666,
              "#ed7953"
             ],
             [
              0.7777777777777778,
              "#fb9f3a"
             ],
             [
              0.8888888888888888,
              "#fdca26"
             ],
             [
              1,
              "#f0f921"
             ]
            ],
            "type": "surface"
           }
          ],
          "table": [
           {
            "cells": {
             "fill": {
              "color": "#EBF0F8"
             },
             "line": {
              "color": "white"
             }
            },
            "header": {
             "fill": {
              "color": "#C8D4E3"
             },
             "line": {
              "color": "white"
             }
            },
            "type": "table"
           }
          ]
         },
         "layout": {
          "annotationdefaults": {
           "arrowcolor": "#2a3f5f",
           "arrowhead": 0,
           "arrowwidth": 1
          },
          "autotypenumbers": "strict",
          "coloraxis": {
           "colorbar": {
            "outlinewidth": 0,
            "ticks": ""
           }
          },
          "colorscale": {
           "diverging": [
            [
             0,
             "#8e0152"
            ],
            [
             0.1,
             "#c51b7d"
            ],
            [
             0.2,
             "#de77ae"
            ],
            [
             0.3,
             "#f1b6da"
            ],
            [
             0.4,
             "#fde0ef"
            ],
            [
             0.5,
             "#f7f7f7"
            ],
            [
             0.6,
             "#e6f5d0"
            ],
            [
             0.7,
             "#b8e186"
            ],
            [
             0.8,
             "#7fbc41"
            ],
            [
             0.9,
             "#4d9221"
            ],
            [
             1,
             "#276419"
            ]
           ],
           "sequential": [
            [
             0,
             "#0d0887"
            ],
            [
             0.1111111111111111,
             "#46039f"
            ],
            [
             0.2222222222222222,
             "#7201a8"
            ],
            [
             0.3333333333333333,
             "#9c179e"
            ],
            [
             0.4444444444444444,
             "#bd3786"
            ],
            [
             0.5555555555555556,
             "#d8576b"
            ],
            [
             0.6666666666666666,
             "#ed7953"
            ],
            [
             0.7777777777777778,
             "#fb9f3a"
            ],
            [
             0.8888888888888888,
             "#fdca26"
            ],
            [
             1,
             "#f0f921"
            ]
           ],
           "sequentialminus": [
            [
             0,
             "#0d0887"
            ],
            [
             0.1111111111111111,
             "#46039f"
            ],
            [
             0.2222222222222222,
             "#7201a8"
            ],
            [
             0.3333333333333333,
             "#9c179e"
            ],
            [
             0.4444444444444444,
             "#bd3786"
            ],
            [
             0.5555555555555556,
             "#d8576b"
            ],
            [
             0.6666666666666666,
             "#ed7953"
            ],
            [
             0.7777777777777778,
             "#fb9f3a"
            ],
            [
             0.8888888888888888,
             "#fdca26"
            ],
            [
             1,
             "#f0f921"
            ]
           ]
          },
          "colorway": [
           "#636efa",
           "#EF553B",
           "#00cc96",
           "#ab63fa",
           "#FFA15A",
           "#19d3f3",
           "#FF6692",
           "#B6E880",
           "#FF97FF",
           "#FECB52"
          ],
          "font": {
           "color": "#2a3f5f"
          },
          "geo": {
           "bgcolor": "white",
           "lakecolor": "white",
           "landcolor": "#E5ECF6",
           "showlakes": true,
           "showland": true,
           "subunitcolor": "white"
          },
          "hoverlabel": {
           "align": "left"
          },
          "hovermode": "closest",
          "mapbox": {
           "style": "light"
          },
          "paper_bgcolor": "white",
          "plot_bgcolor": "#E5ECF6",
          "polar": {
           "angularaxis": {
            "gridcolor": "white",
            "linecolor": "white",
            "ticks": ""
           },
           "bgcolor": "#E5ECF6",
           "radialaxis": {
            "gridcolor": "white",
            "linecolor": "white",
            "ticks": ""
           }
          },
          "scene": {
           "xaxis": {
            "backgroundcolor": "#E5ECF6",
            "gridcolor": "white",
            "gridwidth": 2,
            "linecolor": "white",
            "showbackground": true,
            "ticks": "",
            "zerolinecolor": "white"
           },
           "yaxis": {
            "backgroundcolor": "#E5ECF6",
            "gridcolor": "white",
            "gridwidth": 2,
            "linecolor": "white",
            "showbackground": true,
            "ticks": "",
            "zerolinecolor": "white"
           },
           "zaxis": {
            "backgroundcolor": "#E5ECF6",
            "gridcolor": "white",
            "gridwidth": 2,
            "linecolor": "white",
            "showbackground": true,
            "ticks": "",
            "zerolinecolor": "white"
           }
          },
          "shapedefaults": {
           "line": {
            "color": "#2a3f5f"
           }
          },
          "ternary": {
           "aaxis": {
            "gridcolor": "white",
            "linecolor": "white",
            "ticks": ""
           },
           "baxis": {
            "gridcolor": "white",
            "linecolor": "white",
            "ticks": ""
           },
           "bgcolor": "#E5ECF6",
           "caxis": {
            "gridcolor": "white",
            "linecolor": "white",
            "ticks": ""
           }
          },
          "title": {
           "x": 0.05
          },
          "xaxis": {
           "automargin": true,
           "gridcolor": "white",
           "linecolor": "white",
           "ticks": "",
           "title": {
            "standoff": 15
           },
           "zerolinecolor": "white",
           "zerolinewidth": 2
          },
          "yaxis": {
           "automargin": true,
           "gridcolor": "white",
           "linecolor": "white",
           "ticks": "",
           "title": {
            "standoff": 15
           },
           "zerolinecolor": "white",
           "zerolinewidth": 2
          }
         }
        }
       }
      },
      "text/html": [
       "<div>                            <div id=\"d6192653-fbae-4d3f-96c9-c29518179133\" class=\"plotly-graph-div\" style=\"height:525px; width:100%;\"></div>            <script type=\"text/javascript\">                require([\"plotly\"], function(Plotly) {                    window.PLOTLYENV=window.PLOTLYENV || {};                                    if (document.getElementById(\"d6192653-fbae-4d3f-96c9-c29518179133\")) {                    Plotly.newPlot(                        \"d6192653-fbae-4d3f-96c9-c29518179133\",                        [{\"x\":[\" Andhra Pradesh\",\" Arunachal Pradesh\",\" Assam\",\" Bihar\",\" Chhattisgarh\",\" Goa\",\" Gujarat\",\" Haryana\",\" Himachal Pradesh\",\" Jammu & Kashmir \",\" Jharkhand\",\" Karnataka\",\" Kerala\",\" Madhya Pradesh\",\" Maharashtra\",\" Manipur\",\" Meghalaya\",\" Mizoram\",\" Nagaland\",\" Orissa\",\" Punjab\",\" Rajasthan\",\" Sikkim\",\" Tamil Nadu\",\" Tripura\",\" Uttar Pradesh\",\" Uttra Khand\",\" West Bengal\",\" A. & N. Islands\",\" Chandigarh\",\" D. & N. Haveli\",\" Daman and Diu\",\" Delhi\",\" Lakshadweep\",\" Pudducherry\"],\"y\":[0.018435938721195515,0.08990164261675916,0.025872628658122013,0.003592460182171065,0.012472378833741134,0.03887226859972711,0.011303295654908315,0.009047461156201078,0.04838118056871216,0.008086030629234724,0.002467190172078239,0.014137347412194043,0.0153243066296586,0.009570279664338604,0.02254291183114744,0.04230320425490015,0.02631505256229152,0.05452542313847485,0.0756815352100018,0.01255623774922845,0.006877901271126914,0.017943935306579274,0.04122181119258567,0.010651193492426103,0.04412274259663223,0.009544908819369044,0.022240932662973254,0.005224628665126413,0.01733939738487777,0.003783116491543455,0.0221902681324066,0.004050866366693974,0.0005846035109040135,0.029272532555215818,0.006656681109296854],\"type\":\"scatter\"}],                        {\"template\":{\"data\":{\"histogram2dcontour\":[{\"type\":\"histogram2dcontour\",\"colorbar\":{\"outlinewidth\":0,\"ticks\":\"\"},\"colorscale\":[[0.0,\"#0d0887\"],[0.1111111111111111,\"#46039f\"],[0.2222222222222222,\"#7201a8\"],[0.3333333333333333,\"#9c179e\"],[0.4444444444444444,\"#bd3786\"],[0.5555555555555556,\"#d8576b\"],[0.6666666666666666,\"#ed7953\"],[0.7777777777777778,\"#fb9f3a\"],[0.8888888888888888,\"#fdca26\"],[1.0,\"#f0f921\"]]}],\"choropleth\":[{\"type\":\"choropleth\",\"colorbar\":{\"outlinewidth\":0,\"ticks\":\"\"}}],\"histogram2d\":[{\"type\":\"histogram2d\",\"colorbar\":{\"outlinewidth\":0,\"ticks\":\"\"},\"colorscale\":[[0.0,\"#0d0887\"],[0.1111111111111111,\"#46039f\"],[0.2222222222222222,\"#7201a8\"],[0.3333333333333333,\"#9c179e\"],[0.4444444444444444,\"#bd3786\"],[0.5555555555555556,\"#d8576b\"],[0.6666666666666666,\"#ed7953\"],[0.7777777777777778,\"#fb9f3a\"],[0.8888888888888888,\"#fdca26\"],[1.0,\"#f0f921\"]]}],\"heatmap\":[{\"type\":\"heatmap\",\"colorbar\":{\"outlinewidth\":0,\"ticks\":\"\"},\"colorscale\":[[0.0,\"#0d0887\"],[0.1111111111111111,\"#46039f\"],[0.2222222222222222,\"#7201a8\"],[0.3333333333333333,\"#9c179e\"],[0.4444444444444444,\"#bd3786\"],[0.5555555555555556,\"#d8576b\"],[0.6666666666666666,\"#ed7953\"],[0.7777777777777778,\"#fb9f3a\"],[0.8888888888888888,\"#fdca26\"],[1.0,\"#f0f921\"]]}],\"heatmapgl\":[{\"type\":\"heatmapgl\",\"colorbar\":{\"outlinewidth\":0,\"ticks\":\"\"},\"colorscale\":[[0.0,\"#0d0887\"],[0.1111111111111111,\"#46039f\"],[0.2222222222222222,\"#7201a8\"],[0.3333333333333333,\"#9c179e\"],[0.4444444444444444,\"#bd3786\"],[0.5555555555555556,\"#d8576b\"],[0.6666666666666666,\"#ed7953\"],[0.7777777777777778,\"#fb9f3a\"],[0.8888888888888888,\"#fdca26\"],[1.0,\"#f0f921\"]]}],\"contourcarpet\":[{\"type\":\"contourcarpet\",\"colorbar\":{\"outlinewidth\":0,\"ticks\":\"\"}}],\"contour\":[{\"type\":\"contour\",\"colorbar\":{\"outlinewidth\":0,\"ticks\":\"\"},\"colorscale\":[[0.0,\"#0d0887\"],[0.1111111111111111,\"#46039f\"],[0.2222222222222222,\"#7201a8\"],[0.3333333333333333,\"#9c179e\"],[0.4444444444444444,\"#bd3786\"],[0.5555555555555556,\"#d8576b\"],[0.6666666666666666,\"#ed7953\"],[0.7777777777777778,\"#fb9f3a\"],[0.8888888888888888,\"#fdca26\"],[1.0,\"#f0f921\"]]}],\"surface\":[{\"type\":\"surface\",\"colorbar\":{\"outlinewidth\":0,\"ticks\":\"\"},\"colorscale\":[[0.0,\"#0d0887\"],[0.1111111111111111,\"#46039f\"],[0.2222222222222222,\"#7201a8\"],[0.3333333333333333,\"#9c179e\"],[0.4444444444444444,\"#bd3786\"],[0.5555555555555556,\"#d8576b\"],[0.6666666666666666,\"#ed7953\"],[0.7777777777777778,\"#fb9f3a\"],[0.8888888888888888,\"#fdca26\"],[1.0,\"#f0f921\"]]}],\"mesh3d\":[{\"type\":\"mesh3d\",\"colorbar\":{\"outlinewidth\":0,\"ticks\":\"\"}}],\"scatter\":[{\"fillpattern\":{\"fillmode\":\"overlay\",\"size\":10,\"solidity\":0.2},\"type\":\"scatter\"}],\"parcoords\":[{\"type\":\"parcoords\",\"line\":{\"colorbar\":{\"outlinewidth\":0,\"ticks\":\"\"}}}],\"scatterpolargl\":[{\"type\":\"scatterpolargl\",\"marker\":{\"colorbar\":{\"outlinewidth\":0,\"ticks\":\"\"}}}],\"bar\":[{\"error_x\":{\"color\":\"#2a3f5f\"},\"error_y\":{\"color\":\"#2a3f5f\"},\"marker\":{\"line\":{\"color\":\"#E5ECF6\",\"width\":0.5},\"pattern\":{\"fillmode\":\"overlay\",\"size\":10,\"solidity\":0.2}},\"type\":\"bar\"}],\"scattergeo\":[{\"type\":\"scattergeo\",\"marker\":{\"colorbar\":{\"outlinewidth\":0,\"ticks\":\"\"}}}],\"scatterpolar\":[{\"type\":\"scatterpolar\",\"marker\":{\"colorbar\":{\"outlinewidth\":0,\"ticks\":\"\"}}}],\"histogram\":[{\"marker\":{\"pattern\":{\"fillmode\":\"overlay\",\"size\":10,\"solidity\":0.2}},\"type\":\"histogram\"}],\"scattergl\":[{\"type\":\"scattergl\",\"marker\":{\"colorbar\":{\"outlinewidth\":0,\"ticks\":\"\"}}}],\"scatter3d\":[{\"type\":\"scatter3d\",\"line\":{\"colorbar\":{\"outlinewidth\":0,\"ticks\":\"\"}},\"marker\":{\"colorbar\":{\"outlinewidth\":0,\"ticks\":\"\"}}}],\"scattermapbox\":[{\"type\":\"scattermapbox\",\"marker\":{\"colorbar\":{\"outlinewidth\":0,\"ticks\":\"\"}}}],\"scatterternary\":[{\"type\":\"scatterternary\",\"marker\":{\"colorbar\":{\"outlinewidth\":0,\"ticks\":\"\"}}}],\"scattercarpet\":[{\"type\":\"scattercarpet\",\"marker\":{\"colorbar\":{\"outlinewidth\":0,\"ticks\":\"\"}}}],\"carpet\":[{\"aaxis\":{\"endlinecolor\":\"#2a3f5f\",\"gridcolor\":\"white\",\"linecolor\":\"white\",\"minorgridcolor\":\"white\",\"startlinecolor\":\"#2a3f5f\"},\"baxis\":{\"endlinecolor\":\"#2a3f5f\",\"gridcolor\":\"white\",\"linecolor\":\"white\",\"minorgridcolor\":\"white\",\"startlinecolor\":\"#2a3f5f\"},\"type\":\"carpet\"}],\"table\":[{\"cells\":{\"fill\":{\"color\":\"#EBF0F8\"},\"line\":{\"color\":\"white\"}},\"header\":{\"fill\":{\"color\":\"#C8D4E3\"},\"line\":{\"color\":\"white\"}},\"type\":\"table\"}],\"barpolar\":[{\"marker\":{\"line\":{\"color\":\"#E5ECF6\",\"width\":0.5},\"pattern\":{\"fillmode\":\"overlay\",\"size\":10,\"solidity\":0.2}},\"type\":\"barpolar\"}],\"pie\":[{\"automargin\":true,\"type\":\"pie\"}]},\"layout\":{\"autotypenumbers\":\"strict\",\"colorway\":[\"#636efa\",\"#EF553B\",\"#00cc96\",\"#ab63fa\",\"#FFA15A\",\"#19d3f3\",\"#FF6692\",\"#B6E880\",\"#FF97FF\",\"#FECB52\"],\"font\":{\"color\":\"#2a3f5f\"},\"hovermode\":\"closest\",\"hoverlabel\":{\"align\":\"left\"},\"paper_bgcolor\":\"white\",\"plot_bgcolor\":\"#E5ECF6\",\"polar\":{\"bgcolor\":\"#E5ECF6\",\"angularaxis\":{\"gridcolor\":\"white\",\"linecolor\":\"white\",\"ticks\":\"\"},\"radialaxis\":{\"gridcolor\":\"white\",\"linecolor\":\"white\",\"ticks\":\"\"}},\"ternary\":{\"bgcolor\":\"#E5ECF6\",\"aaxis\":{\"gridcolor\":\"white\",\"linecolor\":\"white\",\"ticks\":\"\"},\"baxis\":{\"gridcolor\":\"white\",\"linecolor\":\"white\",\"ticks\":\"\"},\"caxis\":{\"gridcolor\":\"white\",\"linecolor\":\"white\",\"ticks\":\"\"}},\"coloraxis\":{\"colorbar\":{\"outlinewidth\":0,\"ticks\":\"\"}},\"colorscale\":{\"sequential\":[[0.0,\"#0d0887\"],[0.1111111111111111,\"#46039f\"],[0.2222222222222222,\"#7201a8\"],[0.3333333333333333,\"#9c179e\"],[0.4444444444444444,\"#bd3786\"],[0.5555555555555556,\"#d8576b\"],[0.6666666666666666,\"#ed7953\"],[0.7777777777777778,\"#fb9f3a\"],[0.8888888888888888,\"#fdca26\"],[1.0,\"#f0f921\"]],\"sequentialminus\":[[0.0,\"#0d0887\"],[0.1111111111111111,\"#46039f\"],[0.2222222222222222,\"#7201a8\"],[0.3333333333333333,\"#9c179e\"],[0.4444444444444444,\"#bd3786\"],[0.5555555555555556,\"#d8576b\"],[0.6666666666666666,\"#ed7953\"],[0.7777777777777778,\"#fb9f3a\"],[0.8888888888888888,\"#fdca26\"],[1.0,\"#f0f921\"]],\"diverging\":[[0,\"#8e0152\"],[0.1,\"#c51b7d\"],[0.2,\"#de77ae\"],[0.3,\"#f1b6da\"],[0.4,\"#fde0ef\"],[0.5,\"#f7f7f7\"],[0.6,\"#e6f5d0\"],[0.7,\"#b8e186\"],[0.8,\"#7fbc41\"],[0.9,\"#4d9221\"],[1,\"#276419\"]]},\"xaxis\":{\"gridcolor\":\"white\",\"linecolor\":\"white\",\"ticks\":\"\",\"title\":{\"standoff\":15},\"zerolinecolor\":\"white\",\"automargin\":true,\"zerolinewidth\":2},\"yaxis\":{\"gridcolor\":\"white\",\"linecolor\":\"white\",\"ticks\":\"\",\"title\":{\"standoff\":15},\"zerolinecolor\":\"white\",\"automargin\":true,\"zerolinewidth\":2},\"scene\":{\"xaxis\":{\"backgroundcolor\":\"#E5ECF6\",\"gridcolor\":\"white\",\"linecolor\":\"white\",\"showbackground\":true,\"ticks\":\"\",\"zerolinecolor\":\"white\",\"gridwidth\":2},\"yaxis\":{\"backgroundcolor\":\"#E5ECF6\",\"gridcolor\":\"white\",\"linecolor\":\"white\",\"showbackground\":true,\"ticks\":\"\",\"zerolinecolor\":\"white\",\"gridwidth\":2},\"zaxis\":{\"backgroundcolor\":\"#E5ECF6\",\"gridcolor\":\"white\",\"linecolor\":\"white\",\"showbackground\":true,\"ticks\":\"\",\"zerolinecolor\":\"white\",\"gridwidth\":2}},\"shapedefaults\":{\"line\":{\"color\":\"#2a3f5f\"}},\"annotationdefaults\":{\"arrowcolor\":\"#2a3f5f\",\"arrowhead\":0,\"arrowwidth\":1},\"geo\":{\"bgcolor\":\"white\",\"landcolor\":\"#E5ECF6\",\"subunitcolor\":\"white\",\"showland\":true,\"showlakes\":true,\"lakecolor\":\"white\"},\"title\":{\"x\":0.05},\"mapbox\":{\"style\":\"light\"}}}},                        {\"responsive\": true}                    ).then(function(){\n",
       "                            \n",
       "var gd = document.getElementById('d6192653-fbae-4d3f-96c9-c29518179133');\n",
       "var x = new MutationObserver(function (mutations, observer) {{\n",
       "        var display = window.getComputedStyle(gd).display;\n",
       "        if (!display || display === 'none') {{\n",
       "            console.log([gd, 'removed!']);\n",
       "            Plotly.purge(gd);\n",
       "            observer.disconnect();\n",
       "        }}\n",
       "}});\n",
       "\n",
       "// Listen for the removal of the full notebook cells\n",
       "var notebookContainer = gd.closest('#notebook-container');\n",
       "if (notebookContainer) {{\n",
       "    x.observe(notebookContainer, {childList: true});\n",
       "}}\n",
       "\n",
       "// Listen for the clearing of the current output cell\n",
       "var outputEl = gd.closest('.output');\n",
       "if (outputEl) {{\n",
       "    x.observe(outputEl, {childList: true});\n",
       "}}\n",
       "\n",
       "                        })                };                });            </script>        </div>"
      ]
     },
     "metadata": {},
     "output_type": "display_data"
    }
   ],
   "source": [
    "import plotly.graph_objects as go\n",
    "\n",
    "fig = go.Figure(data=go.Scatter(x = final_df['State Name'], y = final_df['Roads_per_population']))\n",
    "fig.show()"
   ]
  },
  {
   "cell_type": "code",
   "execution_count": null,
   "id": "c411137f",
   "metadata": {},
   "outputs": [],
   "source": []
  }
 ],
 "metadata": {
  "kernelspec": {
   "display_name": "Python 3 (ipykernel)",
   "language": "python",
   "name": "python3"
  },
  "language_info": {
   "codemirror_mode": {
    "name": "ipython",
    "version": 3
   },
   "file_extension": ".py",
   "mimetype": "text/x-python",
   "name": "python",
   "nbconvert_exporter": "python",
   "pygments_lexer": "ipython3",
   "version": "3.9.13"
  }
 },
 "nbformat": 4,
 "nbformat_minor": 5
}
