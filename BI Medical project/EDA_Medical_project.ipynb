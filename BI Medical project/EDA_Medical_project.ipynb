{
 "cells": [
  {
   "cell_type": "code",
   "execution_count": 1,
   "id": "7e0fe340",
   "metadata": {},
   "outputs": [],
   "source": [
    "# importing the libraries\n",
    "\n",
    "import numpy as np\n",
    "import pandas as pd\n",
    "import seaborn as sns\n",
    "\n",
    "%matplotlib inline\n",
    "import matplotlib.pyplot as plt\n",
    "\n",
    "import warnings\n",
    "def ignore_warn(*args, **kwargs):\n",
    "    pass\n",
    "warnings.warn = ignore_warn\n",
    "\n",
    "from scipy import stats\n",
    "from scipy.stats import norm, skew\n",
    "from subprocess import check_output"
   ]
  },
  {
   "cell_type": "code",
   "execution_count": 2,
   "id": "8ead4711",
   "metadata": {},
   "outputs": [],
   "source": [
    "# loading our data file\n",
    "\n",
    "df = pd.read_csv(r'C:\\Users\\Lenovo\\Desktop\\python\\BI Medical project\\Medical Retail Final CSV.csv')"
   ]
  },
  {
   "cell_type": "code",
   "execution_count": 3,
   "id": "a7bf6012",
   "metadata": {},
   "outputs": [
    {
     "data": {
      "text/html": [
       "<div>\n",
       "<style scoped>\n",
       "    .dataframe tbody tr th:only-of-type {\n",
       "        vertical-align: middle;\n",
       "    }\n",
       "\n",
       "    .dataframe tbody tr th {\n",
       "        vertical-align: top;\n",
       "    }\n",
       "\n",
       "    .dataframe thead th {\n",
       "        text-align: right;\n",
       "    }\n",
       "</style>\n",
       "<table border=\"1\" class=\"dataframe\">\n",
       "  <thead>\n",
       "    <tr style=\"text-align: right;\">\n",
       "      <th></th>\n",
       "      <th>Customer id</th>\n",
       "      <th>App User</th>\n",
       "      <th>Covid19 Medicine Sales</th>\n",
       "      <th>Other Medicine Sales</th>\n",
       "      <th>Redeemed points Flag</th>\n",
       "      <th>Transactions</th>\n",
       "      <th>last transaction date</th>\n",
       "      <th>DOB</th>\n",
       "      <th>EMAIL Flag</th>\n",
       "      <th>Gender</th>\n",
       "    </tr>\n",
       "  </thead>\n",
       "  <tbody>\n",
       "    <tr>\n",
       "      <th>0</th>\n",
       "      <td>863268612</td>\n",
       "      <td>1</td>\n",
       "      <td>22,035</td>\n",
       "      <td>-</td>\n",
       "      <td>No</td>\n",
       "      <td>11</td>\n",
       "      <td>12-11-2021</td>\n",
       "      <td>00-01-1900</td>\n",
       "      <td>EMAIL PRESENT</td>\n",
       "      <td>female</td>\n",
       "    </tr>\n",
       "    <tr>\n",
       "      <th>1</th>\n",
       "      <td>389739561</td>\n",
       "      <td>0</td>\n",
       "      <td>3,926</td>\n",
       "      <td>4,099</td>\n",
       "      <td>No</td>\n",
       "      <td>4</td>\n",
       "      <td>25-11-2021</td>\n",
       "      <td>00-01-1900</td>\n",
       "      <td>NO EMAIL</td>\n",
       "      <td>blank</td>\n",
       "    </tr>\n",
       "    <tr>\n",
       "      <th>2</th>\n",
       "      <td>446950605</td>\n",
       "      <td>0</td>\n",
       "      <td>8,031</td>\n",
       "      <td>-</td>\n",
       "      <td>No</td>\n",
       "      <td>4</td>\n",
       "      <td>11-10-2021</td>\n",
       "      <td>00-01-1900</td>\n",
       "      <td>NO EMAIL</td>\n",
       "      <td>blank</td>\n",
       "    </tr>\n",
       "    <tr>\n",
       "      <th>3</th>\n",
       "      <td>819143842</td>\n",
       "      <td>0</td>\n",
       "      <td>8,046</td>\n",
       "      <td>-</td>\n",
       "      <td>No</td>\n",
       "      <td>4</td>\n",
       "      <td>28-06-2021</td>\n",
       "      <td>00-01-1900</td>\n",
       "      <td>NO EMAIL</td>\n",
       "      <td>blank</td>\n",
       "    </tr>\n",
       "    <tr>\n",
       "      <th>4</th>\n",
       "      <td>530569572</td>\n",
       "      <td>0</td>\n",
       "      <td>8,046</td>\n",
       "      <td>-</td>\n",
       "      <td>No</td>\n",
       "      <td>4</td>\n",
       "      <td>18-11-2021</td>\n",
       "      <td>00-01-1900</td>\n",
       "      <td>NO EMAIL</td>\n",
       "      <td>blank</td>\n",
       "    </tr>\n",
       "  </tbody>\n",
       "</table>\n",
       "</div>"
      ],
      "text/plain": [
       "   Customer id  App User  Covid19 Medicine Sales   Other Medicine Sales   \\\n",
       "0    863268612         1                   22,035                   -      \n",
       "1    389739561         0                    3,926                  4,099   \n",
       "2    446950605         0                    8,031                   -      \n",
       "3    819143842         0                    8,046                   -      \n",
       "4    530569572         0                    8,046                   -      \n",
       "\n",
       "   Redeemed points Flag   Transactions  last transaction date         DOB   \\\n",
       "0                     No            11              12-11-2021  00-01-1900   \n",
       "1                     No             4              25-11-2021  00-01-1900   \n",
       "2                     No             4              11-10-2021  00-01-1900   \n",
       "3                     No             4              28-06-2021  00-01-1900   \n",
       "4                     No             4              18-11-2021  00-01-1900   \n",
       "\n",
       "     EMAIL Flag   Gender   \n",
       "0  EMAIL PRESENT   female  \n",
       "1       NO EMAIL    blank  \n",
       "2       NO EMAIL    blank  \n",
       "3       NO EMAIL    blank  \n",
       "4       NO EMAIL    blank  "
      ]
     },
     "execution_count": 3,
     "metadata": {},
     "output_type": "execute_result"
    }
   ],
   "source": [
    "# let's have a look at our dataframe ---\n",
    "\n",
    "df.head()"
   ]
  },
  {
   "cell_type": "code",
   "execution_count": 4,
   "id": "4275f53e",
   "metadata": {
    "scrolled": true
   },
   "outputs": [
    {
     "name": "stdout",
     "output_type": "stream",
     "text": [
      "<class 'pandas.core.frame.DataFrame'>\n",
      "RangeIndex: 65968 entries, 0 to 65967\n",
      "Data columns (total 10 columns):\n",
      " #   Column                    Non-Null Count  Dtype \n",
      "---  ------                    --------------  ----- \n",
      " 0   Customer id               65968 non-null  int64 \n",
      " 1   App User                  65968 non-null  int64 \n",
      " 2    Covid19 Medicine Sales   65968 non-null  object\n",
      " 3    Other Medicine Sales     65968 non-null  object\n",
      " 4    Redeemed points Flag     65968 non-null  object\n",
      " 5   Transactions              65968 non-null  int64 \n",
      " 6    last transaction date    65968 non-null  object\n",
      " 7    DOB                      65968 non-null  object\n",
      " 8    EMAIL Flag               65968 non-null  object\n",
      " 9    Gender                   65968 non-null  object\n",
      "dtypes: int64(3), object(7)\n",
      "memory usage: 5.0+ MB\n"
     ]
    }
   ],
   "source": [
    "# this shows information about our dataframe\n",
    "\n",
    "df.info() "
   ]
  },
  {
   "cell_type": "code",
   "execution_count": 5,
   "id": "c8968dfa",
   "metadata": {},
   "outputs": [
    {
     "data": {
      "text/plain": [
       "Index(['Customer id', 'App User', ' Covid19 Medicine Sales ',\n",
       "       ' Other Medicine Sales ', ' Redeemed points Flag ', 'Transactions',\n",
       "       ' last transaction date ', ' DOB ', ' EMAIL Flag ', ' Gender '],\n",
       "      dtype='object')"
      ]
     },
     "execution_count": 5,
     "metadata": {},
     "output_type": "execute_result"
    }
   ],
   "source": [
    "# let's look at our column names\n",
    "\n",
    "df.columns"
   ]
  },
  {
   "cell_type": "code",
   "execution_count": 6,
   "id": "9fc40fac",
   "metadata": {},
   "outputs": [],
   "source": [
    "# We see that our columns have leading and trailing spaces\n",
    "# Let's remove those unnecessary spaces\n",
    "\n",
    "df.columns = df.columns.str.replace(' ', '')"
   ]
  },
  {
   "cell_type": "code",
   "execution_count": 7,
   "id": "4a0c874e",
   "metadata": {},
   "outputs": [
    {
     "data": {
      "text/plain": [
       "Index(['Customerid', 'AppUser', 'Covid19MedicineSales', 'OtherMedicineSales',\n",
       "       'RedeemedpointsFlag', 'Transactions', 'lasttransactiondate', 'DOB',\n",
       "       'EMAILFlag', 'Gender'],\n",
       "      dtype='object')"
      ]
     },
     "execution_count": 7,
     "metadata": {},
     "output_type": "execute_result"
    }
   ],
   "source": [
    "df.columns"
   ]
  },
  {
   "cell_type": "code",
   "execution_count": 8,
   "id": "bd1c5915",
   "metadata": {},
   "outputs": [],
   "source": [
    "# We must also remove commas from Covid19MedicineSales and OtherMedicineSales column, so that we could convert them to float\n",
    "# If not done so, would result into error saying can't convert str to float"
   ]
  },
  {
   "cell_type": "code",
   "execution_count": 9,
   "id": "0c5f70d4",
   "metadata": {},
   "outputs": [],
   "source": [
    "df['Covid19MedicineSales'] = df['Covid19MedicineSales'].str.replace(',','')"
   ]
  },
  {
   "cell_type": "code",
   "execution_count": 10,
   "id": "fc272d8f",
   "metadata": {},
   "outputs": [],
   "source": [
    "df['OtherMedicineSales'] = df['OtherMedicineSales'].str.replace(',','')"
   ]
  },
  {
   "cell_type": "code",
   "execution_count": 11,
   "id": "4152cfb9",
   "metadata": {},
   "outputs": [
    {
     "data": {
      "text/html": [
       "<div>\n",
       "<style scoped>\n",
       "    .dataframe tbody tr th:only-of-type {\n",
       "        vertical-align: middle;\n",
       "    }\n",
       "\n",
       "    .dataframe tbody tr th {\n",
       "        vertical-align: top;\n",
       "    }\n",
       "\n",
       "    .dataframe thead th {\n",
       "        text-align: right;\n",
       "    }\n",
       "</style>\n",
       "<table border=\"1\" class=\"dataframe\">\n",
       "  <thead>\n",
       "    <tr style=\"text-align: right;\">\n",
       "      <th></th>\n",
       "      <th>Customerid</th>\n",
       "      <th>AppUser</th>\n",
       "      <th>Covid19MedicineSales</th>\n",
       "      <th>OtherMedicineSales</th>\n",
       "      <th>RedeemedpointsFlag</th>\n",
       "      <th>Transactions</th>\n",
       "      <th>lasttransactiondate</th>\n",
       "      <th>DOB</th>\n",
       "      <th>EMAILFlag</th>\n",
       "      <th>Gender</th>\n",
       "    </tr>\n",
       "  </thead>\n",
       "  <tbody>\n",
       "    <tr>\n",
       "      <th>0</th>\n",
       "      <td>863268612</td>\n",
       "      <td>1</td>\n",
       "      <td>22035</td>\n",
       "      <td>-</td>\n",
       "      <td>No</td>\n",
       "      <td>11</td>\n",
       "      <td>12-11-2021</td>\n",
       "      <td>00-01-1900</td>\n",
       "      <td>EMAIL PRESENT</td>\n",
       "      <td>female</td>\n",
       "    </tr>\n",
       "    <tr>\n",
       "      <th>1</th>\n",
       "      <td>389739561</td>\n",
       "      <td>0</td>\n",
       "      <td>3926</td>\n",
       "      <td>4099</td>\n",
       "      <td>No</td>\n",
       "      <td>4</td>\n",
       "      <td>25-11-2021</td>\n",
       "      <td>00-01-1900</td>\n",
       "      <td>NO EMAIL</td>\n",
       "      <td>blank</td>\n",
       "    </tr>\n",
       "    <tr>\n",
       "      <th>2</th>\n",
       "      <td>446950605</td>\n",
       "      <td>0</td>\n",
       "      <td>8031</td>\n",
       "      <td>-</td>\n",
       "      <td>No</td>\n",
       "      <td>4</td>\n",
       "      <td>11-10-2021</td>\n",
       "      <td>00-01-1900</td>\n",
       "      <td>NO EMAIL</td>\n",
       "      <td>blank</td>\n",
       "    </tr>\n",
       "    <tr>\n",
       "      <th>3</th>\n",
       "      <td>819143842</td>\n",
       "      <td>0</td>\n",
       "      <td>8046</td>\n",
       "      <td>-</td>\n",
       "      <td>No</td>\n",
       "      <td>4</td>\n",
       "      <td>28-06-2021</td>\n",
       "      <td>00-01-1900</td>\n",
       "      <td>NO EMAIL</td>\n",
       "      <td>blank</td>\n",
       "    </tr>\n",
       "    <tr>\n",
       "      <th>4</th>\n",
       "      <td>530569572</td>\n",
       "      <td>0</td>\n",
       "      <td>8046</td>\n",
       "      <td>-</td>\n",
       "      <td>No</td>\n",
       "      <td>4</td>\n",
       "      <td>18-11-2021</td>\n",
       "      <td>00-01-1900</td>\n",
       "      <td>NO EMAIL</td>\n",
       "      <td>blank</td>\n",
       "    </tr>\n",
       "  </tbody>\n",
       "</table>\n",
       "</div>"
      ],
      "text/plain": [
       "   Customerid  AppUser Covid19MedicineSales OtherMedicineSales  \\\n",
       "0   863268612        1                22035               -      \n",
       "1   389739561        0                 3926               4099   \n",
       "2   446950605        0                 8031               -      \n",
       "3   819143842        0                 8046               -      \n",
       "4   530569572        0                 8046               -      \n",
       "\n",
       "  RedeemedpointsFlag  Transactions lasttransactiondate         DOB  \\\n",
       "0                 No            11          12-11-2021  00-01-1900   \n",
       "1                 No             4          25-11-2021  00-01-1900   \n",
       "2                 No             4          11-10-2021  00-01-1900   \n",
       "3                 No             4          28-06-2021  00-01-1900   \n",
       "4                 No             4          18-11-2021  00-01-1900   \n",
       "\n",
       "       EMAILFlag  Gender  \n",
       "0  EMAIL PRESENT  female  \n",
       "1       NO EMAIL   blank  \n",
       "2       NO EMAIL   blank  \n",
       "3       NO EMAIL   blank  \n",
       "4       NO EMAIL   blank  "
      ]
     },
     "execution_count": 11,
     "metadata": {},
     "output_type": "execute_result"
    }
   ],
   "source": [
    "df.head()"
   ]
  },
  {
   "cell_type": "code",
   "execution_count": 12,
   "id": "869c3df8",
   "metadata": {},
   "outputs": [],
   "source": [
    "# we also notice that datatype of our covid19 sales and other sales columns are of object type\n",
    "# let's change the datatype to int or float, in order to obtain the total sales aka Target sales \n",
    "\n",
    "df['Covid19MedicineSales'] = pd.to_numeric(df['Covid19MedicineSales'], errors=\"coerce\")"
   ]
  },
  {
   "cell_type": "code",
   "execution_count": 13,
   "id": "a69e4879",
   "metadata": {},
   "outputs": [],
   "source": [
    "df['OtherMedicineSales'] = pd.to_numeric(df['OtherMedicineSales'], errors=\"coerce\")"
   ]
  },
  {
   "cell_type": "code",
   "execution_count": 14,
   "id": "28539e06",
   "metadata": {},
   "outputs": [
    {
     "data": {
      "text/plain": [
       "Customerid                int64\n",
       "AppUser                   int64\n",
       "Covid19MedicineSales    float64\n",
       "OtherMedicineSales      float64\n",
       "RedeemedpointsFlag       object\n",
       "Transactions              int64\n",
       "lasttransactiondate      object\n",
       "DOB                      object\n",
       "EMAILFlag                object\n",
       "Gender                   object\n",
       "dtype: object"
      ]
     },
     "execution_count": 14,
     "metadata": {},
     "output_type": "execute_result"
    }
   ],
   "source": [
    "# Let's datatypes of columns now --\n",
    "\n",
    "df.dtypes"
   ]
  },
  {
   "cell_type": "code",
   "execution_count": 15,
   "id": "cdcbd364",
   "metadata": {},
   "outputs": [
    {
     "data": {
      "text/html": [
       "<div>\n",
       "<style scoped>\n",
       "    .dataframe tbody tr th:only-of-type {\n",
       "        vertical-align: middle;\n",
       "    }\n",
       "\n",
       "    .dataframe tbody tr th {\n",
       "        vertical-align: top;\n",
       "    }\n",
       "\n",
       "    .dataframe thead th {\n",
       "        text-align: right;\n",
       "    }\n",
       "</style>\n",
       "<table border=\"1\" class=\"dataframe\">\n",
       "  <thead>\n",
       "    <tr style=\"text-align: right;\">\n",
       "      <th></th>\n",
       "      <th>Customerid</th>\n",
       "      <th>AppUser</th>\n",
       "      <th>Covid19MedicineSales</th>\n",
       "      <th>OtherMedicineSales</th>\n",
       "      <th>RedeemedpointsFlag</th>\n",
       "      <th>Transactions</th>\n",
       "      <th>lasttransactiondate</th>\n",
       "      <th>DOB</th>\n",
       "      <th>EMAILFlag</th>\n",
       "      <th>Gender</th>\n",
       "    </tr>\n",
       "  </thead>\n",
       "  <tbody>\n",
       "    <tr>\n",
       "      <th>0</th>\n",
       "      <td>863268612</td>\n",
       "      <td>1</td>\n",
       "      <td>22035.0</td>\n",
       "      <td>NaN</td>\n",
       "      <td>No</td>\n",
       "      <td>11</td>\n",
       "      <td>12-11-2021</td>\n",
       "      <td>00-01-1900</td>\n",
       "      <td>EMAIL PRESENT</td>\n",
       "      <td>female</td>\n",
       "    </tr>\n",
       "    <tr>\n",
       "      <th>1</th>\n",
       "      <td>389739561</td>\n",
       "      <td>0</td>\n",
       "      <td>3926.0</td>\n",
       "      <td>4099.0</td>\n",
       "      <td>No</td>\n",
       "      <td>4</td>\n",
       "      <td>25-11-2021</td>\n",
       "      <td>00-01-1900</td>\n",
       "      <td>NO EMAIL</td>\n",
       "      <td>blank</td>\n",
       "    </tr>\n",
       "    <tr>\n",
       "      <th>2</th>\n",
       "      <td>446950605</td>\n",
       "      <td>0</td>\n",
       "      <td>8031.0</td>\n",
       "      <td>NaN</td>\n",
       "      <td>No</td>\n",
       "      <td>4</td>\n",
       "      <td>11-10-2021</td>\n",
       "      <td>00-01-1900</td>\n",
       "      <td>NO EMAIL</td>\n",
       "      <td>blank</td>\n",
       "    </tr>\n",
       "    <tr>\n",
       "      <th>3</th>\n",
       "      <td>819143842</td>\n",
       "      <td>0</td>\n",
       "      <td>8046.0</td>\n",
       "      <td>NaN</td>\n",
       "      <td>No</td>\n",
       "      <td>4</td>\n",
       "      <td>28-06-2021</td>\n",
       "      <td>00-01-1900</td>\n",
       "      <td>NO EMAIL</td>\n",
       "      <td>blank</td>\n",
       "    </tr>\n",
       "    <tr>\n",
       "      <th>4</th>\n",
       "      <td>530569572</td>\n",
       "      <td>0</td>\n",
       "      <td>8046.0</td>\n",
       "      <td>NaN</td>\n",
       "      <td>No</td>\n",
       "      <td>4</td>\n",
       "      <td>18-11-2021</td>\n",
       "      <td>00-01-1900</td>\n",
       "      <td>NO EMAIL</td>\n",
       "      <td>blank</td>\n",
       "    </tr>\n",
       "  </tbody>\n",
       "</table>\n",
       "</div>"
      ],
      "text/plain": [
       "   Customerid  AppUser  Covid19MedicineSales  OtherMedicineSales  \\\n",
       "0   863268612        1               22035.0                 NaN   \n",
       "1   389739561        0                3926.0              4099.0   \n",
       "2   446950605        0                8031.0                 NaN   \n",
       "3   819143842        0                8046.0                 NaN   \n",
       "4   530569572        0                8046.0                 NaN   \n",
       "\n",
       "  RedeemedpointsFlag  Transactions lasttransactiondate         DOB  \\\n",
       "0                 No            11          12-11-2021  00-01-1900   \n",
       "1                 No             4          25-11-2021  00-01-1900   \n",
       "2                 No             4          11-10-2021  00-01-1900   \n",
       "3                 No             4          28-06-2021  00-01-1900   \n",
       "4                 No             4          18-11-2021  00-01-1900   \n",
       "\n",
       "       EMAILFlag  Gender  \n",
       "0  EMAIL PRESENT  female  \n",
       "1       NO EMAIL   blank  \n",
       "2       NO EMAIL   blank  \n",
       "3       NO EMAIL   blank  \n",
       "4       NO EMAIL   blank  "
      ]
     },
     "execution_count": 15,
     "metadata": {},
     "output_type": "execute_result"
    }
   ],
   "source": [
    "df.head()\n",
    "\n",
    "# We have now converted both columns to flaot datatype\n",
    "# Due to this all null values are now shown as NaN"
   ]
  },
  {
   "cell_type": "code",
   "execution_count": 16,
   "id": "fe5421a8",
   "metadata": {},
   "outputs": [
    {
     "data": {
      "text/plain": [
       "Customerid                  0\n",
       "AppUser                     0\n",
       "Covid19MedicineSales     5749\n",
       "OtherMedicineSales      28892\n",
       "RedeemedpointsFlag          0\n",
       "Transactions                0\n",
       "lasttransactiondate         0\n",
       "DOB                         0\n",
       "EMAILFlag                   0\n",
       "Gender                      0\n",
       "dtype: int64"
      ]
     },
     "execution_count": 16,
     "metadata": {},
     "output_type": "execute_result"
    }
   ],
   "source": [
    "# let's check if there are any null values in our column\n",
    "\n",
    "df.isnull().sum()"
   ]
  },
  {
   "cell_type": "markdown",
   "id": "200f2730",
   "metadata": {},
   "source": [
    "# Imputing Missing Values"
   ]
  },
  {
   "cell_type": "code",
   "execution_count": 17,
   "id": "a99c7f19",
   "metadata": {},
   "outputs": [],
   "source": [
    "# There are many null values in our dataset\n",
    "# We must clean the data\n",
    "\n",
    "# We also know that from our problem statement that the user would buy either the covid19medicine or the other medicine\n",
    "# This means that null values in a particular column can be replaced as zero\n",
    "\n",
    "df['Covid19MedicineSales'] = df['Covid19MedicineSales'].fillna(0)\n",
    "df['OtherMedicineSales'] = df['OtherMedicineSales'].fillna(0)"
   ]
  },
  {
   "cell_type": "code",
   "execution_count": 18,
   "id": "3b64c40e",
   "metadata": {},
   "outputs": [
    {
     "data": {
      "text/plain": [
       "Customerid              0\n",
       "AppUser                 0\n",
       "Covid19MedicineSales    0\n",
       "OtherMedicineSales      0\n",
       "RedeemedpointsFlag      0\n",
       "Transactions            0\n",
       "lasttransactiondate     0\n",
       "DOB                     0\n",
       "EMAILFlag               0\n",
       "Gender                  0\n",
       "dtype: int64"
      ]
     },
     "execution_count": 18,
     "metadata": {},
     "output_type": "execute_result"
    }
   ],
   "source": [
    "df.isnull().sum() \n",
    "\n",
    "# we have replaced all null values with zeros"
   ]
  },
  {
   "cell_type": "code",
   "execution_count": 19,
   "id": "a55dc850",
   "metadata": {
    "scrolled": true
   },
   "outputs": [
    {
     "data": {
      "text/html": [
       "<div>\n",
       "<style scoped>\n",
       "    .dataframe tbody tr th:only-of-type {\n",
       "        vertical-align: middle;\n",
       "    }\n",
       "\n",
       "    .dataframe tbody tr th {\n",
       "        vertical-align: top;\n",
       "    }\n",
       "\n",
       "    .dataframe thead th {\n",
       "        text-align: right;\n",
       "    }\n",
       "</style>\n",
       "<table border=\"1\" class=\"dataframe\">\n",
       "  <thead>\n",
       "    <tr style=\"text-align: right;\">\n",
       "      <th></th>\n",
       "      <th>Customerid</th>\n",
       "      <th>AppUser</th>\n",
       "      <th>Covid19MedicineSales</th>\n",
       "      <th>OtherMedicineSales</th>\n",
       "      <th>RedeemedpointsFlag</th>\n",
       "      <th>Transactions</th>\n",
       "      <th>lasttransactiondate</th>\n",
       "      <th>DOB</th>\n",
       "      <th>EMAILFlag</th>\n",
       "      <th>Gender</th>\n",
       "    </tr>\n",
       "  </thead>\n",
       "  <tbody>\n",
       "    <tr>\n",
       "      <th>0</th>\n",
       "      <td>863268612</td>\n",
       "      <td>1</td>\n",
       "      <td>22035.0</td>\n",
       "      <td>0.0</td>\n",
       "      <td>No</td>\n",
       "      <td>11</td>\n",
       "      <td>12-11-2021</td>\n",
       "      <td>00-01-1900</td>\n",
       "      <td>EMAIL PRESENT</td>\n",
       "      <td>female</td>\n",
       "    </tr>\n",
       "    <tr>\n",
       "      <th>1</th>\n",
       "      <td>389739561</td>\n",
       "      <td>0</td>\n",
       "      <td>3926.0</td>\n",
       "      <td>4099.0</td>\n",
       "      <td>No</td>\n",
       "      <td>4</td>\n",
       "      <td>25-11-2021</td>\n",
       "      <td>00-01-1900</td>\n",
       "      <td>NO EMAIL</td>\n",
       "      <td>blank</td>\n",
       "    </tr>\n",
       "    <tr>\n",
       "      <th>2</th>\n",
       "      <td>446950605</td>\n",
       "      <td>0</td>\n",
       "      <td>8031.0</td>\n",
       "      <td>0.0</td>\n",
       "      <td>No</td>\n",
       "      <td>4</td>\n",
       "      <td>11-10-2021</td>\n",
       "      <td>00-01-1900</td>\n",
       "      <td>NO EMAIL</td>\n",
       "      <td>blank</td>\n",
       "    </tr>\n",
       "    <tr>\n",
       "      <th>3</th>\n",
       "      <td>819143842</td>\n",
       "      <td>0</td>\n",
       "      <td>8046.0</td>\n",
       "      <td>0.0</td>\n",
       "      <td>No</td>\n",
       "      <td>4</td>\n",
       "      <td>28-06-2021</td>\n",
       "      <td>00-01-1900</td>\n",
       "      <td>NO EMAIL</td>\n",
       "      <td>blank</td>\n",
       "    </tr>\n",
       "    <tr>\n",
       "      <th>4</th>\n",
       "      <td>530569572</td>\n",
       "      <td>0</td>\n",
       "      <td>8046.0</td>\n",
       "      <td>0.0</td>\n",
       "      <td>No</td>\n",
       "      <td>4</td>\n",
       "      <td>18-11-2021</td>\n",
       "      <td>00-01-1900</td>\n",
       "      <td>NO EMAIL</td>\n",
       "      <td>blank</td>\n",
       "    </tr>\n",
       "  </tbody>\n",
       "</table>\n",
       "</div>"
      ],
      "text/plain": [
       "   Customerid  AppUser  Covid19MedicineSales  OtherMedicineSales  \\\n",
       "0   863268612        1               22035.0                 0.0   \n",
       "1   389739561        0                3926.0              4099.0   \n",
       "2   446950605        0                8031.0                 0.0   \n",
       "3   819143842        0                8046.0                 0.0   \n",
       "4   530569572        0                8046.0                 0.0   \n",
       "\n",
       "  RedeemedpointsFlag  Transactions lasttransactiondate         DOB  \\\n",
       "0                 No            11          12-11-2021  00-01-1900   \n",
       "1                 No             4          25-11-2021  00-01-1900   \n",
       "2                 No             4          11-10-2021  00-01-1900   \n",
       "3                 No             4          28-06-2021  00-01-1900   \n",
       "4                 No             4          18-11-2021  00-01-1900   \n",
       "\n",
       "       EMAILFlag  Gender  \n",
       "0  EMAIL PRESENT  female  \n",
       "1       NO EMAIL   blank  \n",
       "2       NO EMAIL   blank  \n",
       "3       NO EMAIL   blank  \n",
       "4       NO EMAIL   blank  "
      ]
     },
     "execution_count": 19,
     "metadata": {},
     "output_type": "execute_result"
    }
   ],
   "source": [
    "# lets check our dataframe\n",
    "\n",
    "df.head()\n",
    "\n",
    "# Our data is now clean"
   ]
  },
  {
   "cell_type": "code",
   "execution_count": 20,
   "id": "3f58a0a9",
   "metadata": {},
   "outputs": [],
   "source": [
    "ls = [] #empty list\n",
    "\n",
    "for i in df.AppUser:\n",
    "    if i == 1:\n",
    "        ls.append('App')\n",
    "    else:\n",
    "        ls.append('Store')\n",
    "        \n",
    "\n",
    "# We are creating a new column in our dataframe where we could easily check if the user has made an order from store or the app\n",
    "df['Ordered_from'] = ls    "
   ]
  },
  {
   "cell_type": "code",
   "execution_count": 21,
   "id": "9faeda2a",
   "metadata": {
    "scrolled": true
   },
   "outputs": [
    {
     "data": {
      "text/html": [
       "<div>\n",
       "<style scoped>\n",
       "    .dataframe tbody tr th:only-of-type {\n",
       "        vertical-align: middle;\n",
       "    }\n",
       "\n",
       "    .dataframe tbody tr th {\n",
       "        vertical-align: top;\n",
       "    }\n",
       "\n",
       "    .dataframe thead th {\n",
       "        text-align: right;\n",
       "    }\n",
       "</style>\n",
       "<table border=\"1\" class=\"dataframe\">\n",
       "  <thead>\n",
       "    <tr style=\"text-align: right;\">\n",
       "      <th></th>\n",
       "      <th>Customerid</th>\n",
       "      <th>AppUser</th>\n",
       "      <th>Covid19MedicineSales</th>\n",
       "      <th>OtherMedicineSales</th>\n",
       "      <th>RedeemedpointsFlag</th>\n",
       "      <th>Transactions</th>\n",
       "      <th>lasttransactiondate</th>\n",
       "      <th>DOB</th>\n",
       "      <th>EMAILFlag</th>\n",
       "      <th>Gender</th>\n",
       "      <th>Ordered_from</th>\n",
       "    </tr>\n",
       "  </thead>\n",
       "  <tbody>\n",
       "    <tr>\n",
       "      <th>0</th>\n",
       "      <td>863268612</td>\n",
       "      <td>1</td>\n",
       "      <td>22035.0</td>\n",
       "      <td>0.0</td>\n",
       "      <td>No</td>\n",
       "      <td>11</td>\n",
       "      <td>12-11-2021</td>\n",
       "      <td>00-01-1900</td>\n",
       "      <td>EMAIL PRESENT</td>\n",
       "      <td>female</td>\n",
       "      <td>App</td>\n",
       "    </tr>\n",
       "    <tr>\n",
       "      <th>1</th>\n",
       "      <td>389739561</td>\n",
       "      <td>0</td>\n",
       "      <td>3926.0</td>\n",
       "      <td>4099.0</td>\n",
       "      <td>No</td>\n",
       "      <td>4</td>\n",
       "      <td>25-11-2021</td>\n",
       "      <td>00-01-1900</td>\n",
       "      <td>NO EMAIL</td>\n",
       "      <td>blank</td>\n",
       "      <td>Store</td>\n",
       "    </tr>\n",
       "    <tr>\n",
       "      <th>2</th>\n",
       "      <td>446950605</td>\n",
       "      <td>0</td>\n",
       "      <td>8031.0</td>\n",
       "      <td>0.0</td>\n",
       "      <td>No</td>\n",
       "      <td>4</td>\n",
       "      <td>11-10-2021</td>\n",
       "      <td>00-01-1900</td>\n",
       "      <td>NO EMAIL</td>\n",
       "      <td>blank</td>\n",
       "      <td>Store</td>\n",
       "    </tr>\n",
       "    <tr>\n",
       "      <th>3</th>\n",
       "      <td>819143842</td>\n",
       "      <td>0</td>\n",
       "      <td>8046.0</td>\n",
       "      <td>0.0</td>\n",
       "      <td>No</td>\n",
       "      <td>4</td>\n",
       "      <td>28-06-2021</td>\n",
       "      <td>00-01-1900</td>\n",
       "      <td>NO EMAIL</td>\n",
       "      <td>blank</td>\n",
       "      <td>Store</td>\n",
       "    </tr>\n",
       "    <tr>\n",
       "      <th>4</th>\n",
       "      <td>530569572</td>\n",
       "      <td>0</td>\n",
       "      <td>8046.0</td>\n",
       "      <td>0.0</td>\n",
       "      <td>No</td>\n",
       "      <td>4</td>\n",
       "      <td>18-11-2021</td>\n",
       "      <td>00-01-1900</td>\n",
       "      <td>NO EMAIL</td>\n",
       "      <td>blank</td>\n",
       "      <td>Store</td>\n",
       "    </tr>\n",
       "  </tbody>\n",
       "</table>\n",
       "</div>"
      ],
      "text/plain": [
       "   Customerid  AppUser  Covid19MedicineSales  OtherMedicineSales  \\\n",
       "0   863268612        1               22035.0                 0.0   \n",
       "1   389739561        0                3926.0              4099.0   \n",
       "2   446950605        0                8031.0                 0.0   \n",
       "3   819143842        0                8046.0                 0.0   \n",
       "4   530569572        0                8046.0                 0.0   \n",
       "\n",
       "  RedeemedpointsFlag  Transactions lasttransactiondate         DOB  \\\n",
       "0                 No            11          12-11-2021  00-01-1900   \n",
       "1                 No             4          25-11-2021  00-01-1900   \n",
       "2                 No             4          11-10-2021  00-01-1900   \n",
       "3                 No             4          28-06-2021  00-01-1900   \n",
       "4                 No             4          18-11-2021  00-01-1900   \n",
       "\n",
       "       EMAILFlag  Gender Ordered_from  \n",
       "0  EMAIL PRESENT  female          App  \n",
       "1       NO EMAIL   blank        Store  \n",
       "2       NO EMAIL   blank        Store  \n",
       "3       NO EMAIL   blank        Store  \n",
       "4       NO EMAIL   blank        Store  "
      ]
     },
     "execution_count": 21,
     "metadata": {},
     "output_type": "execute_result"
    }
   ],
   "source": [
    "df.head()"
   ]
  },
  {
   "cell_type": "code",
   "execution_count": 86,
   "id": "9cd07b97",
   "metadata": {},
   "outputs": [],
   "source": [
    "# Converting OtherMedicineSales column to integer\n",
    "\n",
    "df['OtherMedicineSales'] = df['OtherMedicineSales'].astype('int64')"
   ]
  },
  {
   "cell_type": "code",
   "execution_count": 87,
   "id": "ddcb9379",
   "metadata": {},
   "outputs": [],
   "source": [
    "# Converting Covid19MedicineSales column to integer\n",
    "\n",
    "df['Covid19MedicineSales'] = df['Covid19MedicineSales'].astype('int64')"
   ]
  },
  {
   "cell_type": "code",
   "execution_count": 88,
   "id": "d6d6c58a",
   "metadata": {
    "scrolled": true
   },
   "outputs": [
    {
     "data": {
      "text/plain": [
       "OtherMedicineSales    4545913994\n",
       "dtype: int64"
      ]
     },
     "execution_count": 88,
     "metadata": {},
     "output_type": "execute_result"
    }
   ],
   "source": [
    "df[['OtherMedicineSales']].sum()"
   ]
  },
  {
   "cell_type": "code",
   "execution_count": 89,
   "id": "44e2bbb7",
   "metadata": {},
   "outputs": [
    {
     "data": {
      "text/plain": [
       "Covid19MedicineSales    1345566675\n",
       "dtype: int64"
      ]
     },
     "execution_count": 89,
     "metadata": {},
     "output_type": "execute_result"
    }
   ],
   "source": [
    "df[['Covid19MedicineSales']].sum()"
   ]
  },
  {
   "cell_type": "markdown",
   "id": "9a7b6bc0",
   "metadata": {},
   "source": [
    "# Bi-variate Analysis :"
   ]
  },
  {
   "cell_type": "code",
   "execution_count": 26,
   "id": "9eac4c10",
   "metadata": {},
   "outputs": [],
   "source": [
    "# Now we can Covid19MedicineSales and OtherMedicineSales to create a Target or Total sales column\n",
    "\n",
    "df['total_sales'] = df['Covid19MedicineSales'] + df['OtherMedicineSales']"
   ]
  },
  {
   "cell_type": "code",
   "execution_count": 27,
   "id": "3ad954e3",
   "metadata": {},
   "outputs": [
    {
     "data": {
      "text/html": [
       "<div>\n",
       "<style scoped>\n",
       "    .dataframe tbody tr th:only-of-type {\n",
       "        vertical-align: middle;\n",
       "    }\n",
       "\n",
       "    .dataframe tbody tr th {\n",
       "        vertical-align: top;\n",
       "    }\n",
       "\n",
       "    .dataframe thead th {\n",
       "        text-align: right;\n",
       "    }\n",
       "</style>\n",
       "<table border=\"1\" class=\"dataframe\">\n",
       "  <thead>\n",
       "    <tr style=\"text-align: right;\">\n",
       "      <th></th>\n",
       "      <th>Customerid</th>\n",
       "      <th>AppUser</th>\n",
       "      <th>Covid19MedicineSales</th>\n",
       "      <th>OtherMedicineSales</th>\n",
       "      <th>RedeemedpointsFlag</th>\n",
       "      <th>Transactions</th>\n",
       "      <th>lasttransactiondate</th>\n",
       "      <th>DOB</th>\n",
       "      <th>EMAILFlag</th>\n",
       "      <th>Gender</th>\n",
       "      <th>Ordered_from</th>\n",
       "      <th>total_sales</th>\n",
       "    </tr>\n",
       "  </thead>\n",
       "  <tbody>\n",
       "    <tr>\n",
       "      <th>0</th>\n",
       "      <td>863268612</td>\n",
       "      <td>1</td>\n",
       "      <td>22035</td>\n",
       "      <td>0</td>\n",
       "      <td>No</td>\n",
       "      <td>11</td>\n",
       "      <td>12-11-2021</td>\n",
       "      <td>00-01-1900</td>\n",
       "      <td>EMAIL PRESENT</td>\n",
       "      <td>female</td>\n",
       "      <td>App</td>\n",
       "      <td>22035</td>\n",
       "    </tr>\n",
       "    <tr>\n",
       "      <th>1</th>\n",
       "      <td>389739561</td>\n",
       "      <td>0</td>\n",
       "      <td>3926</td>\n",
       "      <td>4099</td>\n",
       "      <td>No</td>\n",
       "      <td>4</td>\n",
       "      <td>25-11-2021</td>\n",
       "      <td>00-01-1900</td>\n",
       "      <td>NO EMAIL</td>\n",
       "      <td>blank</td>\n",
       "      <td>Store</td>\n",
       "      <td>8025</td>\n",
       "    </tr>\n",
       "    <tr>\n",
       "      <th>2</th>\n",
       "      <td>446950605</td>\n",
       "      <td>0</td>\n",
       "      <td>8031</td>\n",
       "      <td>0</td>\n",
       "      <td>No</td>\n",
       "      <td>4</td>\n",
       "      <td>11-10-2021</td>\n",
       "      <td>00-01-1900</td>\n",
       "      <td>NO EMAIL</td>\n",
       "      <td>blank</td>\n",
       "      <td>Store</td>\n",
       "      <td>8031</td>\n",
       "    </tr>\n",
       "    <tr>\n",
       "      <th>3</th>\n",
       "      <td>819143842</td>\n",
       "      <td>0</td>\n",
       "      <td>8046</td>\n",
       "      <td>0</td>\n",
       "      <td>No</td>\n",
       "      <td>4</td>\n",
       "      <td>28-06-2021</td>\n",
       "      <td>00-01-1900</td>\n",
       "      <td>NO EMAIL</td>\n",
       "      <td>blank</td>\n",
       "      <td>Store</td>\n",
       "      <td>8046</td>\n",
       "    </tr>\n",
       "    <tr>\n",
       "      <th>4</th>\n",
       "      <td>530569572</td>\n",
       "      <td>0</td>\n",
       "      <td>8046</td>\n",
       "      <td>0</td>\n",
       "      <td>No</td>\n",
       "      <td>4</td>\n",
       "      <td>18-11-2021</td>\n",
       "      <td>00-01-1900</td>\n",
       "      <td>NO EMAIL</td>\n",
       "      <td>blank</td>\n",
       "      <td>Store</td>\n",
       "      <td>8046</td>\n",
       "    </tr>\n",
       "  </tbody>\n",
       "</table>\n",
       "</div>"
      ],
      "text/plain": [
       "   Customerid  AppUser  Covid19MedicineSales  OtherMedicineSales  \\\n",
       "0   863268612        1                 22035                   0   \n",
       "1   389739561        0                  3926                4099   \n",
       "2   446950605        0                  8031                   0   \n",
       "3   819143842        0                  8046                   0   \n",
       "4   530569572        0                  8046                   0   \n",
       "\n",
       "  RedeemedpointsFlag  Transactions lasttransactiondate         DOB  \\\n",
       "0                 No            11          12-11-2021  00-01-1900   \n",
       "1                 No             4          25-11-2021  00-01-1900   \n",
       "2                 No             4          11-10-2021  00-01-1900   \n",
       "3                 No             4          28-06-2021  00-01-1900   \n",
       "4                 No             4          18-11-2021  00-01-1900   \n",
       "\n",
       "       EMAILFlag  Gender Ordered_from  total_sales  \n",
       "0  EMAIL PRESENT  female          App        22035  \n",
       "1       NO EMAIL   blank        Store         8025  \n",
       "2       NO EMAIL   blank        Store         8031  \n",
       "3       NO EMAIL   blank        Store         8046  \n",
       "4       NO EMAIL   blank        Store         8046  "
      ]
     },
     "execution_count": 27,
     "metadata": {},
     "output_type": "execute_result"
    }
   ],
   "source": [
    "# let's check our sales column\n",
    "\n",
    "df.head()"
   ]
  },
  {
   "cell_type": "code",
   "execution_count": 28,
   "id": "0c9f4bf8",
   "metadata": {},
   "outputs": [],
   "source": [
    "# Now lets create an average sales column :\n",
    "# we know that Transactions column is an int dtype\n",
    "\n",
    "df['avg_sales'] = df['total_sales'] / df['Transactions']"
   ]
  },
  {
   "cell_type": "code",
   "execution_count": 29,
   "id": "8d2706bc",
   "metadata": {},
   "outputs": [],
   "source": [
    "# lets round the values upto 2 decimal places\n",
    "\n",
    "df['avg_sales'] = df['avg_sales'].round(decimals = 2)\n"
   ]
  },
  {
   "cell_type": "code",
   "execution_count": 83,
   "id": "efb92da9",
   "metadata": {},
   "outputs": [],
   "source": [
    "df['total_sales'] = df['total_sales'].astype('int64')"
   ]
  },
  {
   "cell_type": "code",
   "execution_count": 82,
   "id": "7c403115",
   "metadata": {},
   "outputs": [],
   "source": [
    "df['avg_sales'] = df['avg_sales'].astype('int64')"
   ]
  },
  {
   "cell_type": "code",
   "execution_count": 32,
   "id": "a72a88c2",
   "metadata": {},
   "outputs": [
    {
     "data": {
      "text/html": [
       "<div>\n",
       "<style scoped>\n",
       "    .dataframe tbody tr th:only-of-type {\n",
       "        vertical-align: middle;\n",
       "    }\n",
       "\n",
       "    .dataframe tbody tr th {\n",
       "        vertical-align: top;\n",
       "    }\n",
       "\n",
       "    .dataframe thead th {\n",
       "        text-align: right;\n",
       "    }\n",
       "</style>\n",
       "<table border=\"1\" class=\"dataframe\">\n",
       "  <thead>\n",
       "    <tr style=\"text-align: right;\">\n",
       "      <th></th>\n",
       "      <th>Customerid</th>\n",
       "      <th>AppUser</th>\n",
       "      <th>Covid19MedicineSales</th>\n",
       "      <th>OtherMedicineSales</th>\n",
       "      <th>RedeemedpointsFlag</th>\n",
       "      <th>Transactions</th>\n",
       "      <th>lasttransactiondate</th>\n",
       "      <th>DOB</th>\n",
       "      <th>EMAILFlag</th>\n",
       "      <th>Gender</th>\n",
       "      <th>Ordered_from</th>\n",
       "      <th>total_sales</th>\n",
       "      <th>avg_sales</th>\n",
       "    </tr>\n",
       "  </thead>\n",
       "  <tbody>\n",
       "    <tr>\n",
       "      <th>0</th>\n",
       "      <td>863268612</td>\n",
       "      <td>1</td>\n",
       "      <td>22035</td>\n",
       "      <td>0</td>\n",
       "      <td>No</td>\n",
       "      <td>11</td>\n",
       "      <td>12-11-2021</td>\n",
       "      <td>00-01-1900</td>\n",
       "      <td>EMAIL PRESENT</td>\n",
       "      <td>female</td>\n",
       "      <td>App</td>\n",
       "      <td>22035</td>\n",
       "      <td>2003</td>\n",
       "    </tr>\n",
       "    <tr>\n",
       "      <th>1</th>\n",
       "      <td>389739561</td>\n",
       "      <td>0</td>\n",
       "      <td>3926</td>\n",
       "      <td>4099</td>\n",
       "      <td>No</td>\n",
       "      <td>4</td>\n",
       "      <td>25-11-2021</td>\n",
       "      <td>00-01-1900</td>\n",
       "      <td>NO EMAIL</td>\n",
       "      <td>blank</td>\n",
       "      <td>Store</td>\n",
       "      <td>8025</td>\n",
       "      <td>2006</td>\n",
       "    </tr>\n",
       "    <tr>\n",
       "      <th>2</th>\n",
       "      <td>446950605</td>\n",
       "      <td>0</td>\n",
       "      <td>8031</td>\n",
       "      <td>0</td>\n",
       "      <td>No</td>\n",
       "      <td>4</td>\n",
       "      <td>11-10-2021</td>\n",
       "      <td>00-01-1900</td>\n",
       "      <td>NO EMAIL</td>\n",
       "      <td>blank</td>\n",
       "      <td>Store</td>\n",
       "      <td>8031</td>\n",
       "      <td>2007</td>\n",
       "    </tr>\n",
       "    <tr>\n",
       "      <th>3</th>\n",
       "      <td>819143842</td>\n",
       "      <td>0</td>\n",
       "      <td>8046</td>\n",
       "      <td>0</td>\n",
       "      <td>No</td>\n",
       "      <td>4</td>\n",
       "      <td>28-06-2021</td>\n",
       "      <td>00-01-1900</td>\n",
       "      <td>NO EMAIL</td>\n",
       "      <td>blank</td>\n",
       "      <td>Store</td>\n",
       "      <td>8046</td>\n",
       "      <td>2011</td>\n",
       "    </tr>\n",
       "    <tr>\n",
       "      <th>4</th>\n",
       "      <td>530569572</td>\n",
       "      <td>0</td>\n",
       "      <td>8046</td>\n",
       "      <td>0</td>\n",
       "      <td>No</td>\n",
       "      <td>4</td>\n",
       "      <td>18-11-2021</td>\n",
       "      <td>00-01-1900</td>\n",
       "      <td>NO EMAIL</td>\n",
       "      <td>blank</td>\n",
       "      <td>Store</td>\n",
       "      <td>8046</td>\n",
       "      <td>2011</td>\n",
       "    </tr>\n",
       "  </tbody>\n",
       "</table>\n",
       "</div>"
      ],
      "text/plain": [
       "   Customerid  AppUser  Covid19MedicineSales  OtherMedicineSales  \\\n",
       "0   863268612        1                 22035                   0   \n",
       "1   389739561        0                  3926                4099   \n",
       "2   446950605        0                  8031                   0   \n",
       "3   819143842        0                  8046                   0   \n",
       "4   530569572        0                  8046                   0   \n",
       "\n",
       "  RedeemedpointsFlag  Transactions lasttransactiondate         DOB  \\\n",
       "0                 No            11          12-11-2021  00-01-1900   \n",
       "1                 No             4          25-11-2021  00-01-1900   \n",
       "2                 No             4          11-10-2021  00-01-1900   \n",
       "3                 No             4          28-06-2021  00-01-1900   \n",
       "4                 No             4          18-11-2021  00-01-1900   \n",
       "\n",
       "       EMAILFlag  Gender Ordered_from  total_sales  avg_sales  \n",
       "0  EMAIL PRESENT  female          App        22035       2003  \n",
       "1       NO EMAIL   blank        Store         8025       2006  \n",
       "2       NO EMAIL   blank        Store         8031       2007  \n",
       "3       NO EMAIL   blank        Store         8046       2011  \n",
       "4       NO EMAIL   blank        Store         8046       2011  "
      ]
     },
     "execution_count": 32,
     "metadata": {},
     "output_type": "execute_result"
    }
   ],
   "source": [
    "# lets check it\n",
    "\n",
    "df.head()"
   ]
  },
  {
   "cell_type": "code",
   "execution_count": 33,
   "id": "1152039d",
   "metadata": {},
   "outputs": [
    {
     "data": {
      "text/plain": [
       "2101"
      ]
     },
     "execution_count": 33,
     "metadata": {},
     "output_type": "execute_result"
    }
   ],
   "source": [
    "# This shows that there are only 2101 correct dates of birth, while most of rest are system generated only.\n",
    "\n",
    "df['DOB'].nunique()"
   ]
  },
  {
   "cell_type": "code",
   "execution_count": 34,
   "id": "2cd1c979",
   "metadata": {},
   "outputs": [
    {
     "data": {
      "text/plain": [
       "65967"
      ]
     },
     "execution_count": 34,
     "metadata": {},
     "output_type": "execute_result"
    }
   ],
   "source": [
    "# we have all unique customerids\n",
    "\n",
    "df['Customerid'].nunique()"
   ]
  },
  {
   "cell_type": "markdown",
   "id": "08e344fe",
   "metadata": {},
   "source": [
    "# Generating few insights based on gender"
   ]
  },
  {
   "cell_type": "code",
   "execution_count": 35,
   "id": "8f12be5a",
   "metadata": {},
   "outputs": [
    {
     "data": {
      "text/plain": [
       "Gender\n",
       "blank     48297\n",
       "female    13899\n",
       "male       3772\n",
       "dtype: int64"
      ]
     },
     "execution_count": 35,
     "metadata": {},
     "output_type": "execute_result"
    }
   ],
   "source": [
    "df[['Gender']].value_counts()"
   ]
  },
  {
   "cell_type": "markdown",
   "id": "1f5d1793",
   "metadata": {},
   "source": [
    "- We can see that major number of opur customer have not shared their gender information\n",
    "\n",
    "- Whereas, those who shared are less than 50% of our customers\n",
    "\n",
    "- We also see that male users are just 27% of female users"
   ]
  },
  {
   "cell_type": "code",
   "execution_count": 36,
   "id": "e771bc23",
   "metadata": {},
   "outputs": [
    {
     "data": {
      "text/html": [
       "<div>\n",
       "<style scoped>\n",
       "    .dataframe tbody tr th:only-of-type {\n",
       "        vertical-align: middle;\n",
       "    }\n",
       "\n",
       "    .dataframe tbody tr th {\n",
       "        vertical-align: top;\n",
       "    }\n",
       "\n",
       "    .dataframe thead th {\n",
       "        text-align: right;\n",
       "    }\n",
       "</style>\n",
       "<table border=\"1\" class=\"dataframe\">\n",
       "  <thead>\n",
       "    <tr style=\"text-align: right;\">\n",
       "      <th></th>\n",
       "      <th>total_sales</th>\n",
       "    </tr>\n",
       "    <tr>\n",
       "      <th>Gender</th>\n",
       "      <th></th>\n",
       "    </tr>\n",
       "  </thead>\n",
       "  <tbody>\n",
       "    <tr>\n",
       "      <th>blank</th>\n",
       "      <td>67589.0</td>\n",
       "    </tr>\n",
       "    <tr>\n",
       "      <th>female</th>\n",
       "      <td>146689.0</td>\n",
       "    </tr>\n",
       "    <tr>\n",
       "      <th>male</th>\n",
       "      <td>155970.0</td>\n",
       "    </tr>\n",
       "  </tbody>\n",
       "</table>\n",
       "</div>"
      ],
      "text/plain": [
       "        total_sales\n",
       "Gender             \n",
       "blank       67589.0\n",
       "female     146689.0\n",
       "male       155970.0"
      ]
     },
     "execution_count": 36,
     "metadata": {},
     "output_type": "execute_result"
    }
   ],
   "source": [
    "df.groupby(['Gender'])[['total_sales']].mean().round()"
   ]
  },
  {
   "cell_type": "code",
   "execution_count": 37,
   "id": "8a73ad49",
   "metadata": {},
   "outputs": [
    {
     "data": {
      "text/html": [
       "<div>\n",
       "<style scoped>\n",
       "    .dataframe tbody tr th:only-of-type {\n",
       "        vertical-align: middle;\n",
       "    }\n",
       "\n",
       "    .dataframe tbody tr th {\n",
       "        vertical-align: top;\n",
       "    }\n",
       "\n",
       "    .dataframe thead th {\n",
       "        text-align: right;\n",
       "    }\n",
       "</style>\n",
       "<table border=\"1\" class=\"dataframe\">\n",
       "  <thead>\n",
       "    <tr style=\"text-align: right;\">\n",
       "      <th></th>\n",
       "      <th>avg_sales</th>\n",
       "    </tr>\n",
       "    <tr>\n",
       "      <th>Gender</th>\n",
       "      <th></th>\n",
       "    </tr>\n",
       "  </thead>\n",
       "  <tbody>\n",
       "    <tr>\n",
       "      <th>blank</th>\n",
       "      <td>26376.0</td>\n",
       "    </tr>\n",
       "    <tr>\n",
       "      <th>female</th>\n",
       "      <td>24369.0</td>\n",
       "    </tr>\n",
       "    <tr>\n",
       "      <th>male</th>\n",
       "      <td>30540.0</td>\n",
       "    </tr>\n",
       "  </tbody>\n",
       "</table>\n",
       "</div>"
      ],
      "text/plain": [
       "        avg_sales\n",
       "Gender           \n",
       "blank     26376.0\n",
       "female    24369.0\n",
       "male      30540.0"
      ]
     },
     "execution_count": 37,
     "metadata": {},
     "output_type": "execute_result"
    }
   ],
   "source": [
    "df.groupby(['Gender'])[['avg_sales']].mean().round()"
   ]
  },
  {
   "cell_type": "markdown",
   "id": "07e10cb3",
   "metadata": {},
   "source": [
    "- After noticing the above insights, we know that Male customers are the ones, we should majorly focus on."
   ]
  },
  {
   "cell_type": "code",
   "execution_count": 38,
   "id": "57ca3936",
   "metadata": {},
   "outputs": [
    {
     "data": {
      "text/html": [
       "<div>\n",
       "<style scoped>\n",
       "    .dataframe tbody tr th:only-of-type {\n",
       "        vertical-align: middle;\n",
       "    }\n",
       "\n",
       "    .dataframe tbody tr th {\n",
       "        vertical-align: top;\n",
       "    }\n",
       "\n",
       "    .dataframe thead th {\n",
       "        text-align: right;\n",
       "    }\n",
       "</style>\n",
       "<table border=\"1\" class=\"dataframe\">\n",
       "  <thead>\n",
       "    <tr style=\"text-align: right;\">\n",
       "      <th></th>\n",
       "      <th></th>\n",
       "      <th>Ordered_from</th>\n",
       "    </tr>\n",
       "    <tr>\n",
       "      <th>Gender</th>\n",
       "      <th>Ordered_from</th>\n",
       "      <th></th>\n",
       "    </tr>\n",
       "  </thead>\n",
       "  <tbody>\n",
       "    <tr>\n",
       "      <th rowspan=\"2\" valign=\"top\">blank</th>\n",
       "      <th>App</th>\n",
       "      <td>9</td>\n",
       "    </tr>\n",
       "    <tr>\n",
       "      <th>Store</th>\n",
       "      <td>48288</td>\n",
       "    </tr>\n",
       "    <tr>\n",
       "      <th rowspan=\"2\" valign=\"top\">female</th>\n",
       "      <th>App</th>\n",
       "      <td>12973</td>\n",
       "    </tr>\n",
       "    <tr>\n",
       "      <th>Store</th>\n",
       "      <td>926</td>\n",
       "    </tr>\n",
       "    <tr>\n",
       "      <th rowspan=\"2\" valign=\"top\">male</th>\n",
       "      <th>App</th>\n",
       "      <td>3578</td>\n",
       "    </tr>\n",
       "    <tr>\n",
       "      <th>Store</th>\n",
       "      <td>194</td>\n",
       "    </tr>\n",
       "  </tbody>\n",
       "</table>\n",
       "</div>"
      ],
      "text/plain": [
       "                     Ordered_from\n",
       "Gender Ordered_from              \n",
       "blank  App                      9\n",
       "       Store                48288\n",
       "female App                  12973\n",
       "       Store                  926\n",
       "male   App                   3578\n",
       "       Store                  194"
      ]
     },
     "execution_count": 38,
     "metadata": {},
     "output_type": "execute_result"
    }
   ],
   "source": [
    "# Here we get to know gender wise orders that were made from App or store\n",
    "\n",
    "df.groupby(['Gender','Ordered_from'])[['Ordered_from']].count()"
   ]
  },
  {
   "cell_type": "code",
   "execution_count": 39,
   "id": "6b4a612a",
   "metadata": {},
   "outputs": [
    {
     "data": {
      "text/html": [
       "<div>\n",
       "<style scoped>\n",
       "    .dataframe tbody tr th:only-of-type {\n",
       "        vertical-align: middle;\n",
       "    }\n",
       "\n",
       "    .dataframe tbody tr th {\n",
       "        vertical-align: top;\n",
       "    }\n",
       "\n",
       "    .dataframe thead th {\n",
       "        text-align: right;\n",
       "    }\n",
       "</style>\n",
       "<table border=\"1\" class=\"dataframe\">\n",
       "  <thead>\n",
       "    <tr style=\"text-align: right;\">\n",
       "      <th></th>\n",
       "      <th>Customerid</th>\n",
       "      <th>AppUser</th>\n",
       "      <th>Covid19MedicineSales</th>\n",
       "      <th>OtherMedicineSales</th>\n",
       "      <th>Transactions</th>\n",
       "      <th>total_sales</th>\n",
       "      <th>avg_sales</th>\n",
       "    </tr>\n",
       "    <tr>\n",
       "      <th>Gender</th>\n",
       "      <th></th>\n",
       "      <th></th>\n",
       "      <th></th>\n",
       "      <th></th>\n",
       "      <th></th>\n",
       "      <th></th>\n",
       "      <th></th>\n",
       "    </tr>\n",
       "  </thead>\n",
       "  <tbody>\n",
       "    <tr>\n",
       "      <th>blank</th>\n",
       "      <td>22097725129625</td>\n",
       "      <td>9</td>\n",
       "      <td>908553913</td>\n",
       "      <td>2355781058</td>\n",
       "      <td>133658</td>\n",
       "      <td>3264334971</td>\n",
       "      <td>1273880701</td>\n",
       "    </tr>\n",
       "    <tr>\n",
       "      <th>female</th>\n",
       "      <td>6394277788955</td>\n",
       "      <td>12973</td>\n",
       "      <td>312426157</td>\n",
       "      <td>1726398913</td>\n",
       "      <td>77276</td>\n",
       "      <td>2038825070</td>\n",
       "      <td>338704405</td>\n",
       "    </tr>\n",
       "    <tr>\n",
       "      <th>male</th>\n",
       "      <td>1731600531657</td>\n",
       "      <td>3578</td>\n",
       "      <td>124586605</td>\n",
       "      <td>463734023</td>\n",
       "      <td>20341</td>\n",
       "      <td>588320628</td>\n",
       "      <td>115195661</td>\n",
       "    </tr>\n",
       "  </tbody>\n",
       "</table>\n",
       "</div>"
      ],
      "text/plain": [
       "            Customerid  AppUser  Covid19MedicineSales  OtherMedicineSales  \\\n",
       "Gender                                                                      \n",
       "blank   22097725129625        9             908553913          2355781058   \n",
       "female   6394277788955    12973             312426157          1726398913   \n",
       "male     1731600531657     3578             124586605           463734023   \n",
       "\n",
       "        Transactions  total_sales   avg_sales  \n",
       "Gender                                         \n",
       "blank         133658   3264334971  1273880701  \n",
       "female         77276   2038825070   338704405  \n",
       "male           20341    588320628   115195661  "
      ]
     },
     "execution_count": 39,
     "metadata": {},
     "output_type": "execute_result"
    }
   ],
   "source": [
    "df.groupby(\"Gender\").sum().sort_values(\"total_sales\", ascending=False).astype('int64').head()"
   ]
  },
  {
   "cell_type": "code",
   "execution_count": 40,
   "id": "d5148000",
   "metadata": {
    "scrolled": true
   },
   "outputs": [
    {
     "data": {
      "text/plain": [
       "Customerid               0.101642\n",
       "AppUser                  1.148392\n",
       "Covid19MedicineSales    49.993116\n",
       "OtherMedicineSales      46.553232\n",
       "Transactions            12.645049\n",
       "total_sales             45.862194\n",
       "avg_sales               21.192816\n",
       "dtype: float64"
      ]
     },
     "execution_count": 40,
     "metadata": {},
     "output_type": "execute_result"
    }
   ],
   "source": [
    "# Let's check for skewness \n",
    "\n",
    "df.skew(axis = 0, skipna = True)"
   ]
  },
  {
   "cell_type": "code",
   "execution_count": 41,
   "id": "b476ed5c",
   "metadata": {
    "scrolled": true
   },
   "outputs": [
    {
     "data": {
      "text/plain": [
       "0        442\n",
       "1        458\n",
       "2        473\n",
       "3        608\n",
       "4        465\n",
       "        ... \n",
       "65963    444\n",
       "65964    464\n",
       "65965    627\n",
       "65966    517\n",
       "65967    801\n",
       "Name: lasttransactiondate, Length: 65968, dtype: int64"
      ]
     },
     "execution_count": 41,
     "metadata": {},
     "output_type": "execute_result"
    }
   ],
   "source": [
    "# if needed we could also create a column using this --\n",
    "# The column would contain the number of days since the last transaction was made\n",
    "# This would give us an insight about our active/regular users\n",
    "\n",
    "pd.to_datetime(df['lasttransactiondate'], errors = 'ignore').rsub(pd.Timestamp('now').floor('d')).dt.days"
   ]
  },
  {
   "cell_type": "markdown",
   "id": "c7a820af",
   "metadata": {},
   "source": [
    "# -------------------------------------------------------------------------------------------------"
   ]
  },
  {
   "cell_type": "markdown",
   "id": "3f400a27",
   "metadata": {},
   "source": [
    "# Answering a few questions ---"
   ]
  },
  {
   "cell_type": "markdown",
   "id": "0f253b9e",
   "metadata": {},
   "source": [
    "# Q.1. Total sales of medicines - 5891480669"
   ]
  },
  {
   "cell_type": "code",
   "execution_count": 42,
   "id": "9a61e4bf",
   "metadata": {},
   "outputs": [
    {
     "data": {
      "text/plain": [
       "total_sales    5891480669\n",
       "dtype: int64"
      ]
     },
     "execution_count": 42,
     "metadata": {},
     "output_type": "execute_result"
    }
   ],
   "source": [
    "df[['total_sales']].sum() # total sales "
   ]
  },
  {
   "cell_type": "markdown",
   "id": "afedd23c",
   "metadata": {},
   "source": [
    "# Q.2. Total number of Orders -"
   ]
  },
  {
   "cell_type": "code",
   "execution_count": 43,
   "id": "efd3f3fb",
   "metadata": {},
   "outputs": [
    {
     "data": {
      "text/plain": [
       "Transactions    231275\n",
       "dtype: int64"
      ]
     },
     "execution_count": 43,
     "metadata": {},
     "output_type": "execute_result"
    }
   ],
   "source": [
    "# Total number of orders fulfilled\n",
    "\n",
    "df[['Transactions']].sum()"
   ]
  },
  {
   "cell_type": "markdown",
   "id": "5ade611c",
   "metadata": {},
   "source": [
    "# Q.3. Average transaction value"
   ]
  },
  {
   "cell_type": "code",
   "execution_count": 44,
   "id": "4e0c41bd",
   "metadata": {},
   "outputs": [
    {
     "data": {
      "text/plain": [
       "Customerid              458155521\n",
       "AppUser                         0\n",
       "Covid19MedicineSales        20397\n",
       "OtherMedicineSales          68910\n",
       "Transactions                    3\n",
       "total_sales                 89308\n",
       "avg_sales                   26191\n",
       "dtype: int32"
      ]
     },
     "execution_count": 44,
     "metadata": {},
     "output_type": "execute_result"
    }
   ],
   "source": [
    "df[df['avg_sales']>2000].mean().astype(int)"
   ]
  },
  {
   "cell_type": "code",
   "execution_count": 45,
   "id": "0eaee33b",
   "metadata": {},
   "outputs": [
    {
     "data": {
      "text/plain": [
       "26191.1952310211"
      ]
     },
     "execution_count": 45,
     "metadata": {},
     "output_type": "execute_result"
    }
   ],
   "source": [
    "df['avg_sales'].mean()"
   ]
  },
  {
   "cell_type": "markdown",
   "id": "e952cd35",
   "metadata": {},
   "source": [
    "# Q.4. Highest sale generating customer"
   ]
  },
  {
   "cell_type": "code",
   "execution_count": 46,
   "id": "61f5f3ba",
   "metadata": {},
   "outputs": [
    {
     "data": {
      "text/html": [
       "<div>\n",
       "<style scoped>\n",
       "    .dataframe tbody tr th:only-of-type {\n",
       "        vertical-align: middle;\n",
       "    }\n",
       "\n",
       "    .dataframe tbody tr th {\n",
       "        vertical-align: top;\n",
       "    }\n",
       "\n",
       "    .dataframe thead th {\n",
       "        text-align: right;\n",
       "    }\n",
       "</style>\n",
       "<table border=\"1\" class=\"dataframe\">\n",
       "  <thead>\n",
       "    <tr style=\"text-align: right;\">\n",
       "      <th></th>\n",
       "      <th>total_sales</th>\n",
       "    </tr>\n",
       "    <tr>\n",
       "      <th>Customerid</th>\n",
       "      <th></th>\n",
       "    </tr>\n",
       "  </thead>\n",
       "  <tbody>\n",
       "    <tr>\n",
       "      <th>58583079</th>\n",
       "      <td>28912831</td>\n",
       "    </tr>\n",
       "  </tbody>\n",
       "</table>\n",
       "</div>"
      ],
      "text/plain": [
       "            total_sales\n",
       "Customerid             \n",
       "58583079       28912831"
      ]
     },
     "execution_count": 46,
     "metadata": {},
     "output_type": "execute_result"
    }
   ],
   "source": [
    "df.groupby('Customerid').agg({'total_sales': 'max'}).sort_values(by='total_sales', ascending=False).iloc[:1]"
   ]
  },
  {
   "cell_type": "markdown",
   "id": "2516b213",
   "metadata": {},
   "source": [
    "# Q.5. Customer who made highest number of transactions -\"Loyal Customer\""
   ]
  },
  {
   "cell_type": "code",
   "execution_count": 47,
   "id": "8cb15c5d",
   "metadata": {},
   "outputs": [
    {
     "data": {
      "text/html": [
       "<div>\n",
       "<style scoped>\n",
       "    .dataframe tbody tr th:only-of-type {\n",
       "        vertical-align: middle;\n",
       "    }\n",
       "\n",
       "    .dataframe tbody tr th {\n",
       "        vertical-align: top;\n",
       "    }\n",
       "\n",
       "    .dataframe thead th {\n",
       "        text-align: right;\n",
       "    }\n",
       "</style>\n",
       "<table border=\"1\" class=\"dataframe\">\n",
       "  <thead>\n",
       "    <tr style=\"text-align: right;\">\n",
       "      <th></th>\n",
       "      <th>Transactions</th>\n",
       "    </tr>\n",
       "    <tr>\n",
       "      <th>Customerid</th>\n",
       "      <th></th>\n",
       "    </tr>\n",
       "  </thead>\n",
       "  <tbody>\n",
       "    <tr>\n",
       "      <th>132289856</th>\n",
       "      <td>268</td>\n",
       "    </tr>\n",
       "  </tbody>\n",
       "</table>\n",
       "</div>"
      ],
      "text/plain": [
       "            Transactions\n",
       "Customerid              \n",
       "132289856            268"
      ]
     },
     "execution_count": 47,
     "metadata": {},
     "output_type": "execute_result"
    }
   ],
   "source": [
    "df.groupby('Customerid').agg({'Transactions': 'max'}).sort_values(by='Transactions', ascending=False).iloc[:1]"
   ]
  },
  {
   "cell_type": "markdown",
   "id": "fe1359d2",
   "metadata": {},
   "source": [
    "# Q.6. Find if the loyal customer has used his loyalty points and if he/she is an app user"
   ]
  },
  {
   "cell_type": "code",
   "execution_count": 95,
   "id": "e73b33ab",
   "metadata": {},
   "outputs": [],
   "source": [
    "loyal_cus = df.groupby('Customerid').agg({'Transactions': 'max'}).sort_values(by='Transactions', ascending=False).iloc[:1]"
   ]
  },
  {
   "cell_type": "code",
   "execution_count": 99,
   "id": "0d2e3b6b",
   "metadata": {},
   "outputs": [
    {
     "data": {
      "text/plain": [
       "132289856"
      ]
     },
     "execution_count": 99,
     "metadata": {},
     "output_type": "execute_result"
    }
   ],
   "source": [
    "loyal_cus.index[0]"
   ]
  },
  {
   "cell_type": "code",
   "execution_count": 100,
   "id": "65c6a60f",
   "metadata": {},
   "outputs": [
    {
     "data": {
      "text/html": [
       "<div>\n",
       "<style scoped>\n",
       "    .dataframe tbody tr th:only-of-type {\n",
       "        vertical-align: middle;\n",
       "    }\n",
       "\n",
       "    .dataframe tbody tr th {\n",
       "        vertical-align: top;\n",
       "    }\n",
       "\n",
       "    .dataframe thead th {\n",
       "        text-align: right;\n",
       "    }\n",
       "</style>\n",
       "<table border=\"1\" class=\"dataframe\">\n",
       "  <thead>\n",
       "    <tr style=\"text-align: right;\">\n",
       "      <th></th>\n",
       "      <th>Customerid</th>\n",
       "      <th>AppUser</th>\n",
       "      <th>Covid19MedicineSales</th>\n",
       "      <th>OtherMedicineSales</th>\n",
       "      <th>RedeemedpointsFlag</th>\n",
       "      <th>Transactions</th>\n",
       "      <th>lasttransactiondate</th>\n",
       "      <th>DOB</th>\n",
       "      <th>EMAILFlag</th>\n",
       "      <th>Gender</th>\n",
       "      <th>Ordered_from</th>\n",
       "      <th>total_sales</th>\n",
       "      <th>avg_sales</th>\n",
       "      <th>day_of_week</th>\n",
       "    </tr>\n",
       "  </thead>\n",
       "  <tbody>\n",
       "    <tr>\n",
       "      <th>25186</th>\n",
       "      <td>132289856</td>\n",
       "      <td>1</td>\n",
       "      <td>4294</td>\n",
       "      <td>3020320</td>\n",
       "      <td>No</td>\n",
       "      <td>268</td>\n",
       "      <td>2021-11-28</td>\n",
       "      <td>22-09-1993</td>\n",
       "      <td>EMAIL PRESENT</td>\n",
       "      <td>male</td>\n",
       "      <td>App</td>\n",
       "      <td>3024614</td>\n",
       "      <td>11285</td>\n",
       "      <td>Sunday</td>\n",
       "    </tr>\n",
       "  </tbody>\n",
       "</table>\n",
       "</div>"
      ],
      "text/plain": [
       "       Customerid  AppUser  Covid19MedicineSales  OtherMedicineSales  \\\n",
       "25186   132289856        1                  4294             3020320   \n",
       "\n",
       "      RedeemedpointsFlag  Transactions lasttransactiondate         DOB  \\\n",
       "25186                 No           268          2021-11-28  22-09-1993   \n",
       "\n",
       "           EMAILFlag Gender Ordered_from  total_sales  avg_sales day_of_week  \n",
       "25186  EMAIL PRESENT   male          App      3024614      11285      Sunday  "
      ]
     },
     "execution_count": 100,
     "metadata": {},
     "output_type": "execute_result"
    }
   ],
   "source": [
    "df.loc[df['Customerid']== loyal_cus.index[0]]"
   ]
  },
  {
   "cell_type": "code",
   "execution_count": 101,
   "id": "ba4a0513",
   "metadata": {},
   "outputs": [
    {
     "data": {
      "text/html": [
       "<div>\n",
       "<style scoped>\n",
       "    .dataframe tbody tr th:only-of-type {\n",
       "        vertical-align: middle;\n",
       "    }\n",
       "\n",
       "    .dataframe tbody tr th {\n",
       "        vertical-align: top;\n",
       "    }\n",
       "\n",
       "    .dataframe thead th {\n",
       "        text-align: right;\n",
       "    }\n",
       "</style>\n",
       "<table border=\"1\" class=\"dataframe\">\n",
       "  <thead>\n",
       "    <tr style=\"text-align: right;\">\n",
       "      <th></th>\n",
       "      <th>RedeemedpointsFlag</th>\n",
       "    </tr>\n",
       "  </thead>\n",
       "  <tbody>\n",
       "    <tr>\n",
       "      <th>25186</th>\n",
       "      <td>No</td>\n",
       "    </tr>\n",
       "  </tbody>\n",
       "</table>\n",
       "</div>"
      ],
      "text/plain": [
       "      RedeemedpointsFlag\n",
       "25186                 No"
      ]
     },
     "execution_count": 101,
     "metadata": {},
     "output_type": "execute_result"
    }
   ],
   "source": [
    "df.loc[df['Customerid']== loyal_cus.index[0]][['RedeemedpointsFlag']]"
   ]
  },
  {
   "cell_type": "markdown",
   "id": "56da2a55",
   "metadata": {},
   "source": [
    "# Q.7. Total sales volume from app users"
   ]
  },
  {
   "cell_type": "code",
   "execution_count": 105,
   "id": "5e31273b",
   "metadata": {},
   "outputs": [
    {
     "data": {
      "text/html": [
       "<div>\n",
       "<style scoped>\n",
       "    .dataframe tbody tr th:only-of-type {\n",
       "        vertical-align: middle;\n",
       "    }\n",
       "\n",
       "    .dataframe tbody tr th {\n",
       "        vertical-align: top;\n",
       "    }\n",
       "\n",
       "    .dataframe thead th {\n",
       "        text-align: right;\n",
       "    }\n",
       "</style>\n",
       "<table border=\"1\" class=\"dataframe\">\n",
       "  <thead>\n",
       "    <tr style=\"text-align: right;\">\n",
       "      <th></th>\n",
       "      <th>total_sales</th>\n",
       "    </tr>\n",
       "    <tr>\n",
       "      <th>Ordered_from</th>\n",
       "      <th></th>\n",
       "    </tr>\n",
       "  </thead>\n",
       "  <tbody>\n",
       "    <tr>\n",
       "      <th>App</th>\n",
       "      <td>2485257220</td>\n",
       "    </tr>\n",
       "  </tbody>\n",
       "</table>\n",
       "</div>"
      ],
      "text/plain": [
       "              total_sales\n",
       "Ordered_from             \n",
       "App            2485257220"
      ]
     },
     "execution_count": 105,
     "metadata": {},
     "output_type": "execute_result"
    }
   ],
   "source": [
    "df.groupby('Ordered_from').agg({'total_sales': 'sum'}).iloc[:1]"
   ]
  },
  {
   "cell_type": "code",
   "execution_count": 104,
   "id": "9c6c7cf2",
   "metadata": {},
   "outputs": [
    {
     "data": {
      "text/plain": [
       "5891480669"
      ]
     },
     "execution_count": 104,
     "metadata": {},
     "output_type": "execute_result"
    }
   ],
   "source": [
    "df['total_sales'].sum()"
   ]
  },
  {
   "cell_type": "markdown",
   "id": "9acf4dbb",
   "metadata": {},
   "source": [
    "# Q.8. Number of transactions from app users"
   ]
  },
  {
   "cell_type": "code",
   "execution_count": 103,
   "id": "48988c08",
   "metadata": {},
   "outputs": [
    {
     "data": {
      "text/html": [
       "<div>\n",
       "<style scoped>\n",
       "    .dataframe tbody tr th:only-of-type {\n",
       "        vertical-align: middle;\n",
       "    }\n",
       "\n",
       "    .dataframe tbody tr th {\n",
       "        vertical-align: top;\n",
       "    }\n",
       "\n",
       "    .dataframe thead th {\n",
       "        text-align: right;\n",
       "    }\n",
       "</style>\n",
       "<table border=\"1\" class=\"dataframe\">\n",
       "  <thead>\n",
       "    <tr style=\"text-align: right;\">\n",
       "      <th></th>\n",
       "      <th>Transactions</th>\n",
       "    </tr>\n",
       "    <tr>\n",
       "      <th>Ordered_from</th>\n",
       "      <th></th>\n",
       "    </tr>\n",
       "  </thead>\n",
       "  <tbody>\n",
       "    <tr>\n",
       "      <th>App</th>\n",
       "      <td>25.1</td>\n",
       "    </tr>\n",
       "  </tbody>\n",
       "</table>\n",
       "</div>"
      ],
      "text/plain": [
       "              Transactions\n",
       "Ordered_from              \n",
       "App                   25.1"
      ]
     },
     "execution_count": 103,
     "metadata": {},
     "output_type": "execute_result"
    }
   ],
   "source": [
    "((df.groupby('Ordered_from').agg({'Transactions': 'count'}).iloc[:1]/df['Transactions'].count())*100).round(2)"
   ]
  },
  {
   "cell_type": "markdown",
   "id": "1d111ac9",
   "metadata": {},
   "source": [
    "# Q9) What is the most frequently occurring average transaction value (Correct to 0 decimal places ?\n"
   ]
  },
  {
   "cell_type": "code",
   "execution_count": 106,
   "id": "8a80a5c4",
   "metadata": {},
   "outputs": [
    {
     "data": {
      "text/html": [
       "<div>\n",
       "<style scoped>\n",
       "    .dataframe tbody tr th:only-of-type {\n",
       "        vertical-align: middle;\n",
       "    }\n",
       "\n",
       "    .dataframe tbody tr th {\n",
       "        vertical-align: top;\n",
       "    }\n",
       "\n",
       "    .dataframe thead th {\n",
       "        text-align: right;\n",
       "    }\n",
       "</style>\n",
       "<table border=\"1\" class=\"dataframe\">\n",
       "  <thead>\n",
       "    <tr style=\"text-align: right;\">\n",
       "      <th></th>\n",
       "      <th>avg_sales</th>\n",
       "    </tr>\n",
       "  </thead>\n",
       "  <tbody>\n",
       "    <tr>\n",
       "      <th>0</th>\n",
       "      <td>8458</td>\n",
       "    </tr>\n",
       "  </tbody>\n",
       "</table>\n",
       "</div>"
      ],
      "text/plain": [
       "   avg_sales\n",
       "0       8458"
      ]
     },
     "execution_count": 106,
     "metadata": {},
     "output_type": "execute_result"
    }
   ],
   "source": [
    "df[['avg_sales']].mode()"
   ]
  },
  {
   "cell_type": "markdown",
   "id": "1a1e4409",
   "metadata": {},
   "source": [
    "# Q1O) What percentage of customer's Genders have been captured in overall data (Calculate to O decimal places\n"
   ]
  },
  {
   "cell_type": "code",
   "execution_count": 53,
   "id": "0304e757",
   "metadata": {},
   "outputs": [
    {
     "data": {
      "text/plain": [
       "blank     73.0\n",
       "female    21.0\n",
       "male       6.0\n",
       "Name: Gender, dtype: float64"
      ]
     },
     "execution_count": 53,
     "metadata": {},
     "output_type": "execute_result"
    }
   ],
   "source": [
    "(df['Gender'].value_counts(normalize=True) * 100).round()"
   ]
  },
  {
   "cell_type": "markdown",
   "id": "8b01bc15",
   "metadata": {},
   "source": [
    "# Q11) What percentage of customer's Emails have been captured in overall data (Calculate to 1 decimal places\n"
   ]
  },
  {
   "cell_type": "code",
   "execution_count": 54,
   "id": "dbcb6044",
   "metadata": {},
   "outputs": [
    {
     "data": {
      "text/plain": [
       "NO EMAIL         56.4\n",
       "EMAIL PRESENT    43.6\n",
       "Name: EMAILFlag, dtype: float64"
      ]
     },
     "execution_count": 54,
     "metadata": {},
     "output_type": "execute_result"
    }
   ],
   "source": [
    "(df['EMAILFlag'].value_counts(normalize=True) * 100).round(1)"
   ]
  },
  {
   "cell_type": "markdown",
   "id": "7668b4b6",
   "metadata": {},
   "source": [
    "# Q12) What percentage of customer's Birthdates have been captured in overall data (Calculate to 1 decimal places\n"
   ]
  },
  {
   "cell_type": "code",
   "execution_count": 120,
   "id": "9904b897",
   "metadata": {},
   "outputs": [
    {
     "data": {
      "text/plain": [
       "00-01-1900    96.4\n",
       "05-12-1983     0.0\n",
       "23-01-1980     0.0\n",
       "03-03-1970     0.0\n",
       "20-08-1987     0.0\n",
       "              ... \n",
       "07-09-1979     0.0\n",
       "10-12-1980     0.0\n",
       "12-09-1983     0.0\n",
       "11-06-1989     0.0\n",
       "17-10-1966     0.0\n",
       "Name: DOB, Length: 2101, dtype: float64"
      ]
     },
     "execution_count": 120,
     "metadata": {},
     "output_type": "execute_result"
    }
   ],
   "source": [
    "(df['DOB'].value_counts(normalize=True) * 100).round(1)"
   ]
  },
  {
   "cell_type": "code",
   "execution_count": 119,
   "id": "fe736611",
   "metadata": {},
   "outputs": [
    {
     "data": {
      "text/plain": [
       "96.4"
      ]
     },
     "execution_count": 119,
     "metadata": {},
     "output_type": "execute_result"
    }
   ],
   "source": [
    "(df['DOB'].value_counts(normalize=True) * 100).round(1).iloc[0]\n",
    "\n",
    "# Thus we know that 96.4% dates of birth are system generated"
   ]
  },
  {
   "cell_type": "markdown",
   "id": "ecc93483",
   "metadata": {},
   "source": [
    "# Q13) Find out the contribution percentage of sale from Covid related medicines to total revenue"
   ]
  },
  {
   "cell_type": "code",
   "execution_count": 56,
   "id": "fbafe579",
   "metadata": {},
   "outputs": [
    {
     "data": {
      "text/plain": [
       "22.84"
      ]
     },
     "execution_count": 56,
     "metadata": {},
     "output_type": "execute_result"
    }
   ],
   "source": [
    "((df['Covid19MedicineSales'].sum() / df['total_sales'].sum())*100).round(2)"
   ]
  },
  {
   "cell_type": "markdown",
   "id": "21e35da5",
   "metadata": {},
   "source": [
    "# Q14) What percent of all customers use App"
   ]
  },
  {
   "cell_type": "code",
   "execution_count": 57,
   "id": "8db168b6",
   "metadata": {},
   "outputs": [
    {
     "data": {
      "text/html": [
       "<div>\n",
       "<style scoped>\n",
       "    .dataframe tbody tr th:only-of-type {\n",
       "        vertical-align: middle;\n",
       "    }\n",
       "\n",
       "    .dataframe tbody tr th {\n",
       "        vertical-align: top;\n",
       "    }\n",
       "\n",
       "    .dataframe thead th {\n",
       "        text-align: right;\n",
       "    }\n",
       "</style>\n",
       "<table border=\"1\" class=\"dataframe\">\n",
       "  <thead>\n",
       "    <tr style=\"text-align: right;\">\n",
       "      <th></th>\n",
       "      <th>Customerid</th>\n",
       "    </tr>\n",
       "    <tr>\n",
       "      <th>Ordered_from</th>\n",
       "      <th></th>\n",
       "    </tr>\n",
       "  </thead>\n",
       "  <tbody>\n",
       "    <tr>\n",
       "      <th>App</th>\n",
       "      <td>25.1</td>\n",
       "    </tr>\n",
       "  </tbody>\n",
       "</table>\n",
       "</div>"
      ],
      "text/plain": [
       "              Customerid\n",
       "Ordered_from            \n",
       "App                 25.1"
      ]
     },
     "execution_count": 57,
     "metadata": {},
     "output_type": "execute_result"
    }
   ],
   "source": [
    "((df.groupby('Ordered_from').agg({'Customerid': 'count'}).iloc[:1] / df['Customerid'].count())*100).round(2)"
   ]
  },
  {
   "cell_type": "markdown",
   "id": "a96f567d",
   "metadata": {},
   "source": [
    "# --------------------------------------------------------------------------------------------------------------"
   ]
  },
  {
   "cell_type": "markdown",
   "id": "608c1cf2",
   "metadata": {},
   "source": [
    "# let's plot some charts"
   ]
  },
  {
   "cell_type": "code",
   "execution_count": 58,
   "id": "7721ea6c",
   "metadata": {
    "scrolled": false
   },
   "outputs": [
    {
     "data": {
      "text/plain": [
       "<AxesSubplot:>"
      ]
     },
     "execution_count": 58,
     "metadata": {},
     "output_type": "execute_result"
    },
    {
     "data": {
      "image/png": "[encoded data removed]",
      "text/plain": [
       "<Figure size 640x480 with 1 Axes>"
      ]
     },
     "metadata": {},
     "output_type": "display_data"
    }
   ],
   "source": [
    "df.plot(kind='box')"
   ]
  },
  {
   "cell_type": "code",
   "execution_count": 59,
   "id": "fcee5505",
   "metadata": {
    "scrolled": false
   },
   "outputs": [
    {
     "data": {
      "image/png": "[encoded data removed]",
      "text/plain": [
       "<Figure size 640x480 with 1 Axes>"
      ]
     },
     "metadata": {},
     "output_type": "display_data"
    }
   ],
   "source": [
    "# Create Subplots\n",
    "fig, ax = plt.subplots()\n",
    "\n",
    "#create scatter plots\n",
    "sns.boxplot(x = df['Covid19MedicineSales'])\n",
    "\n",
    "plt.ylabel('Transactions',fontsize=13)\n",
    "plt.xlabel('Covid19MedicineSales',fontsize=13)\n",
    "plt.show()"
   ]
  },
  {
   "cell_type": "code",
   "execution_count": 60,
   "id": "6e15c93a",
   "metadata": {},
   "outputs": [
    {
     "data": {
      "image/png": "[encoded data removed]",
      "text/plain": [
       "<Figure size 640x480 with 1 Axes>"
      ]
     },
     "metadata": {},
     "output_type": "display_data"
    }
   ],
   "source": [
    "# Create Subplots\n",
    "fig, ax = plt.subplots()\n",
    "\n",
    "#create scatter plots\n",
    "sns.boxplot(x = df['OtherMedicineSales'])\n",
    "\n",
    "plt.ylabel('Transactions',fontsize=13)\n",
    "plt.xlabel('OtherMedicineSales',fontsize=13)\n",
    "plt.show()"
   ]
  },
  {
   "cell_type": "markdown",
   "id": "df408de2",
   "metadata": {},
   "source": [
    "# Count plot"
   ]
  },
  {
   "cell_type": "code",
   "execution_count": 61,
   "id": "98188418",
   "metadata": {
    "scrolled": false
   },
   "outputs": [
    {
     "data": {
      "image/png": "[encoded data removed]",
      "text/plain": [
       "<Figure size 640x480 with 1 Axes>"
      ]
     },
     "metadata": {},
     "output_type": "display_data"
    }
   ],
   "source": [
    "# count plot on single categorical variable\n",
    "sns.countplot(y =df['Ordered_from'], data = df)\n",
    " \n",
    "# Show the plot\n",
    "plt.show()"
   ]
  },
  {
   "cell_type": "code",
   "execution_count": 62,
   "id": "df3a0ba1",
   "metadata": {
    "scrolled": false
   },
   "outputs": [
    {
     "data": {
      "image/png": "[encoded data removed]",
      "text/plain": [
       "<Figure size 640x480 with 1 Axes>"
      ]
     },
     "metadata": {},
     "output_type": "display_data"
    }
   ],
   "source": [
    "# count plot on single categorical variable\n",
    "sns.countplot(y =df['RedeemedpointsFlag'], data = df)\n",
    " \n",
    "# Show the plot\n",
    "plt.show()"
   ]
  },
  {
   "cell_type": "code",
   "execution_count": 63,
   "id": "ea9a1361",
   "metadata": {},
   "outputs": [
    {
     "data": {
      "image/png": "[encoded data removed]",
      "text/plain": [
       "<Figure size 640x480 with 1 Axes>"
      ]
     },
     "metadata": {},
     "output_type": "display_data"
    }
   ],
   "source": [
    "# count plot on single categorical variable\n",
    "sns.countplot(y =df['EMAILFlag'], data = df)\n",
    " \n",
    "# Show the plot\n",
    "plt.show()"
   ]
  },
  {
   "cell_type": "code",
   "execution_count": 64,
   "id": "5113552a",
   "metadata": {},
   "outputs": [
    {
     "data": {
      "image/png": "[encoded data removed]",
      "text/plain": [
       "<Figure size 640x480 with 1 Axes>"
      ]
     },
     "metadata": {},
     "output_type": "display_data"
    }
   ],
   "source": [
    "# count plot on single categorical variable\n",
    "sns.countplot(y =df['Gender'], data = df)\n",
    " \n",
    "# Show the plot\n",
    "plt.show()"
   ]
  },
  {
   "cell_type": "markdown",
   "id": "95beeb48",
   "metadata": {},
   "source": [
    "# ---------------------------------------------------------------------------------------------------------------"
   ]
  },
  {
   "cell_type": "markdown",
   "id": "a2873e1a",
   "metadata": {},
   "source": [
    "# Scatterplot to check outliers"
   ]
  },
  {
   "cell_type": "code",
   "execution_count": 65,
   "id": "f17f5779",
   "metadata": {},
   "outputs": [
    {
     "data": {
      "image/png": "[encoded data removed]",
      "text/plain": [
       "<Figure size 640x480 with 1 Axes>"
      ]
     },
     "metadata": {},
     "output_type": "display_data"
    }
   ],
   "source": [
    "df.plot(kind = 'scatter', x = 'total_sales', y = 'avg_sales')\n",
    "\n",
    "plt.show()"
   ]
  },
  {
   "cell_type": "code",
   "execution_count": 66,
   "id": "d3b8c70e",
   "metadata": {},
   "outputs": [
    {
     "data": {
      "image/png": "[encoded data removed]",
      "text/plain": [
       "<Figure size 640x480 with 1 Axes>"
      ]
     },
     "metadata": {},
     "output_type": "display_data"
    }
   ],
   "source": [
    "df.plot(kind = 'scatter', x = 'Transactions', y = 'total_sales')\n",
    "\n",
    "plt.show()"
   ]
  },
  {
   "cell_type": "markdown",
   "id": "95251b0a",
   "metadata": {},
   "source": [
    "# ------------------------------------------------------------------------------------------------------------"
   ]
  },
  {
   "cell_type": "markdown",
   "id": "409019e7",
   "metadata": {},
   "source": [
    "# Bar charts"
   ]
  },
  {
   "cell_type": "code",
   "execution_count": 67,
   "id": "77bb7a07",
   "metadata": {},
   "outputs": [
    {
     "data": {
      "text/plain": [
       "<AxesSubplot:xlabel='Ordered_from'>"
      ]
     },
     "execution_count": 67,
     "metadata": {},
     "output_type": "execute_result"
    },
    {
     "data": {
      "image/png": "[encoded data removed]",
      "text/plain": [
       "<Figure size 640x480 with 1 Axes>"
      ]
     },
     "metadata": {},
     "output_type": "display_data"
    }
   ],
   "source": [
    "df[['Ordered_from', 'total_sales']].groupby('Ordered_from').count().plot.bar()"
   ]
  },
  {
   "cell_type": "code",
   "execution_count": 68,
   "id": "3cfa3595",
   "metadata": {},
   "outputs": [
    {
     "data": {
      "text/plain": [
       "array([[<AxesSubplot:title={'center':'Customerid'}>,\n",
       "        <AxesSubplot:title={'center':'AppUser'}>,\n",
       "        <AxesSubplot:title={'center':'Covid19MedicineSales'}>],\n",
       "       [<AxesSubplot:title={'center':'OtherMedicineSales'}>,\n",
       "        <AxesSubplot:title={'center':'Transactions'}>,\n",
       "        <AxesSubplot:title={'center':'total_sales'}>],\n",
       "       [<AxesSubplot:title={'center':'avg_sales'}>, <AxesSubplot:>,\n",
       "        <AxesSubplot:>],\n",
       "       [<AxesSubplot:>, <AxesSubplot:>, <AxesSubplot:>],\n",
       "       [<AxesSubplot:>, <AxesSubplot:>, <AxesSubplot:>],\n",
       "       [<AxesSubplot:>, <AxesSubplot:>, <AxesSubplot:>],\n",
       "       [<AxesSubplot:>, <AxesSubplot:>, <AxesSubplot:>],\n",
       "       [<AxesSubplot:>, <AxesSubplot:>, <AxesSubplot:>],\n",
       "       [<AxesSubplot:>, <AxesSubplot:>, <AxesSubplot:>]], dtype=object)"
      ]
     },
     "execution_count": 68,
     "metadata": {},
     "output_type": "execute_result"
    },
    {
     "data": {
      "image/png": "[encoded data removed]",
      "text/plain": [
       "<Figure size 1500x3000 with 27 Axes>"
      ]
     },
     "metadata": {},
     "output_type": "display_data"
    }
   ],
   "source": [
    "df.hist(figsize=(15,30),layout=(9,3))"
   ]
  },
  {
   "cell_type": "markdown",
   "id": "4f1a66db",
   "metadata": {},
   "source": [
    "# ------------------------------------------------------------------------------------------------------------"
   ]
  },
  {
   "cell_type": "code",
   "execution_count": 69,
   "id": "c941ef7d",
   "metadata": {},
   "outputs": [],
   "source": [
    "# Changing datatype of lasttransactiondate\n",
    "\n",
    "df['lasttransactiondate'] = pd.to_datetime(df['lasttransactiondate'])"
   ]
  },
  {
   "cell_type": "code",
   "execution_count": 70,
   "id": "a17c6c26",
   "metadata": {},
   "outputs": [],
   "source": [
    "# Creating a new column to show the day of the week\n",
    "df['day_of_week'] = df['lasttransactiondate'].dt.day_name()"
   ]
  },
  {
   "cell_type": "code",
   "execution_count": 71,
   "id": "9f2d3d64",
   "metadata": {},
   "outputs": [
    {
     "data": {
      "image/png": "[encoded data removed]",
      "text/plain": [
       "<Figure size 800x500 with 1 Axes>"
      ]
     },
     "metadata": {},
     "output_type": "display_data"
    }
   ],
   "source": [
    "plt.figure(figsize=(8,5))\n",
    "plt.title('Daywise sales')\n",
    "plt.xlabel('Day')\n",
    "plt.ylabel('Total Sales')\n",
    "sns.scatterplot(df['day_of_week'],df['total_sales'])\n",
    "plt.show()"
   ]
  },
  {
   "cell_type": "markdown",
   "id": "7eb197c7",
   "metadata": {},
   "source": [
    "# ------------------------------------------------------------------------------------------------------------"
   ]
  },
  {
   "cell_type": "code",
   "execution_count": 72,
   "id": "c6db1ae0",
   "metadata": {},
   "outputs": [
    {
     "data": {
      "image/png": "[encoded data removed]",
      "text/plain": [
       "<Figure size 1200x800 with 1 Axes>"
      ]
     },
     "metadata": {},
     "output_type": "display_data"
    }
   ],
   "source": [
    "plt.style.use('seaborn') # matplotlib plots\n",
    "plt.rcParams['figure.figsize'] = (12, 8)\n",
    "\n",
    "\n",
    "x = df['day_of_week']\n",
    "mu = 0\n",
    "sigma = 1\n",
    "y = df['total_sales']\n",
    "\n",
    "plt.xlabel('day_of_week')\n",
    "plt.ylabel('total_sales')\n",
    "plt.title('Total Sales per Days')\n",
    "\n",
    "plt.plot(x, y);"
   ]
  },
  {
   "cell_type": "markdown",
   "id": "e1edf7ab",
   "metadata": {},
   "source": [
    "# ------------------------------------------------------------------------------------------------------------"
   ]
  },
  {
   "cell_type": "markdown",
   "id": "84f7dd2c",
   "metadata": {},
   "source": [
    "# Density plot :"
   ]
  },
  {
   "cell_type": "code",
   "execution_count": 73,
   "id": "794bd700",
   "metadata": {},
   "outputs": [
    {
     "data": {
      "image/png": "[encoded data removed]",
      "text/plain": [
       "<Figure size 800x500 with 1 Axes>"
      ]
     },
     "metadata": {},
     "output_type": "display_data"
    }
   ],
   "source": [
    "plt.figure(figsize=(8,5))\n",
    "plt.xlim(0,15)\n",
    "plt.xlabel('total_sales')\n",
    "plt.ylabel('Density')\n",
    "sns.kdeplot(df['total_sales'],shade=True)\n",
    "plt.show()"
   ]
  },
  {
   "cell_type": "code",
   "execution_count": 74,
   "id": "3f4cdea3",
   "metadata": {},
   "outputs": [
    {
     "data": {
      "image/png": "[encoded data removed]",
      "text/plain": [
       "<Figure size 800x500 with 1 Axes>"
      ]
     },
     "metadata": {},
     "output_type": "display_data"
    }
   ],
   "source": [
    "plt.figure(figsize=(8,5))\n",
    "plt.xlim(0,15)\n",
    "plt.xlabel('total_sales')\n",
    "plt.ylabel('Density')\n",
    "sns.kdeplot(df['avg_sales'],shade=True)\n",
    "plt.show()"
   ]
  },
  {
   "cell_type": "markdown",
   "id": "24b84918",
   "metadata": {},
   "source": [
    "# ------------------------------------------------------------------------------------------------------------"
   ]
  },
  {
   "cell_type": "markdown",
   "id": "59dc7d7d",
   "metadata": {},
   "source": [
    "# Comparing means"
   ]
  },
  {
   "cell_type": "code",
   "execution_count": 75,
   "id": "45032729",
   "metadata": {},
   "outputs": [
    {
     "data": {
      "image/png": "[encoded data removed]",
      "text/plain": [
       "<Figure size 500x500 with 1 Axes>"
      ]
     },
     "metadata": {},
     "output_type": "display_data"
    }
   ],
   "source": [
    "# Comparing mean qtime penalty paid against each type of customer\n",
    "\n",
    "def compare_means(df,discrete_col,continuous_col):\n",
    "    group = df.groupby([discrete_col],as_index=False)[continuous_col].mean().reset_index(drop=True)\n",
    "    plt.figure(figsize=(5,5))\n",
    "    sns.barplot(x=group[discrete_col],y=group[continuous_col],palette='Reds')\n",
    "    plt.ylabel('mean ' + continuous_col)\n",
    "    plt.show()\n",
    "\n",
    "compare_means(df,'Ordered_from','Covid19MedicineSales')"
   ]
  },
  {
   "cell_type": "code",
   "execution_count": 76,
   "id": "b86177c8",
   "metadata": {},
   "outputs": [
    {
     "data": {
      "image/png": "[encoded data removed]",
      "text/plain": [
       "<Figure size 500x500 with 1 Axes>"
      ]
     },
     "metadata": {},
     "output_type": "display_data"
    }
   ],
   "source": [
    "# Comparing mean qtime penalty paid against each type of customer\n",
    "\n",
    "def compare_means(df,discrete_col,continuous_col):\n",
    "    group = df.groupby([discrete_col],as_index=False)[continuous_col].mean().reset_index(drop=True)\n",
    "    plt.figure(figsize=(5,5))\n",
    "    sns.barplot(x=group[discrete_col],y=group[continuous_col],palette='Reds')\n",
    "    plt.ylabel('mean ' + continuous_col)\n",
    "    plt.show()\n",
    "\n",
    "compare_means(df,'Ordered_from','OtherMedicineSales')"
   ]
  },
  {
   "cell_type": "code",
   "execution_count": 77,
   "id": "ca12ebb9",
   "metadata": {},
   "outputs": [
    {
     "data": {
      "image/png": "[encoded data removed]",
      "text/plain": [
       "<Figure size 500x500 with 1 Axes>"
      ]
     },
     "metadata": {},
     "output_type": "display_data"
    }
   ],
   "source": [
    "# Comparing mean qtime penalty paid against each type of customer\n",
    "\n",
    "def compare_means(df,discrete_col,continuous_col):\n",
    "    group = df.groupby([discrete_col],as_index=False)[continuous_col].mean().reset_index(drop=True)\n",
    "    plt.figure(figsize=(5,5))\n",
    "    sns.barplot(x=group[discrete_col],y=group[continuous_col],palette='Reds')\n",
    "    plt.ylabel('mean ' + continuous_col)\n",
    "    plt.show()\n",
    "\n",
    "compare_means(df,'Ordered_from','total_sales')"
   ]
  },
  {
   "cell_type": "code",
   "execution_count": 78,
   "id": "23e967e9",
   "metadata": {},
   "outputs": [
    {
     "data": {
      "image/png": "[encoded data removed]",
      "text/plain": [
       "<Figure size 500x500 with 1 Axes>"
      ]
     },
     "metadata": {},
     "output_type": "display_data"
    }
   ],
   "source": [
    "# Comparing mean qtime penalty paid against each type of customer\n",
    "\n",
    "def compare_means(df,discrete_col,continuous_col):\n",
    "    group = df.groupby([discrete_col],as_index=False)[continuous_col].mean().reset_index(drop=True)\n",
    "    plt.figure(figsize=(5,5))\n",
    "    sns.barplot(x=group[discrete_col],y=group[continuous_col],palette='Reds')\n",
    "    plt.ylabel('mean ' + continuous_col)\n",
    "    plt.show()\n",
    "\n",
    "compare_means(df,'Ordered_from','avg_sales')"
   ]
  },
  {
   "cell_type": "code",
   "execution_count": null,
   "id": "3b0dd1c1",
   "metadata": {},
   "outputs": [],
   "source": []
  },
  {
   "cell_type": "markdown",
   "id": "6e0f32f1",
   "metadata": {},
   "source": [
    "# -------------------------------------------------------------------------------------------------------------"
   ]
  },
  {
   "cell_type": "markdown",
   "id": "08fb9c23",
   "metadata": {},
   "source": [
    "# Multi-variate Analysis :"
   ]
  },
  {
   "cell_type": "markdown",
   "id": "ceef0e11",
   "metadata": {},
   "source": [
    "- Correlation"
   ]
  },
  {
   "cell_type": "code",
   "execution_count": 79,
   "id": "312c2634",
   "metadata": {},
   "outputs": [
    {
     "data": {
      "text/html": [
       "<div>\n",
       "<style scoped>\n",
       "    .dataframe tbody tr th:only-of-type {\n",
       "        vertical-align: middle;\n",
       "    }\n",
       "\n",
       "    .dataframe tbody tr th {\n",
       "        vertical-align: top;\n",
       "    }\n",
       "\n",
       "    .dataframe thead th {\n",
       "        text-align: right;\n",
       "    }\n",
       "</style>\n",
       "<table border=\"1\" class=\"dataframe\">\n",
       "  <thead>\n",
       "    <tr style=\"text-align: right;\">\n",
       "      <th></th>\n",
       "      <th>Customerid</th>\n",
       "      <th>AppUser</th>\n",
       "      <th>Covid19MedicineSales</th>\n",
       "      <th>OtherMedicineSales</th>\n",
       "      <th>Transactions</th>\n",
       "      <th>total_sales</th>\n",
       "      <th>avg_sales</th>\n",
       "    </tr>\n",
       "  </thead>\n",
       "  <tbody>\n",
       "    <tr>\n",
       "      <th>Customerid</th>\n",
       "      <td>1.000000</td>\n",
       "      <td>0.003060</td>\n",
       "      <td>0.000704</td>\n",
       "      <td>-0.000863</td>\n",
       "      <td>0.002543</td>\n",
       "      <td>-0.000752</td>\n",
       "      <td>-0.000785</td>\n",
       "    </tr>\n",
       "    <tr>\n",
       "      <th>AppUser</th>\n",
       "      <td>0.003060</td>\n",
       "      <td>1.000000</td>\n",
       "      <td>0.066342</td>\n",
       "      <td>0.126890</td>\n",
       "      <td>0.305496</td>\n",
       "      <td>0.136055</td>\n",
       "      <td>-0.005794</td>\n",
       "    </tr>\n",
       "    <tr>\n",
       "      <th>Covid19MedicineSales</th>\n",
       "      <td>0.000704</td>\n",
       "      <td>0.066342</td>\n",
       "      <td>1.000000</td>\n",
       "      <td>-0.033286</td>\n",
       "      <td>0.153208</td>\n",
       "      <td>0.117202</td>\n",
       "      <td>0.199562</td>\n",
       "    </tr>\n",
       "    <tr>\n",
       "      <th>OtherMedicineSales</th>\n",
       "      <td>-0.000863</td>\n",
       "      <td>0.126890</td>\n",
       "      <td>-0.033286</td>\n",
       "      <td>1.000000</td>\n",
       "      <td>0.506878</td>\n",
       "      <td>0.988657</td>\n",
       "      <td>0.369678</td>\n",
       "    </tr>\n",
       "    <tr>\n",
       "      <th>Transactions</th>\n",
       "      <td>0.002543</td>\n",
       "      <td>0.305496</td>\n",
       "      <td>0.153208</td>\n",
       "      <td>0.506878</td>\n",
       "      <td>1.000000</td>\n",
       "      <td>0.526687</td>\n",
       "      <td>-0.012463</td>\n",
       "    </tr>\n",
       "    <tr>\n",
       "      <th>total_sales</th>\n",
       "      <td>-0.000752</td>\n",
       "      <td>0.136055</td>\n",
       "      <td>0.117202</td>\n",
       "      <td>0.988657</td>\n",
       "      <td>0.526687</td>\n",
       "      <td>1.000000</td>\n",
       "      <td>0.397323</td>\n",
       "    </tr>\n",
       "    <tr>\n",
       "      <th>avg_sales</th>\n",
       "      <td>-0.000785</td>\n",
       "      <td>-0.005794</td>\n",
       "      <td>0.199562</td>\n",
       "      <td>0.369678</td>\n",
       "      <td>-0.012463</td>\n",
       "      <td>0.397323</td>\n",
       "      <td>1.000000</td>\n",
       "    </tr>\n",
       "  </tbody>\n",
       "</table>\n",
       "</div>"
      ],
      "text/plain": [
       "                      Customerid   AppUser  Covid19MedicineSales  \\\n",
       "Customerid              1.000000  0.003060              0.000704   \n",
       "AppUser                 0.003060  1.000000              0.066342   \n",
       "Covid19MedicineSales    0.000704  0.066342              1.000000   \n",
       "OtherMedicineSales     -0.000863  0.126890             -0.033286   \n",
       "Transactions            0.002543  0.305496              0.153208   \n",
       "total_sales            -0.000752  0.136055              0.117202   \n",
       "avg_sales              -0.000785 -0.005794              0.199562   \n",
       "\n",
       "                      OtherMedicineSales  Transactions  total_sales  avg_sales  \n",
       "Customerid                     -0.000863      0.002543    -0.000752  -0.000785  \n",
       "AppUser                         0.126890      0.305496     0.136055  -0.005794  \n",
       "Covid19MedicineSales           -0.033286      0.153208     0.117202   0.199562  \n",
       "OtherMedicineSales              1.000000      0.506878     0.988657   0.369678  \n",
       "Transactions                    0.506878      1.000000     0.526687  -0.012463  \n",
       "total_sales                     0.988657      0.526687     1.000000   0.397323  \n",
       "avg_sales                       0.369678     -0.012463     0.397323   1.000000  "
      ]
     },
     "execution_count": 79,
     "metadata": {},
     "output_type": "execute_result"
    }
   ],
   "source": [
    "df.corr()"
   ]
  },
  {
   "cell_type": "markdown",
   "id": "cf67c77b",
   "metadata": {},
   "source": [
    "- Heat Map "
   ]
  },
  {
   "cell_type": "code",
   "execution_count": 80,
   "id": "7d9c6da1",
   "metadata": {},
   "outputs": [
    {
     "data": {
      "text/plain": [
       "<AxesSubplot:>"
      ]
     },
     "execution_count": 80,
     "metadata": {},
     "output_type": "execute_result"
    },
    {
     "data": {
      "image/png": "[encoded data removed]",
      "text/plain": [
       "<Figure size 2000x2000 with 2 Axes>"
      ]
     },
     "metadata": {},
     "output_type": "display_data"
    }
   ],
   "source": [
    "f,ax = plt.subplots(figsize=(20, 20))\n",
    "sns.heatmap(df.corr(), annot = True, fmt= '.2f')"
   ]
  },
  {
   "cell_type": "markdown",
   "id": "44b8c9b7",
   "metadata": {},
   "source": [
    "# --------------------------------------------------------------------------------------------------------------"
   ]
  },
  {
   "cell_type": "markdown",
   "id": "68ff66ce",
   "metadata": {},
   "source": [
    "# Insights:"
   ]
  },
  {
   "cell_type": "markdown",
   "id": "e2ec9ddb",
   "metadata": {},
   "source": [
    "- App usage pf women is higher than men\n",
    "\n",
    "- Total sales are higher from store than compared with sales form App\n",
    "\n",
    "- Medicine sales to men has higher average transaction value as compared to women\n",
    "\n",
    "- Men are mere 27% of total of women and men\n",
    "\n",
    "- Any of our customer has never used their loyalty points\n",
    "\n",
    "- 96.4% dates of birth are system generated\n",
    "\n",
    "- We have also noticed that people prefer to order from the app\n",
    "\n",
    "- We saw that, be it covid medicines or other medicines, they were ordered a little more from the app\n",
    "\n",
    "- Thus, company should run a campaign to onboard customers on the app and launching a store in cities where app usage is low     \twould bring confidence in customers\n",
    "\n",
    "- It was also noticed that customers tend to buy medicines on monday"
   ]
  },
  {
   "cell_type": "code",
   "execution_count": null,
   "id": "db31110f",
   "metadata": {},
   "outputs": [],
   "source": []
  },
  {
   "cell_type": "code",
   "execution_count": null,
   "id": "5711d9ed",
   "metadata": {},
   "outputs": [],
   "source": []
  },
  {
   "cell_type": "code",
   "execution_count": null,
   "id": "d5a26738",
   "metadata": {},
   "outputs": [],
   "source": []
  }
 ],
 "metadata": {
  "kernelspec": {
   "display_name": "Python 3 (ipykernel)",
   "language": "python",
   "name": "python3"
  },
  "language_info": {
   "codemirror_mode": {
    "name": "ipython",
    "version": 3
   },
   "file_extension": ".py",
   "mimetype": "text/x-python",
   "name": "python",
   "nbconvert_exporter": "python",
   "pygments_lexer": "ipython3",
   "version": "3.9.13"
  }
 },
 "nbformat": 4,
 "nbformat_minor": 5
}
